{
  "cells": [
    {
      "cell_type": "markdown",
      "metadata": {
        "id": "GTKuFCrJVd-u"
      },
      "source": [
        "usando apenas os atributos do MLCQ (math com organic)\n"
      ]
    },
    {
      "attachments": {},
      "cell_type": "markdown",
      "metadata": {},
      "source": [
        "Alterado em 01/03/2023 para rodar local e nao mais no colab"
      ]
    },
    {
      "cell_type": "code",
      "execution_count": 10,
      "metadata": {
        "id": "3KzIziXmJoU7"
      },
      "outputs": [],
      "source": [
        "# Importação dos pacotes\n",
        "import pandas as pd\n",
        "import numpy as np\n",
        "import random\n",
        "import matplotlib.pyplot as plt\n",
        "import seaborn as sns\n",
        "from sklearn.feature_selection import f_regression\n",
        "\n",
        "# Seed para reprodução de resultados\n",
        "seed = 10\n",
        "random.seed(seed)\n",
        "np.random.seed(seed)"
      ]
    },
    {
      "cell_type": "code",
      "execution_count": 18,
      "metadata": {},
      "outputs": [],
      "source": [
        "import os\n",
        "path = \"P:/Meu Drive/22.2/EngSoft-Juliana/trabalho/\"\n",
        "os.chdir(path)"
      ]
    },
    {
      "cell_type": "code",
      "execution_count": 20,
      "metadata": {},
      "outputs": [],
      "source": [
        "\n",
        "#workdir_path = os.path.join(path, 'final/')\n",
        "#os.chdir(workdir_path)"
      ]
    },
    {
      "cell_type": "code",
      "execution_count": 2,
      "metadata": {
        "colab": {
          "base_uri": "https://localhost:8080/"
        },
        "id": "HQT_U-webeMX",
        "outputId": "96c50853-9e66-44a0-e17e-33a96b5bb96a"
      },
      "outputs": [
        {
          "name": "stdout",
          "output_type": "stream",
          "text": [
            "Mounted at /content/drive\n"
          ]
        }
      ],
      "source": [
        "##Montar o drive\n",
        "#from google.colab import drive\n",
        "#drive.mount('/content/drive')\n",
        "\n",
        "#import os\n",
        "#workdir_path = '/content/drive/My Drive/16-Mestrado/22.2/EngSoft-Juliana' #MODIFICAR!!! #Caminho para o seu workspace\n",
        "#os.chdir(workdir_path)"
      ]
    },
    {
      "cell_type": "markdown",
      "metadata": {
        "id": "XzrSyxvLf-bD"
      },
      "source": [
        "# Pegando o csv já salvo \n",
        "\n",
        "\n",
        "new_dataset.2023.01.05-alternativa01-opcao02.csv\n",
        "\n",
        "Registros 100% coincidentes com hash + smell \n",
        "\t\t'start_line'] in range(start-10,start+10)) & (\n",
        "\t\t'end_line’]   in range(end-10,end+10):\n",
        "\n",
        "\t\t\n",
        "\t\t711 (407 long method e 304 feature envy)"
      ]
    },
    {
      "cell_type": "markdown",
      "metadata": {
        "id": "acaFIZYUQyaZ"
      },
      "source": [
        "# Nova analise exploratoria do mlcq com os dados do organica"
      ]
    },
    {
      "cell_type": "code",
      "execution_count": 21,
      "metadata": {
        "id": "j2b-LOi5goKD"
      },
      "outputs": [],
      "source": [
        "#dataset_old = pd.read_csv(\"organic.2023.01.05-alternativa01-opcao02.csv\", sep=',')\n",
        "dataset = pd.read_csv(\"organic.2023.02.01-alternativa01-opcao02-agglom.csv\", sep=',')"
      ]
    },
    {
      "cell_type": "code",
      "execution_count": null,
      "metadata": {
        "id": "FYzTOz2FYpks"
      },
      "outputs": [],
      "source": [
        "#dataset_old.columns"
      ]
    },
    {
      "cell_type": "code",
      "execution_count": 23,
      "metadata": {
        "colab": {
          "base_uri": "https://localhost:8080/"
        },
        "id": "isDNfZL9Ys4w",
        "outputId": "6eb6161d-53a1-4e3a-ca80-9aad49794d04"
      },
      "outputs": [
        {
          "data": {
            "text/plain": [
              "Index(['commit_hash', 'sample_id', 'reviewer_id', 'smell', 'severity',\n",
              "       'review_timestamp', 'type', 'code_name', 'repository', 'path',\n",
              "       'start_line', 'end_line', 'link', 'relevant', 'lines', 'agglom_num',\n",
              "       'agglom_list', 'num_commits', 'reason', 'NumberOfAccessedVariables',\n",
              "       'CouplingDispersion', 'ChangingClasses', 'MethodLinesOfCode',\n",
              "       'CyclomaticComplexity', 'MaxNesting', 'CouplingIntensity',\n",
              "       'ParameterCount', 'MaxCallChain', 'ChangingMethods', 'repeticoes',\n",
              "       'arquivo'],\n",
              "      dtype='object')"
            ]
          },
          "execution_count": 23,
          "metadata": {},
          "output_type": "execute_result"
        }
      ],
      "source": [
        "dataset.columns"
      ]
    },
    {
      "cell_type": "code",
      "execution_count": 24,
      "metadata": {
        "id": "YySYE4oaZOaw"
      },
      "outputs": [],
      "source": [
        "dataset.drop(columns='path',inplace=True)"
      ]
    },
    {
      "cell_type": "code",
      "execution_count": 25,
      "metadata": {
        "colab": {
          "base_uri": "https://localhost:8080/"
        },
        "id": "18f97_LlueUS",
        "outputId": "02e910e8-269d-453c-8041-612c76126bb9"
      },
      "outputs": [
        {
          "data": {
            "text/plain": [
              "(14739, 30)"
            ]
          },
          "execution_count": 25,
          "metadata": {},
          "output_type": "execute_result"
        }
      ],
      "source": [
        "dataset.shape"
      ]
    },
    {
      "cell_type": "code",
      "execution_count": 26,
      "metadata": {
        "colab": {
          "base_uri": "https://localhost:8080/",
          "height": 364
        },
        "id": "ctx6-RE2o1kI",
        "outputId": "15fd8693-b5d2-43af-f3bf-7a3653c136e7"
      },
      "outputs": [
        {
          "data": {
            "text/html": [
              "<div>\n",
              "<style scoped>\n",
              "    .dataframe tbody tr th:only-of-type {\n",
              "        vertical-align: middle;\n",
              "    }\n",
              "\n",
              "    .dataframe tbody tr th {\n",
              "        vertical-align: top;\n",
              "    }\n",
              "\n",
              "    .dataframe thead th {\n",
              "        text-align: right;\n",
              "    }\n",
              "</style>\n",
              "<table border=\"1\" class=\"dataframe\">\n",
              "  <thead>\n",
              "    <tr style=\"text-align: right;\">\n",
              "      <th></th>\n",
              "      <th>sample_id</th>\n",
              "      <th>reviewer_id</th>\n",
              "      <th>start_line</th>\n",
              "      <th>end_line</th>\n",
              "      <th>lines</th>\n",
              "      <th>agglom_num</th>\n",
              "      <th>num_commits</th>\n",
              "      <th>NumberOfAccessedVariables</th>\n",
              "      <th>CouplingDispersion</th>\n",
              "      <th>ChangingClasses</th>\n",
              "      <th>MethodLinesOfCode</th>\n",
              "      <th>CyclomaticComplexity</th>\n",
              "      <th>MaxNesting</th>\n",
              "      <th>CouplingIntensity</th>\n",
              "      <th>ParameterCount</th>\n",
              "      <th>MaxCallChain</th>\n",
              "      <th>ChangingMethods</th>\n",
              "      <th>repeticoes</th>\n",
              "    </tr>\n",
              "  </thead>\n",
              "  <tbody>\n",
              "    <tr>\n",
              "      <th>count</th>\n",
              "      <td>1.473900e+04</td>\n",
              "      <td>14739.000000</td>\n",
              "      <td>14739.000000</td>\n",
              "      <td>14739.000000</td>\n",
              "      <td>14739.000000</td>\n",
              "      <td>14739.000000</td>\n",
              "      <td>14739.000000</td>\n",
              "      <td>711.000000</td>\n",
              "      <td>711.000000</td>\n",
              "      <td>702.000000</td>\n",
              "      <td>711.000000</td>\n",
              "      <td>711.000000</td>\n",
              "      <td>711.000000</td>\n",
              "      <td>711.000000</td>\n",
              "      <td>711.000000</td>\n",
              "      <td>711.000000</td>\n",
              "      <td>702.000000</td>\n",
              "      <td>711.000000</td>\n",
              "    </tr>\n",
              "    <tr>\n",
              "      <th>mean</th>\n",
              "      <td>6.597182e+06</td>\n",
              "      <td>8.526019</td>\n",
              "      <td>2270.629690</td>\n",
              "      <td>2375.736074</td>\n",
              "      <td>106.106384</td>\n",
              "      <td>0.711039</td>\n",
              "      <td>95.731529</td>\n",
              "      <td>13.122363</td>\n",
              "      <td>0.502280</td>\n",
              "      <td>0.508547</td>\n",
              "      <td>33.064698</td>\n",
              "      <td>8.327707</td>\n",
              "      <td>2.060478</td>\n",
              "      <td>8.115331</td>\n",
              "      <td>1.303797</td>\n",
              "      <td>2.572433</td>\n",
              "      <td>0.880342</td>\n",
              "      <td>1.796062</td>\n",
              "    </tr>\n",
              "    <tr>\n",
              "      <th>std</th>\n",
              "      <td>1.666133e+06</td>\n",
              "      <td>7.301026</td>\n",
              "      <td>15319.330212</td>\n",
              "      <td>15320.249495</td>\n",
              "      <td>254.282762</td>\n",
              "      <td>0.765500</td>\n",
              "      <td>90.363547</td>\n",
              "      <td>9.538385</td>\n",
              "      <td>0.282094</td>\n",
              "      <td>0.683459</td>\n",
              "      <td>19.289895</td>\n",
              "      <td>7.978373</td>\n",
              "      <td>2.376647</td>\n",
              "      <td>8.514821</td>\n",
              "      <td>1.589747</td>\n",
              "      <td>1.883217</td>\n",
              "      <td>1.680614</td>\n",
              "      <td>0.870024</td>\n",
              "    </tr>\n",
              "    <tr>\n",
              "      <th>min</th>\n",
              "      <td>3.698323e+06</td>\n",
              "      <td>1.000000</td>\n",
              "      <td>2.000000</td>\n",
              "      <td>3.000000</td>\n",
              "      <td>1.000000</td>\n",
              "      <td>0.000000</td>\n",
              "      <td>1.000000</td>\n",
              "      <td>0.000000</td>\n",
              "      <td>0.000000</td>\n",
              "      <td>0.000000</td>\n",
              "      <td>2.000000</td>\n",
              "      <td>1.000000</td>\n",
              "      <td>0.000000</td>\n",
              "      <td>0.000000</td>\n",
              "      <td>0.000000</td>\n",
              "      <td>0.000000</td>\n",
              "      <td>0.000000</td>\n",
              "      <td>1.000000</td>\n",
              "    </tr>\n",
              "    <tr>\n",
              "      <th>25%</th>\n",
              "      <td>5.183069e+06</td>\n",
              "      <td>3.000000</td>\n",
              "      <td>34.000000</td>\n",
              "      <td>82.000000</td>\n",
              "      <td>11.000000</td>\n",
              "      <td>0.000000</td>\n",
              "      <td>30.000000</td>\n",
              "      <td>7.000000</td>\n",
              "      <td>0.312500</td>\n",
              "      <td>0.000000</td>\n",
              "      <td>18.500000</td>\n",
              "      <td>1.000000</td>\n",
              "      <td>0.000000</td>\n",
              "      <td>3.000000</td>\n",
              "      <td>0.000000</td>\n",
              "      <td>2.000000</td>\n",
              "      <td>0.000000</td>\n",
              "      <td>1.000000</td>\n",
              "    </tr>\n",
              "    <tr>\n",
              "      <th>50%</th>\n",
              "      <td>6.632851e+06</td>\n",
              "      <td>5.000000</td>\n",
              "      <td>69.000000</td>\n",
              "      <td>170.000000</td>\n",
              "      <td>31.000000</td>\n",
              "      <td>1.000000</td>\n",
              "      <td>68.000000</td>\n",
              "      <td>12.000000</td>\n",
              "      <td>0.500000</td>\n",
              "      <td>0.000000</td>\n",
              "      <td>32.000000</td>\n",
              "      <td>6.000000</td>\n",
              "      <td>1.000000</td>\n",
              "      <td>6.000000</td>\n",
              "      <td>1.000000</td>\n",
              "      <td>2.000000</td>\n",
              "      <td>0.000000</td>\n",
              "      <td>2.000000</td>\n",
              "    </tr>\n",
              "    <tr>\n",
              "      <th>75%</th>\n",
              "      <td>7.944953e+06</td>\n",
              "      <td>15.000000</td>\n",
              "      <td>257.000000</td>\n",
              "      <td>426.000000</td>\n",
              "      <td>89.000000</td>\n",
              "      <td>1.000000</td>\n",
              "      <td>146.000000</td>\n",
              "      <td>17.000000</td>\n",
              "      <td>0.692308</td>\n",
              "      <td>1.000000</td>\n",
              "      <td>39.000000</td>\n",
              "      <td>13.000000</td>\n",
              "      <td>3.000000</td>\n",
              "      <td>11.000000</td>\n",
              "      <td>2.000000</td>\n",
              "      <td>3.000000</td>\n",
              "      <td>1.000000</td>\n",
              "      <td>2.000000</td>\n",
              "    </tr>\n",
              "    <tr>\n",
              "      <th>max</th>\n",
              "      <td>9.553496e+06</td>\n",
              "      <td>34.000000</td>\n",
              "      <td>252554.000000</td>\n",
              "      <td>252655.000000</td>\n",
              "      <td>4111.000000</td>\n",
              "      <td>2.000000</td>\n",
              "      <td>424.000000</td>\n",
              "      <td>54.000000</td>\n",
              "      <td>1.000000</td>\n",
              "      <td>4.000000</td>\n",
              "      <td>105.000000</td>\n",
              "      <td>39.000000</td>\n",
              "      <td>19.000000</td>\n",
              "      <td>63.000000</td>\n",
              "      <td>9.000000</td>\n",
              "      <td>21.000000</td>\n",
              "      <td>19.000000</td>\n",
              "      <td>4.000000</td>\n",
              "    </tr>\n",
              "  </tbody>\n",
              "</table>\n",
              "</div>"
            ],
            "text/plain": [
              "          sample_id   reviewer_id     start_line       end_line         lines  \\\n",
              "count  1.473900e+04  14739.000000   14739.000000   14739.000000  14739.000000   \n",
              "mean   6.597182e+06      8.526019    2270.629690    2375.736074    106.106384   \n",
              "std    1.666133e+06      7.301026   15319.330212   15320.249495    254.282762   \n",
              "min    3.698323e+06      1.000000       2.000000       3.000000      1.000000   \n",
              "25%    5.183069e+06      3.000000      34.000000      82.000000     11.000000   \n",
              "50%    6.632851e+06      5.000000      69.000000     170.000000     31.000000   \n",
              "75%    7.944953e+06     15.000000     257.000000     426.000000     89.000000   \n",
              "max    9.553496e+06     34.000000  252554.000000  252655.000000   4111.000000   \n",
              "\n",
              "         agglom_num   num_commits  NumberOfAccessedVariables  \\\n",
              "count  14739.000000  14739.000000                 711.000000   \n",
              "mean       0.711039     95.731529                  13.122363   \n",
              "std        0.765500     90.363547                   9.538385   \n",
              "min        0.000000      1.000000                   0.000000   \n",
              "25%        0.000000     30.000000                   7.000000   \n",
              "50%        1.000000     68.000000                  12.000000   \n",
              "75%        1.000000    146.000000                  17.000000   \n",
              "max        2.000000    424.000000                  54.000000   \n",
              "\n",
              "       CouplingDispersion  ChangingClasses  MethodLinesOfCode  \\\n",
              "count          711.000000       702.000000         711.000000   \n",
              "mean             0.502280         0.508547          33.064698   \n",
              "std              0.282094         0.683459          19.289895   \n",
              "min              0.000000         0.000000           2.000000   \n",
              "25%              0.312500         0.000000          18.500000   \n",
              "50%              0.500000         0.000000          32.000000   \n",
              "75%              0.692308         1.000000          39.000000   \n",
              "max              1.000000         4.000000         105.000000   \n",
              "\n",
              "       CyclomaticComplexity  MaxNesting  CouplingIntensity  ParameterCount  \\\n",
              "count            711.000000  711.000000         711.000000      711.000000   \n",
              "mean               8.327707    2.060478           8.115331        1.303797   \n",
              "std                7.978373    2.376647           8.514821        1.589747   \n",
              "min                1.000000    0.000000           0.000000        0.000000   \n",
              "25%                1.000000    0.000000           3.000000        0.000000   \n",
              "50%                6.000000    1.000000           6.000000        1.000000   \n",
              "75%               13.000000    3.000000          11.000000        2.000000   \n",
              "max               39.000000   19.000000          63.000000        9.000000   \n",
              "\n",
              "       MaxCallChain  ChangingMethods  repeticoes  \n",
              "count    711.000000       702.000000  711.000000  \n",
              "mean       2.572433         0.880342    1.796062  \n",
              "std        1.883217         1.680614    0.870024  \n",
              "min        0.000000         0.000000    1.000000  \n",
              "25%        2.000000         0.000000    1.000000  \n",
              "50%        2.000000         0.000000    2.000000  \n",
              "75%        3.000000         1.000000    2.000000  \n",
              "max       21.000000        19.000000    4.000000  "
            ]
          },
          "execution_count": 26,
          "metadata": {},
          "output_type": "execute_result"
        }
      ],
      "source": [
        "dataset.describe()"
      ]
    },
    {
      "cell_type": "code",
      "execution_count": 27,
      "metadata": {
        "colab": {
          "base_uri": "https://localhost:8080/",
          "height": 386
        },
        "id": "34MHRrhGkWsD",
        "outputId": "d45e5064-9667-49b7-d358-fb496058534d"
      },
      "outputs": [
        {
          "data": {
            "text/html": [
              "<div>\n",
              "<style scoped>\n",
              "    .dataframe tbody tr th:only-of-type {\n",
              "        vertical-align: middle;\n",
              "    }\n",
              "\n",
              "    .dataframe tbody tr th {\n",
              "        vertical-align: top;\n",
              "    }\n",
              "\n",
              "    .dataframe thead th {\n",
              "        text-align: right;\n",
              "    }\n",
              "</style>\n",
              "<table border=\"1\" class=\"dataframe\">\n",
              "  <thead>\n",
              "    <tr style=\"text-align: right;\">\n",
              "      <th></th>\n",
              "      <th>commit_hash</th>\n",
              "      <th>sample_id</th>\n",
              "      <th>reviewer_id</th>\n",
              "      <th>smell</th>\n",
              "      <th>severity</th>\n",
              "      <th>review_timestamp</th>\n",
              "      <th>type</th>\n",
              "      <th>code_name</th>\n",
              "      <th>repository</th>\n",
              "      <th>start_line</th>\n",
              "      <th>...</th>\n",
              "      <th>ChangingClasses</th>\n",
              "      <th>MethodLinesOfCode</th>\n",
              "      <th>CyclomaticComplexity</th>\n",
              "      <th>MaxNesting</th>\n",
              "      <th>CouplingIntensity</th>\n",
              "      <th>ParameterCount</th>\n",
              "      <th>MaxCallChain</th>\n",
              "      <th>ChangingMethods</th>\n",
              "      <th>repeticoes</th>\n",
              "      <th>arquivo</th>\n",
              "    </tr>\n",
              "  </thead>\n",
              "  <tbody>\n",
              "    <tr>\n",
              "      <th>0</th>\n",
              "      <td>114c412afbfba24ffb4fbc804e5308a823a16a78</td>\n",
              "      <td>5771277</td>\n",
              "      <td>6</td>\n",
              "      <td>none</td>\n",
              "      <td>none</td>\n",
              "      <td>2019-03-27 10:34:53.041496</td>\n",
              "      <td>function</td>\n",
              "      <td>org.apache.syncope.client.ui.commons.ConnIdSpe...</td>\n",
              "      <td>git@github.com:apache/syncope.git</td>\n",
              "      <td>35</td>\n",
              "      <td>...</td>\n",
              "      <td>NaN</td>\n",
              "      <td>NaN</td>\n",
              "      <td>NaN</td>\n",
              "      <td>NaN</td>\n",
              "      <td>NaN</td>\n",
              "      <td>NaN</td>\n",
              "      <td>NaN</td>\n",
              "      <td>NaN</td>\n",
              "      <td>NaN</td>\n",
              "      <td>NaN</td>\n",
              "    </tr>\n",
              "    <tr>\n",
              "      <th>1</th>\n",
              "      <td>114c412afbfba24ffb4fbc804e5308a823a16a78</td>\n",
              "      <td>5771277</td>\n",
              "      <td>6</td>\n",
              "      <td>none</td>\n",
              "      <td>none</td>\n",
              "      <td>2019-03-27 10:34:53.042443</td>\n",
              "      <td>function</td>\n",
              "      <td>org.apache.syncope.client.ui.commons.ConnIdSpe...</td>\n",
              "      <td>git@github.com:apache/syncope.git</td>\n",
              "      <td>35</td>\n",
              "      <td>...</td>\n",
              "      <td>NaN</td>\n",
              "      <td>NaN</td>\n",
              "      <td>NaN</td>\n",
              "      <td>NaN</td>\n",
              "      <td>NaN</td>\n",
              "      <td>NaN</td>\n",
              "      <td>NaN</td>\n",
              "      <td>NaN</td>\n",
              "      <td>NaN</td>\n",
              "      <td>NaN</td>\n",
              "    </tr>\n",
              "    <tr>\n",
              "      <th>2</th>\n",
              "      <td>d5675c332497c1ac1dedefdf91e87476b5c0d7a9</td>\n",
              "      <td>5786929</td>\n",
              "      <td>6</td>\n",
              "      <td>blob</td>\n",
              "      <td>critical</td>\n",
              "      <td>2019-03-27 10:37:38.107923</td>\n",
              "      <td>class</td>\n",
              "      <td>org.apache.tez.runtime.library.common.writers....</td>\n",
              "      <td>git@github.com:apache/tez.git</td>\n",
              "      <td>89</td>\n",
              "      <td>...</td>\n",
              "      <td>NaN</td>\n",
              "      <td>NaN</td>\n",
              "      <td>NaN</td>\n",
              "      <td>NaN</td>\n",
              "      <td>NaN</td>\n",
              "      <td>NaN</td>\n",
              "      <td>NaN</td>\n",
              "      <td>NaN</td>\n",
              "      <td>NaN</td>\n",
              "      <td>NaN</td>\n",
              "    </tr>\n",
              "    <tr>\n",
              "      <th>3</th>\n",
              "      <td>d5675c332497c1ac1dedefdf91e87476b5c0d7a9</td>\n",
              "      <td>5786929</td>\n",
              "      <td>6</td>\n",
              "      <td>data class</td>\n",
              "      <td>critical</td>\n",
              "      <td>2019-03-27 10:37:38.109068</td>\n",
              "      <td>class</td>\n",
              "      <td>org.apache.tez.runtime.library.common.writers....</td>\n",
              "      <td>git@github.com:apache/tez.git</td>\n",
              "      <td>89</td>\n",
              "      <td>...</td>\n",
              "      <td>NaN</td>\n",
              "      <td>NaN</td>\n",
              "      <td>NaN</td>\n",
              "      <td>NaN</td>\n",
              "      <td>NaN</td>\n",
              "      <td>NaN</td>\n",
              "      <td>NaN</td>\n",
              "      <td>NaN</td>\n",
              "      <td>NaN</td>\n",
              "      <td>NaN</td>\n",
              "    </tr>\n",
              "    <tr>\n",
              "      <th>4</th>\n",
              "      <td>4131c6e30f2e0eb1feb85e0f7576531d4e830468</td>\n",
              "      <td>5788107</td>\n",
              "      <td>6</td>\n",
              "      <td>none</td>\n",
              "      <td>none</td>\n",
              "      <td>2019-03-27 10:37:49.627100</td>\n",
              "      <td>function</td>\n",
              "      <td>org.apache.tika.parser.ocr.TesseractOCRConfig#...</td>\n",
              "      <td>git@github.com:apache/tika.git</td>\n",
              "      <td>531</td>\n",
              "      <td>...</td>\n",
              "      <td>NaN</td>\n",
              "      <td>NaN</td>\n",
              "      <td>NaN</td>\n",
              "      <td>NaN</td>\n",
              "      <td>NaN</td>\n",
              "      <td>NaN</td>\n",
              "      <td>NaN</td>\n",
              "      <td>NaN</td>\n",
              "      <td>NaN</td>\n",
              "      <td>NaN</td>\n",
              "    </tr>\n",
              "  </tbody>\n",
              "</table>\n",
              "<p>5 rows × 30 columns</p>\n",
              "</div>"
            ],
            "text/plain": [
              "                                commit_hash  sample_id  reviewer_id  \\\n",
              "0  114c412afbfba24ffb4fbc804e5308a823a16a78    5771277            6   \n",
              "1  114c412afbfba24ffb4fbc804e5308a823a16a78    5771277            6   \n",
              "2  d5675c332497c1ac1dedefdf91e87476b5c0d7a9    5786929            6   \n",
              "3  d5675c332497c1ac1dedefdf91e87476b5c0d7a9    5786929            6   \n",
              "4  4131c6e30f2e0eb1feb85e0f7576531d4e830468    5788107            6   \n",
              "\n",
              "        smell  severity            review_timestamp      type  \\\n",
              "0        none      none  2019-03-27 10:34:53.041496  function   \n",
              "1        none      none  2019-03-27 10:34:53.042443  function   \n",
              "2        blob  critical  2019-03-27 10:37:38.107923     class   \n",
              "3  data class  critical  2019-03-27 10:37:38.109068     class   \n",
              "4        none      none  2019-03-27 10:37:49.627100  function   \n",
              "\n",
              "                                           code_name  \\\n",
              "0  org.apache.syncope.client.ui.commons.ConnIdSpe...   \n",
              "1  org.apache.syncope.client.ui.commons.ConnIdSpe...   \n",
              "2  org.apache.tez.runtime.library.common.writers....   \n",
              "3  org.apache.tez.runtime.library.common.writers....   \n",
              "4  org.apache.tika.parser.ocr.TesseractOCRConfig#...   \n",
              "\n",
              "                          repository  start_line  ...  ChangingClasses  \\\n",
              "0  git@github.com:apache/syncope.git          35  ...              NaN   \n",
              "1  git@github.com:apache/syncope.git          35  ...              NaN   \n",
              "2      git@github.com:apache/tez.git          89  ...              NaN   \n",
              "3      git@github.com:apache/tez.git          89  ...              NaN   \n",
              "4     git@github.com:apache/tika.git         531  ...              NaN   \n",
              "\n",
              "  MethodLinesOfCode CyclomaticComplexity  MaxNesting  CouplingIntensity  \\\n",
              "0               NaN                  NaN         NaN                NaN   \n",
              "1               NaN                  NaN         NaN                NaN   \n",
              "2               NaN                  NaN         NaN                NaN   \n",
              "3               NaN                  NaN         NaN                NaN   \n",
              "4               NaN                  NaN         NaN                NaN   \n",
              "\n",
              "  ParameterCount  MaxCallChain ChangingMethods  repeticoes  arquivo  \n",
              "0            NaN           NaN             NaN         NaN      NaN  \n",
              "1            NaN           NaN             NaN         NaN      NaN  \n",
              "2            NaN           NaN             NaN         NaN      NaN  \n",
              "3            NaN           NaN             NaN         NaN      NaN  \n",
              "4            NaN           NaN             NaN         NaN      NaN  \n",
              "\n",
              "[5 rows x 30 columns]"
            ]
          },
          "execution_count": 27,
          "metadata": {},
          "output_type": "execute_result"
        }
      ],
      "source": [
        "dataset.head()"
      ]
    },
    {
      "attachments": {},
      "cell_type": "markdown",
      "metadata": {},
      "source": [
        "Fazendo a figura para o artigo"
      ]
    },
    {
      "cell_type": "code",
      "execution_count": 31,
      "metadata": {},
      "outputs": [
        {
          "data": {
            "text/plain": [
              "(3291, 30)"
            ]
          },
          "execution_count": 31,
          "metadata": {},
          "output_type": "execute_result"
        }
      ],
      "source": [
        "artigo_lista = dataset['severity'] == 'none'\n",
        "artigo_dataset = dataset[~artigo_lista]\n",
        "artigo_dataset.shape"
      ]
    },
    {
      "cell_type": "code",
      "execution_count": 34,
      "metadata": {},
      "outputs": [
        {
          "data": {
            "image/png": "[encoded data removed]",
            "text/plain": [
              "<Figure size 640x480 with 1 Axes>"
            ]
          },
          "metadata": {},
          "output_type": "display_data"
        }
      ],
      "source": [
        "#plt.xlabel(\"\\nFig.2 code Smell Severity\")\n",
        "plt.ylabel(\"Amount\")\n",
        "#plt.title(\"Severity\")\n",
        "artigo_dataset['severity'].value_counts().plot.bar() #;\n",
        "plt.show()"
      ]
    },
    {
      "attachments": {},
      "cell_type": "markdown",
      "metadata": {},
      "source": [
        "Aqui continua como antes"
      ]
    },
    {
      "cell_type": "code",
      "execution_count": 35,
      "metadata": {
        "colab": {
          "base_uri": "https://localhost:8080/",
          "height": 318
        },
        "id": "Q_0RowvKu_Cc",
        "outputId": "20cd12d9-b1fa-4f99-f954-24d9f9e61992"
      },
      "outputs": [
        {
          "data": {
            "image/png": "[encoded data removed]",
            "text/plain": [
              "<Figure size 640x480 with 1 Axes>"
            ]
          },
          "metadata": {},
          "output_type": "display_data"
        }
      ],
      "source": [
        "plt.xlabel(\"\\nFig.2 code Smell Severity\")\n",
        "plt.ylabel(\"Amount\")\n",
        "#plt.title(\"Severity\")\n",
        "dataset['severity'].value_counts().plot.bar() #;\n",
        "plt.show()"
      ]
    },
    {
      "cell_type": "markdown",
      "metadata": {
        "id": "LgxoHvN76pRC"
      },
      "source": [
        "# Criando o atributo reviewer e reviewer_cod\n",
        "\n",
        "\n",
        "reviewer só será usado para o gráfico\n",
        "reviewer será introduzido na análise "
      ]
    },
    {
      "cell_type": "code",
      "execution_count": 36,
      "metadata": {
        "id": "JQ6WyutD66xN"
      },
      "outputs": [],
      "source": [
        "dataset['reviewer_cod'] = ''\n",
        "dataset['reviewer'] = ''"
      ]
    },
    {
      "cell_type": "code",
      "execution_count": 37,
      "metadata": {
        "colab": {
          "base_uri": "https://localhost:8080/"
        },
        "id": "O6usrYBd7PFV",
        "outputId": "2f56ddd8-6f88-4694-d771-e684a1149e7d"
      },
      "outputs": [
        {
          "data": {
            "text/plain": [
              "(14739, 32)"
            ]
          },
          "execution_count": 37,
          "metadata": {},
          "output_type": "execute_result"
        }
      ],
      "source": [
        "dataset.shape"
      ]
    },
    {
      "cell_type": "code",
      "execution_count": 38,
      "metadata": {
        "id": "AcjnG4Zb7b9O"
      },
      "outputs": [],
      "source": [
        "reviewer = {34:'unknown', 31:'unknown', 30:'unknown', 21:'unknown', 28:'unknown', 18:'unknown', 1: 'Middle',3: 'Middle',4: 'Senior',5: 'Junior',6: 'Junior',7: 'Junior',8: 'Junior',9: 'Junior',10:'Middle',11:'Junior',12:'Middle',13:'Junior',14:'Middle',15:'Junior',16:'Junior',17:'Junior',20:'Senior',22:'Middle',23:'Junior',25:'Junior'}"
      ]
    },
    {
      "cell_type": "code",
      "execution_count": 39,
      "metadata": {
        "id": "SE7ZCNn17d_9"
      },
      "outputs": [],
      "source": [
        "func_reviewer = lambda x: reviewer[x]"
      ]
    },
    {
      "cell_type": "code",
      "execution_count": 40,
      "metadata": {
        "id": "ydrGBzt43TAm"
      },
      "outputs": [],
      "source": [
        "dataset['reviewer'] = dataset['reviewer_id'].apply(func_reviewer) "
      ]
    },
    {
      "cell_type": "code",
      "execution_count": 41,
      "metadata": {
        "colab": {
          "base_uri": "https://localhost:8080/",
          "height": 318
        },
        "id": "Bvsh-Nql7Rkl",
        "outputId": "70c558e6-4bb7-403a-e12a-b248283061b6"
      },
      "outputs": [
        {
          "data": {
            "image/png": "[encoded data removed]",
            "text/plain": [
              "<Figure size 640x480 with 1 Axes>"
            ]
          },
          "metadata": {},
          "output_type": "display_data"
        }
      ],
      "source": [
        "#plt.xlabel(\"Fig.3 Expert Background\")\n",
        "plt.ylabel(\"Amount\")\n",
        "#plt.title(\"Code Smell\")\n",
        "dataset['reviewer'].value_counts().plot.bar() #;\n",
        "plt.show()"
      ]
    },
    {
      "cell_type": "code",
      "execution_count": 42,
      "metadata": {
        "colab": {
          "base_uri": "https://localhost:8080/",
          "height": 349
        },
        "id": "t6m5CAZKtme0",
        "outputId": "b174bf49-e943-47ab-debe-a6bc644a106a"
      },
      "outputs": [
        {
          "data": {
            "image/png": "[encoded data removed]",
            "text/plain": [
              "<Figure size 640x480 with 1 Axes>"
            ]
          },
          "metadata": {},
          "output_type": "display_data"
        }
      ],
      "source": [
        "#plt.xlabel(\"Fig.1\")\n",
        "plt.ylabel(\"Amount\")\n",
        "plt.title(\"Code Smell\")\n",
        "dataset['smell'].value_counts().plot.bar() #;\n",
        "plt.show()"
      ]
    },
    {
      "cell_type": "code",
      "execution_count": 36,
      "metadata": {
        "colab": {
          "base_uri": "https://localhost:8080/",
          "height": 301
        },
        "id": "K7B0cZefZsUV",
        "outputId": "8a2701c9-a610-4238-9d7b-9185bbf2324f"
      },
      "outputs": [
        {
          "data": {
            "image/png": "[encoded data removed]",
            "text/plain": [
              "<Figure size 432x288 with 1 Axes>"
            ]
          },
          "metadata": {
            "needs_background": "light"
          },
          "output_type": "display_data"
        }
      ],
      "source": [
        "plt.xlabel(\"Fig.\")\n",
        "plt.ylabel(\"Amount\")\n",
        "plt.title(\"Aglomeração de Code Smell\")\n",
        "dataset['agglom_num'].value_counts().plot.bar() #;\n",
        "plt.show()"
      ]
    },
    {
      "cell_type": "code",
      "execution_count": 43,
      "metadata": {
        "colab": {
          "base_uri": "https://localhost:8080/"
        },
        "id": "qDIuE3WLlRDi",
        "outputId": "7f0285b9-46ec-4b6a-9a3e-2501d6bb9908"
      },
      "outputs": [
        {
          "name": "stdout",
          "output_type": "stream",
          "text": [
            "commit_hash: 0 \n",
            "sample_id: 0 \n",
            "reviewer_id: 0 \n",
            "smell: 0 \n",
            "severity: 0 \n",
            "review_timestamp: 0 \n",
            "type: 0 \n",
            "code_name: 0 \n",
            "repository: 0 \n",
            "start_line: 0 \n",
            "end_line: 0 \n",
            "link: 0 \n",
            "relevant: 0 \n",
            "lines: 0 \n",
            "agglom_num: 0 \n",
            "agglom_list: 7063 \n",
            "num_commits: 0 \n",
            "reason: 14028 \n",
            "NumberOfAccessedVariables: 14028 \n",
            "CouplingDispersion: 14028 \n",
            "ChangingClasses: 14037 \n",
            "MethodLinesOfCode: 14028 \n",
            "CyclomaticComplexity: 14028 \n",
            "MaxNesting: 14028 \n",
            "CouplingIntensity: 14028 \n",
            "ParameterCount: 14028 \n",
            "MaxCallChain: 14028 \n",
            "ChangingMethods: 14037 \n",
            "repeticoes: 14028 \n",
            "arquivo: 14028 \n",
            "reviewer_cod: 0 \n",
            "reviewer: 0 \n"
          ]
        }
      ],
      "source": [
        "##Quantidade de NAN\n",
        "for col in dataset.columns:\n",
        "    cont = dataset[col].isna().sum()\n",
        "    print(f'{col}: {cont} ')"
      ]
    },
    {
      "cell_type": "code",
      "execution_count": 44,
      "metadata": {
        "colab": {
          "base_uri": "https://localhost:8080/"
        },
        "id": "D7Wl5ieBlnC7",
        "outputId": "5a2e3a6f-7d33-44f8-b0c9-bfc5a557a372"
      },
      "outputs": [
        {
          "data": {
            "text/plain": [
              "array([nan,  0.,  1.,  4.,  2., 10.,  3.,  8.,  7.,  6., 11., 19.,  5.])"
            ]
          },
          "execution_count": 44,
          "metadata": {},
          "output_type": "execute_result"
        }
      ],
      "source": [
        "dataset.ChangingMethods.value_counts()\n",
        "dataset.ChangingMethods.unique()\n",
        "\n",
        "#dataset.repeticoes.unique()\n",
        "#dataset['NumberOfAccessedVariables'].value_counts()\n"
      ]
    },
    {
      "cell_type": "code",
      "execution_count": 45,
      "metadata": {
        "id": "v3ofxRKJkoPk"
      },
      "outputs": [],
      "source": [
        "#NAO\n",
        "# primeira analise para amostras que tem dados vindos do organic\n",
        "#dataset.fillna(0, inplace = True)\n",
        "dataset = dataset.dropna()"
      ]
    },
    {
      "cell_type": "code",
      "execution_count": 46,
      "metadata": {
        "colab": {
          "base_uri": "https://localhost:8080/"
        },
        "id": "0It3flAvujX9",
        "outputId": "a3040c57-30ca-4e47-c32c-e2b1b3f2e2d8"
      },
      "outputs": [
        {
          "data": {
            "text/plain": [
              "(702, 32)"
            ]
          },
          "execution_count": 46,
          "metadata": {},
          "output_type": "execute_result"
        }
      ],
      "source": [
        "dataset.shape"
      ]
    },
    {
      "cell_type": "code",
      "execution_count": 47,
      "metadata": {
        "colab": {
          "base_uri": "https://localhost:8080/"
        },
        "id": "p2alG51IuzwM",
        "outputId": "8e023240-f4ed-4a3c-abfb-2ed2845d9fab"
      },
      "outputs": [
        {
          "data": {
            "text/plain": [
              "array(['long method', 'feature envy'], dtype=object)"
            ]
          },
          "execution_count": 47,
          "metadata": {},
          "output_type": "execute_result"
        }
      ],
      "source": [
        "dataset.smell.value_counts()\n",
        "dataset.smell.unique()"
      ]
    },
    {
      "cell_type": "code",
      "execution_count": 48,
      "metadata": {
        "colab": {
          "base_uri": "https://localhost:8080/"
        },
        "id": "xfh9otkFmEic",
        "outputId": "ad33e818-ef4e-41b5-a880-37334c5a6e89"
      },
      "outputs": [
        {
          "name": "stdout",
          "output_type": "stream",
          "text": [
            "commit_hash: 0 \n",
            "sample_id: 0 \n",
            "reviewer_id: 0 \n",
            "smell: 0 \n",
            "severity: 0 \n",
            "review_timestamp: 0 \n",
            "type: 0 \n",
            "code_name: 0 \n",
            "repository: 0 \n",
            "start_line: 0 \n",
            "end_line: 0 \n",
            "link: 0 \n",
            "relevant: 0 \n",
            "lines: 0 \n",
            "agglom_num: 0 \n",
            "agglom_list: 0 \n",
            "num_commits: 0 \n",
            "reason: 0 \n",
            "NumberOfAccessedVariables: 0 \n",
            "CouplingDispersion: 0 \n",
            "ChangingClasses: 0 \n",
            "MethodLinesOfCode: 0 \n",
            "CyclomaticComplexity: 0 \n",
            "MaxNesting: 0 \n",
            "CouplingIntensity: 0 \n",
            "ParameterCount: 0 \n",
            "MaxCallChain: 0 \n",
            "ChangingMethods: 0 \n",
            "repeticoes: 0 \n",
            "arquivo: 0 \n",
            "reviewer_cod: 0 \n",
            "reviewer: 0 \n"
          ]
        }
      ],
      "source": [
        "##Quantidade de NAN\n",
        "for col in dataset.columns:\n",
        "    cont = dataset[col].isna().sum()\n",
        "    print(f'{col}: {cont} ')"
      ]
    },
    {
      "cell_type": "code",
      "execution_count": 49,
      "metadata": {
        "colab": {
          "base_uri": "https://localhost:8080/",
          "height": 386
        },
        "id": "eNLNck9xmhsw",
        "outputId": "0457b65f-ecca-431c-e0a2-dc5c3bcfbd22"
      },
      "outputs": [
        {
          "data": {
            "text/html": [
              "<div>\n",
              "<style scoped>\n",
              "    .dataframe tbody tr th:only-of-type {\n",
              "        vertical-align: middle;\n",
              "    }\n",
              "\n",
              "    .dataframe tbody tr th {\n",
              "        vertical-align: top;\n",
              "    }\n",
              "\n",
              "    .dataframe thead th {\n",
              "        text-align: right;\n",
              "    }\n",
              "</style>\n",
              "<table border=\"1\" class=\"dataframe\">\n",
              "  <thead>\n",
              "    <tr style=\"text-align: right;\">\n",
              "      <th></th>\n",
              "      <th>commit_hash</th>\n",
              "      <th>sample_id</th>\n",
              "      <th>reviewer_id</th>\n",
              "      <th>smell</th>\n",
              "      <th>severity</th>\n",
              "      <th>review_timestamp</th>\n",
              "      <th>type</th>\n",
              "      <th>code_name</th>\n",
              "      <th>repository</th>\n",
              "      <th>start_line</th>\n",
              "      <th>...</th>\n",
              "      <th>CyclomaticComplexity</th>\n",
              "      <th>MaxNesting</th>\n",
              "      <th>CouplingIntensity</th>\n",
              "      <th>ParameterCount</th>\n",
              "      <th>MaxCallChain</th>\n",
              "      <th>ChangingMethods</th>\n",
              "      <th>repeticoes</th>\n",
              "      <th>arquivo</th>\n",
              "      <th>reviewer_cod</th>\n",
              "      <th>reviewer</th>\n",
              "    </tr>\n",
              "  </thead>\n",
              "  <tbody>\n",
              "    <tr>\n",
              "      <th>39</th>\n",
              "      <td>a9c1a0661198d9ba37c1facd8385fe05d538c4ad</td>\n",
              "      <td>5840527</td>\n",
              "      <td>6</td>\n",
              "      <td>long method</td>\n",
              "      <td>minor</td>\n",
              "      <td>2019-03-27 10:45:41.280865</td>\n",
              "      <td>function</td>\n",
              "      <td>org.apache.el.parser.ELParser#DynamicExpression</td>\n",
              "      <td>git@github.com:apache/tomcat.git</td>\n",
              "      <td>140</td>\n",
              "      <td>...</td>\n",
              "      <td>1.0</td>\n",
              "      <td>0.0</td>\n",
              "      <td>3.0</td>\n",
              "      <td>0.0</td>\n",
              "      <td>3.0</td>\n",
              "      <td>0.0</td>\n",
              "      <td>2.0</td>\n",
              "      <td>download/tomcat_a9c1a0661198d9ba37c1facd8385fe...</td>\n",
              "      <td></td>\n",
              "      <td>Junior</td>\n",
              "    </tr>\n",
              "    <tr>\n",
              "      <th>44</th>\n",
              "      <td>a9c1a0661198d9ba37c1facd8385fe05d538c4ad</td>\n",
              "      <td>5839980</td>\n",
              "      <td>7</td>\n",
              "      <td>feature envy</td>\n",
              "      <td>minor</td>\n",
              "      <td>2019-03-27 10:46:31.227874</td>\n",
              "      <td>function</td>\n",
              "      <td>org.apache.tomcat.util.descriptor.web.ContextR...</td>\n",
              "      <td>git@github.com:apache/tomcat.git</td>\n",
              "      <td>94</td>\n",
              "      <td>...</td>\n",
              "      <td>1.0</td>\n",
              "      <td>0.0</td>\n",
              "      <td>4.0</td>\n",
              "      <td>0.0</td>\n",
              "      <td>3.0</td>\n",
              "      <td>0.0</td>\n",
              "      <td>1.0</td>\n",
              "      <td>download/tomcat_a9c1a0661198d9ba37c1facd8385fe...</td>\n",
              "      <td></td>\n",
              "      <td>Junior</td>\n",
              "    </tr>\n",
              "    <tr>\n",
              "      <th>47</th>\n",
              "      <td>a9c1a0661198d9ba37c1facd8385fe05d538c4ad</td>\n",
              "      <td>5855589</td>\n",
              "      <td>6</td>\n",
              "      <td>feature envy</td>\n",
              "      <td>minor</td>\n",
              "      <td>2019-03-27 10:47:09.381546</td>\n",
              "      <td>function</td>\n",
              "      <td>org.apache.catalina.ha.session.DeltaSession#en...</td>\n",
              "      <td>git@github.com:apache/tomcat.git</td>\n",
              "      <td>412</td>\n",
              "      <td>...</td>\n",
              "      <td>1.0</td>\n",
              "      <td>0.0</td>\n",
              "      <td>3.0</td>\n",
              "      <td>0.0</td>\n",
              "      <td>1.0</td>\n",
              "      <td>0.0</td>\n",
              "      <td>1.0</td>\n",
              "      <td>download/tomcat_a9c1a0661198d9ba37c1facd8385fe...</td>\n",
              "      <td></td>\n",
              "      <td>Junior</td>\n",
              "    </tr>\n",
              "    <tr>\n",
              "      <th>85</th>\n",
              "      <td>4219d552349f8f7f3e6de34505b8a8ae9835f98b</td>\n",
              "      <td>5922177</td>\n",
              "      <td>6</td>\n",
              "      <td>feature envy</td>\n",
              "      <td>minor</td>\n",
              "      <td>2019-03-27 10:51:45.193555</td>\n",
              "      <td>function</td>\n",
              "      <td>org.apache.zeppelin.realm.jwt.KnoxJwtRealm#val...</td>\n",
              "      <td>git@github.com:apache/zeppelin.git</td>\n",
              "      <td>130</td>\n",
              "      <td>...</td>\n",
              "      <td>1.0</td>\n",
              "      <td>0.0</td>\n",
              "      <td>5.0</td>\n",
              "      <td>0.0</td>\n",
              "      <td>4.0</td>\n",
              "      <td>0.0</td>\n",
              "      <td>2.0</td>\n",
              "      <td>download/zeppelin_4219d552349f8f7f3e6de34505b8...</td>\n",
              "      <td></td>\n",
              "      <td>Junior</td>\n",
              "    </tr>\n",
              "    <tr>\n",
              "      <th>94</th>\n",
              "      <td>07c3aaf3d723fb3144c0aedc0c2b655325df70e9</td>\n",
              "      <td>5939954</td>\n",
              "      <td>6</td>\n",
              "      <td>feature envy</td>\n",
              "      <td>major</td>\n",
              "      <td>2019-03-27 10:55:26.305339</td>\n",
              "      <td>function</td>\n",
              "      <td>org.apache.zookeeper.graph.JsonGenerator.JsonG...</td>\n",
              "      <td>git@github.com:apache/zookeeper.git</td>\n",
              "      <td>75</td>\n",
              "      <td>...</td>\n",
              "      <td>20.0</td>\n",
              "      <td>6.0</td>\n",
              "      <td>5.0</td>\n",
              "      <td>1.0</td>\n",
              "      <td>2.0</td>\n",
              "      <td>0.0</td>\n",
              "      <td>3.0</td>\n",
              "      <td>download/zookeeper_07c3aaf3d723fb3144c0aedc0c2...</td>\n",
              "      <td></td>\n",
              "      <td>Junior</td>\n",
              "    </tr>\n",
              "  </tbody>\n",
              "</table>\n",
              "<p>5 rows × 32 columns</p>\n",
              "</div>"
            ],
            "text/plain": [
              "                                 commit_hash  sample_id  reviewer_id  \\\n",
              "39  a9c1a0661198d9ba37c1facd8385fe05d538c4ad    5840527            6   \n",
              "44  a9c1a0661198d9ba37c1facd8385fe05d538c4ad    5839980            7   \n",
              "47  a9c1a0661198d9ba37c1facd8385fe05d538c4ad    5855589            6   \n",
              "85  4219d552349f8f7f3e6de34505b8a8ae9835f98b    5922177            6   \n",
              "94  07c3aaf3d723fb3144c0aedc0c2b655325df70e9    5939954            6   \n",
              "\n",
              "           smell severity            review_timestamp      type  \\\n",
              "39   long method    minor  2019-03-27 10:45:41.280865  function   \n",
              "44  feature envy    minor  2019-03-27 10:46:31.227874  function   \n",
              "47  feature envy    minor  2019-03-27 10:47:09.381546  function   \n",
              "85  feature envy    minor  2019-03-27 10:51:45.193555  function   \n",
              "94  feature envy    major  2019-03-27 10:55:26.305339  function   \n",
              "\n",
              "                                            code_name  \\\n",
              "39    org.apache.el.parser.ELParser#DynamicExpression   \n",
              "44  org.apache.tomcat.util.descriptor.web.ContextR...   \n",
              "47  org.apache.catalina.ha.session.DeltaSession#en...   \n",
              "85  org.apache.zeppelin.realm.jwt.KnoxJwtRealm#val...   \n",
              "94  org.apache.zookeeper.graph.JsonGenerator.JsonG...   \n",
              "\n",
              "                             repository  start_line  ...  \\\n",
              "39     git@github.com:apache/tomcat.git         140  ...   \n",
              "44     git@github.com:apache/tomcat.git          94  ...   \n",
              "47     git@github.com:apache/tomcat.git         412  ...   \n",
              "85   git@github.com:apache/zeppelin.git         130  ...   \n",
              "94  git@github.com:apache/zookeeper.git          75  ...   \n",
              "\n",
              "    CyclomaticComplexity MaxNesting CouplingIntensity  ParameterCount  \\\n",
              "39                   1.0        0.0               3.0             0.0   \n",
              "44                   1.0        0.0               4.0             0.0   \n",
              "47                   1.0        0.0               3.0             0.0   \n",
              "85                   1.0        0.0               5.0             0.0   \n",
              "94                  20.0        6.0               5.0             1.0   \n",
              "\n",
              "    MaxCallChain ChangingMethods  repeticoes  \\\n",
              "39           3.0             0.0         2.0   \n",
              "44           3.0             0.0         1.0   \n",
              "47           1.0             0.0         1.0   \n",
              "85           4.0             0.0         2.0   \n",
              "94           2.0             0.0         3.0   \n",
              "\n",
              "                                              arquivo  reviewer_cod  reviewer  \n",
              "39  download/tomcat_a9c1a0661198d9ba37c1facd8385fe...                  Junior  \n",
              "44  download/tomcat_a9c1a0661198d9ba37c1facd8385fe...                  Junior  \n",
              "47  download/tomcat_a9c1a0661198d9ba37c1facd8385fe...                  Junior  \n",
              "85  download/zeppelin_4219d552349f8f7f3e6de34505b8...                  Junior  \n",
              "94  download/zookeeper_07c3aaf3d723fb3144c0aedc0c2...                  Junior  \n",
              "\n",
              "[5 rows x 32 columns]"
            ]
          },
          "execution_count": 49,
          "metadata": {},
          "output_type": "execute_result"
        }
      ],
      "source": [
        "dataset.head()"
      ]
    },
    {
      "cell_type": "code",
      "execution_count": 50,
      "metadata": {
        "colab": {
          "base_uri": "https://localhost:8080/"
        },
        "id": "Lqk-Cp8gQxl6",
        "outputId": "17783849-cba2-4a6a-c00f-ed1f833d0b5f"
      },
      "outputs": [
        {
          "data": {
            "text/plain": [
              "(702, 32)"
            ]
          },
          "execution_count": 50,
          "metadata": {},
          "output_type": "execute_result"
        }
      ],
      "source": [
        "dataset.shape\n",
        "# antes (14739, 28)\n"
      ]
    },
    {
      "cell_type": "code",
      "execution_count": 51,
      "metadata": {
        "colab": {
          "base_uri": "https://localhost:8080/",
          "height": 49
        },
        "id": "WqZcdkU1ROgf",
        "outputId": "6f270d6e-a4f5-4e26-b4b3-3f3a5be43fdc"
      },
      "outputs": [
        {
          "data": {
            "text/html": [
              "<div>\n",
              "<style scoped>\n",
              "    .dataframe tbody tr th:only-of-type {\n",
              "        vertical-align: middle;\n",
              "    }\n",
              "\n",
              "    .dataframe tbody tr th {\n",
              "        vertical-align: top;\n",
              "    }\n",
              "\n",
              "    .dataframe thead th {\n",
              "        text-align: right;\n",
              "    }\n",
              "</style>\n",
              "<table border=\"1\" class=\"dataframe\">\n",
              "  <thead>\n",
              "    <tr style=\"text-align: right;\">\n",
              "      <th></th>\n",
              "      <th>smell</th>\n",
              "      <th>NumberOfAccessedVariables</th>\n",
              "    </tr>\n",
              "  </thead>\n",
              "  <tbody>\n",
              "  </tbody>\n",
              "</table>\n",
              "</div>"
            ],
            "text/plain": [
              "Empty DataFrame\n",
              "Columns: [smell, NumberOfAccessedVariables]\n",
              "Index: []"
            ]
          },
          "execution_count": 51,
          "metadata": {},
          "output_type": "execute_result"
        }
      ],
      "source": [
        "# nao tenho mais blob\n",
        "#dataset[['smell','NumberOfAccessedVariables']]\n",
        "dataset[dataset['smell']=='blob'][['smell','NumberOfAccessedVariables']]"
      ]
    },
    {
      "cell_type": "code",
      "execution_count": 52,
      "metadata": {
        "colab": {
          "base_uri": "https://localhost:8080/",
          "height": 49
        },
        "id": "NLEzgFuuSFmi",
        "outputId": "bd1944f3-1f80-4dd0-abd8-25bd3bedcd0a"
      },
      "outputs": [
        {
          "data": {
            "text/html": [
              "<div>\n",
              "<style scoped>\n",
              "    .dataframe tbody tr th:only-of-type {\n",
              "        vertical-align: middle;\n",
              "    }\n",
              "\n",
              "    .dataframe tbody tr th {\n",
              "        vertical-align: top;\n",
              "    }\n",
              "\n",
              "    .dataframe thead th {\n",
              "        text-align: right;\n",
              "    }\n",
              "</style>\n",
              "<table border=\"1\" class=\"dataframe\">\n",
              "  <thead>\n",
              "    <tr style=\"text-align: right;\">\n",
              "      <th></th>\n",
              "      <th>smell</th>\n",
              "      <th>NumberOfAccessedVariables</th>\n",
              "    </tr>\n",
              "  </thead>\n",
              "  <tbody>\n",
              "  </tbody>\n",
              "</table>\n",
              "</div>"
            ],
            "text/plain": [
              "Empty DataFrame\n",
              "Columns: [smell, NumberOfAccessedVariables]\n",
              "Index: []"
            ]
          },
          "execution_count": 52,
          "metadata": {},
          "output_type": "execute_result"
        }
      ],
      "source": [
        "# nao tenho mais data class\n",
        "#dataset[['smell','NumberOfAccessedVariables']]\n",
        "dataset[dataset['smell']=='data class'][['smell','NumberOfAccessedVariables']]"
      ]
    },
    {
      "cell_type": "code",
      "execution_count": 53,
      "metadata": {
        "colab": {
          "base_uri": "https://localhost:8080/",
          "height": 424
        },
        "id": "TQyq7g1USWYQ",
        "outputId": "5e410a7c-f760-4680-939c-361704bee933"
      },
      "outputs": [
        {
          "data": {
            "text/html": [
              "<div>\n",
              "<style scoped>\n",
              "    .dataframe tbody tr th:only-of-type {\n",
              "        vertical-align: middle;\n",
              "    }\n",
              "\n",
              "    .dataframe tbody tr th {\n",
              "        vertical-align: top;\n",
              "    }\n",
              "\n",
              "    .dataframe thead th {\n",
              "        text-align: right;\n",
              "    }\n",
              "</style>\n",
              "<table border=\"1\" class=\"dataframe\">\n",
              "  <thead>\n",
              "    <tr style=\"text-align: right;\">\n",
              "      <th></th>\n",
              "      <th>smell</th>\n",
              "      <th>NumberOfAccessedVariables</th>\n",
              "    </tr>\n",
              "  </thead>\n",
              "  <tbody>\n",
              "    <tr>\n",
              "      <th>44</th>\n",
              "      <td>feature envy</td>\n",
              "      <td>6.0</td>\n",
              "    </tr>\n",
              "    <tr>\n",
              "      <th>47</th>\n",
              "      <td>feature envy</td>\n",
              "      <td>4.0</td>\n",
              "    </tr>\n",
              "    <tr>\n",
              "      <th>85</th>\n",
              "      <td>feature envy</td>\n",
              "      <td>6.0</td>\n",
              "    </tr>\n",
              "    <tr>\n",
              "      <th>94</th>\n",
              "      <td>feature envy</td>\n",
              "      <td>38.0</td>\n",
              "    </tr>\n",
              "    <tr>\n",
              "      <th>113</th>\n",
              "      <td>feature envy</td>\n",
              "      <td>10.0</td>\n",
              "    </tr>\n",
              "    <tr>\n",
              "      <th>...</th>\n",
              "      <td>...</td>\n",
              "      <td>...</td>\n",
              "    </tr>\n",
              "    <tr>\n",
              "      <th>14640</th>\n",
              "      <td>feature envy</td>\n",
              "      <td>23.0</td>\n",
              "    </tr>\n",
              "    <tr>\n",
              "      <th>14656</th>\n",
              "      <td>feature envy</td>\n",
              "      <td>10.0</td>\n",
              "    </tr>\n",
              "    <tr>\n",
              "      <th>14668</th>\n",
              "      <td>feature envy</td>\n",
              "      <td>7.0</td>\n",
              "    </tr>\n",
              "    <tr>\n",
              "      <th>14704</th>\n",
              "      <td>feature envy</td>\n",
              "      <td>3.0</td>\n",
              "    </tr>\n",
              "    <tr>\n",
              "      <th>14706</th>\n",
              "      <td>feature envy</td>\n",
              "      <td>16.0</td>\n",
              "    </tr>\n",
              "  </tbody>\n",
              "</table>\n",
              "<p>304 rows × 2 columns</p>\n",
              "</div>"
            ],
            "text/plain": [
              "              smell  NumberOfAccessedVariables\n",
              "44     feature envy                        6.0\n",
              "47     feature envy                        4.0\n",
              "85     feature envy                        6.0\n",
              "94     feature envy                       38.0\n",
              "113    feature envy                       10.0\n",
              "...             ...                        ...\n",
              "14640  feature envy                       23.0\n",
              "14656  feature envy                       10.0\n",
              "14668  feature envy                        7.0\n",
              "14704  feature envy                        3.0\n",
              "14706  feature envy                       16.0\n",
              "\n",
              "[304 rows x 2 columns]"
            ]
          },
          "execution_count": 53,
          "metadata": {},
          "output_type": "execute_result"
        }
      ],
      "source": [
        "#'long method', 'feature envy']\n",
        "dataset[dataset['smell']=='feature envy'][['smell','NumberOfAccessedVariables']]\n",
        "#dataset[dataset['smell']=='long method'][['smell','NumberOfAccessedVariables']]"
      ]
    },
    {
      "cell_type": "code",
      "execution_count": 48,
      "metadata": {
        "colab": {
          "base_uri": "https://localhost:8080/",
          "height": 349
        },
        "id": "J5lXDH7X8F7Z",
        "outputId": "dd67775d-c22b-4b83-ca63-8aacb768c3bc"
      },
      "outputs": [
        {
          "data": {
            "image/png": "[encoded data removed]",
            "text/plain": [
              "<Figure size 432x288 with 1 Axes>"
            ]
          },
          "metadata": {
            "needs_background": "light"
          },
          "output_type": "display_data"
        }
      ],
      "source": [
        "plt.xlabel(\"Tipo\")\n",
        "plt.ylabel(\"Quantidade\")\n",
        "plt.title(\"Code Smell\")\n",
        "dataset['smell'].value_counts().plot.bar() #;\n",
        "plt.show()"
      ]
    },
    {
      "cell_type": "code",
      "execution_count": 54,
      "metadata": {
        "colab": {
          "base_uri": "https://localhost:8080/"
        },
        "id": "gLrW6UfI8Jf7",
        "outputId": "fe276b98-bbe6-43f3-e660-2d5b543a8fc8"
      },
      "outputs": [
        {
          "data": {
            "text/plain": [
              "long method     398\n",
              "feature envy    304\n",
              "Name: smell, dtype: int64"
            ]
          },
          "execution_count": 54,
          "metadata": {},
          "output_type": "execute_result"
        }
      ],
      "source": [
        "dataset['smell'].value_counts()"
      ]
    },
    {
      "cell_type": "code",
      "execution_count": 55,
      "metadata": {
        "colab": {
          "base_uri": "https://localhost:8080/"
        },
        "id": "_Ds5VJP78NtR",
        "outputId": "d45d9336-88c7-4c6b-9fbc-a58f214ac126"
      },
      "outputs": [
        {
          "data": {
            "text/plain": [
              "Middle     268\n",
              "Junior     209\n",
              "Senior     185\n",
              "unknown     40\n",
              "Name: reviewer, dtype: int64"
            ]
          },
          "execution_count": 55,
          "metadata": {},
          "output_type": "execute_result"
        }
      ],
      "source": [
        "dataset['reviewer'].value_counts()"
      ]
    },
    {
      "cell_type": "markdown",
      "metadata": {
        "id": "WsiRM6k9bgN_"
      },
      "source": [
        "# Removendo a coluna agglomeration"
      ]
    },
    {
      "cell_type": "code",
      "execution_count": null,
      "metadata": {
        "id": "kXfhOFNDblT2"
      },
      "outputs": [],
      "source": [
        "###"
      ]
    },
    {
      "cell_type": "markdown",
      "metadata": {
        "id": "SkA8aYfZV0Fp"
      },
      "source": [
        "# Codificando os nomes de smell e criando coluna label"
      ]
    },
    {
      "cell_type": "code",
      "execution_count": 56,
      "metadata": {
        "id": "azhd_lidvhty"
      },
      "outputs": [],
      "source": [
        "df = dataset"
      ]
    },
    {
      "cell_type": "code",
      "execution_count": 57,
      "metadata": {
        "colab": {
          "base_uri": "https://localhost:8080/"
        },
        "id": "MbDYm42KQ66b",
        "outputId": "068b391a-d88f-4ecf-ef75-9e8f7fc7773c"
      },
      "outputs": [
        {
          "data": {
            "text/plain": [
              "['feature envy', 'long method']"
            ]
          },
          "execution_count": 57,
          "metadata": {},
          "output_type": "execute_result"
        }
      ],
      "source": [
        "sorted(df['smell'].unique())"
      ]
    },
    {
      "cell_type": "code",
      "execution_count": null,
      "metadata": {},
      "outputs": [],
      "source": []
    },
    {
      "cell_type": "code",
      "execution_count": 66,
      "metadata": {
        "colab": {
          "base_uri": "https://localhost:8080/"
        },
        "id": "qSTDaDSgQojH",
        "outputId": "d044d3a3-d036-440c-a286-77cac4bd6a2a"
      },
      "outputs": [
        {
          "data": {
            "text/html": [
              "<style>#sk-container-id-4 {color: black;background-color: white;}#sk-container-id-4 pre{padding: 0;}#sk-container-id-4 div.sk-toggleable {background-color: white;}#sk-container-id-4 label.sk-toggleable__label {cursor: pointer;display: block;width: 100%;margin-bottom: 0;padding: 0.3em;box-sizing: border-box;text-align: center;}#sk-container-id-4 label.sk-toggleable__label-arrow:before {content: \"▸\";float: left;margin-right: 0.25em;color: #696969;}#sk-container-id-4 label.sk-toggleable__label-arrow:hover:before {color: black;}#sk-container-id-4 div.sk-estimator:hover label.sk-toggleable__label-arrow:before {color: black;}#sk-container-id-4 div.sk-toggleable__content {max-height: 0;max-width: 0;overflow: hidden;text-align: left;background-color: #f0f8ff;}#sk-container-id-4 div.sk-toggleable__content pre {margin: 0.2em;color: black;border-radius: 0.25em;background-color: #f0f8ff;}#sk-container-id-4 input.sk-toggleable__control:checked~div.sk-toggleable__content {max-height: 200px;max-width: 100%;overflow: auto;}#sk-container-id-4 input.sk-toggleable__control:checked~label.sk-toggleable__label-arrow:before {content: \"▾\";}#sk-container-id-4 div.sk-estimator input.sk-toggleable__control:checked~label.sk-toggleable__label {background-color: #d4ebff;}#sk-container-id-4 div.sk-label input.sk-toggleable__control:checked~label.sk-toggleable__label {background-color: #d4ebff;}#sk-container-id-4 input.sk-hidden--visually {border: 0;clip: rect(1px 1px 1px 1px);clip: rect(1px, 1px, 1px, 1px);height: 1px;margin: -1px;overflow: hidden;padding: 0;position: absolute;width: 1px;}#sk-container-id-4 div.sk-estimator {font-family: monospace;background-color: #f0f8ff;border: 1px dotted black;border-radius: 0.25em;box-sizing: border-box;margin-bottom: 0.5em;}#sk-container-id-4 div.sk-estimator:hover {background-color: #d4ebff;}#sk-container-id-4 div.sk-parallel-item::after {content: \"\";width: 100%;border-bottom: 1px solid gray;flex-grow: 1;}#sk-container-id-4 div.sk-label:hover label.sk-toggleable__label {background-color: #d4ebff;}#sk-container-id-4 div.sk-serial::before {content: \"\";position: absolute;border-left: 1px solid gray;box-sizing: border-box;top: 0;bottom: 0;left: 50%;z-index: 0;}#sk-container-id-4 div.sk-serial {display: flex;flex-direction: column;align-items: center;background-color: white;padding-right: 0.2em;padding-left: 0.2em;position: relative;}#sk-container-id-4 div.sk-item {position: relative;z-index: 1;}#sk-container-id-4 div.sk-parallel {display: flex;align-items: stretch;justify-content: center;background-color: white;position: relative;}#sk-container-id-4 div.sk-item::before, #sk-container-id-4 div.sk-parallel-item::before {content: \"\";position: absolute;border-left: 1px solid gray;box-sizing: border-box;top: 0;bottom: 0;left: 50%;z-index: -1;}#sk-container-id-4 div.sk-parallel-item {display: flex;flex-direction: column;z-index: 1;position: relative;background-color: white;}#sk-container-id-4 div.sk-parallel-item:first-child::after {align-self: flex-end;width: 50%;}#sk-container-id-4 div.sk-parallel-item:last-child::after {align-self: flex-start;width: 50%;}#sk-container-id-4 div.sk-parallel-item:only-child::after {width: 0;}#sk-container-id-4 div.sk-dashed-wrapped {border: 1px dashed gray;margin: 0 0.4em 0.5em 0.4em;box-sizing: border-box;padding-bottom: 0.4em;background-color: white;}#sk-container-id-4 div.sk-label label {font-family: monospace;font-weight: bold;display: inline-block;line-height: 1.2em;}#sk-container-id-4 div.sk-label-container {text-align: center;}#sk-container-id-4 div.sk-container {/* jupyter's `normalize.less` sets `[hidden] { display: none; }` but bootstrap.min.css set `[hidden] { display: none !important; }` so we also need the `!important` here to be able to override the default hidden behavior on the sphinx rendered scikit-learn.org. See: https://github.com/scikit-learn/scikit-learn/issues/21755 */display: inline-block !important;position: relative;}#sk-container-id-4 div.sk-text-repr-fallback {display: none;}</style><div id=\"sk-container-id-4\" class=\"sk-top-container\"><div class=\"sk-text-repr-fallback\"><pre>LabelEncoder()</pre><b>In a Jupyter environment, please rerun this cell to show the HTML representation or trust the notebook. <br />On GitHub, the HTML representation is unable to render, please try loading this page with nbviewer.org.</b></div><div class=\"sk-container\" hidden><div class=\"sk-item\"><div class=\"sk-estimator sk-toggleable\"><input class=\"sk-toggleable__control sk-hidden--visually\" id=\"sk-estimator-id-4\" type=\"checkbox\" checked><label for=\"sk-estimator-id-4\" class=\"sk-toggleable__label sk-toggleable__label-arrow\">LabelEncoder</label><div class=\"sk-toggleable__content\"><pre>LabelEncoder()</pre></div></div></div></div></div>"
            ],
            "text/plain": [
              "LabelEncoder()"
            ]
          },
          "execution_count": 66,
          "metadata": {},
          "output_type": "execute_result"
        }
      ],
      "source": [
        "# Import LabelEncoder\n",
        "import sklearn \n",
        "from sklearn import preprocessing\n",
        "modelo_label = preprocessing.LabelEncoder()\n",
        "modelo_label.fit(sorted(df['smell'].unique()))"
      ]
    },
    {
      "cell_type": "code",
      "execution_count": 63,
      "metadata": {
        "id": "B9P6KrGBQtCO"
      },
      "outputs": [],
      "source": [
        "df['label'] = modelo_label.fit_transform(df.smell)"
      ]
    },
    {
      "cell_type": "code",
      "execution_count": 64,
      "metadata": {
        "colab": {
          "base_uri": "https://localhost:8080/"
        },
        "id": "Y1XhpGY4Qtjd",
        "outputId": "4a9e3b05-7d21-4188-f2c2-50ccc74951a9"
      },
      "outputs": [
        {
          "data": {
            "text/plain": [
              "[0, 1]"
            ]
          },
          "execution_count": 64,
          "metadata": {},
          "output_type": "execute_result"
        }
      ],
      "source": [
        "sorted(df['label'].unique())"
      ]
    },
    {
      "cell_type": "code",
      "execution_count": 67,
      "metadata": {
        "colab": {
          "base_uri": "https://localhost:8080/",
          "height": 630
        },
        "id": "YGbnK3UoU5hv",
        "outputId": "ca5fb42c-6ee0-421d-eba5-5bd83d3c54b5"
      },
      "outputs": [
        {
          "data": {
            "text/html": [
              "<div>\n",
              "<style scoped>\n",
              "    .dataframe tbody tr th:only-of-type {\n",
              "        vertical-align: middle;\n",
              "    }\n",
              "\n",
              "    .dataframe tbody tr th {\n",
              "        vertical-align: top;\n",
              "    }\n",
              "\n",
              "    .dataframe thead th {\n",
              "        text-align: right;\n",
              "    }\n",
              "</style>\n",
              "<table border=\"1\" class=\"dataframe\">\n",
              "  <thead>\n",
              "    <tr style=\"text-align: right;\">\n",
              "      <th></th>\n",
              "      <th>commit_hash</th>\n",
              "      <th>sample_id</th>\n",
              "      <th>reviewer_id</th>\n",
              "      <th>smell</th>\n",
              "      <th>severity</th>\n",
              "      <th>review_timestamp</th>\n",
              "      <th>type</th>\n",
              "      <th>code_name</th>\n",
              "      <th>repository</th>\n",
              "      <th>start_line</th>\n",
              "      <th>...</th>\n",
              "      <th>MaxNesting</th>\n",
              "      <th>CouplingIntensity</th>\n",
              "      <th>ParameterCount</th>\n",
              "      <th>MaxCallChain</th>\n",
              "      <th>ChangingMethods</th>\n",
              "      <th>repeticoes</th>\n",
              "      <th>arquivo</th>\n",
              "      <th>reviewer_cod</th>\n",
              "      <th>reviewer</th>\n",
              "      <th>label</th>\n",
              "    </tr>\n",
              "  </thead>\n",
              "  <tbody>\n",
              "    <tr>\n",
              "      <th>5215</th>\n",
              "      <td>351623a86924dab9c565e08e8cecfe151522c448</td>\n",
              "      <td>5602164</td>\n",
              "      <td>25</td>\n",
              "      <td>long method</td>\n",
              "      <td>major</td>\n",
              "      <td>2019-04-17 10:41:53.835501</td>\n",
              "      <td>function</td>\n",
              "      <td>org.apache.poi.xssf.model.TestCommentsTable#wr...</td>\n",
              "      <td>git@github.com:apache/poi.git</td>\n",
              "      <td>128</td>\n",
              "      <td>...</td>\n",
              "      <td>1.0</td>\n",
              "      <td>7.0</td>\n",
              "      <td>0.0</td>\n",
              "      <td>3.0</td>\n",
              "      <td>0.0</td>\n",
              "      <td>2.0</td>\n",
              "      <td>download/poi_351623a86924dab9c565e08e8cecfe151...</td>\n",
              "      <td></td>\n",
              "      <td>Junior</td>\n",
              "      <td>1</td>\n",
              "    </tr>\n",
              "    <tr>\n",
              "      <th>10419</th>\n",
              "      <td>7a7c407ea41477aae8508bfe871b4e9a67e1b277</td>\n",
              "      <td>8653310</td>\n",
              "      <td>3</td>\n",
              "      <td>feature envy</td>\n",
              "      <td>minor</td>\n",
              "      <td>2019-08-01 23:50:13.947147</td>\n",
              "      <td>function</td>\n",
              "      <td>org.apache.ignite.internal.processors.query.h2...</td>\n",
              "      <td>git@github.com:apache/ignite.git</td>\n",
              "      <td>105</td>\n",
              "      <td>...</td>\n",
              "      <td>1.0</td>\n",
              "      <td>14.0</td>\n",
              "      <td>0.0</td>\n",
              "      <td>4.0</td>\n",
              "      <td>0.0</td>\n",
              "      <td>3.0</td>\n",
              "      <td>download/ignite_7a7c407ea41477aae8508bfe871b4e...</td>\n",
              "      <td></td>\n",
              "      <td>Middle</td>\n",
              "      <td>0</td>\n",
              "    </tr>\n",
              "    <tr>\n",
              "      <th>9126</th>\n",
              "      <td>4131c6e30f2e0eb1feb85e0f7576531d4e830468</td>\n",
              "      <td>5790828</td>\n",
              "      <td>10</td>\n",
              "      <td>feature envy</td>\n",
              "      <td>minor</td>\n",
              "      <td>2019-07-24 11:04:57.054621</td>\n",
              "      <td>function</td>\n",
              "      <td>org.apache.tika.parser.microsoft.WordExtractor...</td>\n",
              "      <td>git@github.com:apache/tika.git</td>\n",
              "      <td>248</td>\n",
              "      <td>...</td>\n",
              "      <td>0.0</td>\n",
              "      <td>3.0</td>\n",
              "      <td>0.0</td>\n",
              "      <td>2.0</td>\n",
              "      <td>0.0</td>\n",
              "      <td>1.0</td>\n",
              "      <td>download/tika_4131c6e30f2e0eb1feb85e0f7576531d...</td>\n",
              "      <td></td>\n",
              "      <td>Middle</td>\n",
              "      <td>0</td>\n",
              "    </tr>\n",
              "    <tr>\n",
              "      <th>14536</th>\n",
              "      <td>52293d20268de7c98833846ded2b70d6476773de</td>\n",
              "      <td>3942097</td>\n",
              "      <td>4</td>\n",
              "      <td>long method</td>\n",
              "      <td>major</td>\n",
              "      <td>2019-09-12 19:45:48.299469</td>\n",
              "      <td>function</td>\n",
              "      <td>org.apache.aries.spifly.statictool.Main.weaveD...</td>\n",
              "      <td>git@github.com:apache/aries.git</td>\n",
              "      <td>173</td>\n",
              "      <td>...</td>\n",
              "      <td>3.0</td>\n",
              "      <td>4.0</td>\n",
              "      <td>4.0</td>\n",
              "      <td>2.0</td>\n",
              "      <td>3.0</td>\n",
              "      <td>3.0</td>\n",
              "      <td>download/aries_52293d20268de7c98833846ded2b70d...</td>\n",
              "      <td></td>\n",
              "      <td>Senior</td>\n",
              "      <td>1</td>\n",
              "    </tr>\n",
              "    <tr>\n",
              "      <th>8658</th>\n",
              "      <td>caced35327f6b6d6eeac2a13543f3c458e902101</td>\n",
              "      <td>4576061</td>\n",
              "      <td>13</td>\n",
              "      <td>long method</td>\n",
              "      <td>major</td>\n",
              "      <td>2019-07-23 15:20:49.365058</td>\n",
              "      <td>function</td>\n",
              "      <td>org.apache.fop.fo.flow.Leader#bind PropertyList</td>\n",
              "      <td>git@github.com:apache/fop.git</td>\n",
              "      <td>72</td>\n",
              "      <td>...</td>\n",
              "      <td>3.0</td>\n",
              "      <td>0.0</td>\n",
              "      <td>1.0</td>\n",
              "      <td>2.0</td>\n",
              "      <td>2.0</td>\n",
              "      <td>1.0</td>\n",
              "      <td>download/fop_caced35327f6b6d6eeac2a13543f3c458...</td>\n",
              "      <td></td>\n",
              "      <td>Junior</td>\n",
              "      <td>1</td>\n",
              "    </tr>\n",
              "    <tr>\n",
              "      <th>13562</th>\n",
              "      <td>d21933b313aff812fe5188b57bf572a9ad649148</td>\n",
              "      <td>5952032</td>\n",
              "      <td>20</td>\n",
              "      <td>long method</td>\n",
              "      <td>minor</td>\n",
              "      <td>2019-09-04 08:08:40.109075</td>\n",
              "      <td>function</td>\n",
              "      <td>org.apache.openejb.core.interceptor.Reflection...</td>\n",
              "      <td>git@github.com:apache/tomee.git</td>\n",
              "      <td>153</td>\n",
              "      <td>...</td>\n",
              "      <td>1.0</td>\n",
              "      <td>0.0</td>\n",
              "      <td>1.0</td>\n",
              "      <td>1.0</td>\n",
              "      <td>0.0</td>\n",
              "      <td>1.0</td>\n",
              "      <td>download/tomee_d21933b313aff812fe5188b57bf572a...</td>\n",
              "      <td></td>\n",
              "      <td>Senior</td>\n",
              "      <td>1</td>\n",
              "    </tr>\n",
              "    <tr>\n",
              "      <th>7930</th>\n",
              "      <td>a956ff77a8448e5f2c12f6695fec608348b5ab60</td>\n",
              "      <td>4062999</td>\n",
              "      <td>12</td>\n",
              "      <td>feature envy</td>\n",
              "      <td>minor</td>\n",
              "      <td>2019-07-19 12:28:54.528983</td>\n",
              "      <td>function</td>\n",
              "      <td>org.apache.beam.runners.dataflow.worker.Assign...</td>\n",
              "      <td>git@github.com:apache/beam.git</td>\n",
              "      <td>93</td>\n",
              "      <td>...</td>\n",
              "      <td>1.0</td>\n",
              "      <td>5.0</td>\n",
              "      <td>1.0</td>\n",
              "      <td>4.0</td>\n",
              "      <td>0.0</td>\n",
              "      <td>2.0</td>\n",
              "      <td>download/beam_a956ff77a8448e5f2c12f6695fec6083...</td>\n",
              "      <td></td>\n",
              "      <td>Middle</td>\n",
              "      <td>0</td>\n",
              "    </tr>\n",
              "    <tr>\n",
              "      <th>7466</th>\n",
              "      <td>3f6e0265f5b476ff90a660397ce83992944142c4</td>\n",
              "      <td>6266221</td>\n",
              "      <td>3</td>\n",
              "      <td>long method</td>\n",
              "      <td>minor</td>\n",
              "      <td>2019-07-18 00:37:30.989048</td>\n",
              "      <td>function</td>\n",
              "      <td>org.eclipse.ice.tests.datastructures.MasterDet...</td>\n",
              "      <td>git@github.com:eclipse/ice.git</td>\n",
              "      <td>201</td>\n",
              "      <td>...</td>\n",
              "      <td>2.0</td>\n",
              "      <td>1.0</td>\n",
              "      <td>1.0</td>\n",
              "      <td>2.0</td>\n",
              "      <td>0.0</td>\n",
              "      <td>1.0</td>\n",
              "      <td>download/ice_3f6e0265f5b476ff90a660397ce839929...</td>\n",
              "      <td></td>\n",
              "      <td>Middle</td>\n",
              "      <td>1</td>\n",
              "    </tr>\n",
              "    <tr>\n",
              "      <th>9290</th>\n",
              "      <td>7a7c407ea41477aae8508bfe871b4e9a67e1b277</td>\n",
              "      <td>8655527</td>\n",
              "      <td>4</td>\n",
              "      <td>feature envy</td>\n",
              "      <td>minor</td>\n",
              "      <td>2019-07-24 13:25:26.092528</td>\n",
              "      <td>function</td>\n",
              "      <td>org.apache.ignite.internal.processors.platform...</td>\n",
              "      <td>git@github.com:apache/ignite.git</td>\n",
              "      <td>185</td>\n",
              "      <td>...</td>\n",
              "      <td>0.0</td>\n",
              "      <td>5.0</td>\n",
              "      <td>4.0</td>\n",
              "      <td>2.0</td>\n",
              "      <td>4.0</td>\n",
              "      <td>2.0</td>\n",
              "      <td>download/ignite_7a7c407ea41477aae8508bfe871b4e...</td>\n",
              "      <td></td>\n",
              "      <td>Senior</td>\n",
              "      <td>0</td>\n",
              "    </tr>\n",
              "    <tr>\n",
              "      <th>7438</th>\n",
              "      <td>310007cc1c7eb5415f93bed67d5553bc70980820</td>\n",
              "      <td>4336814</td>\n",
              "      <td>3</td>\n",
              "      <td>long method</td>\n",
              "      <td>minor</td>\n",
              "      <td>2019-07-18 00:35:18.713775</td>\n",
              "      <td>function</td>\n",
              "      <td>org.apache.directory.server.core.partition.imp...</td>\n",
              "      <td>git@github.com:apache/directory-server.git</td>\n",
              "      <td>174</td>\n",
              "      <td>...</td>\n",
              "      <td>2.0</td>\n",
              "      <td>0.0</td>\n",
              "      <td>0.0</td>\n",
              "      <td>1.0</td>\n",
              "      <td>0.0</td>\n",
              "      <td>1.0</td>\n",
              "      <td>download/directory-server_310007cc1c7eb5415f93...</td>\n",
              "      <td></td>\n",
              "      <td>Middle</td>\n",
              "      <td>1</td>\n",
              "    </tr>\n",
              "  </tbody>\n",
              "</table>\n",
              "<p>10 rows × 33 columns</p>\n",
              "</div>"
            ],
            "text/plain": [
              "                                    commit_hash  sample_id  reviewer_id  \\\n",
              "5215   351623a86924dab9c565e08e8cecfe151522c448    5602164           25   \n",
              "10419  7a7c407ea41477aae8508bfe871b4e9a67e1b277    8653310            3   \n",
              "9126   4131c6e30f2e0eb1feb85e0f7576531d4e830468    5790828           10   \n",
              "14536  52293d20268de7c98833846ded2b70d6476773de    3942097            4   \n",
              "8658   caced35327f6b6d6eeac2a13543f3c458e902101    4576061           13   \n",
              "13562  d21933b313aff812fe5188b57bf572a9ad649148    5952032           20   \n",
              "7930   a956ff77a8448e5f2c12f6695fec608348b5ab60    4062999           12   \n",
              "7466   3f6e0265f5b476ff90a660397ce83992944142c4    6266221            3   \n",
              "9290   7a7c407ea41477aae8508bfe871b4e9a67e1b277    8655527            4   \n",
              "7438   310007cc1c7eb5415f93bed67d5553bc70980820    4336814            3   \n",
              "\n",
              "              smell severity            review_timestamp      type  \\\n",
              "5215    long method    major  2019-04-17 10:41:53.835501  function   \n",
              "10419  feature envy    minor  2019-08-01 23:50:13.947147  function   \n",
              "9126   feature envy    minor  2019-07-24 11:04:57.054621  function   \n",
              "14536   long method    major  2019-09-12 19:45:48.299469  function   \n",
              "8658    long method    major  2019-07-23 15:20:49.365058  function   \n",
              "13562   long method    minor  2019-09-04 08:08:40.109075  function   \n",
              "7930   feature envy    minor  2019-07-19 12:28:54.528983  function   \n",
              "7466    long method    minor  2019-07-18 00:37:30.989048  function   \n",
              "9290   feature envy    minor  2019-07-24 13:25:26.092528  function   \n",
              "7438    long method    minor  2019-07-18 00:35:18.713775  function   \n",
              "\n",
              "                                               code_name  \\\n",
              "5215   org.apache.poi.xssf.model.TestCommentsTable#wr...   \n",
              "10419  org.apache.ignite.internal.processors.query.h2...   \n",
              "9126   org.apache.tika.parser.microsoft.WordExtractor...   \n",
              "14536  org.apache.aries.spifly.statictool.Main.weaveD...   \n",
              "8658     org.apache.fop.fo.flow.Leader#bind PropertyList   \n",
              "13562  org.apache.openejb.core.interceptor.Reflection...   \n",
              "7930   org.apache.beam.runners.dataflow.worker.Assign...   \n",
              "7466   org.eclipse.ice.tests.datastructures.MasterDet...   \n",
              "9290   org.apache.ignite.internal.processors.platform...   \n",
              "7438   org.apache.directory.server.core.partition.imp...   \n",
              "\n",
              "                                       repository  start_line  ...  \\\n",
              "5215                git@github.com:apache/poi.git         128  ...   \n",
              "10419            git@github.com:apache/ignite.git         105  ...   \n",
              "9126               git@github.com:apache/tika.git         248  ...   \n",
              "14536             git@github.com:apache/aries.git         173  ...   \n",
              "8658                git@github.com:apache/fop.git          72  ...   \n",
              "13562             git@github.com:apache/tomee.git         153  ...   \n",
              "7930               git@github.com:apache/beam.git          93  ...   \n",
              "7466               git@github.com:eclipse/ice.git         201  ...   \n",
              "9290             git@github.com:apache/ignite.git         185  ...   \n",
              "7438   git@github.com:apache/directory-server.git         174  ...   \n",
              "\n",
              "       MaxNesting CouplingIntensity ParameterCount  MaxCallChain  \\\n",
              "5215          1.0               7.0            0.0           3.0   \n",
              "10419         1.0              14.0            0.0           4.0   \n",
              "9126          0.0               3.0            0.0           2.0   \n",
              "14536         3.0               4.0            4.0           2.0   \n",
              "8658          3.0               0.0            1.0           2.0   \n",
              "13562         1.0               0.0            1.0           1.0   \n",
              "7930          1.0               5.0            1.0           4.0   \n",
              "7466          2.0               1.0            1.0           2.0   \n",
              "9290          0.0               5.0            4.0           2.0   \n",
              "7438          2.0               0.0            0.0           1.0   \n",
              "\n",
              "       ChangingMethods repeticoes  \\\n",
              "5215               0.0        2.0   \n",
              "10419              0.0        3.0   \n",
              "9126               0.0        1.0   \n",
              "14536              3.0        3.0   \n",
              "8658               2.0        1.0   \n",
              "13562              0.0        1.0   \n",
              "7930               0.0        2.0   \n",
              "7466               0.0        1.0   \n",
              "9290               4.0        2.0   \n",
              "7438               0.0        1.0   \n",
              "\n",
              "                                                 arquivo reviewer_cod  \\\n",
              "5215   download/poi_351623a86924dab9c565e08e8cecfe151...                \n",
              "10419  download/ignite_7a7c407ea41477aae8508bfe871b4e...                \n",
              "9126   download/tika_4131c6e30f2e0eb1feb85e0f7576531d...                \n",
              "14536  download/aries_52293d20268de7c98833846ded2b70d...                \n",
              "8658   download/fop_caced35327f6b6d6eeac2a13543f3c458...                \n",
              "13562  download/tomee_d21933b313aff812fe5188b57bf572a...                \n",
              "7930   download/beam_a956ff77a8448e5f2c12f6695fec6083...                \n",
              "7466   download/ice_3f6e0265f5b476ff90a660397ce839929...                \n",
              "9290   download/ignite_7a7c407ea41477aae8508bfe871b4e...                \n",
              "7438   download/directory-server_310007cc1c7eb5415f93...                \n",
              "\n",
              "       reviewer  label  \n",
              "5215     Junior      1  \n",
              "10419    Middle      0  \n",
              "9126     Middle      0  \n",
              "14536    Senior      1  \n",
              "8658     Junior      1  \n",
              "13562    Senior      1  \n",
              "7930     Middle      0  \n",
              "7466     Middle      1  \n",
              "9290     Senior      0  \n",
              "7438     Middle      1  \n",
              "\n",
              "[10 rows x 33 columns]"
            ]
          },
          "execution_count": 67,
          "metadata": {},
          "output_type": "execute_result"
        }
      ],
      "source": [
        "# conferindo...\n",
        "df.sample(10)"
      ]
    },
    {
      "cell_type": "markdown",
      "metadata": {
        "id": "jcIfyoBjWE3C"
      },
      "source": [
        "# Codificando os tipos de smell e criando coluna cod_type\n",
        "\n",
        "# Nao foi considerado, pois para feature env e log method só tem um valor (function)"
      ]
    },
    {
      "cell_type": "code",
      "execution_count": 68,
      "metadata": {
        "colab": {
          "base_uri": "https://localhost:8080/"
        },
        "id": "m_xj4IBlWIAo",
        "outputId": "8bcf2adc-9fa6-4d48-cc38-b8f7c3d6830e"
      },
      "outputs": [
        {
          "data": {
            "text/plain": [
              "['function']"
            ]
          },
          "execution_count": 68,
          "metadata": {},
          "output_type": "execute_result"
        }
      ],
      "source": [
        "sorted(df['type'].unique())"
      ]
    },
    {
      "cell_type": "code",
      "execution_count": 69,
      "metadata": {
        "id": "Jx4nl05AWXvY"
      },
      "outputs": [],
      "source": [
        "#modelo_type = preprocessing.LabelEncoder()\n",
        "#modelo_type.fit(sorted(df['type'].unique()))"
      ]
    },
    {
      "cell_type": "code",
      "execution_count": 70,
      "metadata": {
        "id": "2QUBLFa5Wg0h"
      },
      "outputs": [],
      "source": [
        "#df['cod_type'] = modelo_type.fit_transform(df.type)"
      ]
    },
    {
      "cell_type": "code",
      "execution_count": null,
      "metadata": {
        "id": "sbhCHTrhXmMs"
      },
      "outputs": [],
      "source": [
        "#sorted(df['cod_type'].unique())"
      ]
    },
    {
      "cell_type": "code",
      "execution_count": null,
      "metadata": {
        "id": "j_Gp6yyJXqj1"
      },
      "outputs": [],
      "source": [
        "# conferindo\n",
        "#df.sample(10)"
      ]
    },
    {
      "cell_type": "markdown",
      "metadata": {
        "id": "iKnxB3vMb5KZ"
      },
      "source": [
        "# Codificando as severidades de smell e criando coluna cod_severity"
      ]
    },
    {
      "cell_type": "code",
      "execution_count": 71,
      "metadata": {
        "colab": {
          "base_uri": "https://localhost:8080/"
        },
        "id": "dm592XAaX5tz",
        "outputId": "932d8f73-a9bd-4d53-a887-117553b061e4"
      },
      "outputs": [
        {
          "data": {
            "text/plain": [
              "['critical', 'major', 'minor']"
            ]
          },
          "execution_count": 71,
          "metadata": {},
          "output_type": "execute_result"
        }
      ],
      "source": [
        "sorted(df['severity'].unique())"
      ]
    },
    {
      "cell_type": "code",
      "execution_count": 72,
      "metadata": {
        "colab": {
          "base_uri": "https://localhost:8080/"
        },
        "id": "JyseR2V2YAqc",
        "outputId": "53fd4e8f-f16a-45c7-c1a6-4a9ab28ceb8c"
      },
      "outputs": [
        {
          "data": {
            "text/html": [
              "<style>#sk-container-id-5 {color: black;background-color: white;}#sk-container-id-5 pre{padding: 0;}#sk-container-id-5 div.sk-toggleable {background-color: white;}#sk-container-id-5 label.sk-toggleable__label {cursor: pointer;display: block;width: 100%;margin-bottom: 0;padding: 0.3em;box-sizing: border-box;text-align: center;}#sk-container-id-5 label.sk-toggleable__label-arrow:before {content: \"▸\";float: left;margin-right: 0.25em;color: #696969;}#sk-container-id-5 label.sk-toggleable__label-arrow:hover:before {color: black;}#sk-container-id-5 div.sk-estimator:hover label.sk-toggleable__label-arrow:before {color: black;}#sk-container-id-5 div.sk-toggleable__content {max-height: 0;max-width: 0;overflow: hidden;text-align: left;background-color: #f0f8ff;}#sk-container-id-5 div.sk-toggleable__content pre {margin: 0.2em;color: black;border-radius: 0.25em;background-color: #f0f8ff;}#sk-container-id-5 input.sk-toggleable__control:checked~div.sk-toggleable__content {max-height: 200px;max-width: 100%;overflow: auto;}#sk-container-id-5 input.sk-toggleable__control:checked~label.sk-toggleable__label-arrow:before {content: \"▾\";}#sk-container-id-5 div.sk-estimator input.sk-toggleable__control:checked~label.sk-toggleable__label {background-color: #d4ebff;}#sk-container-id-5 div.sk-label input.sk-toggleable__control:checked~label.sk-toggleable__label {background-color: #d4ebff;}#sk-container-id-5 input.sk-hidden--visually {border: 0;clip: rect(1px 1px 1px 1px);clip: rect(1px, 1px, 1px, 1px);height: 1px;margin: -1px;overflow: hidden;padding: 0;position: absolute;width: 1px;}#sk-container-id-5 div.sk-estimator {font-family: monospace;background-color: #f0f8ff;border: 1px dotted black;border-radius: 0.25em;box-sizing: border-box;margin-bottom: 0.5em;}#sk-container-id-5 div.sk-estimator:hover {background-color: #d4ebff;}#sk-container-id-5 div.sk-parallel-item::after {content: \"\";width: 100%;border-bottom: 1px solid gray;flex-grow: 1;}#sk-container-id-5 div.sk-label:hover label.sk-toggleable__label {background-color: #d4ebff;}#sk-container-id-5 div.sk-serial::before {content: \"\";position: absolute;border-left: 1px solid gray;box-sizing: border-box;top: 0;bottom: 0;left: 50%;z-index: 0;}#sk-container-id-5 div.sk-serial {display: flex;flex-direction: column;align-items: center;background-color: white;padding-right: 0.2em;padding-left: 0.2em;position: relative;}#sk-container-id-5 div.sk-item {position: relative;z-index: 1;}#sk-container-id-5 div.sk-parallel {display: flex;align-items: stretch;justify-content: center;background-color: white;position: relative;}#sk-container-id-5 div.sk-item::before, #sk-container-id-5 div.sk-parallel-item::before {content: \"\";position: absolute;border-left: 1px solid gray;box-sizing: border-box;top: 0;bottom: 0;left: 50%;z-index: -1;}#sk-container-id-5 div.sk-parallel-item {display: flex;flex-direction: column;z-index: 1;position: relative;background-color: white;}#sk-container-id-5 div.sk-parallel-item:first-child::after {align-self: flex-end;width: 50%;}#sk-container-id-5 div.sk-parallel-item:last-child::after {align-self: flex-start;width: 50%;}#sk-container-id-5 div.sk-parallel-item:only-child::after {width: 0;}#sk-container-id-5 div.sk-dashed-wrapped {border: 1px dashed gray;margin: 0 0.4em 0.5em 0.4em;box-sizing: border-box;padding-bottom: 0.4em;background-color: white;}#sk-container-id-5 div.sk-label label {font-family: monospace;font-weight: bold;display: inline-block;line-height: 1.2em;}#sk-container-id-5 div.sk-label-container {text-align: center;}#sk-container-id-5 div.sk-container {/* jupyter's `normalize.less` sets `[hidden] { display: none; }` but bootstrap.min.css set `[hidden] { display: none !important; }` so we also need the `!important` here to be able to override the default hidden behavior on the sphinx rendered scikit-learn.org. See: https://github.com/scikit-learn/scikit-learn/issues/21755 */display: inline-block !important;position: relative;}#sk-container-id-5 div.sk-text-repr-fallback {display: none;}</style><div id=\"sk-container-id-5\" class=\"sk-top-container\"><div class=\"sk-text-repr-fallback\"><pre>LabelEncoder()</pre><b>In a Jupyter environment, please rerun this cell to show the HTML representation or trust the notebook. <br />On GitHub, the HTML representation is unable to render, please try loading this page with nbviewer.org.</b></div><div class=\"sk-container\" hidden><div class=\"sk-item\"><div class=\"sk-estimator sk-toggleable\"><input class=\"sk-toggleable__control sk-hidden--visually\" id=\"sk-estimator-id-5\" type=\"checkbox\" checked><label for=\"sk-estimator-id-5\" class=\"sk-toggleable__label sk-toggleable__label-arrow\">LabelEncoder</label><div class=\"sk-toggleable__content\"><pre>LabelEncoder()</pre></div></div></div></div></div>"
            ],
            "text/plain": [
              "LabelEncoder()"
            ]
          },
          "execution_count": 72,
          "metadata": {},
          "output_type": "execute_result"
        }
      ],
      "source": [
        "modelo_severity = preprocessing.LabelEncoder()\n",
        "modelo_severity.fit(sorted(df['severity'].unique()))"
      ]
    },
    {
      "cell_type": "code",
      "execution_count": 73,
      "metadata": {
        "id": "wUV0-YaYYRe2"
      },
      "outputs": [],
      "source": [
        "df['cod_severity'] = modelo_severity.fit_transform(df.severity)"
      ]
    },
    {
      "cell_type": "code",
      "execution_count": 74,
      "metadata": {
        "colab": {
          "base_uri": "https://localhost:8080/"
        },
        "id": "jlV1hLcYczLj",
        "outputId": "c5212819-eb87-4759-cfb2-54a4984b674c"
      },
      "outputs": [
        {
          "data": {
            "text/plain": [
              "[0, 1, 2]"
            ]
          },
          "execution_count": 74,
          "metadata": {},
          "output_type": "execute_result"
        }
      ],
      "source": [
        "sorted(df['cod_severity'].unique())"
      ]
    },
    {
      "cell_type": "code",
      "execution_count": 75,
      "metadata": {
        "colab": {
          "base_uri": "https://localhost:8080/",
          "height": 630
        },
        "id": "IiMrznjYYRWC",
        "outputId": "5bb15c18-41ca-4bd2-bfa8-4b6af8cc1ac9"
      },
      "outputs": [
        {
          "data": {
            "text/html": [
              "<div>\n",
              "<style scoped>\n",
              "    .dataframe tbody tr th:only-of-type {\n",
              "        vertical-align: middle;\n",
              "    }\n",
              "\n",
              "    .dataframe tbody tr th {\n",
              "        vertical-align: top;\n",
              "    }\n",
              "\n",
              "    .dataframe thead th {\n",
              "        text-align: right;\n",
              "    }\n",
              "</style>\n",
              "<table border=\"1\" class=\"dataframe\">\n",
              "  <thead>\n",
              "    <tr style=\"text-align: right;\">\n",
              "      <th></th>\n",
              "      <th>commit_hash</th>\n",
              "      <th>sample_id</th>\n",
              "      <th>reviewer_id</th>\n",
              "      <th>smell</th>\n",
              "      <th>severity</th>\n",
              "      <th>review_timestamp</th>\n",
              "      <th>type</th>\n",
              "      <th>code_name</th>\n",
              "      <th>repository</th>\n",
              "      <th>start_line</th>\n",
              "      <th>...</th>\n",
              "      <th>CouplingIntensity</th>\n",
              "      <th>ParameterCount</th>\n",
              "      <th>MaxCallChain</th>\n",
              "      <th>ChangingMethods</th>\n",
              "      <th>repeticoes</th>\n",
              "      <th>arquivo</th>\n",
              "      <th>reviewer_cod</th>\n",
              "      <th>reviewer</th>\n",
              "      <th>label</th>\n",
              "      <th>cod_severity</th>\n",
              "    </tr>\n",
              "  </thead>\n",
              "  <tbody>\n",
              "    <tr>\n",
              "      <th>149</th>\n",
              "      <td>c5498c2ac562cd8a2fc79a6bb0446d291f05a201</td>\n",
              "      <td>6183429</td>\n",
              "      <td>7</td>\n",
              "      <td>feature envy</td>\n",
              "      <td>major</td>\n",
              "      <td>2019-03-27 11:07:12.693485</td>\n",
              "      <td>function</td>\n",
              "      <td>org.eclipse.che.ide.util.dom.DomUtils.getSibli...</td>\n",
              "      <td>git@github.com:eclipse/che.git</td>\n",
              "      <td>171</td>\n",
              "      <td>...</td>\n",
              "      <td>4.0</td>\n",
              "      <td>1.0</td>\n",
              "      <td>4.0</td>\n",
              "      <td>1.0</td>\n",
              "      <td>2.0</td>\n",
              "      <td>download/che_c5498c2ac562cd8a2fc79a6bb0446d291...</td>\n",
              "      <td></td>\n",
              "      <td>Junior</td>\n",
              "      <td>0</td>\n",
              "      <td>1</td>\n",
              "    </tr>\n",
              "    <tr>\n",
              "      <th>973</th>\n",
              "      <td>3a0f309e2c9fdbbf7fb2d348be861528177f8555</td>\n",
              "      <td>7588699</td>\n",
              "      <td>12</td>\n",
              "      <td>feature envy</td>\n",
              "      <td>critical</td>\n",
              "      <td>2019-03-29 13:55:18.654152</td>\n",
              "      <td>function</td>\n",
              "      <td>org.springframework.context.annotation.Configu...</td>\n",
              "      <td>git@github.com:spring-projects/spring-framewor...</td>\n",
              "      <td>426</td>\n",
              "      <td>...</td>\n",
              "      <td>1.0</td>\n",
              "      <td>0.0</td>\n",
              "      <td>2.0</td>\n",
              "      <td>0.0</td>\n",
              "      <td>2.0</td>\n",
              "      <td>download/spring-framework_3a0f309e2c9fdbbf7fb2...</td>\n",
              "      <td></td>\n",
              "      <td>Middle</td>\n",
              "      <td>0</td>\n",
              "      <td>0</td>\n",
              "    </tr>\n",
              "    <tr>\n",
              "      <th>10977</th>\n",
              "      <td>caced35327f6b6d6eeac2a13543f3c458e902101</td>\n",
              "      <td>4568919</td>\n",
              "      <td>3</td>\n",
              "      <td>long method</td>\n",
              "      <td>minor</td>\n",
              "      <td>2019-08-05 12:35:28.705123</td>\n",
              "      <td>function</td>\n",
              "      <td>org.apache.fop.fonts.truetype.OpenFont#readFon...</td>\n",
              "      <td>git@github.com:apache/fop.git</td>\n",
              "      <td>813</td>\n",
              "      <td>...</td>\n",
              "      <td>5.0</td>\n",
              "      <td>6.0</td>\n",
              "      <td>2.0</td>\n",
              "      <td>0.0</td>\n",
              "      <td>2.0</td>\n",
              "      <td>download/fop_caced35327f6b6d6eeac2a13543f3c458...</td>\n",
              "      <td></td>\n",
              "      <td>Middle</td>\n",
              "      <td>1</td>\n",
              "      <td>2</td>\n",
              "    </tr>\n",
              "    <tr>\n",
              "      <th>9808</th>\n",
              "      <td>3a0f309e2c9fdbbf7fb2d348be861528177f8555</td>\n",
              "      <td>7588956</td>\n",
              "      <td>30</td>\n",
              "      <td>feature envy</td>\n",
              "      <td>major</td>\n",
              "      <td>2019-07-26 09:53:37.248526</td>\n",
              "      <td>function</td>\n",
              "      <td>org.springframework.web.servlet.support.BindSt...</td>\n",
              "      <td>git@github.com:spring-projects/spring-framewor...</td>\n",
              "      <td>96</td>\n",
              "      <td>...</td>\n",
              "      <td>6.0</td>\n",
              "      <td>0.0</td>\n",
              "      <td>2.0</td>\n",
              "      <td>0.0</td>\n",
              "      <td>2.0</td>\n",
              "      <td>download/spring-framework_3a0f309e2c9fdbbf7fb2...</td>\n",
              "      <td></td>\n",
              "      <td>unknown</td>\n",
              "      <td>0</td>\n",
              "      <td>1</td>\n",
              "    </tr>\n",
              "    <tr>\n",
              "      <th>3048</th>\n",
              "      <td>470e5e9f5de9ba1b6149dec60e87d3a04270eda3</td>\n",
              "      <td>4436948</td>\n",
              "      <td>16</td>\n",
              "      <td>feature envy</td>\n",
              "      <td>minor</td>\n",
              "      <td>2019-04-05 13:12:40.065600</td>\n",
              "      <td>function</td>\n",
              "      <td>org.apache.falcon.entity.FeedHelper.getImportI...</td>\n",
              "      <td>git@github.com:apache/falcon.git</td>\n",
              "      <td>932</td>\n",
              "      <td>...</td>\n",
              "      <td>6.0</td>\n",
              "      <td>0.0</td>\n",
              "      <td>4.0</td>\n",
              "      <td>0.0</td>\n",
              "      <td>2.0</td>\n",
              "      <td>download/falcon_470e5e9f5de9ba1b6149dec60e87d3...</td>\n",
              "      <td></td>\n",
              "      <td>Junior</td>\n",
              "      <td>0</td>\n",
              "      <td>2</td>\n",
              "    </tr>\n",
              "    <tr>\n",
              "      <th>9362</th>\n",
              "      <td>4bc79c9465abd00e29ff576c5f7a7517be632f5a</td>\n",
              "      <td>6905182</td>\n",
              "      <td>4</td>\n",
              "      <td>feature envy</td>\n",
              "      <td>major</td>\n",
              "      <td>2019-07-24 14:48:34.588918</td>\n",
              "      <td>function</td>\n",
              "      <td>com.google.android.exoplayer2.text.ttml.TtmlDe...</td>\n",
              "      <td>git@github.com:google/ExoPlayer.git</td>\n",
              "      <td>311</td>\n",
              "      <td>...</td>\n",
              "      <td>3.0</td>\n",
              "      <td>3.0</td>\n",
              "      <td>2.0</td>\n",
              "      <td>1.0</td>\n",
              "      <td>2.0</td>\n",
              "      <td>download/ExoPlayer_4bc79c9465abd00e29ff576c5f7...</td>\n",
              "      <td></td>\n",
              "      <td>Senior</td>\n",
              "      <td>0</td>\n",
              "      <td>1</td>\n",
              "    </tr>\n",
              "    <tr>\n",
              "      <th>13137</th>\n",
              "      <td>44f8abd5c65c59e9d09f6ad14b3c825f145d8e4f</td>\n",
              "      <td>8560556</td>\n",
              "      <td>1</td>\n",
              "      <td>long method</td>\n",
              "      <td>critical</td>\n",
              "      <td>2019-08-30 12:03:16.084809</td>\n",
              "      <td>function</td>\n",
              "      <td>org.apache.hadoop.hbase.backup.impl.Incrementa...</td>\n",
              "      <td>git@github.com:apache/hbase.git</td>\n",
              "      <td>115</td>\n",
              "      <td>...</td>\n",
              "      <td>19.0</td>\n",
              "      <td>0.0</td>\n",
              "      <td>3.0</td>\n",
              "      <td>0.0</td>\n",
              "      <td>3.0</td>\n",
              "      <td>download/hbase_44f8abd5c65c59e9d09f6ad14b3c825...</td>\n",
              "      <td></td>\n",
              "      <td>Middle</td>\n",
              "      <td>1</td>\n",
              "      <td>0</td>\n",
              "    </tr>\n",
              "    <tr>\n",
              "      <th>3991</th>\n",
              "      <td>2fa22bf360898dc8fd1408bfcc96e1c6aeaf9a53</td>\n",
              "      <td>8934300</td>\n",
              "      <td>20</td>\n",
              "      <td>long method</td>\n",
              "      <td>major</td>\n",
              "      <td>2019-04-12 13:07:03.993055</td>\n",
              "      <td>function</td>\n",
              "      <td>org.apache.hadoop.hive.ql.optimizer.calcite.co...</td>\n",
              "      <td>git@github.com:apache/hive.git</td>\n",
              "      <td>414</td>\n",
              "      <td>...</td>\n",
              "      <td>4.0</td>\n",
              "      <td>2.0</td>\n",
              "      <td>1.0</td>\n",
              "      <td>0.0</td>\n",
              "      <td>1.0</td>\n",
              "      <td>download/hive_2fa22bf360898dc8fd1408bfcc96e1c6...</td>\n",
              "      <td></td>\n",
              "      <td>Senior</td>\n",
              "      <td>1</td>\n",
              "      <td>1</td>\n",
              "    </tr>\n",
              "    <tr>\n",
              "      <th>4779</th>\n",
              "      <td>3a0f309e2c9fdbbf7fb2d348be861528177f8555</td>\n",
              "      <td>7580470</td>\n",
              "      <td>20</td>\n",
              "      <td>long method</td>\n",
              "      <td>minor</td>\n",
              "      <td>2019-04-12 15:14:14.216803</td>\n",
              "      <td>function</td>\n",
              "      <td>org.springframework.core.ResolvableType.forTyp...</td>\n",
              "      <td>git@github.com:spring-projects/spring-framewor...</td>\n",
              "      <td>1394</td>\n",
              "      <td>...</td>\n",
              "      <td>11.0</td>\n",
              "      <td>0.0</td>\n",
              "      <td>2.0</td>\n",
              "      <td>0.0</td>\n",
              "      <td>2.0</td>\n",
              "      <td>download/spring-framework_3a0f309e2c9fdbbf7fb2...</td>\n",
              "      <td></td>\n",
              "      <td>Senior</td>\n",
              "      <td>1</td>\n",
              "      <td>2</td>\n",
              "    </tr>\n",
              "    <tr>\n",
              "      <th>13812</th>\n",
              "      <td>6bf89e9c8804c8845ec4d38583dd33eea8256439</td>\n",
              "      <td>4395308</td>\n",
              "      <td>4</td>\n",
              "      <td>feature envy</td>\n",
              "      <td>minor</td>\n",
              "      <td>2019-09-08 21:38:22.616523</td>\n",
              "      <td>function</td>\n",
              "      <td>org.apache.cxf.wsn.client.CreatePullPoint#crea...</td>\n",
              "      <td>git@github.com:apache/cxf.git</td>\n",
              "      <td>58</td>\n",
              "      <td>...</td>\n",
              "      <td>5.0</td>\n",
              "      <td>0.0</td>\n",
              "      <td>2.0</td>\n",
              "      <td>1.0</td>\n",
              "      <td>1.0</td>\n",
              "      <td>download/cxf_6bf89e9c8804c8845ec4d38583dd33eea...</td>\n",
              "      <td></td>\n",
              "      <td>Senior</td>\n",
              "      <td>0</td>\n",
              "      <td>2</td>\n",
              "    </tr>\n",
              "  </tbody>\n",
              "</table>\n",
              "<p>10 rows × 34 columns</p>\n",
              "</div>"
            ],
            "text/plain": [
              "                                    commit_hash  sample_id  reviewer_id  \\\n",
              "149    c5498c2ac562cd8a2fc79a6bb0446d291f05a201    6183429            7   \n",
              "973    3a0f309e2c9fdbbf7fb2d348be861528177f8555    7588699           12   \n",
              "10977  caced35327f6b6d6eeac2a13543f3c458e902101    4568919            3   \n",
              "9808   3a0f309e2c9fdbbf7fb2d348be861528177f8555    7588956           30   \n",
              "3048   470e5e9f5de9ba1b6149dec60e87d3a04270eda3    4436948           16   \n",
              "9362   4bc79c9465abd00e29ff576c5f7a7517be632f5a    6905182            4   \n",
              "13137  44f8abd5c65c59e9d09f6ad14b3c825f145d8e4f    8560556            1   \n",
              "3991   2fa22bf360898dc8fd1408bfcc96e1c6aeaf9a53    8934300           20   \n",
              "4779   3a0f309e2c9fdbbf7fb2d348be861528177f8555    7580470           20   \n",
              "13812  6bf89e9c8804c8845ec4d38583dd33eea8256439    4395308            4   \n",
              "\n",
              "              smell  severity            review_timestamp      type  \\\n",
              "149    feature envy     major  2019-03-27 11:07:12.693485  function   \n",
              "973    feature envy  critical  2019-03-29 13:55:18.654152  function   \n",
              "10977   long method     minor  2019-08-05 12:35:28.705123  function   \n",
              "9808   feature envy     major  2019-07-26 09:53:37.248526  function   \n",
              "3048   feature envy     minor  2019-04-05 13:12:40.065600  function   \n",
              "9362   feature envy     major  2019-07-24 14:48:34.588918  function   \n",
              "13137   long method  critical  2019-08-30 12:03:16.084809  function   \n",
              "3991    long method     major  2019-04-12 13:07:03.993055  function   \n",
              "4779    long method     minor  2019-04-12 15:14:14.216803  function   \n",
              "13812  feature envy     minor  2019-09-08 21:38:22.616523  function   \n",
              "\n",
              "                                               code_name  \\\n",
              "149    org.eclipse.che.ide.util.dom.DomUtils.getSibli...   \n",
              "973    org.springframework.context.annotation.Configu...   \n",
              "10977  org.apache.fop.fonts.truetype.OpenFont#readFon...   \n",
              "9808   org.springframework.web.servlet.support.BindSt...   \n",
              "3048   org.apache.falcon.entity.FeedHelper.getImportI...   \n",
              "9362   com.google.android.exoplayer2.text.ttml.TtmlDe...   \n",
              "13137  org.apache.hadoop.hbase.backup.impl.Incrementa...   \n",
              "3991   org.apache.hadoop.hive.ql.optimizer.calcite.co...   \n",
              "4779   org.springframework.core.ResolvableType.forTyp...   \n",
              "13812  org.apache.cxf.wsn.client.CreatePullPoint#crea...   \n",
              "\n",
              "                                              repository  start_line  ...  \\\n",
              "149                       git@github.com:eclipse/che.git         171  ...   \n",
              "973    git@github.com:spring-projects/spring-framewor...         426  ...   \n",
              "10977                      git@github.com:apache/fop.git         813  ...   \n",
              "9808   git@github.com:spring-projects/spring-framewor...          96  ...   \n",
              "3048                    git@github.com:apache/falcon.git         932  ...   \n",
              "9362                 git@github.com:google/ExoPlayer.git         311  ...   \n",
              "13137                    git@github.com:apache/hbase.git         115  ...   \n",
              "3991                      git@github.com:apache/hive.git         414  ...   \n",
              "4779   git@github.com:spring-projects/spring-framewor...        1394  ...   \n",
              "13812                      git@github.com:apache/cxf.git          58  ...   \n",
              "\n",
              "       CouplingIntensity ParameterCount MaxCallChain  ChangingMethods  \\\n",
              "149                  4.0            1.0          4.0              1.0   \n",
              "973                  1.0            0.0          2.0              0.0   \n",
              "10977                5.0            6.0          2.0              0.0   \n",
              "9808                 6.0            0.0          2.0              0.0   \n",
              "3048                 6.0            0.0          4.0              0.0   \n",
              "9362                 3.0            3.0          2.0              1.0   \n",
              "13137               19.0            0.0          3.0              0.0   \n",
              "3991                 4.0            2.0          1.0              0.0   \n",
              "4779                11.0            0.0          2.0              0.0   \n",
              "13812                5.0            0.0          2.0              1.0   \n",
              "\n",
              "       repeticoes                                            arquivo  \\\n",
              "149           2.0  download/che_c5498c2ac562cd8a2fc79a6bb0446d291...   \n",
              "973           2.0  download/spring-framework_3a0f309e2c9fdbbf7fb2...   \n",
              "10977         2.0  download/fop_caced35327f6b6d6eeac2a13543f3c458...   \n",
              "9808          2.0  download/spring-framework_3a0f309e2c9fdbbf7fb2...   \n",
              "3048          2.0  download/falcon_470e5e9f5de9ba1b6149dec60e87d3...   \n",
              "9362          2.0  download/ExoPlayer_4bc79c9465abd00e29ff576c5f7...   \n",
              "13137         3.0  download/hbase_44f8abd5c65c59e9d09f6ad14b3c825...   \n",
              "3991          1.0  download/hive_2fa22bf360898dc8fd1408bfcc96e1c6...   \n",
              "4779          2.0  download/spring-framework_3a0f309e2c9fdbbf7fb2...   \n",
              "13812         1.0  download/cxf_6bf89e9c8804c8845ec4d38583dd33eea...   \n",
              "\n",
              "       reviewer_cod reviewer  label  cod_severity  \n",
              "149                   Junior      0             1  \n",
              "973                   Middle      0             0  \n",
              "10977                 Middle      1             2  \n",
              "9808                 unknown      0             1  \n",
              "3048                  Junior      0             2  \n",
              "9362                  Senior      0             1  \n",
              "13137                 Middle      1             0  \n",
              "3991                  Senior      1             1  \n",
              "4779                  Senior      1             2  \n",
              "13812                 Senior      0             2  \n",
              "\n",
              "[10 rows x 34 columns]"
            ]
          },
          "execution_count": 75,
          "metadata": {},
          "output_type": "execute_result"
        }
      ],
      "source": [
        "# conferindo...\n",
        "df.sample(10)"
      ]
    },
    {
      "cell_type": "markdown",
      "metadata": {
        "id": "2L4X_FV3bxKO"
      },
      "source": [
        "# Codificando os tipos de relevancia e criando coluna cod_relevant"
      ]
    },
    {
      "cell_type": "code",
      "execution_count": 76,
      "metadata": {
        "colab": {
          "base_uri": "https://localhost:8080/"
        },
        "id": "5WCyQ9QiYcf4",
        "outputId": "e3c59a04-f7ce-44ee-ac8a-523d177d4778"
      },
      "outputs": [
        {
          "name": "stdout",
          "output_type": "stream",
          "text": [
            "vazios:0\n"
          ]
        },
        {
          "data": {
            "text/plain": [
              "1      617\n",
              "0       47\n",
              "0,5     38\n",
              "Name: relevant, dtype: int64"
            ]
          },
          "execution_count": 76,
          "metadata": {},
          "output_type": "execute_result"
        }
      ],
      "source": [
        "print(f\"vazios:{df['relevant'].isna().sum()}\")\n",
        "df['relevant'].value_counts()"
      ]
    },
    {
      "cell_type": "code",
      "execution_count": 77,
      "metadata": {
        "colab": {
          "base_uri": "https://localhost:8080/"
        },
        "id": "4ZwoLr3Fb-ME",
        "outputId": "0b55a28a-8b7d-44ba-ebdf-e8a115a29777"
      },
      "outputs": [
        {
          "data": {
            "text/plain": [
              "array(['1', '0,5', '0'], dtype=object)"
            ]
          },
          "execution_count": 77,
          "metadata": {},
          "output_type": "execute_result"
        }
      ],
      "source": [
        "#sorted(dataset['relevant'].unique())\n",
        "#sorted(dataset['smell'].unique())\n",
        "df['relevant'].unique()"
      ]
    },
    {
      "cell_type": "code",
      "execution_count": 78,
      "metadata": {
        "colab": {
          "base_uri": "https://localhost:8080/"
        },
        "id": "qdBsb30scGmP",
        "outputId": "06ed653e-033a-45d8-f2bf-2f33c4c92952"
      },
      "outputs": [
        {
          "data": {
            "text/html": [
              "<style>#sk-container-id-6 {color: black;background-color: white;}#sk-container-id-6 pre{padding: 0;}#sk-container-id-6 div.sk-toggleable {background-color: white;}#sk-container-id-6 label.sk-toggleable__label {cursor: pointer;display: block;width: 100%;margin-bottom: 0;padding: 0.3em;box-sizing: border-box;text-align: center;}#sk-container-id-6 label.sk-toggleable__label-arrow:before {content: \"▸\";float: left;margin-right: 0.25em;color: #696969;}#sk-container-id-6 label.sk-toggleable__label-arrow:hover:before {color: black;}#sk-container-id-6 div.sk-estimator:hover label.sk-toggleable__label-arrow:before {color: black;}#sk-container-id-6 div.sk-toggleable__content {max-height: 0;max-width: 0;overflow: hidden;text-align: left;background-color: #f0f8ff;}#sk-container-id-6 div.sk-toggleable__content pre {margin: 0.2em;color: black;border-radius: 0.25em;background-color: #f0f8ff;}#sk-container-id-6 input.sk-toggleable__control:checked~div.sk-toggleable__content {max-height: 200px;max-width: 100%;overflow: auto;}#sk-container-id-6 input.sk-toggleable__control:checked~label.sk-toggleable__label-arrow:before {content: \"▾\";}#sk-container-id-6 div.sk-estimator input.sk-toggleable__control:checked~label.sk-toggleable__label {background-color: #d4ebff;}#sk-container-id-6 div.sk-label input.sk-toggleable__control:checked~label.sk-toggleable__label {background-color: #d4ebff;}#sk-container-id-6 input.sk-hidden--visually {border: 0;clip: rect(1px 1px 1px 1px);clip: rect(1px, 1px, 1px, 1px);height: 1px;margin: -1px;overflow: hidden;padding: 0;position: absolute;width: 1px;}#sk-container-id-6 div.sk-estimator {font-family: monospace;background-color: #f0f8ff;border: 1px dotted black;border-radius: 0.25em;box-sizing: border-box;margin-bottom: 0.5em;}#sk-container-id-6 div.sk-estimator:hover {background-color: #d4ebff;}#sk-container-id-6 div.sk-parallel-item::after {content: \"\";width: 100%;border-bottom: 1px solid gray;flex-grow: 1;}#sk-container-id-6 div.sk-label:hover label.sk-toggleable__label {background-color: #d4ebff;}#sk-container-id-6 div.sk-serial::before {content: \"\";position: absolute;border-left: 1px solid gray;box-sizing: border-box;top: 0;bottom: 0;left: 50%;z-index: 0;}#sk-container-id-6 div.sk-serial {display: flex;flex-direction: column;align-items: center;background-color: white;padding-right: 0.2em;padding-left: 0.2em;position: relative;}#sk-container-id-6 div.sk-item {position: relative;z-index: 1;}#sk-container-id-6 div.sk-parallel {display: flex;align-items: stretch;justify-content: center;background-color: white;position: relative;}#sk-container-id-6 div.sk-item::before, #sk-container-id-6 div.sk-parallel-item::before {content: \"\";position: absolute;border-left: 1px solid gray;box-sizing: border-box;top: 0;bottom: 0;left: 50%;z-index: -1;}#sk-container-id-6 div.sk-parallel-item {display: flex;flex-direction: column;z-index: 1;position: relative;background-color: white;}#sk-container-id-6 div.sk-parallel-item:first-child::after {align-self: flex-end;width: 50%;}#sk-container-id-6 div.sk-parallel-item:last-child::after {align-self: flex-start;width: 50%;}#sk-container-id-6 div.sk-parallel-item:only-child::after {width: 0;}#sk-container-id-6 div.sk-dashed-wrapped {border: 1px dashed gray;margin: 0 0.4em 0.5em 0.4em;box-sizing: border-box;padding-bottom: 0.4em;background-color: white;}#sk-container-id-6 div.sk-label label {font-family: monospace;font-weight: bold;display: inline-block;line-height: 1.2em;}#sk-container-id-6 div.sk-label-container {text-align: center;}#sk-container-id-6 div.sk-container {/* jupyter's `normalize.less` sets `[hidden] { display: none; }` but bootstrap.min.css set `[hidden] { display: none !important; }` so we also need the `!important` here to be able to override the default hidden behavior on the sphinx rendered scikit-learn.org. See: https://github.com/scikit-learn/scikit-learn/issues/21755 */display: inline-block !important;position: relative;}#sk-container-id-6 div.sk-text-repr-fallback {display: none;}</style><div id=\"sk-container-id-6\" class=\"sk-top-container\"><div class=\"sk-text-repr-fallback\"><pre>LabelEncoder()</pre><b>In a Jupyter environment, please rerun this cell to show the HTML representation or trust the notebook. <br />On GitHub, the HTML representation is unable to render, please try loading this page with nbviewer.org.</b></div><div class=\"sk-container\" hidden><div class=\"sk-item\"><div class=\"sk-estimator sk-toggleable\"><input class=\"sk-toggleable__control sk-hidden--visually\" id=\"sk-estimator-id-6\" type=\"checkbox\" checked><label for=\"sk-estimator-id-6\" class=\"sk-toggleable__label sk-toggleable__label-arrow\">LabelEncoder</label><div class=\"sk-toggleable__content\"><pre>LabelEncoder()</pre></div></div></div></div></div>"
            ],
            "text/plain": [
              "LabelEncoder()"
            ]
          },
          "execution_count": 78,
          "metadata": {},
          "output_type": "execute_result"
        }
      ],
      "source": [
        "modelo_relevant = preprocessing.LabelEncoder()\n",
        "modelo_relevant.fit(sorted(df['relevant'].unique()))"
      ]
    },
    {
      "cell_type": "code",
      "execution_count": 79,
      "metadata": {
        "id": "d4T29gvMcR4m"
      },
      "outputs": [],
      "source": [
        "df['cod_relevant'] = modelo_relevant.fit_transform(df.relevant)"
      ]
    },
    {
      "cell_type": "code",
      "execution_count": 80,
      "metadata": {
        "colab": {
          "base_uri": "https://localhost:8080/",
          "height": 630
        },
        "id": "MLbM2khTcbOj",
        "outputId": "6cbaa7f4-9f48-4b0a-fb19-df448f14d95a"
      },
      "outputs": [
        {
          "data": {
            "text/html": [
              "<div>\n",
              "<style scoped>\n",
              "    .dataframe tbody tr th:only-of-type {\n",
              "        vertical-align: middle;\n",
              "    }\n",
              "\n",
              "    .dataframe tbody tr th {\n",
              "        vertical-align: top;\n",
              "    }\n",
              "\n",
              "    .dataframe thead th {\n",
              "        text-align: right;\n",
              "    }\n",
              "</style>\n",
              "<table border=\"1\" class=\"dataframe\">\n",
              "  <thead>\n",
              "    <tr style=\"text-align: right;\">\n",
              "      <th></th>\n",
              "      <th>commit_hash</th>\n",
              "      <th>sample_id</th>\n",
              "      <th>reviewer_id</th>\n",
              "      <th>smell</th>\n",
              "      <th>severity</th>\n",
              "      <th>review_timestamp</th>\n",
              "      <th>type</th>\n",
              "      <th>code_name</th>\n",
              "      <th>repository</th>\n",
              "      <th>start_line</th>\n",
              "      <th>...</th>\n",
              "      <th>ParameterCount</th>\n",
              "      <th>MaxCallChain</th>\n",
              "      <th>ChangingMethods</th>\n",
              "      <th>repeticoes</th>\n",
              "      <th>arquivo</th>\n",
              "      <th>reviewer_cod</th>\n",
              "      <th>reviewer</th>\n",
              "      <th>label</th>\n",
              "      <th>cod_severity</th>\n",
              "      <th>cod_relevant</th>\n",
              "    </tr>\n",
              "  </thead>\n",
              "  <tbody>\n",
              "    <tr>\n",
              "      <th>10033</th>\n",
              "      <td>a9c1a0661198d9ba37c1facd8385fe05d538c4ad</td>\n",
              "      <td>5855589</td>\n",
              "      <td>13</td>\n",
              "      <td>feature envy</td>\n",
              "      <td>critical</td>\n",
              "      <td>2019-07-26 12:55:24.795178</td>\n",
              "      <td>function</td>\n",
              "      <td>org.apache.catalina.ha.session.DeltaSession#en...</td>\n",
              "      <td>git@github.com:apache/tomcat.git</td>\n",
              "      <td>412</td>\n",
              "      <td>...</td>\n",
              "      <td>0.0</td>\n",
              "      <td>1.0</td>\n",
              "      <td>0.0</td>\n",
              "      <td>1.0</td>\n",
              "      <td>download/tomcat_a9c1a0661198d9ba37c1facd8385fe...</td>\n",
              "      <td></td>\n",
              "      <td>Junior</td>\n",
              "      <td>0</td>\n",
              "      <td>0</td>\n",
              "      <td>2</td>\n",
              "    </tr>\n",
              "    <tr>\n",
              "      <th>14053</th>\n",
              "      <td>210e380df3ca5c74c8c2fa09e7fe1cffdb87e20a</td>\n",
              "      <td>4549169</td>\n",
              "      <td>4</td>\n",
              "      <td>feature envy</td>\n",
              "      <td>critical</td>\n",
              "      <td>2019-09-12 08:07:30.737806</td>\n",
              "      <td>function</td>\n",
              "      <td>org.apache.fineract.portfolio.savings.data.Dep...</td>\n",
              "      <td>git@github.com:apache/fineract.git</td>\n",
              "      <td>413</td>\n",
              "      <td>...</td>\n",
              "      <td>3.0</td>\n",
              "      <td>5.0</td>\n",
              "      <td>2.0</td>\n",
              "      <td>3.0</td>\n",
              "      <td>download/fineract_210e380df3ca5c74c8c2fa09e7fe...</td>\n",
              "      <td></td>\n",
              "      <td>Senior</td>\n",
              "      <td>0</td>\n",
              "      <td>0</td>\n",
              "      <td>2</td>\n",
              "    </tr>\n",
              "    <tr>\n",
              "      <th>10372</th>\n",
              "      <td>e8c7b3f1ff14b2a1df64321c6992b796cae7d732</td>\n",
              "      <td>3717906</td>\n",
              "      <td>3</td>\n",
              "      <td>long method</td>\n",
              "      <td>minor</td>\n",
              "      <td>2019-08-01 23:34:22.668842</td>\n",
              "      <td>function</td>\n",
              "      <td>android.taobao.atlas.framework.bundlestorage.B...</td>\n",
              "      <td>git@github.com:alibaba/atlas.git</td>\n",
              "      <td>301</td>\n",
              "      <td>...</td>\n",
              "      <td>1.0</td>\n",
              "      <td>2.0</td>\n",
              "      <td>0.0</td>\n",
              "      <td>2.0</td>\n",
              "      <td>download/atlas_e8c7b3f1ff14b2a1df64321c6992b79...</td>\n",
              "      <td></td>\n",
              "      <td>Middle</td>\n",
              "      <td>1</td>\n",
              "      <td>2</td>\n",
              "      <td>2</td>\n",
              "    </tr>\n",
              "    <tr>\n",
              "      <th>3704</th>\n",
              "      <td>7fba4b29d653747a9ed038d282954a44fea3031c</td>\n",
              "      <td>5761917</td>\n",
              "      <td>7</td>\n",
              "      <td>feature envy</td>\n",
              "      <td>minor</td>\n",
              "      <td>2019-04-10 09:42:59.653743</td>\n",
              "      <td>function</td>\n",
              "      <td>org.apache.sysml.runtime.compress.cocode.Plann...</td>\n",
              "      <td>git@github.com:apache/systemml.git</td>\n",
              "      <td>116</td>\n",
              "      <td>...</td>\n",
              "      <td>9.0</td>\n",
              "      <td>2.0</td>\n",
              "      <td>4.0</td>\n",
              "      <td>2.0</td>\n",
              "      <td>download/systemml_7fba4b29d653747a9ed038d28295...</td>\n",
              "      <td></td>\n",
              "      <td>Junior</td>\n",
              "      <td>0</td>\n",
              "      <td>2</td>\n",
              "      <td>2</td>\n",
              "    </tr>\n",
              "    <tr>\n",
              "      <th>11828</th>\n",
              "      <td>4bc79c9465abd00e29ff576c5f7a7517be632f5a</td>\n",
              "      <td>6905182</td>\n",
              "      <td>3</td>\n",
              "      <td>long method</td>\n",
              "      <td>critical</td>\n",
              "      <td>2019-08-06 16:32:04.301189</td>\n",
              "      <td>function</td>\n",
              "      <td>com.google.android.exoplayer2.text.ttml.TtmlDe...</td>\n",
              "      <td>git@github.com:google/ExoPlayer.git</td>\n",
              "      <td>311</td>\n",
              "      <td>...</td>\n",
              "      <td>3.0</td>\n",
              "      <td>2.0</td>\n",
              "      <td>1.0</td>\n",
              "      <td>2.0</td>\n",
              "      <td>download/ExoPlayer_4bc79c9465abd00e29ff576c5f7...</td>\n",
              "      <td></td>\n",
              "      <td>Middle</td>\n",
              "      <td>1</td>\n",
              "      <td>0</td>\n",
              "      <td>2</td>\n",
              "    </tr>\n",
              "    <tr>\n",
              "      <th>10202</th>\n",
              "      <td>4c4400b98a5a8493cfb9e5dbb21c97175f433a62</td>\n",
              "      <td>5497076</td>\n",
              "      <td>4</td>\n",
              "      <td>feature envy</td>\n",
              "      <td>major</td>\n",
              "      <td>2019-07-26 20:29:02.276735</td>\n",
              "      <td>function</td>\n",
              "      <td>org.apache.qpid.server.security.access.config....</td>\n",
              "      <td>git@github.com:apache/qpid-broker-j.git</td>\n",
              "      <td>113</td>\n",
              "      <td>...</td>\n",
              "      <td>2.0</td>\n",
              "      <td>1.0</td>\n",
              "      <td>1.0</td>\n",
              "      <td>2.0</td>\n",
              "      <td>download/qpid-broker-j_4c4400b98a5a8493cfb9e5d...</td>\n",
              "      <td></td>\n",
              "      <td>Senior</td>\n",
              "      <td>0</td>\n",
              "      <td>1</td>\n",
              "      <td>2</td>\n",
              "    </tr>\n",
              "    <tr>\n",
              "      <th>6430</th>\n",
              "      <td>4c4400b98a5a8493cfb9e5dbb21c97175f433a62</td>\n",
              "      <td>5497076</td>\n",
              "      <td>3</td>\n",
              "      <td>long method</td>\n",
              "      <td>critical</td>\n",
              "      <td>2019-05-20 10:19:27.081209</td>\n",
              "      <td>function</td>\n",
              "      <td>org.apache.qpid.server.security.access.config....</td>\n",
              "      <td>git@github.com:apache/qpid-broker-j.git</td>\n",
              "      <td>113</td>\n",
              "      <td>...</td>\n",
              "      <td>2.0</td>\n",
              "      <td>4.0</td>\n",
              "      <td>3.0</td>\n",
              "      <td>2.0</td>\n",
              "      <td>download/qpid-broker-j_4c4400b98a5a8493cfb9e5d...</td>\n",
              "      <td></td>\n",
              "      <td>Middle</td>\n",
              "      <td>1</td>\n",
              "      <td>0</td>\n",
              "      <td>2</td>\n",
              "    </tr>\n",
              "    <tr>\n",
              "      <th>14298</th>\n",
              "      <td>caced35327f6b6d6eeac2a13543f3c458e902101</td>\n",
              "      <td>4566202</td>\n",
              "      <td>20</td>\n",
              "      <td>long method</td>\n",
              "      <td>minor</td>\n",
              "      <td>2019-09-12 09:51:50.961140</td>\n",
              "      <td>function</td>\n",
              "      <td>org.apache.fop.svg.AbstractFOPImageElementBrid...</td>\n",
              "      <td>git@github.com:apache/fop.git</td>\n",
              "      <td>70</td>\n",
              "      <td>...</td>\n",
              "      <td>0.0</td>\n",
              "      <td>1.0</td>\n",
              "      <td>1.0</td>\n",
              "      <td>2.0</td>\n",
              "      <td>download/fop_caced35327f6b6d6eeac2a13543f3c458...</td>\n",
              "      <td></td>\n",
              "      <td>Senior</td>\n",
              "      <td>1</td>\n",
              "      <td>2</td>\n",
              "      <td>2</td>\n",
              "    </tr>\n",
              "    <tr>\n",
              "      <th>10096</th>\n",
              "      <td>8fd839e8b73e40bd2dfd14f331b587431bd35a66</td>\n",
              "      <td>7850192</td>\n",
              "      <td>13</td>\n",
              "      <td>feature envy</td>\n",
              "      <td>minor</td>\n",
              "      <td>2019-07-26 13:26:24.711926</td>\n",
              "      <td>function</td>\n",
              "      <td>org.apache.geode.internal.cache.Oplog#recoverD...</td>\n",
              "      <td>git@github.com:apache/geode.git</td>\n",
              "      <td>1448</td>\n",
              "      <td>...</td>\n",
              "      <td>0.0</td>\n",
              "      <td>3.0</td>\n",
              "      <td>0.0</td>\n",
              "      <td>3.0</td>\n",
              "      <td>download/geode_8fd839e8b73e40bd2dfd14f331b5874...</td>\n",
              "      <td></td>\n",
              "      <td>Junior</td>\n",
              "      <td>0</td>\n",
              "      <td>2</td>\n",
              "      <td>2</td>\n",
              "    </tr>\n",
              "    <tr>\n",
              "      <th>11312</th>\n",
              "      <td>2bc4779a1e6aabe638101fc8b0e28cd1963d6b13</td>\n",
              "      <td>3877118</td>\n",
              "      <td>3</td>\n",
              "      <td>long method</td>\n",
              "      <td>minor</td>\n",
              "      <td>2019-08-05 21:38:23.193221</td>\n",
              "      <td>function</td>\n",
              "      <td>org.apache.ambari.server.controller.AmbariMana...</td>\n",
              "      <td>git@github.com:apache/ambari.git</td>\n",
              "      <td>4555</td>\n",
              "      <td>...</td>\n",
              "      <td>1.0</td>\n",
              "      <td>2.0</td>\n",
              "      <td>1.0</td>\n",
              "      <td>1.0</td>\n",
              "      <td>download/ambari_2bc4779a1e6aabe638101fc8b0e28c...</td>\n",
              "      <td></td>\n",
              "      <td>Middle</td>\n",
              "      <td>1</td>\n",
              "      <td>2</td>\n",
              "      <td>2</td>\n",
              "    </tr>\n",
              "  </tbody>\n",
              "</table>\n",
              "<p>10 rows × 35 columns</p>\n",
              "</div>"
            ],
            "text/plain": [
              "                                    commit_hash  sample_id  reviewer_id  \\\n",
              "10033  a9c1a0661198d9ba37c1facd8385fe05d538c4ad    5855589           13   \n",
              "14053  210e380df3ca5c74c8c2fa09e7fe1cffdb87e20a    4549169            4   \n",
              "10372  e8c7b3f1ff14b2a1df64321c6992b796cae7d732    3717906            3   \n",
              "3704   7fba4b29d653747a9ed038d282954a44fea3031c    5761917            7   \n",
              "11828  4bc79c9465abd00e29ff576c5f7a7517be632f5a    6905182            3   \n",
              "10202  4c4400b98a5a8493cfb9e5dbb21c97175f433a62    5497076            4   \n",
              "6430   4c4400b98a5a8493cfb9e5dbb21c97175f433a62    5497076            3   \n",
              "14298  caced35327f6b6d6eeac2a13543f3c458e902101    4566202           20   \n",
              "10096  8fd839e8b73e40bd2dfd14f331b587431bd35a66    7850192           13   \n",
              "11312  2bc4779a1e6aabe638101fc8b0e28cd1963d6b13    3877118            3   \n",
              "\n",
              "              smell  severity            review_timestamp      type  \\\n",
              "10033  feature envy  critical  2019-07-26 12:55:24.795178  function   \n",
              "14053  feature envy  critical  2019-09-12 08:07:30.737806  function   \n",
              "10372   long method     minor  2019-08-01 23:34:22.668842  function   \n",
              "3704   feature envy     minor  2019-04-10 09:42:59.653743  function   \n",
              "11828   long method  critical  2019-08-06 16:32:04.301189  function   \n",
              "10202  feature envy     major  2019-07-26 20:29:02.276735  function   \n",
              "6430    long method  critical  2019-05-20 10:19:27.081209  function   \n",
              "14298   long method     minor  2019-09-12 09:51:50.961140  function   \n",
              "10096  feature envy     minor  2019-07-26 13:26:24.711926  function   \n",
              "11312   long method     minor  2019-08-05 21:38:23.193221  function   \n",
              "\n",
              "                                               code_name  \\\n",
              "10033  org.apache.catalina.ha.session.DeltaSession#en...   \n",
              "14053  org.apache.fineract.portfolio.savings.data.Dep...   \n",
              "10372  android.taobao.atlas.framework.bundlestorage.B...   \n",
              "3704   org.apache.sysml.runtime.compress.cocode.Plann...   \n",
              "11828  com.google.android.exoplayer2.text.ttml.TtmlDe...   \n",
              "10202  org.apache.qpid.server.security.access.config....   \n",
              "6430   org.apache.qpid.server.security.access.config....   \n",
              "14298  org.apache.fop.svg.AbstractFOPImageElementBrid...   \n",
              "10096  org.apache.geode.internal.cache.Oplog#recoverD...   \n",
              "11312  org.apache.ambari.server.controller.AmbariMana...   \n",
              "\n",
              "                                    repository  start_line  ...  \\\n",
              "10033         git@github.com:apache/tomcat.git         412  ...   \n",
              "14053       git@github.com:apache/fineract.git         413  ...   \n",
              "10372         git@github.com:alibaba/atlas.git         301  ...   \n",
              "3704        git@github.com:apache/systemml.git         116  ...   \n",
              "11828      git@github.com:google/ExoPlayer.git         311  ...   \n",
              "10202  git@github.com:apache/qpid-broker-j.git         113  ...   \n",
              "6430   git@github.com:apache/qpid-broker-j.git         113  ...   \n",
              "14298            git@github.com:apache/fop.git          70  ...   \n",
              "10096          git@github.com:apache/geode.git        1448  ...   \n",
              "11312         git@github.com:apache/ambari.git        4555  ...   \n",
              "\n",
              "       ParameterCount MaxCallChain ChangingMethods  repeticoes  \\\n",
              "10033             0.0          1.0             0.0         1.0   \n",
              "14053             3.0          5.0             2.0         3.0   \n",
              "10372             1.0          2.0             0.0         2.0   \n",
              "3704              9.0          2.0             4.0         2.0   \n",
              "11828             3.0          2.0             1.0         2.0   \n",
              "10202             2.0          1.0             1.0         2.0   \n",
              "6430              2.0          4.0             3.0         2.0   \n",
              "14298             0.0          1.0             1.0         2.0   \n",
              "10096             0.0          3.0             0.0         3.0   \n",
              "11312             1.0          2.0             1.0         1.0   \n",
              "\n",
              "                                                 arquivo reviewer_cod  \\\n",
              "10033  download/tomcat_a9c1a0661198d9ba37c1facd8385fe...                \n",
              "14053  download/fineract_210e380df3ca5c74c8c2fa09e7fe...                \n",
              "10372  download/atlas_e8c7b3f1ff14b2a1df64321c6992b79...                \n",
              "3704   download/systemml_7fba4b29d653747a9ed038d28295...                \n",
              "11828  download/ExoPlayer_4bc79c9465abd00e29ff576c5f7...                \n",
              "10202  download/qpid-broker-j_4c4400b98a5a8493cfb9e5d...                \n",
              "6430   download/qpid-broker-j_4c4400b98a5a8493cfb9e5d...                \n",
              "14298  download/fop_caced35327f6b6d6eeac2a13543f3c458...                \n",
              "10096  download/geode_8fd839e8b73e40bd2dfd14f331b5874...                \n",
              "11312  download/ambari_2bc4779a1e6aabe638101fc8b0e28c...                \n",
              "\n",
              "       reviewer label  cod_severity  cod_relevant  \n",
              "10033    Junior     0             0             2  \n",
              "14053    Senior     0             0             2  \n",
              "10372    Middle     1             2             2  \n",
              "3704     Junior     0             2             2  \n",
              "11828    Middle     1             0             2  \n",
              "10202    Senior     0             1             2  \n",
              "6430     Middle     1             0             2  \n",
              "14298    Senior     1             2             2  \n",
              "10096    Junior     0             2             2  \n",
              "11312    Middle     1             2             2  \n",
              "\n",
              "[10 rows x 35 columns]"
            ]
          },
          "execution_count": 80,
          "metadata": {},
          "output_type": "execute_result"
        }
      ],
      "source": [
        "df.sample(10)"
      ]
    },
    {
      "cell_type": "markdown",
      "metadata": {
        "id": "lS0FrWGjDKp0"
      },
      "source": [
        "# Codificando o reviewer e criando cod_reviewer"
      ]
    },
    {
      "cell_type": "code",
      "execution_count": 81,
      "metadata": {
        "id": "0sTQ4_dZDSXL"
      },
      "outputs": [],
      "source": [
        "modelo_reviewer = preprocessing.LabelEncoder()\n",
        "modelo_reviewer.fit(sorted(df['reviewer'].unique()))\n",
        "df['cod_reviewer'] = modelo_reviewer.fit_transform(df.reviewer)"
      ]
    },
    {
      "cell_type": "code",
      "execution_count": 82,
      "metadata": {
        "colab": {
          "base_uri": "https://localhost:8080/"
        },
        "id": "x55FxtWJDwP4",
        "outputId": "ded46314-f3d8-4840-9961-e99c82eeb201"
      },
      "outputs": [
        {
          "data": {
            "text/plain": [
              "1    268\n",
              "0    209\n",
              "2    185\n",
              "3     40\n",
              "Name: cod_reviewer, dtype: int64"
            ]
          },
          "execution_count": 82,
          "metadata": {},
          "output_type": "execute_result"
        }
      ],
      "source": [
        "df['cod_reviewer'].value_counts()"
      ]
    },
    {
      "cell_type": "markdown",
      "metadata": {
        "id": "Jlwe14l0c-Ln"
      },
      "source": [
        "# Verificando o dataset como ficou"
      ]
    },
    {
      "cell_type": "code",
      "execution_count": 83,
      "metadata": {
        "colab": {
          "base_uri": "https://localhost:8080/"
        },
        "id": "SLe3qnikbd8V",
        "outputId": "56cd4238-5196-4a90-cc17-0f9b03a0b80a"
      },
      "outputs": [
        {
          "name": "stdout",
          "output_type": "stream",
          "text": [
            "(702, 36)\n"
          ]
        },
        {
          "data": {
            "text/plain": [
              "Index(['commit_hash', 'sample_id', 'reviewer_id', 'smell', 'severity',\n",
              "       'review_timestamp', 'type', 'code_name', 'repository', 'start_line',\n",
              "       'end_line', 'link', 'relevant', 'lines', 'agglom_num', 'agglom_list',\n",
              "       'num_commits', 'reason', 'NumberOfAccessedVariables',\n",
              "       'CouplingDispersion', 'ChangingClasses', 'MethodLinesOfCode',\n",
              "       'CyclomaticComplexity', 'MaxNesting', 'CouplingIntensity',\n",
              "       'ParameterCount', 'MaxCallChain', 'ChangingMethods', 'repeticoes',\n",
              "       'arquivo', 'reviewer_cod', 'reviewer', 'label', 'cod_severity',\n",
              "       'cod_relevant', 'cod_reviewer'],\n",
              "      dtype='object')"
            ]
          },
          "execution_count": 83,
          "metadata": {},
          "output_type": "execute_result"
        }
      ],
      "source": [
        "print(df.shape)\n",
        "df.describe()\n",
        "df.columns"
      ]
    },
    {
      "cell_type": "code",
      "execution_count": 85,
      "metadata": {
        "colab": {
          "base_uri": "https://localhost:8080/",
          "height": 631
        },
        "id": "Mjw4AohqZbhF",
        "outputId": "69bad8bd-c78e-491a-d631-e0e131224815"
      },
      "outputs": [
        {
          "data": {
            "image/png": "[encoded data removed]",
            "text/plain": [
              "<Figure size 2500x1000 with 3 Axes>"
            ]
          },
          "metadata": {},
          "output_type": "display_data"
        }
      ],
      "source": [
        "# olhando se ficou algum missing # start line e end line com nan nao representa problema.\n",
        "import missingno\n",
        "plt.title(\"Verificando Missing no dataset\")\n",
        "missingno.bar(df)\n",
        "plt.savefig(\"Base Limpa - Missing.svg\")\n",
        "plt.show()"
      ]
    },
    {
      "cell_type": "markdown",
      "metadata": {
        "id": "Pzx9BqbAgAvB"
      },
      "source": [
        "# conferindo..."
      ]
    },
    {
      "cell_type": "code",
      "execution_count": 86,
      "metadata": {
        "colab": {
          "base_uri": "https://localhost:8080/",
          "height": 424
        },
        "id": "zST3QWeE1RnV",
        "outputId": "e32d3b36-bb2d-4c84-e18e-39596b241adb"
      },
      "outputs": [
        {
          "data": {
            "text/html": [
              "<div>\n",
              "<style scoped>\n",
              "    .dataframe tbody tr th:only-of-type {\n",
              "        vertical-align: middle;\n",
              "    }\n",
              "\n",
              "    .dataframe tbody tr th {\n",
              "        vertical-align: top;\n",
              "    }\n",
              "\n",
              "    .dataframe thead th {\n",
              "        text-align: right;\n",
              "    }\n",
              "</style>\n",
              "<table border=\"1\" class=\"dataframe\">\n",
              "  <thead>\n",
              "    <tr style=\"text-align: right;\">\n",
              "      <th></th>\n",
              "      <th>smell</th>\n",
              "      <th>label</th>\n",
              "    </tr>\n",
              "  </thead>\n",
              "  <tbody>\n",
              "    <tr>\n",
              "      <th>39</th>\n",
              "      <td>long method</td>\n",
              "      <td>1</td>\n",
              "    </tr>\n",
              "    <tr>\n",
              "      <th>44</th>\n",
              "      <td>feature envy</td>\n",
              "      <td>0</td>\n",
              "    </tr>\n",
              "    <tr>\n",
              "      <th>47</th>\n",
              "      <td>feature envy</td>\n",
              "      <td>0</td>\n",
              "    </tr>\n",
              "    <tr>\n",
              "      <th>85</th>\n",
              "      <td>feature envy</td>\n",
              "      <td>0</td>\n",
              "    </tr>\n",
              "    <tr>\n",
              "      <th>94</th>\n",
              "      <td>feature envy</td>\n",
              "      <td>0</td>\n",
              "    </tr>\n",
              "    <tr>\n",
              "      <th>...</th>\n",
              "      <td>...</td>\n",
              "      <td>...</td>\n",
              "    </tr>\n",
              "    <tr>\n",
              "      <th>14704</th>\n",
              "      <td>feature envy</td>\n",
              "      <td>0</td>\n",
              "    </tr>\n",
              "    <tr>\n",
              "      <th>14705</th>\n",
              "      <td>long method</td>\n",
              "      <td>1</td>\n",
              "    </tr>\n",
              "    <tr>\n",
              "      <th>14706</th>\n",
              "      <td>feature envy</td>\n",
              "      <td>0</td>\n",
              "    </tr>\n",
              "    <tr>\n",
              "      <th>14712</th>\n",
              "      <td>long method</td>\n",
              "      <td>1</td>\n",
              "    </tr>\n",
              "    <tr>\n",
              "      <th>14721</th>\n",
              "      <td>long method</td>\n",
              "      <td>1</td>\n",
              "    </tr>\n",
              "  </tbody>\n",
              "</table>\n",
              "<p>702 rows × 2 columns</p>\n",
              "</div>"
            ],
            "text/plain": [
              "              smell  label\n",
              "39      long method      1\n",
              "44     feature envy      0\n",
              "47     feature envy      0\n",
              "85     feature envy      0\n",
              "94     feature envy      0\n",
              "...             ...    ...\n",
              "14704  feature envy      0\n",
              "14705   long method      1\n",
              "14706  feature envy      0\n",
              "14712   long method      1\n",
              "14721   long method      1\n",
              "\n",
              "[702 rows x 2 columns]"
            ]
          },
          "execution_count": 86,
          "metadata": {},
          "output_type": "execute_result"
        }
      ],
      "source": [
        "df[['smell','label']]"
      ]
    },
    {
      "cell_type": "markdown",
      "metadata": {
        "id": "MvYkF2uxKws4"
      },
      "source": [
        "# PROSSEGUIR DAQUI"
      ]
    },
    {
      "cell_type": "markdown",
      "metadata": {
        "id": "xqvRluJjdS6M"
      },
      "source": [
        "**Primeira análise**# Fazendo somente com as informações do MLCQ"
      ]
    },
    {
      "cell_type": "code",
      "execution_count": 87,
      "metadata": {
        "colab": {
          "base_uri": "https://localhost:8080/"
        },
        "id": "EwMNs1LYxfIe",
        "outputId": "c1ee7218-9abd-42a8-da9b-fb35a7d4c105"
      },
      "outputs": [
        {
          "data": {
            "text/plain": [
              "Index(['commit_hash', 'sample_id', 'reviewer_id', 'smell', 'severity',\n",
              "       'review_timestamp', 'type', 'code_name', 'repository', 'start_line',\n",
              "       'end_line', 'link', 'relevant', 'lines', 'agglom_num', 'agglom_list',\n",
              "       'num_commits', 'reason', 'NumberOfAccessedVariables',\n",
              "       'CouplingDispersion', 'ChangingClasses', 'MethodLinesOfCode',\n",
              "       'CyclomaticComplexity', 'MaxNesting', 'CouplingIntensity',\n",
              "       'ParameterCount', 'MaxCallChain', 'ChangingMethods', 'repeticoes',\n",
              "       'arquivo', 'reviewer_cod', 'reviewer', 'label', 'cod_severity',\n",
              "       'cod_relevant', 'cod_reviewer'],\n",
              "      dtype='object')"
            ]
          },
          "execution_count": 87,
          "metadata": {},
          "output_type": "execute_result"
        }
      ],
      "source": [
        "df.columns"
      ]
    },
    {
      "cell_type": "code",
      "execution_count": 88,
      "metadata": {
        "id": "gmXvqPUE3AZM"
      },
      "outputs": [],
      "source": [
        "# criada coluna hora, onde tem HH do review_timestamp\n",
        "func_hora = lambda x: x.split(\" \", 1)[1].split(\":\",1)[0]\n",
        "df['hora'] = df.review_timestamp.apply(func_hora)\n",
        "df['hora'] = df['hora'].astype(int)"
      ]
    },
    {
      "cell_type": "code",
      "execution_count": 89,
      "metadata": {
        "id": "LmeYqROT9u_c"
      },
      "outputs": [],
      "source": [
        "# criada coluna para codificar a hora, sendo 1 para fora do horário regular e \n",
        "# 0 para horário regular \n",
        "df['cod_hora'] = 0\n",
        "df['cod_hora'] = np.where(df['hora'] >= 18, 1,0)\n",
        "df['cod_hora'] = np.where(df['hora'] <=  8, 1,0)\n"
      ]
    },
    {
      "cell_type": "code",
      "execution_count": 90,
      "metadata": {
        "colab": {
          "base_uri": "https://localhost:8080/"
        },
        "id": "hrfpaVSf-R1m",
        "outputId": "2db32b84-be7e-4b07-f63e-6dd1462e2ff3"
      },
      "outputs": [
        {
          "data": {
            "text/plain": [
              "0    605\n",
              "1     97\n",
              "Name: cod_hora, dtype: int64"
            ]
          },
          "execution_count": 90,
          "metadata": {},
          "output_type": "execute_result"
        }
      ],
      "source": [
        "df['cod_hora'].value_counts()"
      ]
    },
    {
      "cell_type": "code",
      "execution_count": 91,
      "metadata": {
        "colab": {
          "base_uri": "https://localhost:8080/",
          "height": 386
        },
        "id": "RSJuWSGO7Kzb",
        "outputId": "1a6ef58f-afe4-434a-def4-5d7b57918675"
      },
      "outputs": [
        {
          "data": {
            "text/html": [
              "<div>\n",
              "<style scoped>\n",
              "    .dataframe tbody tr th:only-of-type {\n",
              "        vertical-align: middle;\n",
              "    }\n",
              "\n",
              "    .dataframe tbody tr th {\n",
              "        vertical-align: top;\n",
              "    }\n",
              "\n",
              "    .dataframe thead th {\n",
              "        text-align: right;\n",
              "    }\n",
              "</style>\n",
              "<table border=\"1\" class=\"dataframe\">\n",
              "  <thead>\n",
              "    <tr style=\"text-align: right;\">\n",
              "      <th></th>\n",
              "      <th>commit_hash</th>\n",
              "      <th>sample_id</th>\n",
              "      <th>reviewer_id</th>\n",
              "      <th>smell</th>\n",
              "      <th>severity</th>\n",
              "      <th>review_timestamp</th>\n",
              "      <th>type</th>\n",
              "      <th>code_name</th>\n",
              "      <th>repository</th>\n",
              "      <th>start_line</th>\n",
              "      <th>...</th>\n",
              "      <th>repeticoes</th>\n",
              "      <th>arquivo</th>\n",
              "      <th>reviewer_cod</th>\n",
              "      <th>reviewer</th>\n",
              "      <th>label</th>\n",
              "      <th>cod_severity</th>\n",
              "      <th>cod_relevant</th>\n",
              "      <th>cod_reviewer</th>\n",
              "      <th>hora</th>\n",
              "      <th>cod_hora</th>\n",
              "    </tr>\n",
              "  </thead>\n",
              "  <tbody>\n",
              "    <tr>\n",
              "      <th>39</th>\n",
              "      <td>a9c1a0661198d9ba37c1facd8385fe05d538c4ad</td>\n",
              "      <td>5840527</td>\n",
              "      <td>6</td>\n",
              "      <td>long method</td>\n",
              "      <td>minor</td>\n",
              "      <td>2019-03-27 10:45:41.280865</td>\n",
              "      <td>function</td>\n",
              "      <td>org.apache.el.parser.ELParser#DynamicExpression</td>\n",
              "      <td>git@github.com:apache/tomcat.git</td>\n",
              "      <td>140</td>\n",
              "      <td>...</td>\n",
              "      <td>2.0</td>\n",
              "      <td>download/tomcat_a9c1a0661198d9ba37c1facd8385fe...</td>\n",
              "      <td></td>\n",
              "      <td>Junior</td>\n",
              "      <td>1</td>\n",
              "      <td>2</td>\n",
              "      <td>2</td>\n",
              "      <td>0</td>\n",
              "      <td>10</td>\n",
              "      <td>0</td>\n",
              "    </tr>\n",
              "    <tr>\n",
              "      <th>44</th>\n",
              "      <td>a9c1a0661198d9ba37c1facd8385fe05d538c4ad</td>\n",
              "      <td>5839980</td>\n",
              "      <td>7</td>\n",
              "      <td>feature envy</td>\n",
              "      <td>minor</td>\n",
              "      <td>2019-03-27 10:46:31.227874</td>\n",
              "      <td>function</td>\n",
              "      <td>org.apache.tomcat.util.descriptor.web.ContextR...</td>\n",
              "      <td>git@github.com:apache/tomcat.git</td>\n",
              "      <td>94</td>\n",
              "      <td>...</td>\n",
              "      <td>1.0</td>\n",
              "      <td>download/tomcat_a9c1a0661198d9ba37c1facd8385fe...</td>\n",
              "      <td></td>\n",
              "      <td>Junior</td>\n",
              "      <td>0</td>\n",
              "      <td>2</td>\n",
              "      <td>2</td>\n",
              "      <td>0</td>\n",
              "      <td>10</td>\n",
              "      <td>0</td>\n",
              "    </tr>\n",
              "    <tr>\n",
              "      <th>47</th>\n",
              "      <td>a9c1a0661198d9ba37c1facd8385fe05d538c4ad</td>\n",
              "      <td>5855589</td>\n",
              "      <td>6</td>\n",
              "      <td>feature envy</td>\n",
              "      <td>minor</td>\n",
              "      <td>2019-03-27 10:47:09.381546</td>\n",
              "      <td>function</td>\n",
              "      <td>org.apache.catalina.ha.session.DeltaSession#en...</td>\n",
              "      <td>git@github.com:apache/tomcat.git</td>\n",
              "      <td>412</td>\n",
              "      <td>...</td>\n",
              "      <td>1.0</td>\n",
              "      <td>download/tomcat_a9c1a0661198d9ba37c1facd8385fe...</td>\n",
              "      <td></td>\n",
              "      <td>Junior</td>\n",
              "      <td>0</td>\n",
              "      <td>2</td>\n",
              "      <td>2</td>\n",
              "      <td>0</td>\n",
              "      <td>10</td>\n",
              "      <td>0</td>\n",
              "    </tr>\n",
              "    <tr>\n",
              "      <th>85</th>\n",
              "      <td>4219d552349f8f7f3e6de34505b8a8ae9835f98b</td>\n",
              "      <td>5922177</td>\n",
              "      <td>6</td>\n",
              "      <td>feature envy</td>\n",
              "      <td>minor</td>\n",
              "      <td>2019-03-27 10:51:45.193555</td>\n",
              "      <td>function</td>\n",
              "      <td>org.apache.zeppelin.realm.jwt.KnoxJwtRealm#val...</td>\n",
              "      <td>git@github.com:apache/zeppelin.git</td>\n",
              "      <td>130</td>\n",
              "      <td>...</td>\n",
              "      <td>2.0</td>\n",
              "      <td>download/zeppelin_4219d552349f8f7f3e6de34505b8...</td>\n",
              "      <td></td>\n",
              "      <td>Junior</td>\n",
              "      <td>0</td>\n",
              "      <td>2</td>\n",
              "      <td>2</td>\n",
              "      <td>0</td>\n",
              "      <td>10</td>\n",
              "      <td>0</td>\n",
              "    </tr>\n",
              "    <tr>\n",
              "      <th>94</th>\n",
              "      <td>07c3aaf3d723fb3144c0aedc0c2b655325df70e9</td>\n",
              "      <td>5939954</td>\n",
              "      <td>6</td>\n",
              "      <td>feature envy</td>\n",
              "      <td>major</td>\n",
              "      <td>2019-03-27 10:55:26.305339</td>\n",
              "      <td>function</td>\n",
              "      <td>org.apache.zookeeper.graph.JsonGenerator.JsonG...</td>\n",
              "      <td>git@github.com:apache/zookeeper.git</td>\n",
              "      <td>75</td>\n",
              "      <td>...</td>\n",
              "      <td>3.0</td>\n",
              "      <td>download/zookeeper_07c3aaf3d723fb3144c0aedc0c2...</td>\n",
              "      <td></td>\n",
              "      <td>Junior</td>\n",
              "      <td>0</td>\n",
              "      <td>1</td>\n",
              "      <td>2</td>\n",
              "      <td>0</td>\n",
              "      <td>10</td>\n",
              "      <td>0</td>\n",
              "    </tr>\n",
              "  </tbody>\n",
              "</table>\n",
              "<p>5 rows × 38 columns</p>\n",
              "</div>"
            ],
            "text/plain": [
              "                                 commit_hash  sample_id  reviewer_id  \\\n",
              "39  a9c1a0661198d9ba37c1facd8385fe05d538c4ad    5840527            6   \n",
              "44  a9c1a0661198d9ba37c1facd8385fe05d538c4ad    5839980            7   \n",
              "47  a9c1a0661198d9ba37c1facd8385fe05d538c4ad    5855589            6   \n",
              "85  4219d552349f8f7f3e6de34505b8a8ae9835f98b    5922177            6   \n",
              "94  07c3aaf3d723fb3144c0aedc0c2b655325df70e9    5939954            6   \n",
              "\n",
              "           smell severity            review_timestamp      type  \\\n",
              "39   long method    minor  2019-03-27 10:45:41.280865  function   \n",
              "44  feature envy    minor  2019-03-27 10:46:31.227874  function   \n",
              "47  feature envy    minor  2019-03-27 10:47:09.381546  function   \n",
              "85  feature envy    minor  2019-03-27 10:51:45.193555  function   \n",
              "94  feature envy    major  2019-03-27 10:55:26.305339  function   \n",
              "\n",
              "                                            code_name  \\\n",
              "39    org.apache.el.parser.ELParser#DynamicExpression   \n",
              "44  org.apache.tomcat.util.descriptor.web.ContextR...   \n",
              "47  org.apache.catalina.ha.session.DeltaSession#en...   \n",
              "85  org.apache.zeppelin.realm.jwt.KnoxJwtRealm#val...   \n",
              "94  org.apache.zookeeper.graph.JsonGenerator.JsonG...   \n",
              "\n",
              "                             repository  start_line  ...  repeticoes  \\\n",
              "39     git@github.com:apache/tomcat.git         140  ...         2.0   \n",
              "44     git@github.com:apache/tomcat.git          94  ...         1.0   \n",
              "47     git@github.com:apache/tomcat.git         412  ...         1.0   \n",
              "85   git@github.com:apache/zeppelin.git         130  ...         2.0   \n",
              "94  git@github.com:apache/zookeeper.git          75  ...         3.0   \n",
              "\n",
              "                                              arquivo reviewer_cod  reviewer  \\\n",
              "39  download/tomcat_a9c1a0661198d9ba37c1facd8385fe...                 Junior   \n",
              "44  download/tomcat_a9c1a0661198d9ba37c1facd8385fe...                 Junior   \n",
              "47  download/tomcat_a9c1a0661198d9ba37c1facd8385fe...                 Junior   \n",
              "85  download/zeppelin_4219d552349f8f7f3e6de34505b8...                 Junior   \n",
              "94  download/zookeeper_07c3aaf3d723fb3144c0aedc0c2...                 Junior   \n",
              "\n",
              "    label cod_severity  cod_relevant cod_reviewer  hora  cod_hora  \n",
              "39      1            2             2            0    10         0  \n",
              "44      0            2             2            0    10         0  \n",
              "47      0            2             2            0    10         0  \n",
              "85      0            2             2            0    10         0  \n",
              "94      0            1             2            0    10         0  \n",
              "\n",
              "[5 rows x 38 columns]"
            ]
          },
          "execution_count": 91,
          "metadata": {},
          "output_type": "execute_result"
        }
      ],
      "source": [
        "df.head()"
      ]
    },
    {
      "cell_type": "code",
      "execution_count": 92,
      "metadata": {
        "colab": {
          "base_uri": "https://localhost:8080/"
        },
        "id": "PXVceN5Dyr5Z",
        "outputId": "e9572e37-5b49-43a6-d16c-2f92db567485"
      },
      "outputs": [
        {
          "data": {
            "text/plain": [
              "Index(['commit_hash', 'sample_id', 'reviewer_id', 'smell', 'severity',\n",
              "       'review_timestamp', 'type', 'code_name', 'repository', 'start_line',\n",
              "       'end_line', 'link', 'relevant', 'lines', 'agglom_num', 'agglom_list',\n",
              "       'num_commits', 'reason', 'NumberOfAccessedVariables',\n",
              "       'CouplingDispersion', 'ChangingClasses', 'MethodLinesOfCode',\n",
              "       'CyclomaticComplexity', 'MaxNesting', 'CouplingIntensity',\n",
              "       'ParameterCount', 'MaxCallChain', 'ChangingMethods', 'repeticoes',\n",
              "       'arquivo', 'reviewer_cod', 'reviewer', 'label', 'cod_severity',\n",
              "       'cod_relevant', 'cod_reviewer', 'hora', 'cod_hora'],\n",
              "      dtype='object')"
            ]
          },
          "execution_count": 92,
          "metadata": {},
          "output_type": "execute_result"
        }
      ],
      "source": [
        "df.columns\n",
        "#['reviewer_id','severity','review_timestamp','repository', 'start_line',\n",
        "#       'end_line', 'link', 'relevant', 'lines', 'num_commits', 'reason',\n",
        "#       'NumberOfAccessedVariables', 'CouplingDispersion', 'ChangingClasses',\n",
        "#       'MethodLinesOfCode', 'CyclomaticComplexity', 'MaxNesting',\n",
        "#       'CouplingIntensity', 'ParameterCount', 'MaxCallChain',\n",
        "#       'ChangingMethods', 'repeticoes', 'arquivo', 'label', 'cod_severity',\n",
        "#       'cod_relevant'],"
      ]
    },
    {
      "cell_type": "code",
      "execution_count": null,
      "metadata": {
        "id": "J03qrm_sHq1s"
      },
      "outputs": [],
      "source": [
        "#df.repository.value_counts()"
      ]
    },
    {
      "cell_type": "code",
      "execution_count": 93,
      "metadata": {
        "colab": {
          "base_uri": "https://localhost:8080/",
          "height": 381
        },
        "id": "qslVFLF-d5Rv",
        "outputId": "eea55068-57f5-4bbe-ae49-225e3caf549c"
      },
      "outputs": [
        {
          "name": "stdout",
          "output_type": "stream",
          "text": [
            "(702, 8)\n"
          ]
        },
        {
          "data": {
            "text/html": [
              "<div>\n",
              "<style scoped>\n",
              "    .dataframe tbody tr th:only-of-type {\n",
              "        vertical-align: middle;\n",
              "    }\n",
              "\n",
              "    .dataframe tbody tr th {\n",
              "        vertical-align: top;\n",
              "    }\n",
              "\n",
              "    .dataframe thead th {\n",
              "        text-align: right;\n",
              "    }\n",
              "</style>\n",
              "<table border=\"1\" class=\"dataframe\">\n",
              "  <thead>\n",
              "    <tr style=\"text-align: right;\">\n",
              "      <th></th>\n",
              "      <th>agglom_num</th>\n",
              "      <th>cod_reviewer</th>\n",
              "      <th>lines</th>\n",
              "      <th>num_commits</th>\n",
              "      <th>label</th>\n",
              "      <th>cod_severity</th>\n",
              "      <th>cod_relevant</th>\n",
              "      <th>cod_hora</th>\n",
              "    </tr>\n",
              "  </thead>\n",
              "  <tbody>\n",
              "    <tr>\n",
              "      <th>9520</th>\n",
              "      <td>2.0</td>\n",
              "      <td>1</td>\n",
              "      <td>39</td>\n",
              "      <td>192</td>\n",
              "      <td>1</td>\n",
              "      <td>1</td>\n",
              "      <td>2</td>\n",
              "      <td>0</td>\n",
              "    </tr>\n",
              "    <tr>\n",
              "      <th>9990</th>\n",
              "      <td>2.0</td>\n",
              "      <td>0</td>\n",
              "      <td>26</td>\n",
              "      <td>32</td>\n",
              "      <td>1</td>\n",
              "      <td>2</td>\n",
              "      <td>2</td>\n",
              "      <td>0</td>\n",
              "    </tr>\n",
              "    <tr>\n",
              "      <th>47</th>\n",
              "      <td>1.0</td>\n",
              "      <td>0</td>\n",
              "      <td>7</td>\n",
              "      <td>68</td>\n",
              "      <td>0</td>\n",
              "      <td>2</td>\n",
              "      <td>2</td>\n",
              "      <td>0</td>\n",
              "    </tr>\n",
              "    <tr>\n",
              "      <th>6245</th>\n",
              "      <td>2.0</td>\n",
              "      <td>1</td>\n",
              "      <td>92</td>\n",
              "      <td>14</td>\n",
              "      <td>0</td>\n",
              "      <td>2</td>\n",
              "      <td>2</td>\n",
              "      <td>0</td>\n",
              "    </tr>\n",
              "    <tr>\n",
              "      <th>7369</th>\n",
              "      <td>2.0</td>\n",
              "      <td>1</td>\n",
              "      <td>29</td>\n",
              "      <td>120</td>\n",
              "      <td>0</td>\n",
              "      <td>2</td>\n",
              "      <td>2</td>\n",
              "      <td>1</td>\n",
              "    </tr>\n",
              "    <tr>\n",
              "      <th>803</th>\n",
              "      <td>2.0</td>\n",
              "      <td>1</td>\n",
              "      <td>16</td>\n",
              "      <td>6</td>\n",
              "      <td>0</td>\n",
              "      <td>1</td>\n",
              "      <td>1</td>\n",
              "      <td>0</td>\n",
              "    </tr>\n",
              "    <tr>\n",
              "      <th>9281</th>\n",
              "      <td>2.0</td>\n",
              "      <td>2</td>\n",
              "      <td>60</td>\n",
              "      <td>72</td>\n",
              "      <td>1</td>\n",
              "      <td>1</td>\n",
              "      <td>2</td>\n",
              "      <td>0</td>\n",
              "    </tr>\n",
              "    <tr>\n",
              "      <th>3807</th>\n",
              "      <td>2.0</td>\n",
              "      <td>0</td>\n",
              "      <td>40</td>\n",
              "      <td>10</td>\n",
              "      <td>1</td>\n",
              "      <td>1</td>\n",
              "      <td>0</td>\n",
              "      <td>0</td>\n",
              "    </tr>\n",
              "    <tr>\n",
              "      <th>8108</th>\n",
              "      <td>1.0</td>\n",
              "      <td>1</td>\n",
              "      <td>46</td>\n",
              "      <td>32</td>\n",
              "      <td>1</td>\n",
              "      <td>2</td>\n",
              "      <td>2</td>\n",
              "      <td>0</td>\n",
              "    </tr>\n",
              "    <tr>\n",
              "      <th>8861</th>\n",
              "      <td>2.0</td>\n",
              "      <td>2</td>\n",
              "      <td>39</td>\n",
              "      <td>192</td>\n",
              "      <td>0</td>\n",
              "      <td>2</td>\n",
              "      <td>2</td>\n",
              "      <td>0</td>\n",
              "    </tr>\n",
              "  </tbody>\n",
              "</table>\n",
              "</div>"
            ],
            "text/plain": [
              "      agglom_num  cod_reviewer  lines  num_commits  label  cod_severity  \\\n",
              "9520         2.0             1     39          192      1             1   \n",
              "9990         2.0             0     26           32      1             2   \n",
              "47           1.0             0      7           68      0             2   \n",
              "6245         2.0             1     92           14      0             2   \n",
              "7369         2.0             1     29          120      0             2   \n",
              "803          2.0             1     16            6      0             1   \n",
              "9281         2.0             2     60           72      1             1   \n",
              "3807         2.0             0     40           10      1             1   \n",
              "8108         1.0             1     46           32      1             2   \n",
              "8861         2.0             2     39          192      0             2   \n",
              "\n",
              "      cod_relevant  cod_hora  \n",
              "9520             2         0  \n",
              "9990             2         0  \n",
              "47               2         0  \n",
              "6245             2         0  \n",
              "7369             2         1  \n",
              "803              1         0  \n",
              "9281             2         0  \n",
              "3807             0         0  \n",
              "8108             2         0  \n",
              "8861             2         0  "
            ]
          },
          "execution_count": 93,
          "metadata": {},
          "output_type": "execute_result"
        }
      ],
      "source": [
        "## Mantendo somente os atributos do MLCQ\n",
        "## mantendo somente as linhas que tiveram match com o organic para que futura comparação seja feita com os mesmos dados \n",
        "## df_MLCQ = df[['label','reviewer_id','cod_severity','review_timestamp','lines','cod_relevant']] # + newcolumns]\n",
        "\n",
        "df_MLCQ = df[['agglom_num','cod_reviewer','lines','num_commits','label','cod_severity','cod_relevant', 'cod_hora']]\n",
        "print(df_MLCQ.shape)\n",
        "df_MLCQ.sample(10)"
      ]
    },
    {
      "cell_type": "code",
      "execution_count": 94,
      "metadata": {
        "id": "kRZjaWuTaIZ6"
      },
      "outputs": [],
      "source": [
        "# ainda sem conjunto de validacao\n",
        "from sklearn.model_selection import train_test_split\n",
        "x_train, x_test, y_train, y_test = train_test_split(df_MLCQ.loc[:,df_MLCQ.columns != 'label'], \n",
        "                                                    df_MLCQ['label'], test_size=0.2, \n",
        "                                                    stratify=df_MLCQ.label)"
      ]
    },
    {
      "cell_type": "code",
      "execution_count": 95,
      "metadata": {
        "colab": {
          "base_uri": "https://localhost:8080/"
        },
        "id": "WfRgDhEMVr0c",
        "outputId": "5d184cf1-5930-4abd-f998-536a460e0860"
      },
      "outputs": [
        {
          "name": "stdout",
          "output_type": "stream",
          "text": [
            "(561, 7)\n",
            "(141, 7)\n",
            "(561,)\n",
            "(141,)\n"
          ]
        }
      ],
      "source": [
        "print(x_train.shape)\n",
        "print(x_test.shape)\n",
        "print(y_train.shape)\n",
        "print(y_test.shape)"
      ]
    },
    {
      "cell_type": "code",
      "execution_count": 96,
      "metadata": {
        "id": "CL-Rz9rVVd_y"
      },
      "outputs": [],
      "source": [
        "# Scaling the Train and Test feature set \n",
        "#from sklearn.preprocessing import StandardScaler\n",
        "#scaler = StandardScaler()\n",
        "\n",
        "from sklearn.preprocessing import MinMaxScaler\n",
        "scaler = MinMaxScaler()\n",
        "x_train_scaled = scaler.fit_transform(x_train)\n",
        "x_test_scaled = scaler.transform(x_test)"
      ]
    },
    {
      "cell_type": "code",
      "execution_count": null,
      "metadata": {
        "id": "iGHW-RQrQWWu"
      },
      "outputs": [],
      "source": [
        "### ATENCAO: AINDA FALTA FAZER A NORMALZICAO ABAIXO\n",
        "### Fazer aqui a normalizacao\n",
        "\n",
        "#x_train_norm = x_train\n",
        "#x_test_norm = x_test"
      ]
    },
    {
      "cell_type": "markdown",
      "metadata": {
        "id": "EC_eMQ9PVd_0"
      },
      "source": [
        "# Funcoes auxiliares"
      ]
    },
    {
      "cell_type": "code",
      "execution_count": 97,
      "metadata": {
        "id": "4KvdhPUOVd_0"
      },
      "outputs": [],
      "source": [
        "## Plota a matriz de confusão\n",
        "def matriz_confusao(y_pred, y_test,classes):\n",
        "    confMatrix = confusion_matrix(y_pred, y_test)\n",
        "\n",
        "    ax = plt.subplot()\n",
        "    sns.heatmap(confMatrix, annot=True, fmt=\".0f\", cmap='twilight', linewidths=1, linecolor='black')\n",
        "    plt.xlabel('Real')\n",
        "    plt.ylabel('Previsto')\n",
        "    plt.title('Matriz de Confusão')\n",
        "\n",
        "    # Colocar os nomes\n",
        "    ax.xaxis.set_ticklabels(classes)\n",
        "    ax.yaxis.set_ticklabels(classes)\n",
        "    plt.show()"
      ]
    },
    {
      "cell_type": "code",
      "execution_count": 98,
      "metadata": {
        "id": "7fp5Vp3mVd_1"
      },
      "outputs": [],
      "source": [
        "from sklearn.metrics import accuracy_score, cohen_kappa_score\n",
        "def print_indicadores(y_pred, y_test):\n",
        "    print()\n",
        "    print(f\"Acurácia:\\t{accuracy_score(y_pred, y_test):.2f}\")\n",
        "    print(f\"Kappa:\\t\\t{cohen_kappa_score(y_pred, y_test):.2f}\", )\n",
        "    print()"
      ]
    },
    {
      "cell_type": "markdown",
      "metadata": {
        "id": "FJ37DjXUrwhk"
      },
      "source": [
        "# - 1 KNN com gridsearch"
      ]
    },
    {
      "cell_type": "code",
      "execution_count": 99,
      "metadata": {
        "id": "jNdQmqYmrvnh"
      },
      "outputs": [],
      "source": [
        "#Import knearest neighbors Classifier model\n",
        "from sklearn.neighbors import KNeighborsClassifier\n",
        "from sklearn.metrics import confusion_matrix"
      ]
    },
    {
      "cell_type": "code",
      "execution_count": 100,
      "metadata": {
        "id": "-Lx68lFyr1db"
      },
      "outputs": [],
      "source": [
        "from sklearn.model_selection import GridSearchCV\n",
        "grid_params = {\n",
        "    'n_neighbors': [3,5,7,11,15,19],\n",
        "    'weights' : ['uniform','distance'],\n",
        "    'metric'  : ['euclidean','manhattan']\n",
        "}"
      ]
    },
    {
      "cell_type": "code",
      "execution_count": 101,
      "metadata": {
        "id": "Xf0bE7Jvr40D"
      },
      "outputs": [],
      "source": [
        "gs = GridSearchCV(KNeighborsClassifier(),grid_params,verbose = 1, cv = 3, n_jobs = -1)"
      ]
    },
    {
      "cell_type": "code",
      "execution_count": 102,
      "metadata": {
        "colab": {
          "base_uri": "https://localhost:8080/"
        },
        "id": "h83aG2tzr7fP",
        "outputId": "be0c2bd1-7197-416d-b7b1-284a4a485b0b"
      },
      "outputs": [
        {
          "name": "stdout",
          "output_type": "stream",
          "text": [
            "Fitting 3 folds for each of 24 candidates, totalling 72 fits\n"
          ]
        }
      ],
      "source": [
        "knn = gs.fit(x_train_scaled, y_train)"
      ]
    },
    {
      "cell_type": "code",
      "execution_count": 103,
      "metadata": {
        "colab": {
          "base_uri": "https://localhost:8080/"
        },
        "id": "C9WMbYqZsAyF",
        "outputId": "52ed23f2-bc01-4cd7-8815-02400cf6e8c8"
      },
      "outputs": [
        {
          "name": "stdout",
          "output_type": "stream",
          "text": [
            "Melhor modelo:  0.7254901960784315\n",
            "Hiperparametros:{'metric': 'manhattan', 'n_neighbors': 7, 'weights': 'uniform'}\n",
            "Estimators:     KNeighborsClassifier(metric='manhattan', n_neighbors=7)\n",
            "Id:             16\n"
          ]
        }
      ],
      "source": [
        "## imprimindo informacoes do fit\n",
        "print(f'Melhor modelo:  {knn.best_score_}')\n",
        "print(f'Hiperparametros:{knn.best_params_}')\n",
        "print(f'Estimators:     {knn.best_estimator_}')\n",
        "print(f'Id:             {knn.best_index_}')"
      ]
    },
    {
      "cell_type": "code",
      "execution_count": 104,
      "metadata": {
        "id": "h6LyDCtJVd_5"
      },
      "outputs": [],
      "source": [
        "final_model = knn.best_estimator_"
      ]
    },
    {
      "cell_type": "code",
      "execution_count": 105,
      "metadata": {
        "id": "Al-tKxwXVd_6"
      },
      "outputs": [],
      "source": [
        "y_test_predicted_knn = final_model.predict(x_test_scaled)\n",
        "y_test_predicted_knn_indexes = y_test_predicted_knn\n",
        "y_test_indexes = y_test.values"
      ]
    },
    {
      "cell_type": "code",
      "execution_count": 106,
      "metadata": {
        "colab": {
          "base_uri": "https://localhost:8080/",
          "height": 295
        },
        "id": "hz7Zv0CqVd_7",
        "outputId": "7bb22673-b436-4f70-9651-c22cf0350c10"
      },
      "outputs": [
        {
          "data": {
            "image/png": "[encoded data removed]",
            "text/plain": [
              "<Figure size 640x480 with 2 Axes>"
            ]
          },
          "metadata": {},
          "output_type": "display_data"
        }
      ],
      "source": [
        "matriz_confusao(y_test_predicted_knn_indexes, y_test_indexes,list(modelo_label.inverse_transform([0, 1])))"
      ]
    },
    {
      "cell_type": "code",
      "execution_count": 107,
      "metadata": {
        "colab": {
          "base_uri": "https://localhost:8080/"
        },
        "id": "53yZYnVsVd_8",
        "outputId": "5f6435b8-67f5-44eb-b543-6f534434e649"
      },
      "outputs": [
        {
          "name": "stdout",
          "output_type": "stream",
          "text": [
            "\n",
            "Acurácia:\t0.72\n",
            "Kappa:\t\t0.43\n",
            "\n"
          ]
        }
      ],
      "source": [
        "print_indicadores(y_test_predicted_knn_indexes, y_test_indexes)"
      ]
    },
    {
      "cell_type": "markdown",
      "metadata": {
        "id": "pAXAw17I2_el"
      },
      "source": [
        "# 2 RF com grid search"
      ]
    },
    {
      "cell_type": "code",
      "execution_count": 108,
      "metadata": {
        "id": "eue-FLyFzbh8"
      },
      "outputs": [],
      "source": [
        "from sklearn.ensemble import RandomForestClassifier\n",
        "from sklearn.metrics import confusion_matrix\n",
        "grid_params = {\n",
        "    'min_samples_leaf': [3,5,10,15]\n",
        "}"
      ]
    },
    {
      "cell_type": "code",
      "execution_count": 109,
      "metadata": {
        "id": "H_If3hHmzmfJ"
      },
      "outputs": [],
      "source": [
        "gs = GridSearchCV(RandomForestClassifier(random_state=seed),grid_params,verbose = 1, cv = 3, n_jobs = -1)\n",
        "#a"
      ]
    },
    {
      "cell_type": "code",
      "execution_count": 110,
      "metadata": {
        "colab": {
          "base_uri": "https://localhost:8080/"
        },
        "id": "ydj2DMvQ0YXN",
        "outputId": "342889a0-fd58-4769-cbe4-e758a16653d9"
      },
      "outputs": [
        {
          "name": "stdout",
          "output_type": "stream",
          "text": [
            "Fitting 3 folds for each of 4 candidates, totalling 12 fits\n"
          ]
        }
      ],
      "source": [
        "RF = gs.fit(x_train, y_train)\n",
        "#b"
      ]
    },
    {
      "cell_type": "code",
      "execution_count": 111,
      "metadata": {
        "id": "oTHfMq0pVeAB"
      },
      "outputs": [],
      "source": [
        "final_model = RF.best_estimator_\n",
        "#c"
      ]
    },
    {
      "cell_type": "code",
      "execution_count": 112,
      "metadata": {
        "id": "OmylltaoVeAD"
      },
      "outputs": [],
      "source": [
        "# Previsão\n",
        "# aplicando o modelo na base de teste\n",
        "y_test_predicted_RF = final_model.predict(x_test)\n",
        "y_test_predicted_RF_indexes = y_test_predicted_RF\n",
        "y_test_indexes = y_test.values"
      ]
    },
    {
      "cell_type": "code",
      "execution_count": 113,
      "metadata": {
        "colab": {
          "base_uri": "https://localhost:8080/",
          "height": 295
        },
        "id": "jKHWujFwVeAD",
        "outputId": "4e0cbae6-e5a8-4762-94a3-b7b4a6a538ab"
      },
      "outputs": [
        {
          "data": {
            "image/png": "[encoded data removed]",
            "text/plain": [
              "<Figure size 640x480 with 2 Axes>"
            ]
          },
          "metadata": {},
          "output_type": "display_data"
        }
      ],
      "source": [
        "matriz_confusao(y_test_predicted_RF_indexes, y_test_indexes,list(modelo_label.inverse_transform([0, 1])))"
      ]
    },
    {
      "cell_type": "code",
      "execution_count": 114,
      "metadata": {
        "colab": {
          "base_uri": "https://localhost:8080/"
        },
        "id": "d4Pye77mVeAD",
        "outputId": "757a952d-1fc6-4d73-aa97-4ab4a72ab4c4"
      },
      "outputs": [
        {
          "name": "stdout",
          "output_type": "stream",
          "text": [
            "\n",
            "Acurácia:\t0.77\n",
            "Kappa:\t\t0.51\n",
            "\n"
          ]
        }
      ],
      "source": [
        "print_indicadores(y_test_predicted_RF_indexes, y_test_indexes)"
      ]
    },
    {
      "cell_type": "markdown",
      "metadata": {
        "id": "1Tn-b7b2-HDK"
      },
      "source": [
        "# 2.1 Melhorando o RF\n",
        "\n",
        "Nao melhorou"
      ]
    },
    {
      "cell_type": "code",
      "execution_count": 115,
      "metadata": {
        "colab": {
          "base_uri": "https://localhost:8080/"
        },
        "id": "HloK4RLBVeAH",
        "outputId": "8f8031e4-8c0f-4055-feab-cc6786192cf3"
      },
      "outputs": [
        {
          "data": {
            "text/plain": [
              "['agglom_num', 'cod_reviewer', 'lines', 'num_commits', 'label']"
            ]
          },
          "execution_count": 115,
          "metadata": {},
          "output_type": "execute_result"
        }
      ],
      "source": [
        "# Remove as features que não foram consideradas importantes no modelo\n",
        "feature_imp = zip(df_MLCQ.columns.values, RF.best_estimator_.feature_importances_)\n",
        "features = [val[0] for val in list(feature_imp) if val[1] > 0.02]\n",
        "features"
      ]
    },
    {
      "cell_type": "code",
      "execution_count": 116,
      "metadata": {
        "colab": {
          "base_uri": "https://localhost:8080/",
          "height": 206
        },
        "id": "1qggStOhVeAH",
        "outputId": "0cceaf91-d65f-4051-8524-9e427133a017"
      },
      "outputs": [
        {
          "data": {
            "text/html": [
              "<div>\n",
              "<style scoped>\n",
              "    .dataframe tbody tr th:only-of-type {\n",
              "        vertical-align: middle;\n",
              "    }\n",
              "\n",
              "    .dataframe tbody tr th {\n",
              "        vertical-align: top;\n",
              "    }\n",
              "\n",
              "    .dataframe thead th {\n",
              "        text-align: right;\n",
              "    }\n",
              "</style>\n",
              "<table border=\"1\" class=\"dataframe\">\n",
              "  <thead>\n",
              "    <tr style=\"text-align: right;\">\n",
              "      <th></th>\n",
              "      <th>agglom_num</th>\n",
              "      <th>cod_reviewer</th>\n",
              "      <th>lines</th>\n",
              "      <th>num_commits</th>\n",
              "      <th>label</th>\n",
              "    </tr>\n",
              "  </thead>\n",
              "  <tbody>\n",
              "    <tr>\n",
              "      <th>39</th>\n",
              "      <td>1.0</td>\n",
              "      <td>0</td>\n",
              "      <td>29</td>\n",
              "      <td>68</td>\n",
              "      <td>1</td>\n",
              "    </tr>\n",
              "    <tr>\n",
              "      <th>44</th>\n",
              "      <td>2.0</td>\n",
              "      <td>0</td>\n",
              "      <td>28</td>\n",
              "      <td>68</td>\n",
              "      <td>0</td>\n",
              "    </tr>\n",
              "    <tr>\n",
              "      <th>47</th>\n",
              "      <td>1.0</td>\n",
              "      <td>0</td>\n",
              "      <td>7</td>\n",
              "      <td>68</td>\n",
              "      <td>0</td>\n",
              "    </tr>\n",
              "    <tr>\n",
              "      <th>85</th>\n",
              "      <td>2.0</td>\n",
              "      <td>0</td>\n",
              "      <td>27</td>\n",
              "      <td>27</td>\n",
              "      <td>0</td>\n",
              "    </tr>\n",
              "    <tr>\n",
              "      <th>94</th>\n",
              "      <td>2.0</td>\n",
              "      <td>0</td>\n",
              "      <td>139</td>\n",
              "      <td>22</td>\n",
              "      <td>0</td>\n",
              "    </tr>\n",
              "  </tbody>\n",
              "</table>\n",
              "</div>"
            ],
            "text/plain": [
              "    agglom_num  cod_reviewer  lines  num_commits  label\n",
              "39         1.0             0     29           68      1\n",
              "44         2.0             0     28           68      0\n",
              "47         1.0             0      7           68      0\n",
              "85         2.0             0     27           27      0\n",
              "94         2.0             0    139           22      0"
            ]
          },
          "execution_count": 116,
          "metadata": {},
          "output_type": "execute_result"
        }
      ],
      "source": [
        "df_MLCQ_cleanRF = df_MLCQ[features]\n",
        "df_MLCQ_cleanRF.head()\n"
      ]
    },
    {
      "cell_type": "code",
      "execution_count": 117,
      "metadata": {
        "id": "yEP1fuUbVeAI"
      },
      "outputs": [],
      "source": [
        "x_trainRF, x_testRF, y_trainRF, y_testRF = train_test_split(df_MLCQ_cleanRF.loc[:,df_MLCQ_cleanRF.columns != 'label'], \n",
        "                                                    df_MLCQ_cleanRF['label'], test_size=0.2, \n",
        "                                                    stratify=df_MLCQ_cleanRF.label)"
      ]
    },
    {
      "cell_type": "code",
      "execution_count": 118,
      "metadata": {
        "colab": {
          "base_uri": "https://localhost:8080/"
        },
        "id": "uge9u_p0VeAJ",
        "outputId": "136bb691-9810-4824-fe47-93c65641cf90"
      },
      "outputs": [
        {
          "name": "stdout",
          "output_type": "stream",
          "text": [
            "Fitting 3 folds for each of 4 candidates, totalling 12 fits\n"
          ]
        }
      ],
      "source": [
        "RF_clean_model = gs.fit(x_trainRF, y_trainRF)\n",
        "#b"
      ]
    },
    {
      "cell_type": "code",
      "execution_count": 119,
      "metadata": {
        "id": "LhhpcQ8ENjvF"
      },
      "outputs": [],
      "source": [
        "final_model = RF_clean_model.best_estimator_\n",
        "#c"
      ]
    },
    {
      "cell_type": "code",
      "execution_count": 120,
      "metadata": {
        "id": "o_8LpXChNqpk"
      },
      "outputs": [],
      "source": [
        "# Previsão\n",
        "# aplicando o modelo na base de teste\n",
        "y_test_predicted_RF = final_model.predict(x_testRF)\n",
        "y_test_predicted_RF_indexes = y_test_predicted_RF\n",
        "y_test_indexes = y_testRF.values"
      ]
    },
    {
      "cell_type": "code",
      "execution_count": 121,
      "metadata": {
        "colab": {
          "base_uri": "https://localhost:8080/",
          "height": 295
        },
        "id": "5hVY6PGvVeAK",
        "outputId": "99e63b63-8628-48bf-8094-9ae6a0935e80"
      },
      "outputs": [
        {
          "data": {
            "image/png": "[encoded data removed]",
            "text/plain": [
              "<Figure size 640x480 with 2 Axes>"
            ]
          },
          "metadata": {},
          "output_type": "display_data"
        }
      ],
      "source": [
        "matriz_confusao(y_test_predicted_RF_indexes, y_test_indexes,list(modelo_label.inverse_transform([0, 1])))"
      ]
    },
    {
      "cell_type": "code",
      "execution_count": 122,
      "metadata": {
        "colab": {
          "base_uri": "https://localhost:8080/"
        },
        "id": "FGo0FDhvVeAL",
        "outputId": "99d4ad05-8faf-4f97-ffcd-0e160163e8a4"
      },
      "outputs": [
        {
          "name": "stdout",
          "output_type": "stream",
          "text": [
            "\n",
            "Acurácia:\t0.70\n",
            "Kappa:\t\t0.37\n",
            "\n"
          ]
        }
      ],
      "source": [
        "print_indicadores(y_test_predicted_RF_indexes, y_test_indexes)"
      ]
    },
    {
      "cell_type": "markdown",
      "metadata": {
        "id": "rCix5d7RVeAM"
      },
      "source": [
        "# 3 Regressao Logistica"
      ]
    },
    {
      "cell_type": "code",
      "execution_count": 123,
      "metadata": {
        "id": "OC9ED7-oOl2U"
      },
      "outputs": [],
      "source": [
        "#x_train_scaled = scaler.fit_transform(x_train)\n",
        "#x_test_scaled = scaler.transform(x_test)"
      ]
    },
    {
      "cell_type": "code",
      "execution_count": 125,
      "metadata": {
        "colab": {
          "base_uri": "https://localhost:8080/",
          "height": 366
        },
        "id": "KSyK0QgHOmwy",
        "outputId": "ae21afad-a437-4fd8-9050-66df1593d154"
      },
      "outputs": [
        {
          "data": {
            "image/png": "[encoded data removed]",
            "text/plain": [
              "<Figure size 640x480 with 2 Axes>"
            ]
          },
          "metadata": {},
          "output_type": "display_data"
        },
        {
          "name": "stdout",
          "output_type": "stream",
          "text": [
            "\n",
            "Acurácia:\t0.78\n",
            "Kappa:\t\t0.54\n",
            "\n"
          ]
        }
      ],
      "source": [
        "from sklearn.linear_model import LogisticRegression\n",
        "random_state = 10\n",
        "\n",
        "LR = LogisticRegression(random_state=random_state)\n",
        "LR.fit(x_train_scaled, y_train)\n",
        "\n",
        "y_test_predicted_LR = LR.predict(x_test_scaled)\n",
        "y_test_predicted_LR_indexes = y_test_predicted_LR\n",
        "y_test_indexes = y_test.values\n",
        "\n",
        "\n",
        "matriz_confusao(y_test_predicted_LR_indexes, y_test_indexes,list(modelo_label.inverse_transform([0, 1])))\n",
        "print_indicadores(y_test_predicted_LR_indexes, y_test)"
      ]
    },
    {
      "cell_type": "markdown",
      "metadata": {
        "id": "VZsh162dVeAN"
      },
      "source": [
        "SVM - Classificacao - Com Grid Search"
      ]
    },
    {
      "cell_type": "code",
      "execution_count": 126,
      "metadata": {
        "id": "GamwQCN2VeAN"
      },
      "outputs": [],
      "source": [
        "from sklearn.preprocessing import StandardScaler\n",
        "from sklearn.svm import SVC\n"
      ]
    },
    {
      "cell_type": "code",
      "execution_count": 127,
      "metadata": {
        "id": "FqfdC3N6VeAN"
      },
      "outputs": [],
      "source": [
        "# Scaling the Train and Test feature set \n",
        "from sklearn.preprocessing import StandardScaler\n",
        "#scaler = StandardScaler()\n",
        "#X_train_scaled = scaler.fit_transform(x_train_scaled)\n",
        "#X_test_scaled = scaler.transform(x_test_scaled)"
      ]
    },
    {
      "cell_type": "code",
      "execution_count": 128,
      "metadata": {
        "id": "7V1qlp0uVeAO"
      },
      "outputs": [],
      "source": [
        "params_grid = [{'kernel': ['rbf'], 'gamma': [1e-3, 1e-4],\n",
        "                     'C': [1, 10, 100, 1000]},\n",
        "                    {'kernel': ['linear'], 'C': [1, 10, 100, 1000]}]"
      ]
    },
    {
      "cell_type": "code",
      "execution_count": 129,
      "metadata": {
        "colab": {
          "base_uri": "https://localhost:8080/"
        },
        "id": "osslIs-wVeAP",
        "outputId": "33cac943-0f13-42a8-d0f1-ce0f6bb10e95"
      },
      "outputs": [
        {
          "data": {
            "text/html": [
              "<style>#sk-container-id-7 {color: black;background-color: white;}#sk-container-id-7 pre{padding: 0;}#sk-container-id-7 div.sk-toggleable {background-color: white;}#sk-container-id-7 label.sk-toggleable__label {cursor: pointer;display: block;width: 100%;margin-bottom: 0;padding: 0.3em;box-sizing: border-box;text-align: center;}#sk-container-id-7 label.sk-toggleable__label-arrow:before {content: \"▸\";float: left;margin-right: 0.25em;color: #696969;}#sk-container-id-7 label.sk-toggleable__label-arrow:hover:before {color: black;}#sk-container-id-7 div.sk-estimator:hover label.sk-toggleable__label-arrow:before {color: black;}#sk-container-id-7 div.sk-toggleable__content {max-height: 0;max-width: 0;overflow: hidden;text-align: left;background-color: #f0f8ff;}#sk-container-id-7 div.sk-toggleable__content pre {margin: 0.2em;color: black;border-radius: 0.25em;background-color: #f0f8ff;}#sk-container-id-7 input.sk-toggleable__control:checked~div.sk-toggleable__content {max-height: 200px;max-width: 100%;overflow: auto;}#sk-container-id-7 input.sk-toggleable__control:checked~label.sk-toggleable__label-arrow:before {content: \"▾\";}#sk-container-id-7 div.sk-estimator input.sk-toggleable__control:checked~label.sk-toggleable__label {background-color: #d4ebff;}#sk-container-id-7 div.sk-label input.sk-toggleable__control:checked~label.sk-toggleable__label {background-color: #d4ebff;}#sk-container-id-7 input.sk-hidden--visually {border: 0;clip: rect(1px 1px 1px 1px);clip: rect(1px, 1px, 1px, 1px);height: 1px;margin: -1px;overflow: hidden;padding: 0;position: absolute;width: 1px;}#sk-container-id-7 div.sk-estimator {font-family: monospace;background-color: #f0f8ff;border: 1px dotted black;border-radius: 0.25em;box-sizing: border-box;margin-bottom: 0.5em;}#sk-container-id-7 div.sk-estimator:hover {background-color: #d4ebff;}#sk-container-id-7 div.sk-parallel-item::after {content: \"\";width: 100%;border-bottom: 1px solid gray;flex-grow: 1;}#sk-container-id-7 div.sk-label:hover label.sk-toggleable__label {background-color: #d4ebff;}#sk-container-id-7 div.sk-serial::before {content: \"\";position: absolute;border-left: 1px solid gray;box-sizing: border-box;top: 0;bottom: 0;left: 50%;z-index: 0;}#sk-container-id-7 div.sk-serial {display: flex;flex-direction: column;align-items: center;background-color: white;padding-right: 0.2em;padding-left: 0.2em;position: relative;}#sk-container-id-7 div.sk-item {position: relative;z-index: 1;}#sk-container-id-7 div.sk-parallel {display: flex;align-items: stretch;justify-content: center;background-color: white;position: relative;}#sk-container-id-7 div.sk-item::before, #sk-container-id-7 div.sk-parallel-item::before {content: \"\";position: absolute;border-left: 1px solid gray;box-sizing: border-box;top: 0;bottom: 0;left: 50%;z-index: -1;}#sk-container-id-7 div.sk-parallel-item {display: flex;flex-direction: column;z-index: 1;position: relative;background-color: white;}#sk-container-id-7 div.sk-parallel-item:first-child::after {align-self: flex-end;width: 50%;}#sk-container-id-7 div.sk-parallel-item:last-child::after {align-self: flex-start;width: 50%;}#sk-container-id-7 div.sk-parallel-item:only-child::after {width: 0;}#sk-container-id-7 div.sk-dashed-wrapped {border: 1px dashed gray;margin: 0 0.4em 0.5em 0.4em;box-sizing: border-box;padding-bottom: 0.4em;background-color: white;}#sk-container-id-7 div.sk-label label {font-family: monospace;font-weight: bold;display: inline-block;line-height: 1.2em;}#sk-container-id-7 div.sk-label-container {text-align: center;}#sk-container-id-7 div.sk-container {/* jupyter's `normalize.less` sets `[hidden] { display: none; }` but bootstrap.min.css set `[hidden] { display: none !important; }` so we also need the `!important` here to be able to override the default hidden behavior on the sphinx rendered scikit-learn.org. See: https://github.com/scikit-learn/scikit-learn/issues/21755 */display: inline-block !important;position: relative;}#sk-container-id-7 div.sk-text-repr-fallback {display: none;}</style><div id=\"sk-container-id-7\" class=\"sk-top-container\"><div class=\"sk-text-repr-fallback\"><pre>GridSearchCV(cv=5, estimator=SVC(),\n",
              "             param_grid=[{&#x27;C&#x27;: [1, 10, 100, 1000], &#x27;gamma&#x27;: [0.001, 0.0001],\n",
              "                          &#x27;kernel&#x27;: [&#x27;rbf&#x27;]},\n",
              "                         {&#x27;C&#x27;: [1, 10, 100, 1000], &#x27;kernel&#x27;: [&#x27;linear&#x27;]}])</pre><b>In a Jupyter environment, please rerun this cell to show the HTML representation or trust the notebook. <br />On GitHub, the HTML representation is unable to render, please try loading this page with nbviewer.org.</b></div><div class=\"sk-container\" hidden><div class=\"sk-item sk-dashed-wrapped\"><div class=\"sk-label-container\"><div class=\"sk-label sk-toggleable\"><input class=\"sk-toggleable__control sk-hidden--visually\" id=\"sk-estimator-id-7\" type=\"checkbox\" ><label for=\"sk-estimator-id-7\" class=\"sk-toggleable__label sk-toggleable__label-arrow\">GridSearchCV</label><div class=\"sk-toggleable__content\"><pre>GridSearchCV(cv=5, estimator=SVC(),\n",
              "             param_grid=[{&#x27;C&#x27;: [1, 10, 100, 1000], &#x27;gamma&#x27;: [0.001, 0.0001],\n",
              "                          &#x27;kernel&#x27;: [&#x27;rbf&#x27;]},\n",
              "                         {&#x27;C&#x27;: [1, 10, 100, 1000], &#x27;kernel&#x27;: [&#x27;linear&#x27;]}])</pre></div></div></div><div class=\"sk-parallel\"><div class=\"sk-parallel-item\"><div class=\"sk-item\"><div class=\"sk-label-container\"><div class=\"sk-label sk-toggleable\"><input class=\"sk-toggleable__control sk-hidden--visually\" id=\"sk-estimator-id-8\" type=\"checkbox\" ><label for=\"sk-estimator-id-8\" class=\"sk-toggleable__label sk-toggleable__label-arrow\">estimator: SVC</label><div class=\"sk-toggleable__content\"><pre>SVC()</pre></div></div></div><div class=\"sk-serial\"><div class=\"sk-item\"><div class=\"sk-estimator sk-toggleable\"><input class=\"sk-toggleable__control sk-hidden--visually\" id=\"sk-estimator-id-9\" type=\"checkbox\" ><label for=\"sk-estimator-id-9\" class=\"sk-toggleable__label sk-toggleable__label-arrow\">SVC</label><div class=\"sk-toggleable__content\"><pre>SVC()</pre></div></div></div></div></div></div></div></div></div></div>"
            ],
            "text/plain": [
              "GridSearchCV(cv=5, estimator=SVC(),\n",
              "             param_grid=[{'C': [1, 10, 100, 1000], 'gamma': [0.001, 0.0001],\n",
              "                          'kernel': ['rbf']},\n",
              "                         {'C': [1, 10, 100, 1000], 'kernel': ['linear']}])"
            ]
          },
          "execution_count": 129,
          "metadata": {},
          "output_type": "execute_result"
        }
      ],
      "source": [
        "# Performing CV to tune parameters for best SVM fit \n",
        "svm_model = GridSearchCV(SVC(), params_grid, cv=5)\n",
        "svm_model.fit(x_train_scaled, y_train)"
      ]
    },
    {
      "cell_type": "code",
      "execution_count": 130,
      "metadata": {
        "colab": {
          "base_uri": "https://localhost:8080/"
        },
        "id": "Z34UZY0LQNS1",
        "outputId": "5594241e-ced5-4597-9d2d-de0d36eddeb8"
      },
      "outputs": [
        {
          "name": "stdout",
          "output_type": "stream",
          "text": [
            "Best score for training data: 0.7485303413400758 \n",
            "\n",
            "Best C: 1000 \n",
            "\n",
            "Best Kernel: linear \n",
            "\n",
            "Best Gamma: scale \n",
            "\n"
          ]
        }
      ],
      "source": [
        "# View the accuracy score\n",
        "print('Best score for training data:', svm_model.best_score_,\"\\n\") \n",
        "\n",
        "# View the best parameters for the model found using grid search\n",
        "print('Best C:',svm_model.best_estimator_.C,\"\\n\") \n",
        "print('Best Kernel:',svm_model.best_estimator_.kernel,\"\\n\")\n",
        "print('Best Gamma:',svm_model.best_estimator_.gamma,\"\\n\")"
      ]
    },
    {
      "cell_type": "code",
      "execution_count": 131,
      "metadata": {
        "id": "94IxRoFIQqZJ"
      },
      "outputs": [],
      "source": [
        "final_model = svm_model.best_estimator_"
      ]
    },
    {
      "cell_type": "code",
      "execution_count": 132,
      "metadata": {
        "id": "3d-aumM-QnrM"
      },
      "outputs": [],
      "source": [
        "y_test_predicted_knn = final_model.predict(x_test_scaled)\n",
        "y_test_predicted_knn_indexes = y_test_predicted_knn\n",
        "y_test_indexes = y_test.values"
      ]
    },
    {
      "cell_type": "code",
      "execution_count": 133,
      "metadata": {
        "colab": {
          "base_uri": "https://localhost:8080/",
          "height": 295
        },
        "id": "iah56oRXQ0si",
        "outputId": "63abfe34-584f-4a90-b7e3-93ab06961725"
      },
      "outputs": [
        {
          "data": {
            "image/png": "[encoded data removed]",
            "text/plain": [
              "<Figure size 640x480 with 2 Axes>"
            ]
          },
          "metadata": {},
          "output_type": "display_data"
        }
      ],
      "source": [
        "matriz_confusao(y_test_predicted_knn_indexes, y_test_indexes,list(modelo_label.inverse_transform([0, 1])))\n"
      ]
    },
    {
      "cell_type": "code",
      "execution_count": 134,
      "metadata": {
        "colab": {
          "base_uri": "https://localhost:8080/"
        },
        "id": "IuMiCs1OfO0w",
        "outputId": "eef29f6f-2648-4218-b53b-ff1bdaad6604"
      },
      "outputs": [
        {
          "name": "stdout",
          "output_type": "stream",
          "text": [
            "\n",
            "Acurácia:\t0.78\n",
            "Kappa:\t\t0.54\n",
            "\n"
          ]
        }
      ],
      "source": [
        "print_indicadores(y_test_predicted_knn_indexes, y_test)"
      ]
    }
  ],
  "metadata": {
    "accelerator": "GPU",
    "colab": {
      "collapsed_sections": [
        "2L4X_FV3bxKO",
        "lS0FrWGjDKp0"
      ],
      "provenance": []
    },
    "gpuClass": "standard",
    "kernelspec": {
      "display_name": "Python 3.9.12 ('base')",
      "language": "python",
      "name": "python3"
    },
    "language_info": {
      "codemirror_mode": {
        "name": "ipython",
        "version": 3
      },
      "file_extension": ".py",
      "mimetype": "text/x-python",
      "name": "python",
      "nbconvert_exporter": "python",
      "pygments_lexer": "ipython3",
      "version": "3.9.16"
    },
    "vscode": {
      "interpreter": {
        "hash": "8e17de10ea76e1cd0148bcdc800faa2a5ccab944eab4f49e6c116acad1ab29ce"
      }
    }
  },
  "nbformat": 4,
  "nbformat_minor": 0
}
