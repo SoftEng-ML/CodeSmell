{
  "cells": [
    {
      "cell_type": "markdown",
      "metadata": {
        "id": "GTKuFCrJVd-u"
      },
      "source": [
        "# 1 Preparando o Ambiente / Carregando as bibliotecas"
      ]
    },
    {
      "cell_type": "code",
      "execution_count": 2,
      "metadata": {
        "id": "3KzIziXmJoU7"
      },
      "outputs": [],
      "source": [
        "# Importação dos pacotes\n",
        "import pandas as pd\n",
        "import numpy as np\n",
        "import random\n",
        "import matplotlib.pyplot as plt\n",
        "import seaborn as sns\n",
        "from sklearn.feature_selection import f_regression\n",
        "\n",
        "# Seed para reprodução de resultados\n",
        "seed = 10\n",
        "random.seed(seed)\n",
        "np.random.seed(seed)"
      ]
    },
    {
      "attachments": {},
      "cell_type": "markdown",
      "metadata": {},
      "source": [
        "alteração para rodar local"
      ]
    },
    {
      "cell_type": "code",
      "execution_count": 1,
      "metadata": {},
      "outputs": [],
      "source": [
        "import os\n",
        "path = \"P:/Meu Drive/22.2/EngSoft-Juliana/trabalho/\"\n",
        "os.chdir(path)"
      ]
    },
    {
      "cell_type": "code",
      "execution_count": 2,
      "metadata": {
        "colab": {
          "base_uri": "https://localhost:8080/"
        },
        "id": "HQT_U-webeMX",
        "outputId": "5e6f747b-bf11-4e11-84c5-121e5159d554"
      },
      "outputs": [
        {
          "name": "stdout",
          "output_type": "stream",
          "text": [
            "Drive already mounted at /content/drive; to attempt to forcibly remount, call drive.mount(\"/content/drive\", force_remount=True).\n"
          ]
        }
      ],
      "source": [
        "##Montar o drive\n",
        "#from google.colab import drive\n",
        "#drive.mount('/content/drive')\n",
        "\n",
        "#import os\n",
        "#workdir_path = '/content/drive/My Drive/16-Mestrado/22.2/EngSoft-Juliana' #MODIFICAR!!! #Caminho para o seu workspace\n",
        "#os.chdir(workdir_path)"
      ]
    },
    {
      "cell_type": "markdown",
      "metadata": {
        "id": "acaFIZYUQyaZ"
      },
      "source": [
        "Carregando os dados"
      ]
    },
    {
      "cell_type": "code",
      "execution_count": 3,
      "metadata": {
        "id": "j2b-LOi5goKD"
      },
      "outputs": [],
      "source": [
        "#dataset = pd.read_csv(\"organic.2023.01.05-alternativa01-opcao02.csv\", sep=',')\n",
        "dataset = pd.read_csv(\"mlcq_new_2023.01.24-2-drop.csv\", sep=',') #,keep_default_na=False)"
      ]
    },
    {
      "cell_type": "markdown",
      "metadata": {
        "id": "1nbvfKgZh3PC"
      },
      "source": [
        "Criando o atributo reviewer"
      ]
    },
    {
      "cell_type": "code",
      "execution_count": 4,
      "metadata": {
        "id": "l2yUw1I4h2gK"
      },
      "outputs": [],
      "source": [
        "reviewer = {34:'unknown', 31:'unknown', 30:'unknown', 21:'unknown', 28:'unknown', 18:'unknown', 1: 'Middle',3: 'Middle',4: 'Senior',5: 'Junior',6: 'Junior',7: 'Junior',8: 'Junior',9: 'Junior',10:'Middle',11:'Junior',12:'Middle',13:'Junior',14:'Middle',15:'Junior',16:'Junior',17:'Junior',20:'Senior',22:'Middle',23:'Junior',25:'Junior'}\n",
        "func_reviewer = lambda x: reviewer[x]\n",
        "dataset['reviewer'] = dataset['reviewer_id'].apply(func_reviewer) "
      ]
    },
    {
      "cell_type": "code",
      "execution_count": 6,
      "metadata": {
        "colab": {
          "base_uri": "https://localhost:8080/",
          "height": 315
        },
        "id": "bMYHJxiEiHbU",
        "outputId": "194c44f0-368c-4495-a062-b33720f7c70b"
      },
      "outputs": [
        {
          "data": {
            "image/png": "[encoded data removed]",
            "text/plain": [
              "<Figure size 640x480 with 1 Axes>"
            ]
          },
          "metadata": {},
          "output_type": "display_data"
        }
      ],
      "source": [
        "plt.xlabel(\"Fig.3 Expert Background\")\n",
        "plt.ylabel(\"Amount\")\n",
        "#plt.title(\"Code Smell\")\n",
        "dataset['reviewer'].value_counts().plot.bar() #;\n",
        "plt.show()"
      ]
    },
    {
      "cell_type": "code",
      "execution_count": 7,
      "metadata": {
        "colab": {
          "base_uri": "https://localhost:8080/"
        },
        "id": "18f97_LlueUS",
        "outputId": "49ca4ecf-688a-491a-8c85-4310b51db5de"
      },
      "outputs": [
        {
          "data": {
            "text/plain": [
              "(10222, 93)"
            ]
          },
          "execution_count": 7,
          "metadata": {},
          "output_type": "execute_result"
        }
      ],
      "source": [
        "dataset.shape"
      ]
    },
    {
      "cell_type": "code",
      "execution_count": 8,
      "metadata": {
        "colab": {
          "base_uri": "https://localhost:8080/",
          "height": 394
        },
        "id": "ctx6-RE2o1kI",
        "outputId": "8903bcae-84ec-40c0-c4fb-83fed2cd0a60"
      },
      "outputs": [
        {
          "data": {
            "text/html": [
              "<div>\n",
              "<style scoped>\n",
              "    .dataframe tbody tr th:only-of-type {\n",
              "        vertical-align: middle;\n",
              "    }\n",
              "\n",
              "    .dataframe tbody tr th {\n",
              "        vertical-align: top;\n",
              "    }\n",
              "\n",
              "    .dataframe thead th {\n",
              "        text-align: right;\n",
              "    }\n",
              "</style>\n",
              "<table border=\"1\" class=\"dataframe\">\n",
              "  <thead>\n",
              "    <tr style=\"text-align: right;\">\n",
              "      <th></th>\n",
              "      <th>reviewer_id</th>\n",
              "      <th>sample_id</th>\n",
              "      <th>start_line</th>\n",
              "      <th>end_line</th>\n",
              "      <th>lines</th>\n",
              "      <th>num_commits</th>\n",
              "      <th>NumberOfAccessedVariables</th>\n",
              "      <th>CouplingDispersion</th>\n",
              "      <th>ChangingClasses</th>\n",
              "      <th>MethodLinesOfCode</th>\n",
              "      <th>...</th>\n",
              "      <th>assignmentsQty</th>\n",
              "      <th>mathOperationsQty</th>\n",
              "      <th>variablesQty</th>\n",
              "      <th>maxNestedBlocksQty</th>\n",
              "      <th>anonymousClassesQty</th>\n",
              "      <th>innerClassesQty</th>\n",
              "      <th>lambdasQty</th>\n",
              "      <th>uniqueWordsQty</th>\n",
              "      <th>modifiers</th>\n",
              "      <th>logStatementsQty</th>\n",
              "    </tr>\n",
              "  </thead>\n",
              "  <tbody>\n",
              "    <tr>\n",
              "      <th>count</th>\n",
              "      <td>10222.000000</td>\n",
              "      <td>1.022200e+04</td>\n",
              "      <td>10222.000000</td>\n",
              "      <td>10222.000000</td>\n",
              "      <td>10222.000000</td>\n",
              "      <td>10222.000000</td>\n",
              "      <td>711.000000</td>\n",
              "      <td>711.000000</td>\n",
              "      <td>702.000000</td>\n",
              "      <td>711.000000</td>\n",
              "      <td>...</td>\n",
              "      <td>5424.000000</td>\n",
              "      <td>5424.00000</td>\n",
              "      <td>5424.000000</td>\n",
              "      <td>5424.000000</td>\n",
              "      <td>5424.000000</td>\n",
              "      <td>5424.000000</td>\n",
              "      <td>5424.000000</td>\n",
              "      <td>5424.000000</td>\n",
              "      <td>5424.000000</td>\n",
              "      <td>5424.000000</td>\n",
              "    </tr>\n",
              "    <tr>\n",
              "      <th>mean</th>\n",
              "      <td>8.410487</td>\n",
              "      <td>6.600780e+06</td>\n",
              "      <td>2175.192819</td>\n",
              "      <td>2303.841127</td>\n",
              "      <td>129.648308</td>\n",
              "      <td>96.606241</td>\n",
              "      <td>13.122363</td>\n",
              "      <td>0.502280</td>\n",
              "      <td>0.508547</td>\n",
              "      <td>33.064698</td>\n",
              "      <td>...</td>\n",
              "      <td>18.198931</td>\n",
              "      <td>3.55955</td>\n",
              "      <td>13.156711</td>\n",
              "      <td>1.273046</td>\n",
              "      <td>0.245391</td>\n",
              "      <td>0.331121</td>\n",
              "      <td>0.138827</td>\n",
              "      <td>64.887906</td>\n",
              "      <td>51.596239</td>\n",
              "      <td>0.793879</td>\n",
              "    </tr>\n",
              "    <tr>\n",
              "      <th>std</th>\n",
              "      <td>7.286428</td>\n",
              "      <td>1.666441e+06</td>\n",
              "      <td>14959.011718</td>\n",
              "      <td>14960.076583</td>\n",
              "      <td>290.085206</td>\n",
              "      <td>90.275158</td>\n",
              "      <td>9.538385</td>\n",
              "      <td>0.282094</td>\n",
              "      <td>0.683459</td>\n",
              "      <td>19.289895</td>\n",
              "      <td>...</td>\n",
              "      <td>42.811515</td>\n",
              "      <td>14.83326</td>\n",
              "      <td>30.391516</td>\n",
              "      <td>1.703909</td>\n",
              "      <td>1.518852</td>\n",
              "      <td>1.192925</td>\n",
              "      <td>1.067556</td>\n",
              "      <td>81.178669</td>\n",
              "      <td>219.335112</td>\n",
              "      <td>3.593424</td>\n",
              "    </tr>\n",
              "    <tr>\n",
              "      <th>min</th>\n",
              "      <td>1.000000</td>\n",
              "      <td>3.698323e+06</td>\n",
              "      <td>2.000000</td>\n",
              "      <td>3.000000</td>\n",
              "      <td>1.000000</td>\n",
              "      <td>1.000000</td>\n",
              "      <td>0.000000</td>\n",
              "      <td>0.000000</td>\n",
              "      <td>0.000000</td>\n",
              "      <td>2.000000</td>\n",
              "      <td>...</td>\n",
              "      <td>0.000000</td>\n",
              "      <td>0.00000</td>\n",
              "      <td>0.000000</td>\n",
              "      <td>0.000000</td>\n",
              "      <td>0.000000</td>\n",
              "      <td>0.000000</td>\n",
              "      <td>0.000000</td>\n",
              "      <td>1.000000</td>\n",
              "      <td>0.000000</td>\n",
              "      <td>0.000000</td>\n",
              "    </tr>\n",
              "    <tr>\n",
              "      <th>25%</th>\n",
              "      <td>3.000000</td>\n",
              "      <td>5.207888e+06</td>\n",
              "      <td>34.000000</td>\n",
              "      <td>90.000000</td>\n",
              "      <td>14.000000</td>\n",
              "      <td>30.000000</td>\n",
              "      <td>7.000000</td>\n",
              "      <td>0.312500</td>\n",
              "      <td>0.000000</td>\n",
              "      <td>18.500000</td>\n",
              "      <td>...</td>\n",
              "      <td>1.000000</td>\n",
              "      <td>0.00000</td>\n",
              "      <td>0.000000</td>\n",
              "      <td>0.000000</td>\n",
              "      <td>0.000000</td>\n",
              "      <td>0.000000</td>\n",
              "      <td>0.000000</td>\n",
              "      <td>12.750000</td>\n",
              "      <td>1.000000</td>\n",
              "      <td>0.000000</td>\n",
              "    </tr>\n",
              "    <tr>\n",
              "      <th>50%</th>\n",
              "      <td>5.000000</td>\n",
              "      <td>6.629470e+06</td>\n",
              "      <td>67.000000</td>\n",
              "      <td>191.500000</td>\n",
              "      <td>40.000000</td>\n",
              "      <td>70.000000</td>\n",
              "      <td>12.000000</td>\n",
              "      <td>0.500000</td>\n",
              "      <td>0.000000</td>\n",
              "      <td>32.000000</td>\n",
              "      <td>...</td>\n",
              "      <td>5.000000</td>\n",
              "      <td>0.00000</td>\n",
              "      <td>3.000000</td>\n",
              "      <td>1.000000</td>\n",
              "      <td>0.000000</td>\n",
              "      <td>0.000000</td>\n",
              "      <td>0.000000</td>\n",
              "      <td>36.000000</td>\n",
              "      <td>1.000000</td>\n",
              "      <td>0.000000</td>\n",
              "    </tr>\n",
              "    <tr>\n",
              "      <th>75%</th>\n",
              "      <td>13.000000</td>\n",
              "      <td>7.952037e+06</td>\n",
              "      <td>244.750000</td>\n",
              "      <td>447.000000</td>\n",
              "      <td>112.000000</td>\n",
              "      <td>146.000000</td>\n",
              "      <td>17.000000</td>\n",
              "      <td>0.692308</td>\n",
              "      <td>1.000000</td>\n",
              "      <td>39.000000</td>\n",
              "      <td>...</td>\n",
              "      <td>16.000000</td>\n",
              "      <td>2.00000</td>\n",
              "      <td>12.000000</td>\n",
              "      <td>2.000000</td>\n",
              "      <td>0.000000</td>\n",
              "      <td>0.000000</td>\n",
              "      <td>0.000000</td>\n",
              "      <td>85.000000</td>\n",
              "      <td>1.000000</td>\n",
              "      <td>0.000000</td>\n",
              "    </tr>\n",
              "    <tr>\n",
              "      <th>max</th>\n",
              "      <td>34.000000</td>\n",
              "      <td>9.553496e+06</td>\n",
              "      <td>252554.000000</td>\n",
              "      <td>252655.000000</td>\n",
              "      <td>4111.000000</td>\n",
              "      <td>424.000000</td>\n",
              "      <td>54.000000</td>\n",
              "      <td>1.000000</td>\n",
              "      <td>4.000000</td>\n",
              "      <td>105.000000</td>\n",
              "      <td>...</td>\n",
              "      <td>558.000000</td>\n",
              "      <td>281.00000</td>\n",
              "      <td>363.000000</td>\n",
              "      <td>13.000000</td>\n",
              "      <td>40.000000</td>\n",
              "      <td>15.000000</td>\n",
              "      <td>29.000000</td>\n",
              "      <td>652.000000</td>\n",
              "      <td>1025.000000</td>\n",
              "      <td>51.000000</td>\n",
              "    </tr>\n",
              "  </tbody>\n",
              "</table>\n",
              "<p>8 rows × 41 columns</p>\n",
              "</div>"
            ],
            "text/plain": [
              "        reviewer_id     sample_id     start_line       end_line         lines  \\\n",
              "count  10222.000000  1.022200e+04   10222.000000   10222.000000  10222.000000   \n",
              "mean       8.410487  6.600780e+06    2175.192819    2303.841127    129.648308   \n",
              "std        7.286428  1.666441e+06   14959.011718   14960.076583    290.085206   \n",
              "min        1.000000  3.698323e+06       2.000000       3.000000      1.000000   \n",
              "25%        3.000000  5.207888e+06      34.000000      90.000000     14.000000   \n",
              "50%        5.000000  6.629470e+06      67.000000     191.500000     40.000000   \n",
              "75%       13.000000  7.952037e+06     244.750000     447.000000    112.000000   \n",
              "max       34.000000  9.553496e+06  252554.000000  252655.000000   4111.000000   \n",
              "\n",
              "        num_commits  NumberOfAccessedVariables  CouplingDispersion  \\\n",
              "count  10222.000000                 711.000000          711.000000   \n",
              "mean      96.606241                  13.122363            0.502280   \n",
              "std       90.275158                   9.538385            0.282094   \n",
              "min        1.000000                   0.000000            0.000000   \n",
              "25%       30.000000                   7.000000            0.312500   \n",
              "50%       70.000000                  12.000000            0.500000   \n",
              "75%      146.000000                  17.000000            0.692308   \n",
              "max      424.000000                  54.000000            1.000000   \n",
              "\n",
              "       ChangingClasses  MethodLinesOfCode  ...  assignmentsQty  \\\n",
              "count       702.000000         711.000000  ...     5424.000000   \n",
              "mean          0.508547          33.064698  ...       18.198931   \n",
              "std           0.683459          19.289895  ...       42.811515   \n",
              "min           0.000000           2.000000  ...        0.000000   \n",
              "25%           0.000000          18.500000  ...        1.000000   \n",
              "50%           0.000000          32.000000  ...        5.000000   \n",
              "75%           1.000000          39.000000  ...       16.000000   \n",
              "max           4.000000         105.000000  ...      558.000000   \n",
              "\n",
              "       mathOperationsQty  variablesQty  maxNestedBlocksQty  \\\n",
              "count         5424.00000   5424.000000         5424.000000   \n",
              "mean             3.55955     13.156711            1.273046   \n",
              "std             14.83326     30.391516            1.703909   \n",
              "min              0.00000      0.000000            0.000000   \n",
              "25%              0.00000      0.000000            0.000000   \n",
              "50%              0.00000      3.000000            1.000000   \n",
              "75%              2.00000     12.000000            2.000000   \n",
              "max            281.00000    363.000000           13.000000   \n",
              "\n",
              "       anonymousClassesQty  innerClassesQty   lambdasQty  uniqueWordsQty  \\\n",
              "count          5424.000000      5424.000000  5424.000000     5424.000000   \n",
              "mean              0.245391         0.331121     0.138827       64.887906   \n",
              "std               1.518852         1.192925     1.067556       81.178669   \n",
              "min               0.000000         0.000000     0.000000        1.000000   \n",
              "25%               0.000000         0.000000     0.000000       12.750000   \n",
              "50%               0.000000         0.000000     0.000000       36.000000   \n",
              "75%               0.000000         0.000000     0.000000       85.000000   \n",
              "max              40.000000        15.000000    29.000000      652.000000   \n",
              "\n",
              "         modifiers  logStatementsQty  \n",
              "count  5424.000000       5424.000000  \n",
              "mean     51.596239          0.793879  \n",
              "std     219.335112          3.593424  \n",
              "min       0.000000          0.000000  \n",
              "25%       1.000000          0.000000  \n",
              "50%       1.000000          0.000000  \n",
              "75%       1.000000          0.000000  \n",
              "max    1025.000000         51.000000  \n",
              "\n",
              "[8 rows x 41 columns]"
            ]
          },
          "execution_count": 8,
          "metadata": {},
          "output_type": "execute_result"
        }
      ],
      "source": [
        "dataset.describe()"
      ]
    },
    {
      "cell_type": "code",
      "execution_count": 9,
      "metadata": {
        "colab": {
          "base_uri": "https://localhost:8080/",
          "height": 734
        },
        "id": "34MHRrhGkWsD",
        "outputId": "de56f9a1-7987-4502-aed7-844e9f4d056d"
      },
      "outputs": [
        {
          "data": {
            "text/html": [
              "<div>\n",
              "<style scoped>\n",
              "    .dataframe tbody tr th:only-of-type {\n",
              "        vertical-align: middle;\n",
              "    }\n",
              "\n",
              "    .dataframe tbody tr th {\n",
              "        vertical-align: top;\n",
              "    }\n",
              "\n",
              "    .dataframe thead th {\n",
              "        text-align: right;\n",
              "    }\n",
              "</style>\n",
              "<table border=\"1\" class=\"dataframe\">\n",
              "  <thead>\n",
              "    <tr style=\"text-align: right;\">\n",
              "      <th></th>\n",
              "      <th>commit_hash</th>\n",
              "      <th>reviewer_id</th>\n",
              "      <th>sample_id</th>\n",
              "      <th>smell</th>\n",
              "      <th>severity</th>\n",
              "      <th>review_timestamp</th>\n",
              "      <th>type</th>\n",
              "      <th>code_name</th>\n",
              "      <th>repository</th>\n",
              "      <th>path</th>\n",
              "      <th>...</th>\n",
              "      <th>constructor</th>\n",
              "      <th>line</th>\n",
              "      <th>parametersQty</th>\n",
              "      <th>methodsInvokedQty</th>\n",
              "      <th>methodsInvokedLocalQty</th>\n",
              "      <th>methodsInvokedIndirectLocalQty</th>\n",
              "      <th>hasJavaDoc</th>\n",
              "      <th>clean_method</th>\n",
              "      <th>_merge</th>\n",
              "      <th>reviewer</th>\n",
              "    </tr>\n",
              "  </thead>\n",
              "  <tbody>\n",
              "    <tr>\n",
              "      <th>0</th>\n",
              "      <td>114c412afbfba24ffb4fbc804e5308a823a16a78</td>\n",
              "      <td>6</td>\n",
              "      <td>5771277</td>\n",
              "      <td>none</td>\n",
              "      <td>none</td>\n",
              "      <td>2019-03-27 10:34:53.041496</td>\n",
              "      <td>function</td>\n",
              "      <td>org.apache.syncope.client.ui.commons.ConnIdSpe...</td>\n",
              "      <td>git@github.com:apache/syncope.git</td>\n",
              "      <td>/client/idrepo/ui/src/main/java/org/apache/syn...</td>\n",
              "      <td>...</td>\n",
              "      <td>True</td>\n",
              "      <td>35</td>\n",
              "      <td>0</td>\n",
              "      <td>0</td>\n",
              "      <td>0</td>\n",
              "      <td>0</td>\n",
              "      <td>False</td>\n",
              "      <td>ConnIdSpecialName</td>\n",
              "      <td>both</td>\n",
              "      <td>Junior</td>\n",
              "    </tr>\n",
              "    <tr>\n",
              "      <th>1</th>\n",
              "      <td>d5675c332497c1ac1dedefdf91e87476b5c0d7a9</td>\n",
              "      <td>6</td>\n",
              "      <td>5786929</td>\n",
              "      <td>blob</td>\n",
              "      <td>critical</td>\n",
              "      <td>2019-03-27 10:37:38.107923</td>\n",
              "      <td>class</td>\n",
              "      <td>org.apache.tez.runtime.library.common.writers....</td>\n",
              "      <td>git@github.com:apache/tez.git</td>\n",
              "      <td>/tez-runtime-library/src/main/java/org/apache/...</td>\n",
              "      <td>...</td>\n",
              "      <td>NONE</td>\n",
              "      <td>NONE</td>\n",
              "      <td>NONE</td>\n",
              "      <td>NONE</td>\n",
              "      <td>NONE</td>\n",
              "      <td>NONE</td>\n",
              "      <td>NONE</td>\n",
              "      <td>NONE</td>\n",
              "      <td>both</td>\n",
              "      <td>Junior</td>\n",
              "    </tr>\n",
              "    <tr>\n",
              "      <th>2</th>\n",
              "      <td>d5675c332497c1ac1dedefdf91e87476b5c0d7a9</td>\n",
              "      <td>6</td>\n",
              "      <td>5786929</td>\n",
              "      <td>data class</td>\n",
              "      <td>critical</td>\n",
              "      <td>2019-03-27 10:37:38.109068</td>\n",
              "      <td>class</td>\n",
              "      <td>org.apache.tez.runtime.library.common.writers....</td>\n",
              "      <td>git@github.com:apache/tez.git</td>\n",
              "      <td>/tez-runtime-library/src/main/java/org/apache/...</td>\n",
              "      <td>...</td>\n",
              "      <td>NONE</td>\n",
              "      <td>NONE</td>\n",
              "      <td>NONE</td>\n",
              "      <td>NONE</td>\n",
              "      <td>NONE</td>\n",
              "      <td>NONE</td>\n",
              "      <td>NONE</td>\n",
              "      <td>NONE</td>\n",
              "      <td>both</td>\n",
              "      <td>Junior</td>\n",
              "    </tr>\n",
              "    <tr>\n",
              "      <th>3</th>\n",
              "      <td>4131c6e30f2e0eb1feb85e0f7576531d4e830468</td>\n",
              "      <td>6</td>\n",
              "      <td>5788107</td>\n",
              "      <td>none</td>\n",
              "      <td>none</td>\n",
              "      <td>2019-03-27 10:37:49.627100</td>\n",
              "      <td>function</td>\n",
              "      <td>org.apache.tika.parser.ocr.TesseractOCRConfig#...</td>\n",
              "      <td>git@github.com:apache/tika.git</td>\n",
              "      <td>/tika-parsers/src/main/java/org/apache/tika/pa...</td>\n",
              "      <td>...</td>\n",
              "      <td>NaN</td>\n",
              "      <td>NaN</td>\n",
              "      <td>NaN</td>\n",
              "      <td>NaN</td>\n",
              "      <td>NaN</td>\n",
              "      <td>NaN</td>\n",
              "      <td>NaN</td>\n",
              "      <td>NaN</td>\n",
              "      <td>left_only</td>\n",
              "      <td>Junior</td>\n",
              "    </tr>\n",
              "    <tr>\n",
              "      <th>4</th>\n",
              "      <td>d5675c332497c1ac1dedefdf91e87476b5c0d7a9</td>\n",
              "      <td>6</td>\n",
              "      <td>5788583</td>\n",
              "      <td>none</td>\n",
              "      <td>none</td>\n",
              "      <td>2019-03-27 10:38:15.588848</td>\n",
              "      <td>function</td>\n",
              "      <td>org.apache.tez.runtime.library.common.shuffle....</td>\n",
              "      <td>git@github.com:apache/tez.git</td>\n",
              "      <td>/tez-runtime-library/src/main/java/org/apache/...</td>\n",
              "      <td>...</td>\n",
              "      <td>NaN</td>\n",
              "      <td>NaN</td>\n",
              "      <td>NaN</td>\n",
              "      <td>NaN</td>\n",
              "      <td>NaN</td>\n",
              "      <td>NaN</td>\n",
              "      <td>NaN</td>\n",
              "      <td>NaN</td>\n",
              "      <td>left_only</td>\n",
              "      <td>Junior</td>\n",
              "    </tr>\n",
              "  </tbody>\n",
              "</table>\n",
              "<p>5 rows × 93 columns</p>\n",
              "</div>"
            ],
            "text/plain": [
              "                                commit_hash  reviewer_id  sample_id  \\\n",
              "0  114c412afbfba24ffb4fbc804e5308a823a16a78            6    5771277   \n",
              "1  d5675c332497c1ac1dedefdf91e87476b5c0d7a9            6    5786929   \n",
              "2  d5675c332497c1ac1dedefdf91e87476b5c0d7a9            6    5786929   \n",
              "3  4131c6e30f2e0eb1feb85e0f7576531d4e830468            6    5788107   \n",
              "4  d5675c332497c1ac1dedefdf91e87476b5c0d7a9            6    5788583   \n",
              "\n",
              "        smell  severity            review_timestamp      type  \\\n",
              "0        none      none  2019-03-27 10:34:53.041496  function   \n",
              "1        blob  critical  2019-03-27 10:37:38.107923     class   \n",
              "2  data class  critical  2019-03-27 10:37:38.109068     class   \n",
              "3        none      none  2019-03-27 10:37:49.627100  function   \n",
              "4        none      none  2019-03-27 10:38:15.588848  function   \n",
              "\n",
              "                                           code_name  \\\n",
              "0  org.apache.syncope.client.ui.commons.ConnIdSpe...   \n",
              "1  org.apache.tez.runtime.library.common.writers....   \n",
              "2  org.apache.tez.runtime.library.common.writers....   \n",
              "3  org.apache.tika.parser.ocr.TesseractOCRConfig#...   \n",
              "4  org.apache.tez.runtime.library.common.shuffle....   \n",
              "\n",
              "                          repository  \\\n",
              "0  git@github.com:apache/syncope.git   \n",
              "1      git@github.com:apache/tez.git   \n",
              "2      git@github.com:apache/tez.git   \n",
              "3     git@github.com:apache/tika.git   \n",
              "4      git@github.com:apache/tez.git   \n",
              "\n",
              "                                                path  ...  constructor  line  \\\n",
              "0  /client/idrepo/ui/src/main/java/org/apache/syn...  ...         True    35   \n",
              "1  /tez-runtime-library/src/main/java/org/apache/...  ...         NONE  NONE   \n",
              "2  /tez-runtime-library/src/main/java/org/apache/...  ...         NONE  NONE   \n",
              "3  /tika-parsers/src/main/java/org/apache/tika/pa...  ...          NaN   NaN   \n",
              "4  /tez-runtime-library/src/main/java/org/apache/...  ...          NaN   NaN   \n",
              "\n",
              "  parametersQty methodsInvokedQty  methodsInvokedLocalQty  \\\n",
              "0             0                 0                       0   \n",
              "1          NONE              NONE                    NONE   \n",
              "2          NONE              NONE                    NONE   \n",
              "3           NaN               NaN                     NaN   \n",
              "4           NaN               NaN                     NaN   \n",
              "\n",
              "   methodsInvokedIndirectLocalQty hasJavaDoc       clean_method     _merge  \\\n",
              "0                               0      False  ConnIdSpecialName       both   \n",
              "1                            NONE       NONE               NONE       both   \n",
              "2                            NONE       NONE               NONE       both   \n",
              "3                             NaN        NaN                NaN  left_only   \n",
              "4                             NaN        NaN                NaN  left_only   \n",
              "\n",
              "   reviewer  \n",
              "0    Junior  \n",
              "1    Junior  \n",
              "2    Junior  \n",
              "3    Junior  \n",
              "4    Junior  \n",
              "\n",
              "[5 rows x 93 columns]"
            ]
          },
          "execution_count": 9,
          "metadata": {},
          "output_type": "execute_result"
        }
      ],
      "source": [
        "dataset.head()"
      ]
    },
    {
      "cell_type": "code",
      "execution_count": 10,
      "metadata": {
        "colab": {
          "base_uri": "https://localhost:8080/"
        },
        "id": "qDIuE3WLlRDi",
        "outputId": "77778ffa-7009-4ee2-9592-3b7908c1409a"
      },
      "outputs": [
        {
          "name": "stdout",
          "output_type": "stream",
          "text": [
            "commit_hash: 0 \n",
            "reviewer_id: 0 \n",
            "sample_id: 0 \n",
            "smell: 0 \n",
            "severity: 0 \n",
            "review_timestamp: 0 \n",
            "type: 0 \n",
            "code_name: 0 \n",
            "repository: 0 \n",
            "path: 0 \n",
            "start_line: 0 \n",
            "end_line: 0 \n",
            "link: 0 \n",
            "relevant: 0 \n",
            "lines: 0 \n",
            "num_commits: 0 \n",
            "reason: 9511 \n",
            "NumberOfAccessedVariables: 9511 \n",
            "CouplingDispersion: 9511 \n",
            "ChangingClasses: 9520 \n",
            "MethodLinesOfCode: 9511 \n",
            "CyclomaticComplexity: 9511 \n",
            "MaxNesting: 9511 \n",
            "CouplingIntensity: 9511 \n",
            "ParameterCount: 9511 \n",
            "MaxCallChain: 9511 \n",
            "ChangingMethods: 9520 \n",
            "repeticoes: 9511 \n",
            "arquivo_org: 9511 \n",
            "ck_file: 6774 \n",
            "file: 4798 \n",
            "class: 4798 \n",
            "type_ck: 4798 \n",
            "cbo: 4798 \n",
            "cboModified: 4798 \n",
            "fanin: 4798 \n",
            "fanout: 4798 \n",
            "wmc: 4798 \n",
            "dit: 4798 \n",
            "noc: 4798 \n",
            "rfc: 4798 \n",
            "lcom: 4798 \n",
            "lcom*: 4818 \n",
            "tcc: 5055 \n",
            "lcc: 5055 \n",
            "totalMethodsQty: 4798 \n",
            "staticMethodsQty: 4798 \n",
            "publicMethodsQty: 4798 \n",
            "privateMethodsQty: 4798 \n",
            "protectedMethodsQty: 4798 \n",
            "defaultMethodsQty: 4798 \n",
            "visibleMethodsQty: 4798 \n",
            "abstractMethodsQty: 4798 \n",
            "finalMethodsQty: 4798 \n",
            "synchronizedMethodsQty: 4798 \n",
            "totalFieldsQty: 4798 \n",
            "staticFieldsQty: 4798 \n",
            "publicFieldsQty: 4798 \n",
            "privateFieldsQty: 4798 \n",
            "protectedFieldsQty: 4798 \n",
            "defaultFieldsQty: 4798 \n",
            "finalFieldsQty: 4798 \n",
            "synchronizedFieldsQty: 4798 \n",
            "nosi: 4798 \n",
            "loc: 4798 \n",
            "returnsQty: 4798 \n",
            "loopQty: 4798 \n",
            "comparisonsQty: 4798 \n",
            "tryCatchQty: 4798 \n",
            "parenthesizedExpsQty: 4798 \n",
            "stringLiteralsQty: 4798 \n",
            "numbersQty: 4798 \n",
            "assignmentsQty: 4798 \n",
            "mathOperationsQty: 4798 \n",
            "variablesQty: 4798 \n",
            "maxNestedBlocksQty: 4798 \n",
            "anonymousClassesQty: 4798 \n",
            "innerClassesQty: 4798 \n",
            "lambdasQty: 4798 \n",
            "uniqueWordsQty: 4798 \n",
            "modifiers: 4798 \n",
            "logStatementsQty: 4798 \n",
            "method: 4798 \n",
            "constructor: 4798 \n",
            "line: 4798 \n",
            "parametersQty: 4798 \n",
            "methodsInvokedQty: 4798 \n",
            "methodsInvokedLocalQty: 4798 \n",
            "methodsInvokedIndirectLocalQty: 4798 \n",
            "hasJavaDoc: 4798 \n",
            "clean_method: 4798 \n",
            "_merge: 0 \n",
            "reviewer: 0 \n"
          ]
        }
      ],
      "source": [
        "##Quantidade de NAN\n",
        "for col in dataset.columns:\n",
        "    cont = dataset[col].isna().sum()\n",
        "    print(f'{col}: {cont} ')"
      ]
    },
    {
      "cell_type": "code",
      "execution_count": 11,
      "metadata": {
        "colab": {
          "base_uri": "https://localhost:8080/"
        },
        "id": "1CRlvPLJg9cm",
        "outputId": "fb775999-aa7e-4b06-8d5a-4530405cd035"
      },
      "outputs": [
        {
          "name": "stdout",
          "output_type": "stream",
          "text": [
            "commit_hash    :  object\n",
            "reviewer_id    :  int64\n",
            "sample_id    :  int64\n",
            "smell    :  object\n",
            "severity    :  object\n",
            "review_timestamp    :  object\n",
            "type    :  object\n",
            "code_name    :  object\n",
            "repository    :  object\n",
            "path    :  object\n",
            "start_line    :  int64\n",
            "end_line    :  int64\n",
            "link    :  object\n",
            "relevant    :  object\n",
            "lines    :  int64\n",
            "num_commits    :  int64\n",
            "reason    :  object\n",
            "NumberOfAccessedVariables    :  float64\n",
            "CouplingDispersion    :  float64\n",
            "ChangingClasses    :  float64\n",
            "MethodLinesOfCode    :  float64\n",
            "CyclomaticComplexity    :  float64\n",
            "MaxNesting    :  float64\n",
            "CouplingIntensity    :  float64\n",
            "ParameterCount    :  float64\n",
            "MaxCallChain    :  float64\n",
            "ChangingMethods    :  float64\n",
            "repeticoes    :  float64\n",
            "arquivo_org    :  object\n",
            "ck_file    :  object\n",
            "file    :  object\n",
            "class    :  object\n",
            "type_ck    :  object\n",
            "cbo    :  float64\n",
            "cboModified    :  float64\n",
            "fanin    :  float64\n",
            "fanout    :  float64\n",
            "wmc    :  float64\n",
            "dit    :  object\n",
            "noc    :  object\n",
            "rfc    :  float64\n",
            "lcom    :  object\n",
            "lcom*    :  object\n",
            "tcc    :  object\n",
            "lcc    :  object\n",
            "totalMethodsQty    :  object\n",
            "staticMethodsQty    :  object\n",
            "publicMethodsQty    :  object\n",
            "privateMethodsQty    :  object\n",
            "protectedMethodsQty    :  object\n",
            "defaultMethodsQty    :  object\n",
            "visibleMethodsQty    :  object\n",
            "abstractMethodsQty    :  object\n",
            "finalMethodsQty    :  object\n",
            "synchronizedMethodsQty    :  object\n",
            "totalFieldsQty    :  object\n",
            "staticFieldsQty    :  object\n",
            "publicFieldsQty    :  object\n",
            "privateFieldsQty    :  object\n",
            "protectedFieldsQty    :  object\n",
            "defaultFieldsQty    :  object\n",
            "finalFieldsQty    :  object\n",
            "synchronizedFieldsQty    :  object\n",
            "nosi    :  object\n",
            "loc    :  float64\n",
            "returnsQty    :  float64\n",
            "loopQty    :  float64\n",
            "comparisonsQty    :  float64\n",
            "tryCatchQty    :  float64\n",
            "parenthesizedExpsQty    :  float64\n",
            "stringLiteralsQty    :  float64\n",
            "numbersQty    :  float64\n",
            "assignmentsQty    :  float64\n",
            "mathOperationsQty    :  float64\n",
            "variablesQty    :  float64\n",
            "maxNestedBlocksQty    :  float64\n",
            "anonymousClassesQty    :  float64\n",
            "innerClassesQty    :  float64\n",
            "lambdasQty    :  float64\n",
            "uniqueWordsQty    :  float64\n",
            "modifiers    :  float64\n",
            "logStatementsQty    :  float64\n",
            "method    :  object\n",
            "constructor    :  object\n",
            "line    :  object\n",
            "parametersQty    :  object\n",
            "methodsInvokedQty    :  object\n",
            "methodsInvokedLocalQty    :  object\n",
            "methodsInvokedIndirectLocalQty    :  object\n",
            "hasJavaDoc    :  object\n",
            "clean_method    :  object\n",
            "_merge    :  object\n",
            "reviewer    :  object\n"
          ]
        }
      ],
      "source": [
        "#print(dataset.dtypes)\n",
        "for x in dataset.columns:\n",
        "  print(f'{x}    :  {dataset[x].dtypes}')\n"
      ]
    },
    {
      "cell_type": "code",
      "execution_count": 12,
      "metadata": {
        "colab": {
          "base_uri": "https://localhost:8080/"
        },
        "id": "nMCpkQzSinaq",
        "outputId": "c8ff7011-003e-4fe2-e15e-c6b3037ec599"
      },
      "outputs": [
        {
          "data": {
            "text/plain": [
              "array(['False', 'NONE', nan, 'True'], dtype=object)"
            ]
          },
          "execution_count": 12,
          "metadata": {},
          "output_type": "execute_result"
        }
      ],
      "source": [
        "dataset.hasJavaDoc.unique()"
      ]
    },
    {
      "cell_type": "code",
      "execution_count": 13,
      "metadata": {
        "colab": {
          "base_uri": "https://localhost:8080/"
        },
        "id": "yC8cBfPnlAEs",
        "outputId": "7fa46032-cc5c-494b-b0ec-b0e396087e5c"
      },
      "outputs": [
        {
          "data": {
            "text/plain": [
              "none        6925\n",
              "minor       1787\n",
              "major       1130\n",
              "critical     380\n",
              "Name: severity, dtype: int64"
            ]
          },
          "execution_count": 13,
          "metadata": {},
          "output_type": "execute_result"
        }
      ],
      "source": [
        "sorted(dataset['severity'].unique())\n",
        "dataset['severity'].value_counts()"
      ]
    },
    {
      "cell_type": "code",
      "execution_count": 14,
      "metadata": {
        "colab": {
          "base_uri": "https://localhost:8080/",
          "height": 303
        },
        "id": "i2bNLWTYljqy",
        "outputId": "d1b3ed89-2eba-4c1b-96c0-b6f9ae86c787"
      },
      "outputs": [
        {
          "data": {
            "image/png": "[encoded data removed]",
            "text/plain": [
              "<Figure size 640x480 with 1 Axes>"
            ]
          },
          "metadata": {},
          "output_type": "display_data"
        }
      ],
      "source": [
        "plt.xlabel(\"Fig.4 Severity\")\n",
        "plt.ylabel(\"Amount\")\n",
        "#plt.title(\"Code Smell\")\n",
        "dataset['severity'].value_counts().plot.bar() #;\n",
        "plt.show()"
      ]
    },
    {
      "cell_type": "code",
      "execution_count": 15,
      "metadata": {
        "colab": {
          "base_uri": "https://localhost:8080/"
        },
        "id": "Zy1ySiNhiyQW",
        "outputId": "4870cf0d-2783-47a9-f0d5-b59fdca907ce"
      },
      "outputs": [
        {
          "data": {
            "text/plain": [
              "array(['ConnIdSpecialName', 'NONE', nan, 'Printer', 'SSLHostConfig',\n",
              "       'PerUserPoolDataSource', 'CasTreeViewer', 'UserResource',\n",
              "       'DTMNodeProxy', 'UnImplNode', 'IntType', 'SystemInstance',\n",
              "       'JsonGenerator', 'KerberosName', 'PackageState', 'StatusMessage',\n",
              "       'SearchResultEntry', 'DomUtils', 'ProgressMonitorPresenter',\n",
              "       'LifecycleModule', 'Element', 'GutterClickEvent',\n",
              "       'ThreeCornerLoopLabelPositionGenerator',\n",
              "       'FileBasedCredentialsService', 'UINotification', 'HttpConnection',\n",
              "       'GwtSession', 'GroupServiceImpl', 'ConnectionSslOptions',\n",
              "       'VersionedTextDocumentIdentifierTypeAdapter', 'DeviceServiceSteps',\n",
              "       'LoggregatorMessage', 'ParserController', 'RangeDecoderFromBuffer',\n",
              "       'ProductVersionExpansionRun',\n",
              "       'ImmutableInMemoryMetadataRepository', 'ReadyMarker',\n",
              "       'AutomationResourceBundlesTracker', 'DeviceImpl',\n",
              "       'DataReferenceWrapper', 'DcatDistributionAdaptor', 'UsagesNode',\n",
              "       'PhotoDataImpl', 'StringUtil', 'ClosureTypesGenerator',\n",
              "       'AuthenticatorScreen', 'ApacheClient', 'OGModule', 'GsonBuilder',\n",
              "       'SocketServer', 'GeneratedTypeElement',\n",
              "       'FormatFlagsConversionMismatchException', 'MachOObjectFile',\n",
              "       'Collections', 'SQLServerDatabaseMetaData',\n",
              "       'BatchDeleteRequestBuilderBase', 'LoggingFacade', 'AMQChannel',\n",
              "       'GreyToBlackObjRefVisitor', 'BootstrapHandlers',\n",
              "       'ShadowConnectivityManager', 'OverviewController',\n",
              "       'ApplicationTypeForm', 'TFSCommonUIClientPlugin',\n",
              "       'CredentialsDialog', 'UsernamePasswordCredentials',\n",
              "       'FileWatchingFailureHandler', 'ProjectCloseListener',\n",
              "       'CDatabaseNodeMenuBuilder', 'HSTruffleCompilerListener',\n",
              "       'HotSpotToSVMScope', 'RegexOptions', 'LLVMAMD64CmpNode',\n",
              "       'PolyglotInstrument', 'RuntimeOptionValues', 'CacheExpression',\n",
              "       'Customer123Service', 'Customer970Service', 'Customer1085Service',\n",
              "       'OptimizedAssumption', 'AOTHotSpotResolvedJavaMethod',\n",
              "       'LLVMPointerCompareNode', 'TimerKeyImpl', 'YarnContainerBuilder',\n",
              "       'RepresentationModelAssemblerSupport', 'ValueExpression',\n",
              "       'SockJsHttpRequestHandler',\n",
              "       'ConfigurationClassBeanDefinitionReader', 'BindStatus',\n",
              "       'ExternalFile', 'WebflowEditor', 'VaultTransitTemplate',\n",
              "       'ImageService', 'IPAddressService', 'MetricFactory',\n",
              "       'RabbitDestination', 'JBoss6SshDriver', 'TimeAndDimsParseSpec',\n",
              "       'CassandraFabricImpl', 'ConfigurationClassParser',\n",
              "       'AjaxFileDropBehavior', 'AuthIds', 'MemoryHandler',\n",
              "       'ExpressionSelectors', 'GlobalStateManager', 'ThriftUtil',\n",
              "       'TitanLoggerApi', 'TitaniumDAGLayout', 'StringSetConstraint',\n",
              "       'Bug348427TestLanguageGrammarAccess', 'PublicResolvedTypes',\n",
              "       'BacktrackingContentAssistTestLanguageGrammarAccess',\n",
              "       'ContentAssistContextTestPackageImpl', 'CompositeConditionImpl',\n",
              "       'AModelImpl', 'ParameterisedSubReference', 'XtendGrammarAccess',\n",
              "       'AssignmentsTestLanguageBaseColorSettingsPage', 'ThrowsPattern',\n",
              "       'BcelPerClauseAspectAdder',\n",
              "       'CamelWorkflowDefinitionFactoryFactory', 'ComponentModel',\n",
              "       'DnsDigProducer', 'DigitalSignatureEndpoint',\n",
              "       'ManagedBacklogDebugger', 'DisruptorComponent', 'Enricher',\n",
              "       'AllRedisProcessorsCreator', 'BeanValidatorComponent',\n",
              "       'BaseRequestMapper', 'AbstractSkillBuilder', 'RouteType',\n",
              "       'CanalEntry', 'Resources', 'XmlModuleDescriptorWriter',\n",
              "       'ServiceConfigVersionResponse', 'ArgumentProcessorRegistry',\n",
              "       'PromiseRxInvokerImpl', 'AriesJaxrsServiceRuntime', 'Utils',\n",
              "       'CmUtils', 'GoraEndpoint', 'ConsoleProxyManagerImpl',\n",
              "       'StateMachine', 'ClusterServiceServletAdapter', 'PipelineImpl',\n",
              "       'SnapshotReferenceUtil', 'CallQueueInfo',\n",
              "       'AsyncNonMetaRegionLocator', 'GridDhtPartitionTopologyImpl',\n",
              "       'ZkDiscoveryNodeJoinEventData', 'CacheMetricsImpl',\n",
              "       'ApacheFopWorker', 'ContainersMonitorImpl',\n",
              "       'LlapDaemonProtocolProtos', 'SparkSkewJoinProcFactory',\n",
              "       'OrcEncodedDataReader', 'LazyBinaryMap', 'MapJoinProcessor',\n",
              "       'DruidSqlOperatorConverter', 'Function', 'FilterNumericDocValues',\n",
              "       'ContextImpl', 'CharacterDefinitionWriter', 'OrdsSegmentTermsEnum',\n",
              "       'BinaryDictionary', 'DoubleMetaphoneFilter', 'DesignVisitorImpl',\n",
              "       'DataSetAdapter', 'AbstractJsonFormatter', 'Classes',\n",
              "       'ShutdownAllCommand', 'UnionAllOperatorDescriptor',\n",
              "       'PhysicalOptimizationConfig', 'MetadataBootstrap',\n",
              "       'GetLastLogMarkService', 'EtcdWatchClient',\n",
              "       'RocksdbCheckpointTask', 'IPCConnectionManager',\n",
              "       'OrderedParameterized', 'ProductCategoryUsageTrajectory',\n",
              "       'JdbcRules', 'SqlValidatorImpl', 'ClusteringIndexSliceFilter',\n",
              "       'CommonRange', 'ActiveRepairService', 'PredicateUtils',\n",
              "       'AbstractFileSystem', 'CuratorEventImpl',\n",
              "       'CacheableIdentityService', 'LdapConnectionProvider',\n",
              "       'BasicConstraints', 'GssMechFactory', 'EncryptedData',\n",
              "       'GssEncryptor', 'AdminServerContext', 'DelegatingXMLStreamWriter',\n",
              "       'XMLStreamDataWriter', 'WrappedService', 'OidcUtils',\n",
              "       'TemplateEntryEditorPreferencePage', 'IPZoneDataEnrichLCM',\n",
              "       'AbstractEntityManager', 'AssertUtil', 'JailedFileSystem',\n",
              "       'EntitiesPage', 'BitControl', 'JsonReader',\n",
              "       'ControlMessageHandler', 'RemoteFunctionRegistry', 'TextReader',\n",
              "       'VarLenColumnBulkInput', 'LifecycleSupervisor',\n",
              "       'SinkProcessorConfiguration', 'AFPFontFamilyResolver',\n",
              "       'FixedCapacityIntByteMinHeap', 'WorkerProgress',\n",
              "       'BackwardsCompatibleSerializerSnapshot', 'ObjectArrayTypeInfo',\n",
              "       'ReadOnlyDelegatedFrame', 'LogManager', 'FastMath',\n",
              "       'ActiveMQRABytesMessage', 'PublisherCallableOnAssembly',\n",
              "       'ScriptBuilder', 'CDatabasePasswordField',\n",
              "       'DefaultDocumentDeleteQueryExecute', 'Pair',\n",
              "       'DatabaseContentHandler', 'ContextFinderTestSwitch',\n",
              "       'AbstractPatternFilter', 'RMEndpoint', 'PreparedStatement',\n",
              "       'SolrRangeQuery', 'LocalMBeanServer', 'ImportProjectJob',\n",
              "       'LLVMContext', 'DummyBlob', 'Endpoint', 'SequentialLogFileReader',\n",
              "       'AbfsInputStream', 'AddressControlImpl', 'NumberUtil',\n",
              "       'DirectWriteRolloverStrategy', 'PhoenixParameterMetaData',\n",
              "       'Category', 'RadarTypePackageImpl', 'JsonKeyFinder',\n",
              "       'SecurityConfHandlerLocal', 'TraversalUtil',\n",
              "       'ClickHouseRetentionProvider', 'ThisOrTargetPointcut',\n",
              "       'OperationProcessingChain', 'TypeDclVisitor', 'JPAConfiguration',\n",
              "       'AbstractInputView', 'OptionsRequest', 'JsonDataDay', 'MiniPlayer',\n",
              "       'Tree', 'AbstractConcatenatedTimeline', 'ResTableTypeSpec',\n",
              "       'VisorQueryHolder', 'BlockMgrJournal',\n",
              "       'ProgressNotificationEditor', 'Uri',\n",
              "       'DebugConfigurationsManagerImpl', 'RegionShortcutWrapper',\n",
              "       'VelocityBodyContent', 'AttributeParser', 'NumberCall',\n",
              "       'SampleView', 'SecurityGroupSelectionComposite', 'Subscription',\n",
              "       'Aws4SignerParams', 'MetricsTag', 'IgniteSpiAdapter',\n",
              "       'ConsumerImpl', 'DoubleConversions', 'InstanceKeyDataSource',\n",
              "       'BuildLogHelper', 'ExplicitUsersSecurityProvider', 'QuotaHelper',\n",
              "       'BlobMigrator', 'BindableEmitter', 'RocketmqLog4jAppender',\n",
              "       'IdentityProviderValidationRequest', 'MonitorClient',\n",
              "       'JAXRSBinding', 'WindowedStorageAdapter', 'FTAggregationHelper',\n",
              "       'AbstractSftpSubsystemHelper', 'CSVLoaderBase',\n",
              "       'HLLMergedStatistic', 'OverScope', 'StatementMetadataNode',\n",
              "       'LdapClassLoader', 'ServerDBSyncImpl', 'FeedHelper',\n",
              "       'FutureAdapter', 'SpoolingRawBatchBuffer',\n",
              "       'CreateNodeUndoableEdit', 'CreateVirtualEnvAction',\n",
              "       'AnnotationBuilder', 'JobManagerImpl', 'CassandraModSeqProvider',\n",
              "       'Hamlet', 'ClientAMProtocolPBClientImpl',\n",
              "       'HiveSqlCountAggFunction', 'ModelFormField',\n",
              "       'ChildUimaContext_impl', 'SketchEstimatePostAggregator',\n",
              "       'EntityDefinition',\n",
              "       'AbstractCrossReferenceProposalTestLanguageUiModule',\n",
              "       'AjBuildConfig', 'ChooseOneSectionTable', 'FilteredHeaderItem',\n",
              "       'ValueRange', 'AbstractResultSet', 'ProductItemCommerceInsights',\n",
              "       'RemoveAnnotatedMethodsFacetFactory',\n",
              "       'TypeInsteadOfConstructorLinkingCandidate', 'FileSystemView',\n",
              "       'InMemoryProjectContextFactory', 'JDBCLinkStore',\n",
              "       'PoolingConnection', 'AllType', 'FixedCapacityLongByteMinHeap',\n",
              "       'HadoopShuffleJob', 'RestoreAction',\n",
              "       'VMStatsDiskLRURegionEntryOffHeapStringKey1',\n",
              "       'FileAppenderHandler', 'Password', 'XChange', 'CalciteSchema',\n",
              "       'ServerStats', 'CloseShareAccountCommandHandler', 'InstanceImpl',\n",
              "       'RegistryProtocol', 'INodeReference', 'FormTester',\n",
              "       'CriteriaLogQuery', 'ProguardMapping', 'DataDictionaryImpl',\n",
              "       'SortMemoryManager', 'StandardRepositoryStatusReport',\n",
              "       'NamenodeFsck', 'TreeRangeMap', 'HttpAsyncClientBuilder',\n",
              "       'IndexMap', 'PessimisticLockManager', 'JoinEdge',\n",
              "       'PromoteCandidateChangesDialog',\n",
              "       'ServiceCapabilitiesReportGenerator', 'Ajdoc14Source',\n",
              "       'KiWiConnection', 'HmacSha1Aes256CheckSum',\n",
              "       'ReflectionTypeFactory', 'NodeInformation', 'NativeImageGenerator',\n",
              "       'DCModuleImpl', 'BM25FQuery', 'AstFunction',\n",
              "       'MappingUriExtensions', 'NIOReactor', 'ServerCacheFactoryProtos',\n",
              "       'RequestScheduleService', 'NodeImpl',\n",
              "       'ContentAssistTestLanguageFactoryImpl', 'ReorgPolicyFactory',\n",
              "       'AbstractRealtimeRecordReader', 'MXMLXMLListNode',\n",
              "       'ContainerLaunch', 'PythonBinaryDescription', 'PrefixCodedTerms',\n",
              "       'SingleHopQuarterPartitionResolver', 'ImportImpl',\n",
              "       'ModifiableViewTable', 'KeyInputStream', 'CurrentLiveVersion',\n",
              "       'ActionFields', 'JsonStatisticsRecordWriter',\n",
              "       'Xtext2EcoreTransformer', 'HStore', 'MP4Header',\n",
              "       'HiveOnTezCostModel', 'LongBinaryHashFunctionFactory',\n",
              "       'ProxyingHandlerMethodArgumentResolver', 'PathCluster',\n",
              "       'DDdependableFinder', 'ExtractMethodUserInputPage',\n",
              "       'ApplicationConfigurator', 'DistributedQueue', 'Quota',\n",
              "       'MetricConfigResource', 'RunQuery', 'QueryHelper',\n",
              "       'RemoteCacheMonitor', 'Node2PipelineMap',\n",
              "       'Lucene70DocValuesConsumer', 'TablespaceManager',\n",
              "       'SavingsAccountsApiResource',\n",
              "       'VersionedStatsRegionEntryOffHeapIntKey', 'ConfigHelper',\n",
              "       'CustomerRestController', 'LocalBSPRunner', 'Exec',\n",
              "       'CloudFoundryBootDashModel', 'DefaultHandlerStrategiesBuilder',\n",
              "       'SAML2IdPsDirectoryPanel', 'ReactorGroups',\n",
              "       'RootInputInitializerManager', 'NetRexxEngine', 'MarkerRangeImpl',\n",
              "       'ConnectionInteraction', 'DB2Dictionary', 'X509CertSelector',\n",
              "       'CandidateIdFilter', 'DefaultQueryRewriter',\n",
              "       'DepositProductDataValidator', 'HiveOpConverter', 'HashCode',\n",
              "       'Rops', 'NativeNTLM', 'RawStore', 'AutoincrementCounter',\n",
              "       'UaVariableLoader', 'HttpdLogRecord', 'LifxLightStateChanger',\n",
              "       'ThreadSafeComponentHandler', 'CachingBuildActionExecuter',\n",
              "       'SingleValueSet', 'YearGroupCalculator', 'DivideEvaluator',\n",
              "       'DataItemCombo', 'VertexImpl', 'TlsConfiguration',\n",
              "       'VersionItemStateManager', 'RegistrationPanel',\n",
              "       'SchemaBasedYamlASTReconciler', 'WebSocketPolicy',\n",
              "       'KafkaAuthBinding', 'TargetPlatformFilterEvaluator',\n",
              "       'PortForwardingTabUi', 'AssignProcedure',\n",
              "       'RecurringDepositAccountDepositCommandHandler', 'DOMViewer',\n",
              "       'AbstractXmlCamelComponent', 'AccountEntityServiceForSavingsImpl',\n",
              "       'UserGroupInformation', 'SVGAnimationEngine',\n",
              "       'ResponseContentParser', 'MultiEncoder', 'ServletHeaderValuesMap',\n",
              "       'MethodSpecParser', 'AbstractDelegatingLogger',\n",
              "       'AvroRpcResourceManager', 'AggregateFunctionType',\n",
              "       'ProjectStatePreferences', 'RestLiDoclet', 'CacheSimple',\n",
              "       'ExtendedResourcePredicateVisitor', 'NotRunningJob',\n",
              "       'ServerAdminTool', 'ImmutableComparatorRegistry',\n",
              "       'ResumptionAction', 'StorageLocation', 'KStreamImpl',\n",
              "       'CassandraMailRepositoryMailDAO', 'CachingSource',\n",
              "       'CriterionConverter', 'EllipseFitter', 'Logger',\n",
              "       'ODataJPADefaultProcessor', 'AmqpTransactionContext',\n",
              "       'CpEntityManager', 'ForwardingList', 'NonFatalErrorHelper',\n",
              "       'AggregationManager', 'RetrieveFeaturesLiveCommandImpl',\n",
              "       'NormalizeResultSetNode', 'ShareOatUtil', 'ForkStarter',\n",
              "       'RelationalOperations', 'JwkUtils', 'SimpleTransactionFactory',\n",
              "       'UserBitShared', 'JdbcDatabaseManager', 'GlyphSubstitutionTable',\n",
              "       'NotQuery', 'LLVMAsForeignNode', 'LLVMDebugObject',\n",
              "       'AMD64HotSpotNodeLIRBuilder', 'EPCell', 'Tables',\n",
              "       'CompilerConfiguration', 'CleanerService', 'WebcrawlerConnector',\n",
              "       'DeviceTabBundles', 'DiscreteXYPainter', 'CaptureInfo',\n",
              "       'ReservedThreadExecutor', 'CLabel', 'DataCreator',\n",
              "       'TeamExplorerControl', 'HttpInputStreamWithRelease',\n",
              "       'WebSocketAnnotationMethodMessageHandler', 'UserProtos',\n",
              "       'GsonHttpMessageConverter', 'JConsolePluginWrapper',\n",
              "       'ClientConsumerImpl', 'RegionProducer', 'ServiceHost',\n",
              "       'ColumnSetup', 'ConnectSsoServerDialog',\n",
              "       'GrailsProjectPropertyTester', 'QueryFragmentCounters',\n",
              "       'BeanManagerImpl', 'SegmentListUnusedAction', 'Relation',\n",
              "       'RouterHeartbeatService', 'OutMessageRecorder', 'ExpandingVisitor',\n",
              "       'OozieWorkflowEngine', 'RegexCharacterCollection', 'FTPClient',\n",
              "       'ImmutableMatchingRuleUseRegistry', 'KerberosSaslClientHandler',\n",
              "       'LexState', 'HdfsProtos', 'AgentMain', 'TaskRunnerCallable',\n",
              "       'UtilMisc', 'ControlFlowContextManager', 'NonParallelIterable',\n",
              "       'FOText', 'ServerView', 'Schema',\n",
              "       'LoanRescheduleRequestReadPlatformServiceImpl',\n",
              "       'AGeometrySerializerDeserializer', 'GenericDaoBase',\n",
              "       'IOReactorExecutor', 'ReversedType',\n",
              "       'NamedSerializationContextProvider', 'MailboxQuery', 'BatchProto',\n",
              "       'ImmutableSetMultimap', 'MetaDataProtos',\n",
              "       'CamelCloudServiceDiscovery', 'CliExecutor', 'TreeNodeChildren',\n",
              "       'SearchRequestImpl', 'TitanOctetString_Element', 'DataViewBase',\n",
              "       'RDFParserBuilder', 'EhCacheManager', 'CloudServiceOptions',\n",
              "       'GrailsExplorerPreferencesPage', 'ShadowProviderGenerator',\n",
              "       'DBDictionary', 'ServerControl', 'NavigatorLabel',\n",
              "       'MySQLTableOptimizer', 'ObjectStoreImpl', 'UpdatableIterator',\n",
              "       'DruidPooledCallableStatement', 'LaterunEvent',\n",
              "       'StringInputDialog', 'PortletURLTag286',\n",
              "       'RocksDBCachingPriorityQueueSet', 'ClientDataRequestImpl',\n",
              "       'TextLayoutManager', 'HBaseDao', 'AbstractQueuedSynchronizer',\n",
              "       'TopologyWebSocketBehavior', 'base16',\n",
              "       'XQuery10ExpressionCompilerImpl', 'UnresolvedPlaceholderException',\n",
              "       'TemplateVars', 'Action', 'OutputStreamEventReporter',\n",
              "       'HttpResponse', 'IntersectOrExceptNode', 'SslDomainImpl',\n",
              "       'ModelUtil', 'JobHistoryZKStateManager', 'UtilValidate',\n",
              "       'MyBindingImpl', 'ApplicationInstance', 'ModelMenuCondition',\n",
              "       'AbstractVirtualHost', 'AbstractDebugger', 'JDBCTopicMessageStore',\n",
              "       'ImmutableMap', 'StateMgrBase', 'LogFileV3', 'Not',\n",
              "       'SchedulerApplicationAttempt', 'SegmentInfo', 'ObjectsFeature',\n",
              "       'Base64', 'AetherGrapeEngine', 'PhotometricInterpreterCmyk',\n",
              "       'HDFSOutputConnector', 'OperationImpl', 'AbstractQueue',\n",
              "       'InitializeParamsProvider', 'BazaarConsumer', 'Traversalor',\n",
              "       'ReorgUtils', 'MetaParseState', 'SqlTypeExplicitPrecedenceList',\n",
              "       'SchemaUtil', 'TEIDOMParser', 'SecurityContextTTLChecker',\n",
              "       'ClassLoaderUtil', 'ResultUtil', 'ConnectedDevicesManager',\n",
              "       'CodePointAdapter', 'KiWiSailConnection', 'XmlRpcStructFactory',\n",
              "       'StatefulWindowedBoltExecutor', 'AgentsDaemon',\n",
              "       'XFlattenedColumnTable', 'AccessTokenManager',\n",
              "       'HttpClientTransaction', 'ConvertingCursor', 'ColorPalette',\n",
              "       'ProductCategoryUsageSimulator', 'FlowBuilder',\n",
              "       'BasicPolicyConfiguration', 'AclFileParser', 'Synchronized',\n",
              "       'MessageCounter', 'FunctionsBase', 'JdbcStatement',\n",
              "       'CommsTokenStore', 'ManagementServerImpl', 'EffectiveNodeTypeImpl',\n",
              "       'SlotID', 'AbstractFOPImageElementBridge',\n",
              "       'ClientCacheQueryResponse', 'SetMatrix', 'AFPPaintingState',\n",
              "       'MetaImage', 'ExtractToFunctionWizardParamsPage', 'PathParser',\n",
              "       'ProtobufLogReader', 'DseTypeSyntaxChecker',\n",
              "       'UnaryArithmeticOperatorNode', 'OpenSslJnaCryptoRandom',\n",
              "       'MXMLClassReferenceNodeBase', 'FileAttachmentsControl',\n",
              "       'AbstractLinearTransform', 'WebSocketFrame',\n",
              "       'RemoteClientConfiguration', 'Asn1Eoc', 'DomainClass',\n",
              "       'PreOrderOnceWalker', 'GroomServer', 'DataSourceAction',\n",
              "       'BaseMonitor', 'SqlManager', 'HeaderMap', 'SegmentCheckpointMBean',\n",
              "       'PreparedStatementClassDataProvider', 'EvictionActionType',\n",
              "       'CssLicenseHeaderHandler', 'SegmentDownloadAction',\n",
              "       'ValidatorImpl', 'VisibilityItem', 'GuidesTestCase',\n",
              "       'GenerationDelegateProxyService', 'While_Statement',\n",
              "       'OdbcRequestHandler', 'Cost', 'JsPromiseError',\n",
              "       'LocationCacheManager', 'SentryStore', 'TimelineXYPainter',\n",
              "       'Environment', 'ODataNettyHandlerImpl', 'SharePointADAuthority',\n",
              "       'MessageSearches', 'ComposedRuleElement', 'MatrixStyle',\n",
              "       'JDBCResourceStore', 'ActionDialog', 'ChildNodeEntriesImpl',\n",
              "       'SavingsTransactionsWorkbookPopulator', 'H2ResultSetIterator',\n",
              "       'LayoutTable', 'UsersManager', 'CGraphPanelSynchronizer',\n",
              "       'AbstractMemoryStore', 'BasicEditor', 'CordovaCLI',\n",
              "       'TransformerImpl', 'AbstractBaseResourceService', 'Requests',\n",
              "       'RuleKeyDiffPrinter', 'TxLocksResponse', 'HttpServer2',\n",
              "       'GtfsRealtime', 'ParallelSelectUnsortedSetIterable',\n",
              "       'SimpleBuilder', 'Encryption', 'RxNullabilityPropagator',\n",
              "       'JobServiceImpl', 'TokenValidatorProvider',\n",
              "       'UnmodifiableMutableMap', 'PhysicalColumnIndexContainer',\n",
              "       'AffirmativeBased', 'Main', 'ResourceResponseImpl', 'PageDataImpl',\n",
              "       'OfflineImageReconstructor', 'SignatureProcessors',\n",
              "       'TransactionDetail', 'CsvRecordOutput', 'TextUtils',\n",
              "       'PreviewPresenter', 'Transmission', 'IndexIO', 'JSAMDEmitter',\n",
              "       'HddsVolumeChecker', 'DupsCursor', 'GoalViolationDetector',\n",
              "       'SQLRewriteEngine', 'ReferenceAliasWhereEntryImpl',\n",
              "       'PlayerSession', 'UploadFolderAction', 'SimpleTokenizer',\n",
              "       'NumberFeatureExpression', 'H2TreeIndex', 'OdsLayoutEngine',\n",
              "       'UserInputTypeValidation', 'MulticastGroup', 'ModelScreenWidget',\n",
              "       'MethodWriter', 'CombineAndSimplifyBounds', 'HashJoinLocalIndexIT',\n",
              "       'EventStateCollection', 'SVGOMAnimatedRect', 'MarkerHandler',\n",
              "       'ParsedActualParameters', 'GridFsArtifact', 'DiscardUDPClient',\n",
              "       'MapReduceParallelScanGrouper', 'DirectScanPrel', 'ResolveContext',\n",
              "       'QueryEditorControl', 'OutputBuffer', 'OfflinePointWriter',\n",
              "       'Collector', 'ChunkStepController', 'AddImpl', 'SonyAudioMethod',\n",
              "       'FowlerdslAdapterFactory', 'GTParamOutFragment', 'NginxSshDriver',\n",
              "       'ServerManager', 'PropertyEntryImpl',\n",
              "       'BlockJoinFieldFacetAccumulator',\n",
              "       'DeleteShareProductDividendCommandHandler', 'TimedElement',\n",
              "       'OutputColumnDefnPage', 'ProfileHttpClientBase',\n",
              "       'JdbcSQLContentAssistProcessor', 'Activator',\n",
              "       'DistributedZkUpdateProcessor', 'MockHttpServletResponse',\n",
              "       'GenericResultSetFactory', 'TesterObject',\n",
              "       'GanttLineAttributesComposite', 'QueueActorRouterProducer',\n",
              "       'StaticDependencyTraverser', 'DateTimeItem',\n",
              "       'WeightedAshwoodEntitySorter', 'StrictDepsPass', 'AbstractOp',\n",
              "       'InjvmExporter', 'ServerParser', 'LogicalPlanConfiguration',\n",
              "       'SchemaEntityFactory', 'PersistenceTimer',\n",
              "       'BatchOperationApplyOnWizardPage', 'PreGenRecordOf',\n",
              "       'ResolveVisualizerView', 'LessEqCursor',\n",
              "       'SearchTravRetHighlightTask', 'ZooStore',\n",
              "       'RandomAccessListIterate', 'ResourceOperationSpecService',\n",
              "       'MultiQueryOptimizer', 'AbstractWovenProxyMethodAdapter',\n",
              "       'QuorumManager', 'OptionMulti', 'DistributedRegion',\n",
              "       'AvailabilityData', 'SQLBuilder', 'VUtil', 'SegmentTermsEnum',\n",
              "       'PaginatorsClassSpec', 'ImageLayout', 'RPC', 'ArrayUtils',\n",
              "       'BackupCommands', 'DefaultDocumentEntity', 'StageMatchTuple',\n",
              "       'WebContinuation', 'AutoConfigurationSorter',\n",
              "       'HardwareDescription', 'TaskManager', 'AnnotationOutline',\n",
              "       'PointcutExpressionImpl', 'OptionEntry', 'CommandEditor',\n",
              "       'LockBasedScheduler', 'SystemKeyspace', 'UnitConverter',\n",
              "       'SemanticAnalyzer', 'Krb5HttpClientBuilder', 'DefineShape',\n",
              "       'ConstraintModel', 'GrailsInplaceDialog', 'EdgesConnecting',\n",
              "       'AspectJAfterReturningAdvice', 'Oid', 'FilterAsAlphaRed',\n",
              "       'DatatypeRulesTestLanguageSwitch', 'AnyWithAnnotationTypePattern',\n",
              "       'MapFragment', 'NestedLoopJoin', 'CanalPacket',\n",
              "       'AbstractMigrationPlugin', 'HiveHookEvents', 'RecurrenceRule',\n",
              "       'NetworkConfig', 'ProjectRecordBatch', 'DataBlockEncoding',\n",
              "       'GTCubeStorageQueryBase', 'Leader', 'PrefixExpImpl',\n",
              "       'SqlSystemViewNodeMetrics', 'ExampleNamespace',\n",
              "       'TestSSLEnginePair', 'DBFResultSet', 'TaggedIOException',\n",
              "       'GenericLogs', 'StorageResponseGTScatter',\n",
              "       'SynchronousXYItemMarker', 'SynchronizedStatement',\n",
              "       'ObjectSpecificationAbstract', 'DelegationTokenRenewer',\n",
              "       'DependentBeanEntry', 'ProgressSplitsBlock',\n",
              "       'DruidPooledConnection', 'WriterRecordBatch',\n",
              "       'ReflectionInvocationContext', 'ReactiveCassandraBatchTemplate',\n",
              "       'ResourceValidity', 'EmailAlias', 'ReduceDecimalsRule',\n",
              "       'StreamManagerClient', 'ContactMechWorker', 'CLCHTTPClientFactory',\n",
              "       'BinaryLazyArrayList', 'TemplateManager', 'HeaderPanel', 'Seeker',\n",
              "       'ImmutableSingletonBag', 'RetrieveLoginFromTaverna',\n",
              "       'HttpListenerRegistry', 'HeapDumpOnOOMEAction',\n",
              "       'ValueArrayTypeInfo', 'AsyncContextEvent',\n",
              "       'GenericAggregateResultSet', 'AbstractConfiguredObjectTypeFactory',\n",
              "       'Pack', 'EvictionAction', 'ChecksumFileSystem', 'ServerIdDialog',\n",
              "       'ContainerServiceRecordProcessor', 'ResourceConfigurationBlock',\n",
              "       'RemotingCommand', 'WordExtractor', 'StatusConfigReporter',\n",
              "       'SortingFormPropertyDescriptor', 'JpaSystemPermissionsDao',\n",
              "       'Multisets', 'PeerSyncWithLeader', 'UrlRewriteContextImpl',\n",
              "       'DTMDocumentImpl', 'ConnectionPoolId', 'UserProfileServiceHandler',\n",
              "       'DataPolicy', 'LinkRegistryImpl', 'BasicRto',\n",
              "       'DecimalScalePrecisionModFunction', 'DrillPreparedStatementImpl',\n",
              "       'SmapUtil', 'AmbariManagementControllerImpl', 'PageDrawer',\n",
              "       'PlatformMessaging', 'SeekableStreamIndexTaskRunner', 'JobImpl',\n",
              "       'OAuth2SecurityExpressionMethods', 'TtmlDecoder', 'OracleServer',\n",
              "       'LabeledExpression', 'AbstractBooleanCredentialsStrategy',\n",
              "       'VectorHashKeyWrapperTwoBase', 'TaskExecutor', 'Deserializer',\n",
              "       'SubqueryNode', 'Lattice'], dtype=object)"
            ]
          },
          "execution_count": 15,
          "metadata": {},
          "output_type": "execute_result"
        }
      ],
      "source": [
        "dataset.clean_method.unique()  ## nao sera usado no modelo"
      ]
    },
    {
      "cell_type": "code",
      "execution_count": 16,
      "metadata": {
        "colab": {
          "base_uri": "https://localhost:8080/"
        },
        "id": "D7Wl5ieBlnC7",
        "outputId": "58e7b7e3-e44e-41af-dcea-1eae86bd314f"
      },
      "outputs": [
        {
          "data": {
            "text/plain": [
              "array([nan,  0.,  1.,  4.,  2., 10.,  3.,  8.,  7.,  6., 11., 19.,  5.])"
            ]
          },
          "execution_count": 16,
          "metadata": {},
          "output_type": "execute_result"
        }
      ],
      "source": [
        "dataset.ChangingMethods.value_counts()\n",
        "dataset.ChangingMethods.unique()\n",
        "\n",
        "#dataset.repeticoes.unique()\n",
        "#dataset['NumberOfAccessedVariables'].value_counts()\n"
      ]
    },
    {
      "cell_type": "code",
      "execution_count": 16,
      "metadata": {
        "id": "v3ofxRKJkoPk"
      },
      "outputs": [],
      "source": [
        "# primeira analise para amostras que tem dados vindos do organic\n",
        "#dataset.fillna(0, inplace = True)\n",
        "#dataset = dataset.dropna()"
      ]
    },
    {
      "cell_type": "code",
      "execution_count": 17,
      "metadata": {
        "colab": {
          "base_uri": "https://localhost:8080/"
        },
        "id": "0It3flAvujX9",
        "outputId": "d3da60ab-fc1d-46d6-e729-e19fe5412972"
      },
      "outputs": [
        {
          "data": {
            "text/plain": [
              "(10222, 93)"
            ]
          },
          "execution_count": 17,
          "metadata": {},
          "output_type": "execute_result"
        }
      ],
      "source": [
        "dataset.shape"
      ]
    },
    {
      "cell_type": "markdown",
      "metadata": {
        "id": "twd5_Nc6w5j1"
      },
      "source": [
        "**Nosso rotulo terá 5 valores**\n",
        "\n",
        "'none', 'blob', 'data class', 'long method', 'feature envy']\n",
        "\n"
      ]
    },
    {
      "cell_type": "code",
      "execution_count": 18,
      "metadata": {
        "colab": {
          "base_uri": "https://localhost:8080/"
        },
        "id": "p2alG51IuzwM",
        "outputId": "0d15b9e0-80d3-41ee-da15-ed9380dd7183"
      },
      "outputs": [
        {
          "data": {
            "text/plain": [
              "array(['none', 'blob', 'data class', 'long method', 'feature envy'],\n",
              "      dtype=object)"
            ]
          },
          "execution_count": 18,
          "metadata": {},
          "output_type": "execute_result"
        }
      ],
      "source": [
        "dataset.smell.value_counts()\n",
        "dataset.smell.unique()"
      ]
    },
    {
      "cell_type": "code",
      "execution_count": 19,
      "metadata": {
        "colab": {
          "base_uri": "https://localhost:8080/"
        },
        "id": "xfh9otkFmEic",
        "outputId": "75a140a0-85fb-4f1f-e107-bebbb761d251"
      },
      "outputs": [
        {
          "name": "stdout",
          "output_type": "stream",
          "text": [
            "commit_hash: 0 \n",
            "reviewer_id: 0 \n",
            "sample_id: 0 \n",
            "smell: 0 \n",
            "severity: 0 \n",
            "review_timestamp: 0 \n",
            "type: 0 \n",
            "code_name: 0 \n",
            "repository: 0 \n",
            "path: 0 \n",
            "start_line: 0 \n",
            "end_line: 0 \n",
            "link: 0 \n",
            "relevant: 0 \n",
            "lines: 0 \n",
            "num_commits: 0 \n",
            "reason: 9511 \n",
            "NumberOfAccessedVariables: 9511 \n",
            "CouplingDispersion: 9511 \n",
            "ChangingClasses: 9520 \n",
            "MethodLinesOfCode: 9511 \n",
            "CyclomaticComplexity: 9511 \n",
            "MaxNesting: 9511 \n",
            "CouplingIntensity: 9511 \n",
            "ParameterCount: 9511 \n",
            "MaxCallChain: 9511 \n",
            "ChangingMethods: 9520 \n",
            "repeticoes: 9511 \n",
            "arquivo_org: 9511 \n",
            "ck_file: 6774 \n",
            "file: 4798 \n",
            "class: 4798 \n",
            "type_ck: 4798 \n",
            "cbo: 4798 \n",
            "cboModified: 4798 \n",
            "fanin: 4798 \n",
            "fanout: 4798 \n",
            "wmc: 4798 \n",
            "dit: 4798 \n",
            "noc: 4798 \n",
            "rfc: 4798 \n",
            "lcom: 4798 \n",
            "lcom*: 4818 \n",
            "tcc: 5055 \n",
            "lcc: 5055 \n",
            "totalMethodsQty: 4798 \n",
            "staticMethodsQty: 4798 \n",
            "publicMethodsQty: 4798 \n",
            "privateMethodsQty: 4798 \n",
            "protectedMethodsQty: 4798 \n",
            "defaultMethodsQty: 4798 \n",
            "visibleMethodsQty: 4798 \n",
            "abstractMethodsQty: 4798 \n",
            "finalMethodsQty: 4798 \n",
            "synchronizedMethodsQty: 4798 \n",
            "totalFieldsQty: 4798 \n",
            "staticFieldsQty: 4798 \n",
            "publicFieldsQty: 4798 \n",
            "privateFieldsQty: 4798 \n",
            "protectedFieldsQty: 4798 \n",
            "defaultFieldsQty: 4798 \n",
            "finalFieldsQty: 4798 \n",
            "synchronizedFieldsQty: 4798 \n",
            "nosi: 4798 \n",
            "loc: 4798 \n",
            "returnsQty: 4798 \n",
            "loopQty: 4798 \n",
            "comparisonsQty: 4798 \n",
            "tryCatchQty: 4798 \n",
            "parenthesizedExpsQty: 4798 \n",
            "stringLiteralsQty: 4798 \n",
            "numbersQty: 4798 \n",
            "assignmentsQty: 4798 \n",
            "mathOperationsQty: 4798 \n",
            "variablesQty: 4798 \n",
            "maxNestedBlocksQty: 4798 \n",
            "anonymousClassesQty: 4798 \n",
            "innerClassesQty: 4798 \n",
            "lambdasQty: 4798 \n",
            "uniqueWordsQty: 4798 \n",
            "modifiers: 4798 \n",
            "logStatementsQty: 4798 \n",
            "method: 4798 \n",
            "constructor: 4798 \n",
            "line: 4798 \n",
            "parametersQty: 4798 \n",
            "methodsInvokedQty: 4798 \n",
            "methodsInvokedLocalQty: 4798 \n",
            "methodsInvokedIndirectLocalQty: 4798 \n",
            "hasJavaDoc: 4798 \n",
            "clean_method: 4798 \n",
            "_merge: 0 \n",
            "reviewer: 0 \n"
          ]
        }
      ],
      "source": [
        "##Quantidade de NAN\n",
        "for col in dataset.columns:\n",
        "    cont = dataset[col].isna().sum()\n",
        "    print(f'{col}: {cont} ')"
      ]
    },
    {
      "cell_type": "markdown",
      "metadata": {
        "id": "CP8hIaqEkevB"
      },
      "source": [
        "# OBJETIVO: comparacao de modelos com o dataset original e o dataset estendido com informacoes do CK\n",
        "\n",
        "Passos: \n",
        "\n",
        "3.1) Filtar o dataset de modo que as linhas tenham informacoes do mlcq e do ck (remover o que veio do Organic)\n",
        "\n",
        "3.2) aplicar os modelos somente com os atributos do mlcq e depois\n",
        "\n",
        "3.3) aplicar os modelos com os atributos do mlcqa dicionando os atributos do CK  "
      ]
    },
    {
      "cell_type": "markdown",
      "metadata": {
        "id": "Zmcc-v8tkOVg"
      },
      "source": [
        "# 2 Data Cleaning na nova base"
      ]
    },
    {
      "cell_type": "markdown",
      "metadata": {
        "id": "Nr6-SJRRqlG0"
      },
      "source": [
        "## 2.1 Considerando que type_ck == 'NaN' representa registro que não recebeu informações do CK, isto é, veio de informações do MLCQ e/ou do Organic e entao todas essas linhas serão removidas "
      ]
    },
    {
      "cell_type": "code",
      "execution_count": 20,
      "metadata": {
        "colab": {
          "base_uri": "https://localhost:8080/"
        },
        "id": "mUwgLEvGZUem",
        "outputId": "3a2d12fb-29c8-44af-ab12-b179ff351926"
      },
      "outputs": [
        {
          "data": {
            "text/plain": [
              "0         NONE\n",
              "1        class\n",
              "2        class\n",
              "3          NaN\n",
              "4          NaN\n",
              "         ...  \n",
              "10217    class\n",
              "10218    class\n",
              "10219    class\n",
              "10220    class\n",
              "10221    class\n",
              "Name: type_ck, Length: 10222, dtype: object"
            ]
          },
          "execution_count": 20,
          "metadata": {},
          "output_type": "execute_result"
        }
      ],
      "source": [
        "dataset['type_ck']"
      ]
    },
    {
      "cell_type": "code",
      "execution_count": 21,
      "metadata": {
        "colab": {
          "base_uri": "https://localhost:8080/"
        },
        "id": "xzW_niyelzfm",
        "outputId": "777cb19b-f872-4526-c2a2-cd4c69cbf584"
      },
      "outputs": [
        {
          "data": {
            "text/plain": [
              "class    3714\n",
              "NONE     1710\n",
              "Name: type_ck, dtype: int64"
            ]
          },
          "execution_count": 21,
          "metadata": {},
          "output_type": "execute_result"
        }
      ],
      "source": [
        "# Registros que receberam informações do CK\n",
        "dataset['type_ck'].value_counts()\n",
        "#dataset[dataset['type_ck'] == 'N/A']\n",
        "#dataset.sample(10)['type_ck']"
      ]
    },
    {
      "cell_type": "code",
      "execution_count": 22,
      "metadata": {
        "colab": {
          "base_uri": "https://localhost:8080/"
        },
        "id": "5nU9nMjnmQCN",
        "outputId": "4e1abcf9-60a2-48d3-d248-aa748204b1e4"
      },
      "outputs": [
        {
          "data": {
            "text/plain": [
              "0        False\n",
              "1        False\n",
              "2        False\n",
              "3         True\n",
              "4         True\n",
              "         ...  \n",
              "10217    False\n",
              "10218    False\n",
              "10219    False\n",
              "10220    False\n",
              "10221    False\n",
              "Name: type_ck, Length: 10222, dtype: bool"
            ]
          },
          "execution_count": 22,
          "metadata": {},
          "output_type": "execute_result"
        }
      ],
      "source": [
        "lista = dataset['type_ck'].isnull()\n",
        "lista"
      ]
    },
    {
      "cell_type": "code",
      "execution_count": 23,
      "metadata": {
        "colab": {
          "base_uri": "https://localhost:8080/"
        },
        "id": "iJNH2pbcj6fh",
        "outputId": "756df0bb-39eb-4ce4-fa5b-8598434e927c"
      },
      "outputs": [
        {
          "name": "stdout",
          "output_type": "stream",
          "text": [
            "(10222, 93)\n",
            "(5424, 93)\n"
          ]
        }
      ],
      "source": [
        "# O dataset ficou com 5424 linhas\n",
        "print(dataset.shape)\n",
        "dataset = dataset[~lista]\n",
        "print(dataset.shape)"
      ]
    },
    {
      "cell_type": "code",
      "execution_count": 24,
      "metadata": {
        "colab": {
          "base_uri": "https://localhost:8080/"
        },
        "id": "7z-i12N_R5W9",
        "outputId": "ff1761dc-33ad-428d-dad1-e3bf34ba8968"
      },
      "outputs": [
        {
          "data": {
            "text/plain": [
              "class    3714\n",
              "NONE     1710\n",
              "Name: type_ck, dtype: int64"
            ]
          },
          "execution_count": 24,
          "metadata": {},
          "output_type": "execute_result"
        }
      ],
      "source": [
        "dataset['type_ck'].value_counts()"
      ]
    },
    {
      "cell_type": "code",
      "execution_count": 25,
      "metadata": {
        "colab": {
          "base_uri": "https://localhost:8080/",
          "height": 699
        },
        "id": "eNLNck9xmhsw",
        "outputId": "2c7bfe37-bc95-469d-e937-467d72c8c111"
      },
      "outputs": [
        {
          "data": {
            "text/html": [
              "<div>\n",
              "<style scoped>\n",
              "    .dataframe tbody tr th:only-of-type {\n",
              "        vertical-align: middle;\n",
              "    }\n",
              "\n",
              "    .dataframe tbody tr th {\n",
              "        vertical-align: top;\n",
              "    }\n",
              "\n",
              "    .dataframe thead th {\n",
              "        text-align: right;\n",
              "    }\n",
              "</style>\n",
              "<table border=\"1\" class=\"dataframe\">\n",
              "  <thead>\n",
              "    <tr style=\"text-align: right;\">\n",
              "      <th></th>\n",
              "      <th>commit_hash</th>\n",
              "      <th>reviewer_id</th>\n",
              "      <th>sample_id</th>\n",
              "      <th>smell</th>\n",
              "      <th>severity</th>\n",
              "      <th>review_timestamp</th>\n",
              "      <th>type</th>\n",
              "      <th>code_name</th>\n",
              "      <th>repository</th>\n",
              "      <th>path</th>\n",
              "      <th>...</th>\n",
              "      <th>constructor</th>\n",
              "      <th>line</th>\n",
              "      <th>parametersQty</th>\n",
              "      <th>methodsInvokedQty</th>\n",
              "      <th>methodsInvokedLocalQty</th>\n",
              "      <th>methodsInvokedIndirectLocalQty</th>\n",
              "      <th>hasJavaDoc</th>\n",
              "      <th>clean_method</th>\n",
              "      <th>_merge</th>\n",
              "      <th>reviewer</th>\n",
              "    </tr>\n",
              "  </thead>\n",
              "  <tbody>\n",
              "    <tr>\n",
              "      <th>0</th>\n",
              "      <td>114c412afbfba24ffb4fbc804e5308a823a16a78</td>\n",
              "      <td>6</td>\n",
              "      <td>5771277</td>\n",
              "      <td>none</td>\n",
              "      <td>none</td>\n",
              "      <td>2019-03-27 10:34:53.041496</td>\n",
              "      <td>function</td>\n",
              "      <td>org.apache.syncope.client.ui.commons.ConnIdSpe...</td>\n",
              "      <td>git@github.com:apache/syncope.git</td>\n",
              "      <td>/client/idrepo/ui/src/main/java/org/apache/syn...</td>\n",
              "      <td>...</td>\n",
              "      <td>True</td>\n",
              "      <td>35</td>\n",
              "      <td>0</td>\n",
              "      <td>0</td>\n",
              "      <td>0</td>\n",
              "      <td>0</td>\n",
              "      <td>False</td>\n",
              "      <td>ConnIdSpecialName</td>\n",
              "      <td>both</td>\n",
              "      <td>Junior</td>\n",
              "    </tr>\n",
              "    <tr>\n",
              "      <th>1</th>\n",
              "      <td>d5675c332497c1ac1dedefdf91e87476b5c0d7a9</td>\n",
              "      <td>6</td>\n",
              "      <td>5786929</td>\n",
              "      <td>blob</td>\n",
              "      <td>critical</td>\n",
              "      <td>2019-03-27 10:37:38.107923</td>\n",
              "      <td>class</td>\n",
              "      <td>org.apache.tez.runtime.library.common.writers....</td>\n",
              "      <td>git@github.com:apache/tez.git</td>\n",
              "      <td>/tez-runtime-library/src/main/java/org/apache/...</td>\n",
              "      <td>...</td>\n",
              "      <td>NONE</td>\n",
              "      <td>NONE</td>\n",
              "      <td>NONE</td>\n",
              "      <td>NONE</td>\n",
              "      <td>NONE</td>\n",
              "      <td>NONE</td>\n",
              "      <td>NONE</td>\n",
              "      <td>NONE</td>\n",
              "      <td>both</td>\n",
              "      <td>Junior</td>\n",
              "    </tr>\n",
              "    <tr>\n",
              "      <th>2</th>\n",
              "      <td>d5675c332497c1ac1dedefdf91e87476b5c0d7a9</td>\n",
              "      <td>6</td>\n",
              "      <td>5786929</td>\n",
              "      <td>data class</td>\n",
              "      <td>critical</td>\n",
              "      <td>2019-03-27 10:37:38.109068</td>\n",
              "      <td>class</td>\n",
              "      <td>org.apache.tez.runtime.library.common.writers....</td>\n",
              "      <td>git@github.com:apache/tez.git</td>\n",
              "      <td>/tez-runtime-library/src/main/java/org/apache/...</td>\n",
              "      <td>...</td>\n",
              "      <td>NONE</td>\n",
              "      <td>NONE</td>\n",
              "      <td>NONE</td>\n",
              "      <td>NONE</td>\n",
              "      <td>NONE</td>\n",
              "      <td>NONE</td>\n",
              "      <td>NONE</td>\n",
              "      <td>NONE</td>\n",
              "      <td>both</td>\n",
              "      <td>Junior</td>\n",
              "    </tr>\n",
              "    <tr>\n",
              "      <th>5</th>\n",
              "      <td>4131c6e30f2e0eb1feb85e0f7576531d4e830468</td>\n",
              "      <td>6</td>\n",
              "      <td>5789396</td>\n",
              "      <td>none</td>\n",
              "      <td>none</td>\n",
              "      <td>2019-03-27 10:38:28.887992</td>\n",
              "      <td>class</td>\n",
              "      <td>org.apache.tika.parser.multiple.SupplementingP...</td>\n",
              "      <td>git@github.com:apache/tika.git</td>\n",
              "      <td>/tika-core/src/main/java/org/apache/tika/parse...</td>\n",
              "      <td>...</td>\n",
              "      <td>NONE</td>\n",
              "      <td>NONE</td>\n",
              "      <td>NONE</td>\n",
              "      <td>NONE</td>\n",
              "      <td>NONE</td>\n",
              "      <td>NONE</td>\n",
              "      <td>NONE</td>\n",
              "      <td>NONE</td>\n",
              "      <td>both</td>\n",
              "      <td>Junior</td>\n",
              "    </tr>\n",
              "    <tr>\n",
              "      <th>6</th>\n",
              "      <td>542950fc0266e8f9be1aacb5d6ba92146ae20f1b</td>\n",
              "      <td>6</td>\n",
              "      <td>5799314</td>\n",
              "      <td>none</td>\n",
              "      <td>none</td>\n",
              "      <td>2019-03-27 10:38:54.988274</td>\n",
              "      <td>class</td>\n",
              "      <td>org.apache.tapestry5.internal.services.Request...</td>\n",
              "      <td>git@github.com:apache/tapestry-5.git</td>\n",
              "      <td>/tapestry-core/src/main/java/org/apache/tapest...</td>\n",
              "      <td>...</td>\n",
              "      <td>NONE</td>\n",
              "      <td>NONE</td>\n",
              "      <td>NONE</td>\n",
              "      <td>NONE</td>\n",
              "      <td>NONE</td>\n",
              "      <td>NONE</td>\n",
              "      <td>NONE</td>\n",
              "      <td>NONE</td>\n",
              "      <td>both</td>\n",
              "      <td>Junior</td>\n",
              "    </tr>\n",
              "  </tbody>\n",
              "</table>\n",
              "<p>5 rows × 93 columns</p>\n",
              "</div>"
            ],
            "text/plain": [
              "                                commit_hash  reviewer_id  sample_id  \\\n",
              "0  114c412afbfba24ffb4fbc804e5308a823a16a78            6    5771277   \n",
              "1  d5675c332497c1ac1dedefdf91e87476b5c0d7a9            6    5786929   \n",
              "2  d5675c332497c1ac1dedefdf91e87476b5c0d7a9            6    5786929   \n",
              "5  4131c6e30f2e0eb1feb85e0f7576531d4e830468            6    5789396   \n",
              "6  542950fc0266e8f9be1aacb5d6ba92146ae20f1b            6    5799314   \n",
              "\n",
              "        smell  severity            review_timestamp      type  \\\n",
              "0        none      none  2019-03-27 10:34:53.041496  function   \n",
              "1        blob  critical  2019-03-27 10:37:38.107923     class   \n",
              "2  data class  critical  2019-03-27 10:37:38.109068     class   \n",
              "5        none      none  2019-03-27 10:38:28.887992     class   \n",
              "6        none      none  2019-03-27 10:38:54.988274     class   \n",
              "\n",
              "                                           code_name  \\\n",
              "0  org.apache.syncope.client.ui.commons.ConnIdSpe...   \n",
              "1  org.apache.tez.runtime.library.common.writers....   \n",
              "2  org.apache.tez.runtime.library.common.writers....   \n",
              "5  org.apache.tika.parser.multiple.SupplementingP...   \n",
              "6  org.apache.tapestry5.internal.services.Request...   \n",
              "\n",
              "                             repository  \\\n",
              "0     git@github.com:apache/syncope.git   \n",
              "1         git@github.com:apache/tez.git   \n",
              "2         git@github.com:apache/tez.git   \n",
              "5        git@github.com:apache/tika.git   \n",
              "6  git@github.com:apache/tapestry-5.git   \n",
              "\n",
              "                                                path  ...  constructor  line  \\\n",
              "0  /client/idrepo/ui/src/main/java/org/apache/syn...  ...         True    35   \n",
              "1  /tez-runtime-library/src/main/java/org/apache/...  ...         NONE  NONE   \n",
              "2  /tez-runtime-library/src/main/java/org/apache/...  ...         NONE  NONE   \n",
              "5  /tika-core/src/main/java/org/apache/tika/parse...  ...         NONE  NONE   \n",
              "6  /tapestry-core/src/main/java/org/apache/tapest...  ...         NONE  NONE   \n",
              "\n",
              "  parametersQty methodsInvokedQty  methodsInvokedLocalQty  \\\n",
              "0             0                 0                       0   \n",
              "1          NONE              NONE                    NONE   \n",
              "2          NONE              NONE                    NONE   \n",
              "5          NONE              NONE                    NONE   \n",
              "6          NONE              NONE                    NONE   \n",
              "\n",
              "   methodsInvokedIndirectLocalQty hasJavaDoc       clean_method  _merge  \\\n",
              "0                               0      False  ConnIdSpecialName    both   \n",
              "1                            NONE       NONE               NONE    both   \n",
              "2                            NONE       NONE               NONE    both   \n",
              "5                            NONE       NONE               NONE    both   \n",
              "6                            NONE       NONE               NONE    both   \n",
              "\n",
              "   reviewer  \n",
              "0    Junior  \n",
              "1    Junior  \n",
              "2    Junior  \n",
              "5    Junior  \n",
              "6    Junior  \n",
              "\n",
              "[5 rows x 93 columns]"
            ]
          },
          "execution_count": 25,
          "metadata": {},
          "output_type": "execute_result"
        }
      ],
      "source": [
        "dataset.head()"
      ]
    },
    {
      "cell_type": "code",
      "execution_count": 26,
      "metadata": {
        "colab": {
          "base_uri": "https://localhost:8080/"
        },
        "id": "0wu5c_UYcgv2",
        "outputId": "2337d570-1c3b-4a03-ac3c-3fd08046251a"
      },
      "outputs": [
        {
          "name": "stdout",
          "output_type": "stream",
          "text": [
            "commit_hash: 0 \n",
            "reviewer_id: 0 \n",
            "sample_id: 0 \n",
            "smell: 0 \n",
            "severity: 0 \n",
            "review_timestamp: 0 \n",
            "type: 0 \n",
            "code_name: 0 \n",
            "repository: 0 \n",
            "path: 0 \n",
            "start_line: 0 \n",
            "end_line: 0 \n",
            "link: 0 \n",
            "relevant: 0 \n",
            "lines: 0 \n",
            "num_commits: 0 \n",
            "reason: 5102 \n",
            "NumberOfAccessedVariables: 5102 \n",
            "CouplingDispersion: 5102 \n",
            "ChangingClasses: 5102 \n",
            "MethodLinesOfCode: 5102 \n",
            "CyclomaticComplexity: 5102 \n",
            "MaxNesting: 5102 \n",
            "CouplingIntensity: 5102 \n",
            "ParameterCount: 5102 \n",
            "MaxCallChain: 5102 \n",
            "ChangingMethods: 5102 \n",
            "repeticoes: 5102 \n",
            "arquivo_org: 5102 \n",
            "ck_file: 2867 \n",
            "file: 0 \n",
            "class: 0 \n",
            "type_ck: 0 \n",
            "cbo: 0 \n",
            "cboModified: 0 \n",
            "fanin: 0 \n",
            "fanout: 0 \n",
            "wmc: 0 \n",
            "dit: 0 \n",
            "noc: 0 \n",
            "rfc: 0 \n",
            "lcom: 0 \n",
            "lcom*: 20 \n",
            "tcc: 257 \n",
            "lcc: 257 \n",
            "totalMethodsQty: 0 \n",
            "staticMethodsQty: 0 \n",
            "publicMethodsQty: 0 \n",
            "privateMethodsQty: 0 \n",
            "protectedMethodsQty: 0 \n",
            "defaultMethodsQty: 0 \n",
            "visibleMethodsQty: 0 \n",
            "abstractMethodsQty: 0 \n",
            "finalMethodsQty: 0 \n",
            "synchronizedMethodsQty: 0 \n",
            "totalFieldsQty: 0 \n",
            "staticFieldsQty: 0 \n",
            "publicFieldsQty: 0 \n",
            "privateFieldsQty: 0 \n",
            "protectedFieldsQty: 0 \n",
            "defaultFieldsQty: 0 \n",
            "finalFieldsQty: 0 \n",
            "synchronizedFieldsQty: 0 \n",
            "nosi: 0 \n",
            "loc: 0 \n",
            "returnsQty: 0 \n",
            "loopQty: 0 \n",
            "comparisonsQty: 0 \n",
            "tryCatchQty: 0 \n",
            "parenthesizedExpsQty: 0 \n",
            "stringLiteralsQty: 0 \n",
            "numbersQty: 0 \n",
            "assignmentsQty: 0 \n",
            "mathOperationsQty: 0 \n",
            "variablesQty: 0 \n",
            "maxNestedBlocksQty: 0 \n",
            "anonymousClassesQty: 0 \n",
            "innerClassesQty: 0 \n",
            "lambdasQty: 0 \n",
            "uniqueWordsQty: 0 \n",
            "modifiers: 0 \n",
            "logStatementsQty: 0 \n",
            "method: 0 \n",
            "constructor: 0 \n",
            "line: 0 \n",
            "parametersQty: 0 \n",
            "methodsInvokedQty: 0 \n",
            "methodsInvokedLocalQty: 0 \n",
            "methodsInvokedIndirectLocalQty: 0 \n",
            "hasJavaDoc: 0 \n",
            "clean_method: 0 \n",
            "_merge: 0 \n",
            "reviewer: 0 \n"
          ]
        }
      ],
      "source": [
        "##Quantidade de NAN\n",
        "for col in dataset.columns:\n",
        "    cont = dataset[col].isna().sum()\n",
        "    print(f'{col}: {cont} ')"
      ]
    },
    {
      "cell_type": "markdown",
      "metadata": {
        "id": "hDV9Uzloq2Kk"
      },
      "source": [
        "## 2.2 Atributos do organic serao removidos.\n",
        "\n",
        "A análise será do MLCQ com CK"
      ]
    },
    {
      "cell_type": "code",
      "execution_count": 27,
      "metadata": {
        "colab": {
          "base_uri": "https://localhost:8080/"
        },
        "id": "WqZcdkU1ROgf",
        "outputId": "2fdbf508-2334-4a06-cb09-cc038e0afb8b"
      },
      "outputs": [
        {
          "data": {
            "text/plain": [
              "14"
            ]
          },
          "execution_count": 27,
          "metadata": {},
          "output_type": "execute_result"
        }
      ],
      "source": [
        "remover = ['reason','NumberOfAccessedVariables','CouplingDispersion','ChangingClasses','MethodLinesOfCode','CyclomaticComplexity','MaxNesting','CouplingIntensity','ParameterCount','MaxCallChain','ChangingMethods','repeticoes','arquivo_org','ck_file']\n",
        "len(remover)"
      ]
    },
    {
      "cell_type": "code",
      "execution_count": 28,
      "metadata": {
        "colab": {
          "base_uri": "https://localhost:8080/"
        },
        "id": "AV8ELX9nc7_m",
        "outputId": "a9daf00a-e59a-428a-f62e-60be9e895350"
      },
      "outputs": [
        {
          "name": "stdout",
          "output_type": "stream",
          "text": [
            "(5424, 93)\n",
            "(5424, 79)\n"
          ]
        }
      ],
      "source": [
        "print(dataset.shape)\n",
        "dataset = dataset.drop(columns = remover)\n",
        "print(dataset.shape)"
      ]
    },
    {
      "cell_type": "code",
      "execution_count": 29,
      "metadata": {
        "colab": {
          "base_uri": "https://localhost:8080/",
          "height": 54
        },
        "id": "YLc9CnqSeqlN",
        "outputId": "d6631db6-1d66-4048-fe5d-c132ba20448d"
      },
      "outputs": [
        {
          "data": {
            "image/png": "[encoded data removed]",
            "text/plain": [
              "<Figure size 640x480 with 1 Axes>"
            ]
          },
          "metadata": {},
          "output_type": "display_data"
        }
      ],
      "source": [
        "plt.xlabel(\"Tipo\")\n",
        "plt.ylabel(\"Quantidade\")\n",
        "plt.title(\"Code Smell\")\n",
        "dataset['smell'].value_counts().plot.bar() #;\n",
        "plt.show()"
      ]
    },
    {
      "cell_type": "markdown",
      "metadata": {
        "id": "YXbHdUyjrZJ8"
      },
      "source": [
        "## 2.3 removendo os atributos do CK que NAO serao avaliados"
      ]
    },
    {
      "cell_type": "markdown",
      "metadata": {
        "id": "8bwHbCssr1oz"
      },
      "source": [
        "** ATENCAO** Para um primeiro teste, serao mantidos os abaixo:\n",
        "\n",
        "\n"
      ]
    },
    {
      "cell_type": "code",
      "execution_count": 30,
      "metadata": {
        "id": "6rGZYs4Tr09D"
      },
      "outputs": [],
      "source": [
        "manter = ['reviewer','severity','lines','num_commits','smell','type','relevant','review_timestamp'] + ['cboModified','fanin','fanout','wmc','rfc','loc',\n",
        "          'returnsQty','loopQty','comparisonsQty','tryCatchQty',\n",
        "          'parenthesizedExpsQty','stringLiteralsQty','numbersQty', 'assignmentsQty','mathOperationsQty','variablesQty', \n",
        "          'maxNestedBlocksQty','anonymousClassesQty', 'innerClassesQty','lambdasQty','uniqueWordsQty','modifiers',\n",
        "          'logStatementsQty']"
      ]
    },
    {
      "cell_type": "code",
      "execution_count": 31,
      "metadata": {
        "colab": {
          "base_uri": "https://localhost:8080/"
        },
        "id": "uinfOZOPsBBq",
        "outputId": "5d0322af-1366-438f-ace4-fd0f142be2b2"
      },
      "outputs": [
        {
          "name": "stdout",
          "output_type": "stream",
          "text": [
            "(5424, 79)\n",
            "(5424, 31)\n"
          ]
        }
      ],
      "source": [
        "print(dataset.shape)\n",
        "dataset = dataset[manter]\n",
        "print(dataset.shape)\n"
      ]
    },
    {
      "attachments": {},
      "cell_type": "markdown",
      "metadata": {
        "id": "dOR-ddyi-PbK"
      },
      "source": [
        "# 2.4 verificando outliers - desvio padrao - NAO FOI FEITO\n",
        "\n",
        "**PRIMEIRO TESTE SEM FAZER**"
      ]
    },
    {
      "cell_type": "code",
      "execution_count": 32,
      "metadata": {
        "colab": {
          "base_uri": "https://localhost:8080/"
        },
        "id": "LvSRh-euZg-q",
        "outputId": "9fe9823f-413f-401f-cb15-b3c266136700"
      },
      "outputs": [
        {
          "data": {
            "text/plain": [
              "(5424, 31)"
            ]
          },
          "execution_count": 32,
          "metadata": {},
          "output_type": "execute_result"
        }
      ],
      "source": [
        "dataset.describe()\n",
        "dataset.shape"
      ]
    },
    {
      "cell_type": "code",
      "execution_count": 33,
      "metadata": {
        "colab": {
          "base_uri": "https://localhost:8080/"
        },
        "id": "Q46whwIAqvsD",
        "outputId": "86a65a1b-de17-434b-8d84-7c807b9f3436"
      },
      "outputs": [
        {
          "name": "stdout",
          "output_type": "stream",
          "text": [
            "(5424, 31)\n",
            "(5259, 31)\n",
            "(5012, 31)\n",
            "(4725, 31)\n",
            "(4593, 31)\n",
            "(4362, 31)\n",
            "(4121, 31)\n",
            "(3853, 31)\n",
            "(3737, 31)\n",
            "(3587, 31)\n",
            "(3491, 31)\n",
            "(3366, 31)\n",
            "(3303, 31)\n",
            "(3228, 31)\n",
            "(3061, 31)\n",
            "(2960, 31)\n",
            "(2731, 31)\n",
            "(2595, 31)\n",
            "(2538, 31)\n",
            "(2486, 31)\n",
            "(2475, 31)\n",
            "(2333, 31)\n",
            "(2273, 31)\n",
            "(2229, 31)\n"
          ]
        }
      ],
      "source": [
        "# NAO FOI FEITO\n",
        "\n",
        "\n",
        "\n",
        "# colunas que terão desvio padrao verificado\n",
        "#lista = dataset.describe()\n",
        "print(dataset.shape)\n",
        "lista = ['cboModified','fanin','fanout','wmc','rfc','loc','returnsQty','loopQty','comparisonsQty','tryCatchQty',\n",
        "          'parenthesizedExpsQty','stringLiteralsQty','numbersQty', 'assignmentsQty','mathOperationsQty','variablesQty', \n",
        "          'maxNestedBlocksQty','anonymousClassesQty', 'innerClassesQty','lambdasQty','uniqueWordsQty','modifiers',\n",
        "          'logStatementsQty']\n",
        "for col in lista:\n",
        "  dt_mean = np.mean(dataset[col])\n",
        "  dt_std = np.std(dataset[col])\n",
        "  cut_off = dt_std * 2\n",
        "  lower = dt_mean - cut_off\n",
        "  upper = dt_mean + cut_off\n",
        "  quantidade_fica = dataset[( \n",
        "                    (dataset[col] > lower) &\n",
        "                    (dataset[col] < upper))].shape[0]\n",
        "  #print(f'Serao mantidos: {quantidade_fica} ')\n",
        "  #print(f'{col}  removido {5424-quantidade_fica}')\n",
        "  #dataset_test1 = pd.DataFrame()\n",
        "  #dataset_test2 = pd.DataFrame()\n",
        "  #dataset_test3 = pd.DataFrame()\n",
        "  \n",
        "  #dataset_test1 = dataset[(dataset[col] > lower)]\n",
        "  #dataset_test2 = dataset[(dataset[col] < upper)]\n",
        "  #dataset_test3 = pd.concat([dataset_test1,dataset_test2])\n",
        "\n",
        "  dataset = dataset[( \n",
        "                    (dataset[col] > lower) &\n",
        "                    (dataset[col] < upper))]\n",
        "\n",
        "  #plt.xlabel(\"Tipo\")\n",
        "  #plt.ylabel(\"Quantidade\")\n",
        "  #plt.title(\"Code Smell\")\n",
        "  #dataset['smell'].value_counts().plot.bar() #;\n",
        "  #plt.show()\n",
        "\n",
        "  print(dataset.shape)"
      ]
    },
    {
      "cell_type": "code",
      "execution_count": 33,
      "metadata": {
        "colab": {
          "base_uri": "https://localhost:8080/",
          "height": 54
        },
        "id": "_1n2TS8NuGHR",
        "outputId": "71147840-4270-4e27-fb30-cd9ebbb0eab5"
      },
      "outputs": [
        {
          "data": {
            "image/png": "[encoded data removed]",
            "text/plain": [
              "<Figure size 640x480 with 1 Axes>"
            ]
          },
          "metadata": {},
          "output_type": "display_data"
        }
      ],
      "source": [
        "plt.xlabel(\"Tipo\")\n",
        "plt.ylabel(\"Quantidade\")\n",
        "plt.title(\"Code Smell\")\n",
        "dataset['smell'].value_counts().plot.bar() #;\n",
        "plt.show()"
      ]
    },
    {
      "cell_type": "markdown",
      "metadata": {
        "id": "TMJVWF-OcXS2"
      },
      "source": [
        "# 3 Balancear a base\n",
        "\n",
        "undersamplig"
      ]
    },
    {
      "cell_type": "code",
      "execution_count": 34,
      "metadata": {
        "colab": {
          "base_uri": "https://localhost:8080/"
        },
        "id": "hlBTzldrdQl1",
        "outputId": "44ce4603-6a22-4a95-cb73-e6104af207cd"
      },
      "outputs": [
        {
          "name": "stdout",
          "output_type": "stream",
          "text": [
            "1862\n"
          ]
        },
        {
          "data": {
            "text/plain": [
              "(2720, 32)"
            ]
          },
          "execution_count": 34,
          "metadata": {},
          "output_type": "execute_result"
        }
      ],
      "source": [
        "num_0 = len(dataset[dataset['smell']=='none'])\n",
        "num_1 = len(dataset[dataset['smell']=='data class'])\n",
        "num_2 = len(dataset[dataset['smell']=='blob'])\n",
        "num_3 = len(dataset[dataset['smell']=='long method'])\n",
        "num_4 = len(dataset[dataset['smell']=='feature envy'])\n",
        "print(num_1+num_2+num_3+num_4)\n",
        "#dataset = pd.concat([ dataset[dataset['smell']=='none'].sample(num_1+num_2+num_3+num_4) , dataset[dataset['smell'] !='none'] ])\n",
        "\n",
        "quant = int(max(num_1,num_2,num_3,num_4) * 1.2)   # peguei 20% acima da maior quantidade\n",
        "dataset = pd.concat([ dataset[dataset['smell']=='none'].sample(quant) , dataset[dataset['smell'] !='none'] ])\n",
        "\n",
        "# tentativa com todos na mesma quantidade\n",
        "#d1 = dataset[dataset['smell']=='none'].sample(num_4)\n",
        "#d2 = dataset[dataset['smell']=='data class'].sample(num_4)\n",
        "#d3 = dataset[dataset['smell']=='blob'].sample(num_4)\n",
        "#d4 = dataset[dataset['smell']=='long method'].sample(num_4)\n",
        "#d5 = dataset[dataset['smell']=='feature envy'].sample(num_4)\n",
        "#dataset = pd.concat([d1,d2,d3,d4,d5])\n",
        "dataset.reset_index(inplace=True)\n",
        "dataset.shape\n"
      ]
    },
    {
      "cell_type": "code",
      "execution_count": 35,
      "metadata": {},
      "outputs": [
        {
          "data": {
            "text/plain": [
              "none            858\n",
              "data class      715\n",
              "blob            686\n",
              "long method     275\n",
              "feature envy    186\n",
              "Name: smell, dtype: int64"
            ]
          },
          "execution_count": 35,
          "metadata": {},
          "output_type": "execute_result"
        }
      ],
      "source": [
        "dataset['smell'].value_counts()"
      ]
    },
    {
      "cell_type": "code",
      "execution_count": 36,
      "metadata": {
        "colab": {
          "base_uri": "https://localhost:8080/"
        },
        "id": "kywh3OrHv2dD",
        "outputId": "3105d7df-44f1-407e-a89d-18151949c181"
      },
      "outputs": [
        {
          "data": {
            "text/plain": [
              "none            291\n",
              "data class      243\n",
              "long method     181\n",
              "feature envy    136\n",
              "blob             28\n",
              "Name: smell, dtype: int64"
            ]
          },
          "execution_count": 36,
          "metadata": {},
          "output_type": "execute_result"
        }
      ],
      "source": [
        "dataset['smell'].value_counts()"
      ]
    },
    {
      "cell_type": "code",
      "execution_count": 36,
      "metadata": {
        "colab": {
          "base_uri": "https://localhost:8080/",
          "height": 54
        },
        "id": "DSAGrj84cdsB",
        "outputId": "190f498c-f172-4e23-ce4e-224e61f16359"
      },
      "outputs": [
        {
          "data": {
            "image/png": "[encoded data removed]",
            "text/plain": [
              "<Figure size 640x480 with 1 Axes>"
            ]
          },
          "metadata": {},
          "output_type": "display_data"
        }
      ],
      "source": [
        "plt.xlabel(\"Tipo\")\n",
        "plt.ylabel(\"Quantidade\")\n",
        "plt.title(\"Code Smell\")\n",
        "dataset['smell'].value_counts().plot.bar() #;\n",
        "plt.show()"
      ]
    },
    {
      "cell_type": "code",
      "execution_count": 38,
      "metadata": {
        "id": "pCtC8-i_4AdU"
      },
      "outputs": [],
      "source": [
        "###df = dataset"
      ]
    },
    {
      "cell_type": "markdown",
      "metadata": {
        "id": "EcrFR1xoZnOm"
      },
      "source": [
        "# 4 One hot enconding / Label Encoder"
      ]
    },
    {
      "cell_type": "code",
      "execution_count": 37,
      "metadata": {
        "id": "UFZXhDVgl_1i"
      },
      "outputs": [],
      "source": [
        "# Import LabelEncoder\n",
        "from sklearn import preprocessing"
      ]
    },
    {
      "cell_type": "markdown",
      "metadata": {
        "id": "lMjUpBthmA9U"
      },
      "source": [
        "## codificando severity"
      ]
    },
    {
      "cell_type": "code",
      "execution_count": 38,
      "metadata": {
        "id": "TvyLFgFMmDOE"
      },
      "outputs": [],
      "source": [
        "modelo_severity = preprocessing.LabelEncoder()\n",
        "modelo_severity.fit(sorted(dataset['severity'].unique()))\n",
        "dataset['cod_severity'] = modelo_severity.fit_transform(dataset.severity)"
      ]
    },
    {
      "cell_type": "code",
      "execution_count": 39,
      "metadata": {
        "colab": {
          "base_uri": "https://localhost:8080/"
        },
        "id": "7SZNdNMAktk6",
        "outputId": "7963e36b-76ba-4219-e2e7-479ef458e4cd"
      },
      "outputs": [
        {
          "data": {
            "text/plain": [
              "['critical', 'major', 'minor', 'none']"
            ]
          },
          "execution_count": 39,
          "metadata": {},
          "output_type": "execute_result"
        }
      ],
      "source": [
        "sorted(dataset['severity'].unique())"
      ]
    },
    {
      "cell_type": "code",
      "execution_count": 40,
      "metadata": {
        "colab": {
          "base_uri": "https://localhost:8080/"
        },
        "id": "kGBn9hopmRlC",
        "outputId": "a674751d-a4ce-4a34-e76e-16bbd9b0ab87"
      },
      "outputs": [
        {
          "data": {
            "text/plain": [
              "[0, 1, 2, 3]"
            ]
          },
          "execution_count": 40,
          "metadata": {},
          "output_type": "execute_result"
        }
      ],
      "source": [
        "sorted(dataset['cod_severity'].unique())"
      ]
    },
    {
      "cell_type": "code",
      "execution_count": 41,
      "metadata": {
        "id": "gYLZaRIfmVzj"
      },
      "outputs": [],
      "source": [
        "dataset.drop(columns='severity',inplace = True)"
      ]
    },
    {
      "cell_type": "markdown",
      "metadata": {
        "id": "YMBiHELBkQQE"
      },
      "source": [
        "###  codificando relevant"
      ]
    },
    {
      "cell_type": "code",
      "execution_count": 42,
      "metadata": {
        "id": "XNeOhX-VkwyW"
      },
      "outputs": [],
      "source": [
        "# Import LabelEncoder\n",
        "from sklearn import preprocessing"
      ]
    },
    {
      "cell_type": "code",
      "execution_count": 43,
      "metadata": {
        "id": "rICCTuntkS7M"
      },
      "outputs": [],
      "source": [
        "modelo_relevant = preprocessing.LabelEncoder()\n",
        "modelo_relevant.fit(sorted(dataset['relevant'].unique()))\n",
        "dataset['cod_relevant'] = modelo_relevant.fit_transform(dataset.relevant)"
      ]
    },
    {
      "cell_type": "code",
      "execution_count": 44,
      "metadata": {
        "id": "VuKxorG21cJF"
      },
      "outputs": [],
      "source": [
        "dataset.drop(columns='relevant',inplace = True)"
      ]
    },
    {
      "cell_type": "markdown",
      "metadata": {
        "id": "7Wlg3EZ7lBaP"
      },
      "source": [
        "### Codificando o label"
      ]
    },
    {
      "cell_type": "code",
      "execution_count": 45,
      "metadata": {
        "colab": {
          "base_uri": "https://localhost:8080/"
        },
        "id": "R0qyhE4NlZ5a",
        "outputId": "61e6e30b-128f-4add-c883-1a545989ce61"
      },
      "outputs": [
        {
          "data": {
            "text/plain": [
              "['blob', 'data class', 'feature envy', 'long method', 'none']"
            ]
          },
          "execution_count": 45,
          "metadata": {},
          "output_type": "execute_result"
        }
      ],
      "source": [
        "sorted(dataset['smell'].unique())"
      ]
    },
    {
      "cell_type": "code",
      "execution_count": 46,
      "metadata": {
        "colab": {
          "base_uri": "https://localhost:8080/"
        },
        "id": "jZl_WsMclDtk",
        "outputId": "0f8020b2-75c0-4078-c4b1-61f2053cf0fd"
      },
      "outputs": [
        {
          "data": {
            "text/plain": [
              "[0, 1, 2, 3, 4]"
            ]
          },
          "execution_count": 46,
          "metadata": {},
          "output_type": "execute_result"
        }
      ],
      "source": [
        "modelo_label = preprocessing.LabelEncoder()\n",
        "modelo_label.fit(sorted(dataset['smell'].unique()))\n",
        "dataset['label'] = modelo_label.fit_transform(dataset.smell)\n",
        "sorted(dataset['label'].unique())"
      ]
    },
    {
      "cell_type": "code",
      "execution_count": 47,
      "metadata": {
        "id": "bC8VCC9r1rEL"
      },
      "outputs": [],
      "source": [
        "dataset.drop(columns='smell',inplace = True)"
      ]
    },
    {
      "cell_type": "markdown",
      "metadata": {
        "id": "Ma-iLLWZl6_M"
      },
      "source": [
        "### Codificando type"
      ]
    },
    {
      "cell_type": "code",
      "execution_count": 48,
      "metadata": {
        "colab": {
          "base_uri": "https://localhost:8080/"
        },
        "id": "9YhWIDF2utlO",
        "outputId": "2772ec46-b8bc-4bfa-f657-f80e01c654b1"
      },
      "outputs": [
        {
          "data": {
            "text/plain": [
              "Index(['index', 'reviewer', 'lines', 'num_commits', 'type', 'review_timestamp',\n",
              "       'cboModified', 'fanin', 'fanout', 'wmc', 'rfc', 'loc', 'returnsQty',\n",
              "       'loopQty', 'comparisonsQty', 'tryCatchQty', 'parenthesizedExpsQty',\n",
              "       'stringLiteralsQty', 'numbersQty', 'assignmentsQty',\n",
              "       'mathOperationsQty', 'variablesQty', 'maxNestedBlocksQty',\n",
              "       'anonymousClassesQty', 'innerClassesQty', 'lambdasQty',\n",
              "       'uniqueWordsQty', 'modifiers', 'logStatementsQty', 'cod_severity',\n",
              "       'cod_relevant', 'label'],\n",
              "      dtype='object')"
            ]
          },
          "execution_count": 48,
          "metadata": {},
          "output_type": "execute_result"
        }
      ],
      "source": [
        "dataset.columns"
      ]
    },
    {
      "cell_type": "code",
      "execution_count": 49,
      "metadata": {
        "colab": {
          "base_uri": "https://localhost:8080/"
        },
        "id": "HYgYIZt3mL6A",
        "outputId": "24b2773f-12be-4ad3-b388-a8abc5eefd79"
      },
      "outputs": [
        {
          "name": "stdout",
          "output_type": "stream",
          "text": [
            "['class', 'function']\n"
          ]
        },
        {
          "data": {
            "text/plain": [
              "[0, 1]"
            ]
          },
          "execution_count": 49,
          "metadata": {},
          "output_type": "execute_result"
        }
      ],
      "source": [
        "#dataset['type'].value_counts()\n",
        "print(sorted(dataset['type'].unique()))\n",
        "modelo_type = preprocessing.LabelEncoder()\n",
        "modelo_type.fit(sorted(dataset['type'].unique()))\n",
        "dataset['cod_type'] = modelo_type.fit_transform(dataset.type)\n",
        "sorted(dataset['cod_type'].unique())"
      ]
    },
    {
      "cell_type": "code",
      "execution_count": 50,
      "metadata": {
        "id": "rRWppQpf1ua2"
      },
      "outputs": [],
      "source": [
        "dataset.drop(columns='type',inplace = True)"
      ]
    },
    {
      "cell_type": "markdown",
      "metadata": {
        "id": "iq-cXGFvpAh3"
      },
      "source": [
        "### Criada a coluna cod_hora"
      ]
    },
    {
      "cell_type": "code",
      "execution_count": 51,
      "metadata": {
        "id": "xg5iWSFUfIty"
      },
      "outputs": [],
      "source": [
        "# criada coluna hora, onde tem HH do review_timestamp\n",
        "func_hora = lambda x: x.split(\" \", 1)[1].split(\":\",1)[0]\n",
        "dataset['hora'] = dataset.review_timestamp.apply(func_hora)\n",
        "dataset['hora'] = dataset['hora'].astype(int)"
      ]
    },
    {
      "cell_type": "code",
      "execution_count": 52,
      "metadata": {
        "id": "DoIrQAcGjvL2"
      },
      "outputs": [],
      "source": [
        "# criada coluna para codificar a hora, sendo 1 para fora do horário regular e \n",
        "# 0 para horário regular \n",
        "dataset['cod_hora'] = 0\n",
        "dataset['cod_hora'] = np.where(dataset['hora'] >= 18, 1,0)\n",
        "dataset['cod_hora'] = np.where(dataset['hora'] <=  8, 1,0)"
      ]
    },
    {
      "cell_type": "code",
      "execution_count": 53,
      "metadata": {
        "colab": {
          "base_uri": "https://localhost:8080/"
        },
        "id": "qaIDGEAcjpNp",
        "outputId": "e0ed6d76-1f2d-4ad3-e6f7-bc970e8bfc68"
      },
      "outputs": [
        {
          "data": {
            "text/plain": [
              "0    2361\n",
              "1     359\n",
              "Name: cod_hora, dtype: int64"
            ]
          },
          "execution_count": 53,
          "metadata": {},
          "output_type": "execute_result"
        }
      ],
      "source": [
        "dataset['cod_hora'].value_counts()"
      ]
    },
    {
      "cell_type": "code",
      "execution_count": 54,
      "metadata": {
        "id": "i5sPNJR8pepi"
      },
      "outputs": [],
      "source": [
        "dataset.drop(columns='review_timestamp',inplace = True)"
      ]
    },
    {
      "cell_type": "markdown",
      "metadata": {
        "id": "NJA1x_hpi_D1"
      },
      "source": [
        "## Codificando o reviewer"
      ]
    },
    {
      "cell_type": "code",
      "execution_count": 55,
      "metadata": {
        "colab": {
          "base_uri": "https://localhost:8080/"
        },
        "id": "6QCW4nu2jYkv",
        "outputId": "9a487164-7355-4ddd-9eb1-7faaa2f30013"
      },
      "outputs": [
        {
          "data": {
            "text/plain": [
              "Middle     1159\n",
              "Junior      736\n",
              "Senior      694\n",
              "unknown     131\n",
              "Name: reviewer, dtype: int64"
            ]
          },
          "execution_count": 55,
          "metadata": {},
          "output_type": "execute_result"
        }
      ],
      "source": [
        "dataset['reviewer'].value_counts()"
      ]
    },
    {
      "cell_type": "code",
      "execution_count": 56,
      "metadata": {
        "id": "gA5DZVm8jCQc"
      },
      "outputs": [],
      "source": [
        "modelo_reviewer = preprocessing.LabelEncoder()\n",
        "modelo_reviewer.fit(sorted(dataset['reviewer'].unique()))\n",
        "dataset['cod_reviewer'] = modelo_reviewer.fit_transform(dataset.reviewer)"
      ]
    },
    {
      "cell_type": "code",
      "execution_count": 57,
      "metadata": {
        "colab": {
          "base_uri": "https://localhost:8080/"
        },
        "id": "NZ7w-rzDjPby",
        "outputId": "309a6c50-0ba4-4de4-a00a-b2e45cc46ba2"
      },
      "outputs": [
        {
          "data": {
            "text/plain": [
              "1    1159\n",
              "0     736\n",
              "2     694\n",
              "3     131\n",
              "Name: cod_reviewer, dtype: int64"
            ]
          },
          "execution_count": 57,
          "metadata": {},
          "output_type": "execute_result"
        }
      ],
      "source": [
        "dataset['cod_reviewer'].value_counts()"
      ]
    },
    {
      "cell_type": "markdown",
      "metadata": {
        "id": "HjVccXz_5jc7"
      },
      "source": [
        "#** a partir daqui trabalharei com a variavel df e nao mais dataset**\n",
        "\n",
        "dataset ficou congelado para seguir também para a avaliacao do dataset estendido\n",
        "\n"
      ]
    },
    {
      "cell_type": "code",
      "execution_count": 58,
      "metadata": {
        "id": "x8CL9rkW5gr1"
      },
      "outputs": [],
      "source": [
        "df = dataset"
      ]
    },
    {
      "cell_type": "markdown",
      "metadata": {
        "id": "HFDjCTloyEu8"
      },
      "source": [
        "# 5 - Funcoes auxiliares"
      ]
    },
    {
      "cell_type": "code",
      "execution_count": 172,
      "metadata": {
        "id": "bYYn6pGdyFvD"
      },
      "outputs": [],
      "source": [
        "## Plota a matriz de confusão\n",
        "def matriz_confusao(y_pred, y_test,classes):\n",
        "    confMatrix = confusion_matrix(y_pred, y_test)\n",
        "\n",
        "    ax = plt.subplot()\n",
        "    sns.heatmap(confMatrix, annot=True, fmt=\".0f\", cmap='twilight', linewidths=1, linecolor='black')\n",
        "    plt.xlabel('Real')\n",
        "    plt.ylabel('Predict')\n",
        "    plt.title('Confusion Matrix')\n",
        "\n",
        "    # Colocar os nomes\n",
        "    ax.xaxis.set_ticklabels(classes)\n",
        "    ax.yaxis.set_ticklabels(classes)\n",
        "    plt.show()"
      ]
    },
    {
      "cell_type": "code",
      "execution_count": 60,
      "metadata": {
        "id": "4_B7yQbcyJsV"
      },
      "outputs": [],
      "source": [
        "from sklearn.metrics import accuracy_score, cohen_kappa_score\n",
        "def print_indicadores(y_pred, y_test):\n",
        "    print()\n",
        "    print(f\"Acurácia:\\t{accuracy_score(y_pred, y_test):.2f}\")\n",
        "    print(f\"Kappa:\\t\\t{cohen_kappa_score(y_pred, y_test):.2f}\", )\n",
        "    print()"
      ]
    },
    {
      "cell_type": "markdown",
      "metadata": {
        "id": "-MzeZnY7hs0-"
      },
      "source": [
        "# 6 Aplicando os modelos no MLCQ"
      ]
    },
    {
      "cell_type": "code",
      "execution_count": 61,
      "metadata": {
        "colab": {
          "base_uri": "https://localhost:8080/",
          "height": 381
        },
        "id": "Kz5B3HPizFfz",
        "outputId": "066c6d21-cf8a-4c2a-99ba-263985b40e17"
      },
      "outputs": [
        {
          "name": "stdout",
          "output_type": "stream",
          "text": [
            "(2720, 7)\n"
          ]
        },
        {
          "data": {
            "text/html": [
              "<div>\n",
              "<style scoped>\n",
              "    .dataframe tbody tr th:only-of-type {\n",
              "        vertical-align: middle;\n",
              "    }\n",
              "\n",
              "    .dataframe tbody tr th {\n",
              "        vertical-align: top;\n",
              "    }\n",
              "\n",
              "    .dataframe thead th {\n",
              "        text-align: right;\n",
              "    }\n",
              "</style>\n",
              "<table border=\"1\" class=\"dataframe\">\n",
              "  <thead>\n",
              "    <tr style=\"text-align: right;\">\n",
              "      <th></th>\n",
              "      <th>cod_reviewer</th>\n",
              "      <th>cod_severity</th>\n",
              "      <th>lines</th>\n",
              "      <th>num_commits</th>\n",
              "      <th>label</th>\n",
              "      <th>cod_relevant</th>\n",
              "      <th>cod_hora</th>\n",
              "    </tr>\n",
              "  </thead>\n",
              "  <tbody>\n",
              "    <tr>\n",
              "      <th>790</th>\n",
              "      <td>1</td>\n",
              "      <td>3</td>\n",
              "      <td>1918</td>\n",
              "      <td>76</td>\n",
              "      <td>4</td>\n",
              "      <td>2</td>\n",
              "      <td>0</td>\n",
              "    </tr>\n",
              "    <tr>\n",
              "      <th>824</th>\n",
              "      <td>2</td>\n",
              "      <td>3</td>\n",
              "      <td>392</td>\n",
              "      <td>170</td>\n",
              "      <td>4</td>\n",
              "      <td>2</td>\n",
              "      <td>0</td>\n",
              "    </tr>\n",
              "    <tr>\n",
              "      <th>2240</th>\n",
              "      <td>2</td>\n",
              "      <td>1</td>\n",
              "      <td>100</td>\n",
              "      <td>319</td>\n",
              "      <td>1</td>\n",
              "      <td>2</td>\n",
              "      <td>0</td>\n",
              "    </tr>\n",
              "    <tr>\n",
              "      <th>46</th>\n",
              "      <td>1</td>\n",
              "      <td>3</td>\n",
              "      <td>6</td>\n",
              "      <td>34</td>\n",
              "      <td>4</td>\n",
              "      <td>1</td>\n",
              "      <td>1</td>\n",
              "    </tr>\n",
              "    <tr>\n",
              "      <th>341</th>\n",
              "      <td>0</td>\n",
              "      <td>3</td>\n",
              "      <td>66</td>\n",
              "      <td>192</td>\n",
              "      <td>4</td>\n",
              "      <td>2</td>\n",
              "      <td>0</td>\n",
              "    </tr>\n",
              "    <tr>\n",
              "      <th>1492</th>\n",
              "      <td>1</td>\n",
              "      <td>2</td>\n",
              "      <td>182</td>\n",
              "      <td>78</td>\n",
              "      <td>0</td>\n",
              "      <td>2</td>\n",
              "      <td>0</td>\n",
              "    </tr>\n",
              "    <tr>\n",
              "      <th>1838</th>\n",
              "      <td>1</td>\n",
              "      <td>2</td>\n",
              "      <td>96</td>\n",
              "      <td>162</td>\n",
              "      <td>3</td>\n",
              "      <td>2</td>\n",
              "      <td>0</td>\n",
              "    </tr>\n",
              "    <tr>\n",
              "      <th>1892</th>\n",
              "      <td>1</td>\n",
              "      <td>2</td>\n",
              "      <td>100</td>\n",
              "      <td>32</td>\n",
              "      <td>0</td>\n",
              "      <td>2</td>\n",
              "      <td>0</td>\n",
              "    </tr>\n",
              "    <tr>\n",
              "      <th>97</th>\n",
              "      <td>1</td>\n",
              "      <td>3</td>\n",
              "      <td>3</td>\n",
              "      <td>170</td>\n",
              "      <td>4</td>\n",
              "      <td>2</td>\n",
              "      <td>1</td>\n",
              "    </tr>\n",
              "    <tr>\n",
              "      <th>711</th>\n",
              "      <td>0</td>\n",
              "      <td>3</td>\n",
              "      <td>14</td>\n",
              "      <td>128</td>\n",
              "      <td>4</td>\n",
              "      <td>2</td>\n",
              "      <td>1</td>\n",
              "    </tr>\n",
              "  </tbody>\n",
              "</table>\n",
              "</div>"
            ],
            "text/plain": [
              "      cod_reviewer  cod_severity  lines  num_commits  label  cod_relevant  \\\n",
              "790              1             3   1918           76      4             2   \n",
              "824              2             3    392          170      4             2   \n",
              "2240             2             1    100          319      1             2   \n",
              "46               1             3      6           34      4             1   \n",
              "341              0             3     66          192      4             2   \n",
              "1492             1             2    182           78      0             2   \n",
              "1838             1             2     96          162      3             2   \n",
              "1892             1             2    100           32      0             2   \n",
              "97               1             3      3          170      4             2   \n",
              "711              0             3     14          128      4             2   \n",
              "\n",
              "      cod_hora  \n",
              "790          0  \n",
              "824          0  \n",
              "2240         0  \n",
              "46           1  \n",
              "341          0  \n",
              "1492         0  \n",
              "1838         0  \n",
              "1892         0  \n",
              "97           1  \n",
              "711          1  "
            ]
          },
          "execution_count": 61,
          "metadata": {},
          "output_type": "execute_result"
        }
      ],
      "source": [
        "## Mantendo somente os atributos do MLCQ\n",
        "## mantendo somente as linhas que tiveram match com o organic para que futura comparação seja feita com os mesmos dados \n",
        "## df_MLCQ = df[['label','reviewer_id','cod_severity','review_timestamp','lines','cod_relevant']] # + newcolumns]\n",
        "\n",
        "## severity nao foi incluido\n",
        "#df = df[['reviewer_id','start_line','end_line','lines','num_commits','label','cod_relevant', 'cod_hora']]\n",
        "df = df[['cod_reviewer','cod_severity','lines','num_commits','label','cod_relevant', 'cod_hora']]\n",
        "\n",
        "print(df.shape)\n",
        "df.sample(10)"
      ]
    },
    {
      "cell_type": "code",
      "execution_count": 62,
      "metadata": {
        "colab": {
          "base_uri": "https://localhost:8080/",
          "height": 579
        },
        "id": "Mjw4AohqZbhF",
        "outputId": "e6e0adb1-1476-43ef-c706-013add692275"
      },
      "outputs": [
        {
          "data": {
            "image/png": "[encoded data removed]",
            "text/plain": [
              "<Figure size 2500x1000 with 3 Axes>"
            ]
          },
          "metadata": {},
          "output_type": "display_data"
        }
      ],
      "source": [
        "# olhando se ficou algum missing # start line e end line com nan nao representa problema.\n",
        "import missingno\n",
        "plt.title(\"Verificando Missing no dataset\")\n",
        "missingno.bar(df)\n",
        "plt.savefig(\"Base Limpa - Missing.svg\")\n",
        "plt.show()"
      ]
    },
    {
      "cell_type": "code",
      "execution_count": 63,
      "metadata": {
        "id": "kRZjaWuTaIZ6"
      },
      "outputs": [],
      "source": [
        "# ainda sem conjunto de validacao\n",
        "from sklearn.model_selection import train_test_split\n",
        "x_train, x_test, y_train, y_test = train_test_split(df.loc[:,df.columns != 'label'], \n",
        "                                                    df['label'], test_size=0.2, \n",
        "                                                    stratify=df.label)"
      ]
    },
    {
      "cell_type": "code",
      "execution_count": 64,
      "metadata": {
        "colab": {
          "base_uri": "https://localhost:8080/"
        },
        "id": "WfRgDhEMVr0c",
        "outputId": "9d3d2ab4-17f0-4bce-aed7-2b0e6f02e601"
      },
      "outputs": [
        {
          "name": "stdout",
          "output_type": "stream",
          "text": [
            "(2176, 6)\n",
            "(544, 6)\n",
            "(2176,)\n",
            "(544,)\n"
          ]
        }
      ],
      "source": [
        "print(x_train.shape)\n",
        "print(x_test.shape)\n",
        "print(y_train.shape)\n",
        "print(y_test.shape)"
      ]
    },
    {
      "cell_type": "code",
      "execution_count": 65,
      "metadata": {
        "id": "CL-Rz9rVVd_y"
      },
      "outputs": [],
      "source": [
        "# Scaling the Train and Test feature set \n",
        "#from sklearn.preprocessing import StandardScaler\n",
        "#scaler = StandardScaler()\n",
        "\n",
        "from sklearn.preprocessing import MinMaxScaler\n",
        "scaler = MinMaxScaler()\n",
        "x_train_scaled = scaler.fit_transform(x_train)\n",
        "x_test_scaled = scaler.transform(x_test)"
      ]
    },
    {
      "cell_type": "markdown",
      "metadata": {
        "id": "FJ37DjXUrwhk"
      },
      "source": [
        "## A) - KNN com gridsearch\n",
        "\n"
      ]
    },
    {
      "cell_type": "code",
      "execution_count": 66,
      "metadata": {
        "id": "jNdQmqYmrvnh"
      },
      "outputs": [],
      "source": [
        "#Import knearest neighbors Classifier model\n",
        "from sklearn.neighbors import KNeighborsClassifier\n",
        "from sklearn.metrics import confusion_matrix"
      ]
    },
    {
      "cell_type": "code",
      "execution_count": 67,
      "metadata": {
        "id": "-Lx68lFyr1db"
      },
      "outputs": [],
      "source": [
        "from sklearn.model_selection import GridSearchCV\n",
        "grid_params = {\n",
        "    'n_neighbors': [3,5,7,11,15,19],\n",
        "    'weights' : ['uniform','distance'],\n",
        "    'metric'  : ['euclidean','manhattan']\n",
        "}"
      ]
    },
    {
      "cell_type": "code",
      "execution_count": 68,
      "metadata": {
        "id": "Xf0bE7Jvr40D"
      },
      "outputs": [],
      "source": [
        "gs = GridSearchCV(KNeighborsClassifier(),grid_params,verbose = 1, cv = 3, n_jobs = -1)"
      ]
    },
    {
      "cell_type": "code",
      "execution_count": 69,
      "metadata": {
        "colab": {
          "base_uri": "https://localhost:8080/"
        },
        "id": "h83aG2tzr7fP",
        "outputId": "91726432-700f-4c35-ca1b-5d71bc0a5c5e"
      },
      "outputs": [
        {
          "name": "stdout",
          "output_type": "stream",
          "text": [
            "Fitting 3 folds for each of 24 candidates, totalling 72 fits\n"
          ]
        }
      ],
      "source": [
        "knn = gs.fit(x_train_scaled, y_train)"
      ]
    },
    {
      "cell_type": "code",
      "execution_count": 70,
      "metadata": {
        "colab": {
          "base_uri": "https://localhost:8080/"
        },
        "id": "C9WMbYqZsAyF",
        "outputId": "714c835b-976b-4c17-b5a4-149252b9697c"
      },
      "outputs": [
        {
          "name": "stdout",
          "output_type": "stream",
          "text": [
            "Melhor modelo:  0.6392387828124505\n",
            "Hiperparametros:{'metric': 'manhattan', 'n_neighbors': 19, 'weights': 'uniform'}\n",
            "Estimators:     KNeighborsClassifier(metric='manhattan', n_neighbors=19)\n",
            "Id:             22\n"
          ]
        }
      ],
      "source": [
        "## imprimindo informacoes do fit\n",
        "print(f'Melhor modelo:  {knn.best_score_}')\n",
        "print(f'Hiperparametros:{knn.best_params_}')\n",
        "print(f'Estimators:     {knn.best_estimator_}')\n",
        "print(f'Id:             {knn.best_index_}')"
      ]
    },
    {
      "cell_type": "code",
      "execution_count": 71,
      "metadata": {
        "id": "h6LyDCtJVd_5"
      },
      "outputs": [],
      "source": [
        "final_model = knn.best_estimator_"
      ]
    },
    {
      "cell_type": "code",
      "execution_count": 72,
      "metadata": {
        "id": "Al-tKxwXVd_6"
      },
      "outputs": [],
      "source": [
        "y_test_predicted_knn = final_model.predict(x_test_scaled)\n",
        "y_test_predicted_knn_indexes = y_test_predicted_knn\n",
        "y_test_indexes = y_test.values"
      ]
    },
    {
      "cell_type": "code",
      "execution_count": 73,
      "metadata": {
        "colab": {
          "base_uri": "https://localhost:8080/",
          "height": 295
        },
        "id": "hz7Zv0CqVd_7",
        "outputId": "4335da4d-acc7-4f82-fc73-ad32fde24d63"
      },
      "outputs": [
        {
          "data": {
            "image/png": "[encoded data removed]",
            "text/plain": [
              "<Figure size 640x480 with 2 Axes>"
            ]
          },
          "metadata": {},
          "output_type": "display_data"
        }
      ],
      "source": [
        "matriz_confusao(y_test_predicted_knn_indexes, y_test_indexes,list(modelo_label.inverse_transform([0,1,2,3,4])))"
      ]
    },
    {
      "cell_type": "code",
      "execution_count": 74,
      "metadata": {
        "colab": {
          "base_uri": "https://localhost:8080/"
        },
        "id": "53yZYnVsVd_8",
        "outputId": "949ef872-6a28-4a4d-d194-454b9001771a"
      },
      "outputs": [
        {
          "name": "stdout",
          "output_type": "stream",
          "text": [
            "\n",
            "Acurácia:\t0.65\n",
            "Kappa:\t\t0.52\n",
            "\n"
          ]
        }
      ],
      "source": [
        "print_indicadores(y_test_predicted_knn_indexes, y_test_indexes)"
      ]
    },
    {
      "cell_type": "markdown",
      "metadata": {
        "id": "pAXAw17I2_el"
      },
      "source": [
        "## B)  RF com grid search"
      ]
    },
    {
      "cell_type": "code",
      "execution_count": 75,
      "metadata": {
        "id": "eue-FLyFzbh8"
      },
      "outputs": [],
      "source": [
        "from sklearn.ensemble import RandomForestClassifier\n",
        "from sklearn.metrics import confusion_matrix\n",
        "grid_params = {\n",
        "    'min_samples_leaf': [15,20,23,25,27,30]\n",
        "}"
      ]
    },
    {
      "cell_type": "code",
      "execution_count": 76,
      "metadata": {
        "id": "H_If3hHmzmfJ"
      },
      "outputs": [],
      "source": [
        "gs = GridSearchCV(RandomForestClassifier(random_state=seed),grid_params,verbose = 1, cv = 3, n_jobs = -1)"
      ]
    },
    {
      "cell_type": "code",
      "execution_count": 77,
      "metadata": {
        "colab": {
          "base_uri": "https://localhost:8080/"
        },
        "id": "ydj2DMvQ0YXN",
        "outputId": "53672e9e-e380-420e-eb32-10f49558536c"
      },
      "outputs": [
        {
          "name": "stdout",
          "output_type": "stream",
          "text": [
            "Fitting 3 folds for each of 6 candidates, totalling 18 fits\n"
          ]
        }
      ],
      "source": [
        "RF = gs.fit(x_train, y_train)"
      ]
    },
    {
      "cell_type": "code",
      "execution_count": 78,
      "metadata": {
        "id": "oTHfMq0pVeAB"
      },
      "outputs": [],
      "source": [
        "final_model = RF.best_estimator_"
      ]
    },
    {
      "cell_type": "code",
      "execution_count": 79,
      "metadata": {
        "colab": {
          "base_uri": "https://localhost:8080/"
        },
        "id": "EGZomOmJCp7V",
        "outputId": "a9359f3b-b34c-4f77-84fb-6314dbafe517"
      },
      "outputs": [
        {
          "name": "stdout",
          "output_type": "stream",
          "text": [
            "Melhor modelo:  0.7265577404135396\n",
            "Hiperparametros:{'min_samples_leaf': 15}\n",
            "Estimators:     RandomForestClassifier(min_samples_leaf=15, random_state=10)\n",
            "Id:             0\n"
          ]
        }
      ],
      "source": [
        "## imprimindo informacoes do fit\n",
        "print(f'Melhor modelo:  {RF.best_score_}')\n",
        "print(f'Hiperparametros:{RF.best_params_}')\n",
        "print(f'Estimators:     {RF.best_estimator_}')\n",
        "print(f'Id:             {RF.best_index_}')"
      ]
    },
    {
      "cell_type": "code",
      "execution_count": 80,
      "metadata": {
        "id": "OmylltaoVeAD"
      },
      "outputs": [],
      "source": [
        "# Previsão\n",
        "# aplicando o modelo na base de teste\n",
        "y_test_predicted_RF = final_model.predict(x_test)\n",
        "y_test_predicted_RF_indexes = y_test_predicted_RF\n",
        "y_test_indexes = y_test.values"
      ]
    },
    {
      "cell_type": "code",
      "execution_count": 81,
      "metadata": {
        "colab": {
          "base_uri": "https://localhost:8080/",
          "height": 295
        },
        "id": "jKHWujFwVeAD",
        "outputId": "a4b04fd7-b4fc-4fda-b0d7-bf432f64a9f5"
      },
      "outputs": [
        {
          "data": {
            "image/png": "[encoded data removed]",
            "text/plain": [
              "<Figure size 640x480 with 2 Axes>"
            ]
          },
          "metadata": {},
          "output_type": "display_data"
        }
      ],
      "source": [
        "matriz_confusao(y_test_predicted_RF_indexes, y_test_indexes,list(modelo_label.inverse_transform([0, 1, 2, 3, 4])))"
      ]
    },
    {
      "cell_type": "code",
      "execution_count": 82,
      "metadata": {
        "colab": {
          "base_uri": "https://localhost:8080/"
        },
        "id": "d4Pye77mVeAD",
        "outputId": "4d6b44c8-0c64-4062-fc82-7237e70055de"
      },
      "outputs": [
        {
          "name": "stdout",
          "output_type": "stream",
          "text": [
            "\n",
            "Acurácia:\t0.73\n",
            "Kappa:\t\t0.63\n",
            "\n"
          ]
        }
      ],
      "source": [
        "print_indicadores(y_test_predicted_RF_indexes, y_test_indexes)"
      ]
    },
    {
      "cell_type": "markdown",
      "metadata": {
        "id": "EbMgtMkm-NyF"
      },
      "source": [
        "## C)  Melhorando o RF"
      ]
    },
    {
      "cell_type": "code",
      "execution_count": 83,
      "metadata": {
        "colab": {
          "base_uri": "https://localhost:8080/"
        },
        "id": "HloK4RLBVeAH",
        "outputId": "b81a3a21-afac-40c2-f300-6792feebf91c"
      },
      "outputs": [
        {
          "data": {
            "text/plain": [
              "['cod_severity', 'lines']"
            ]
          },
          "execution_count": 83,
          "metadata": {},
          "output_type": "execute_result"
        }
      ],
      "source": [
        "# Remove as features que não foram consideradas importantes no modelo\n",
        "feature_imp = zip(df.columns.values, RF.best_estimator_.feature_importances_)\n",
        "features = [val[0] for val in list(feature_imp) if val[1] > 0.1]\n",
        "features"
      ]
    },
    {
      "cell_type": "code",
      "execution_count": 84,
      "metadata": {
        "id": "TTLf9gBbzqxL"
      },
      "outputs": [],
      "source": [
        "features.append('label')"
      ]
    },
    {
      "cell_type": "code",
      "execution_count": 85,
      "metadata": {
        "colab": {
          "base_uri": "https://localhost:8080/",
          "height": 206
        },
        "id": "1qggStOhVeAH",
        "outputId": "96f23396-1eb1-40a9-b88c-f572a6cc6e5c"
      },
      "outputs": [
        {
          "data": {
            "text/html": [
              "<div>\n",
              "<style scoped>\n",
              "    .dataframe tbody tr th:only-of-type {\n",
              "        vertical-align: middle;\n",
              "    }\n",
              "\n",
              "    .dataframe tbody tr th {\n",
              "        vertical-align: top;\n",
              "    }\n",
              "\n",
              "    .dataframe thead th {\n",
              "        text-align: right;\n",
              "    }\n",
              "</style>\n",
              "<table border=\"1\" class=\"dataframe\">\n",
              "  <thead>\n",
              "    <tr style=\"text-align: right;\">\n",
              "      <th></th>\n",
              "      <th>cod_severity</th>\n",
              "      <th>lines</th>\n",
              "      <th>label</th>\n",
              "    </tr>\n",
              "  </thead>\n",
              "  <tbody>\n",
              "    <tr>\n",
              "      <th>0</th>\n",
              "      <td>3</td>\n",
              "      <td>190</td>\n",
              "      <td>4</td>\n",
              "    </tr>\n",
              "    <tr>\n",
              "      <th>1</th>\n",
              "      <td>3</td>\n",
              "      <td>3</td>\n",
              "      <td>4</td>\n",
              "    </tr>\n",
              "    <tr>\n",
              "      <th>2</th>\n",
              "      <td>3</td>\n",
              "      <td>868</td>\n",
              "      <td>4</td>\n",
              "    </tr>\n",
              "    <tr>\n",
              "      <th>3</th>\n",
              "      <td>3</td>\n",
              "      <td>5</td>\n",
              "      <td>4</td>\n",
              "    </tr>\n",
              "    <tr>\n",
              "      <th>4</th>\n",
              "      <td>3</td>\n",
              "      <td>25</td>\n",
              "      <td>4</td>\n",
              "    </tr>\n",
              "  </tbody>\n",
              "</table>\n",
              "</div>"
            ],
            "text/plain": [
              "   cod_severity  lines  label\n",
              "0             3    190      4\n",
              "1             3      3      4\n",
              "2             3    868      4\n",
              "3             3      5      4\n",
              "4             3     25      4"
            ]
          },
          "execution_count": 85,
          "metadata": {},
          "output_type": "execute_result"
        }
      ],
      "source": [
        "df_cleanRF = df[features]\n",
        "df_cleanRF.head()\n"
      ]
    },
    {
      "cell_type": "code",
      "execution_count": 86,
      "metadata": {
        "id": "yEP1fuUbVeAI"
      },
      "outputs": [],
      "source": [
        "x_trainRF, x_testRF, y_trainRF, y_testRF = train_test_split(df_cleanRF.loc[:,df_cleanRF.columns != 'label'], \n",
        "                                                    df_cleanRF['label'], test_size=0.2, \n",
        "                                                    stratify=df_cleanRF.label)"
      ]
    },
    {
      "cell_type": "code",
      "execution_count": 87,
      "metadata": {
        "colab": {
          "base_uri": "https://localhost:8080/"
        },
        "id": "k_VEGXSmXhLc",
        "outputId": "1d02750e-de85-4442-bc37-fd8d7d7c97eb"
      },
      "outputs": [
        {
          "name": "stdout",
          "output_type": "stream",
          "text": [
            "(2176, 2)\n",
            "(544, 2)\n",
            "(2176,)\n",
            "(544,)\n"
          ]
        }
      ],
      "source": [
        "print(x_trainRF.shape)\n",
        "print(x_testRF.shape)\n",
        "print(y_trainRF.shape)\n",
        "print(y_testRF.shape)"
      ]
    },
    {
      "cell_type": "code",
      "execution_count": 88,
      "metadata": {
        "colab": {
          "base_uri": "https://localhost:8080/"
        },
        "id": "uge9u_p0VeAJ",
        "outputId": "355ed545-55e9-42bd-df1c-9dc6bbed8606"
      },
      "outputs": [
        {
          "name": "stdout",
          "output_type": "stream",
          "text": [
            "Fitting 3 folds for each of 6 candidates, totalling 18 fits\n"
          ]
        }
      ],
      "source": [
        "RF_clean_model = gs.fit(x_trainRF, y_trainRF)\n",
        "#b"
      ]
    },
    {
      "cell_type": "code",
      "execution_count": 89,
      "metadata": {
        "id": "LhhpcQ8ENjvF"
      },
      "outputs": [],
      "source": [
        "final_model = RF_clean_model.best_estimator_\n",
        "#c"
      ]
    },
    {
      "cell_type": "code",
      "execution_count": 90,
      "metadata": {
        "colab": {
          "base_uri": "https://localhost:8080/"
        },
        "id": "thLLNNlOC-ky",
        "outputId": "b325cf7f-add0-4876-aa05-26822d0861ec"
      },
      "outputs": [
        {
          "name": "stdout",
          "output_type": "stream",
          "text": [
            "Melhor modelo:  0.7146125835154048\n",
            "Hiperparametros:{'min_samples_leaf': 27}\n",
            "Estimators:     RandomForestClassifier(min_samples_leaf=27, random_state=10)\n",
            "Id:             4\n"
          ]
        }
      ],
      "source": [
        "## imprimindo informacoes do fit\n",
        "print(f'Melhor modelo:  {RF.best_score_}')\n",
        "print(f'Hiperparametros:{RF.best_params_}')\n",
        "print(f'Estimators:     {RF.best_estimator_}')\n",
        "print(f'Id:             {RF.best_index_}')"
      ]
    },
    {
      "cell_type": "code",
      "execution_count": 91,
      "metadata": {
        "id": "o_8LpXChNqpk"
      },
      "outputs": [],
      "source": [
        "# Previsão\n",
        "# aplicando o modelo na base de teste\n",
        "y_test_predicted_RF = final_model.predict(x_testRF)\n",
        "y_test_predicted_RF_indexes = y_test_predicted_RF\n",
        "y_test_indexes = y_testRF.values"
      ]
    },
    {
      "cell_type": "code",
      "execution_count": 92,
      "metadata": {
        "colab": {
          "base_uri": "https://localhost:8080/",
          "height": 295
        },
        "id": "5hVY6PGvVeAK",
        "outputId": "27be8dc4-d89c-4903-99c0-91c70a55fe88"
      },
      "outputs": [
        {
          "data": {
            "image/png": "[encoded data removed]",
            "text/plain": [
              "<Figure size 640x480 with 2 Axes>"
            ]
          },
          "metadata": {},
          "output_type": "display_data"
        }
      ],
      "source": [
        "matriz_confusao(y_test_predicted_RF_indexes, y_test_indexes,list(modelo_label.inverse_transform([0, 1, 2, 3, 4])))"
      ]
    },
    {
      "cell_type": "code",
      "execution_count": 93,
      "metadata": {
        "colab": {
          "base_uri": "https://localhost:8080/"
        },
        "id": "FGo0FDhvVeAL",
        "outputId": "d54a3621-3125-4639-dbc2-5a349e6de037"
      },
      "outputs": [
        {
          "name": "stdout",
          "output_type": "stream",
          "text": [
            "\n",
            "Acurácia:\t0.74\n",
            "Kappa:\t\t0.65\n",
            "\n"
          ]
        }
      ],
      "source": [
        "print_indicadores(y_test_predicted_RF_indexes, y_test_indexes)"
      ]
    },
    {
      "cell_type": "markdown",
      "metadata": {
        "id": "rCix5d7RVeAM"
      },
      "source": [
        "## D) Regressao Logistica"
      ]
    },
    {
      "cell_type": "code",
      "execution_count": 94,
      "metadata": {
        "id": "OC9ED7-oOl2U"
      },
      "outputs": [],
      "source": [
        "#x_train_scaled = scaler.fit_transform(x_train)\n",
        "#x_test_scaled = scaler.transform(x_test)"
      ]
    },
    {
      "cell_type": "code",
      "execution_count": 95,
      "metadata": {
        "colab": {
          "base_uri": "https://localhost:8080/",
          "height": 366
        },
        "id": "KSyK0QgHOmwy",
        "outputId": "9d4d594c-edcc-4a28-946a-6c5a351d7d20"
      },
      "outputs": [
        {
          "data": {
            "image/png": "[encoded data removed]",
            "text/plain": [
              "<Figure size 640x480 with 2 Axes>"
            ]
          },
          "metadata": {},
          "output_type": "display_data"
        },
        {
          "name": "stdout",
          "output_type": "stream",
          "text": [
            "\n",
            "Acurácia:\t0.67\n",
            "Kappa:\t\t0.54\n",
            "\n"
          ]
        }
      ],
      "source": [
        "from sklearn.linear_model import LogisticRegression\n",
        "random_state = 10\n",
        "\n",
        "LR = LogisticRegression(random_state=random_state)\n",
        "LR.fit(x_train_scaled, y_train)\n",
        "\n",
        "y_test_predicted_LR = LR.predict(x_test_scaled)\n",
        "y_test_predicted_LR_indexes = y_test_predicted_LR\n",
        "y_test_indexes = y_test.values\n",
        "\n",
        "\n",
        "matriz_confusao(y_test_predicted_LR_indexes, y_test_indexes,list(modelo_label.inverse_transform([0, 1, 2, 3, 4])))\n",
        "print_indicadores(y_test_predicted_LR_indexes, y_test)"
      ]
    },
    {
      "cell_type": "markdown",
      "metadata": {
        "id": "VZsh162dVeAN"
      },
      "source": [
        "## E) SVM - Classificacao - Com Grid Search"
      ]
    },
    {
      "cell_type": "code",
      "execution_count": 96,
      "metadata": {
        "id": "GamwQCN2VeAN"
      },
      "outputs": [],
      "source": [
        "from sklearn.svm import SVC\n"
      ]
    },
    {
      "cell_type": "code",
      "execution_count": 97,
      "metadata": {
        "id": "7V1qlp0uVeAO"
      },
      "outputs": [],
      "source": [
        "params_grid = [{'kernel': ['rbf'], 'gamma': [1e-3, 1e-4], 'C': [10, 100, 1000]},\n",
        "               {'kernel': ['linear'], 'C': [10, 100, 1000]}]"
      ]
    },
    {
      "cell_type": "code",
      "execution_count": 98,
      "metadata": {
        "colab": {
          "base_uri": "https://localhost:8080/"
        },
        "id": "osslIs-wVeAP",
        "outputId": "6991b9a4-38e6-4ed2-80d7-e5d7b3314422"
      },
      "outputs": [
        {
          "data": {
            "text/html": [
              "<style>#sk-container-id-1 {color: black;background-color: white;}#sk-container-id-1 pre{padding: 0;}#sk-container-id-1 div.sk-toggleable {background-color: white;}#sk-container-id-1 label.sk-toggleable__label {cursor: pointer;display: block;width: 100%;margin-bottom: 0;padding: 0.3em;box-sizing: border-box;text-align: center;}#sk-container-id-1 label.sk-toggleable__label-arrow:before {content: \"▸\";float: left;margin-right: 0.25em;color: #696969;}#sk-container-id-1 label.sk-toggleable__label-arrow:hover:before {color: black;}#sk-container-id-1 div.sk-estimator:hover label.sk-toggleable__label-arrow:before {color: black;}#sk-container-id-1 div.sk-toggleable__content {max-height: 0;max-width: 0;overflow: hidden;text-align: left;background-color: #f0f8ff;}#sk-container-id-1 div.sk-toggleable__content pre {margin: 0.2em;color: black;border-radius: 0.25em;background-color: #f0f8ff;}#sk-container-id-1 input.sk-toggleable__control:checked~div.sk-toggleable__content {max-height: 200px;max-width: 100%;overflow: auto;}#sk-container-id-1 input.sk-toggleable__control:checked~label.sk-toggleable__label-arrow:before {content: \"▾\";}#sk-container-id-1 div.sk-estimator input.sk-toggleable__control:checked~label.sk-toggleable__label {background-color: #d4ebff;}#sk-container-id-1 div.sk-label input.sk-toggleable__control:checked~label.sk-toggleable__label {background-color: #d4ebff;}#sk-container-id-1 input.sk-hidden--visually {border: 0;clip: rect(1px 1px 1px 1px);clip: rect(1px, 1px, 1px, 1px);height: 1px;margin: -1px;overflow: hidden;padding: 0;position: absolute;width: 1px;}#sk-container-id-1 div.sk-estimator {font-family: monospace;background-color: #f0f8ff;border: 1px dotted black;border-radius: 0.25em;box-sizing: border-box;margin-bottom: 0.5em;}#sk-container-id-1 div.sk-estimator:hover {background-color: #d4ebff;}#sk-container-id-1 div.sk-parallel-item::after {content: \"\";width: 100%;border-bottom: 1px solid gray;flex-grow: 1;}#sk-container-id-1 div.sk-label:hover label.sk-toggleable__label {background-color: #d4ebff;}#sk-container-id-1 div.sk-serial::before {content: \"\";position: absolute;border-left: 1px solid gray;box-sizing: border-box;top: 0;bottom: 0;left: 50%;z-index: 0;}#sk-container-id-1 div.sk-serial {display: flex;flex-direction: column;align-items: center;background-color: white;padding-right: 0.2em;padding-left: 0.2em;position: relative;}#sk-container-id-1 div.sk-item {position: relative;z-index: 1;}#sk-container-id-1 div.sk-parallel {display: flex;align-items: stretch;justify-content: center;background-color: white;position: relative;}#sk-container-id-1 div.sk-item::before, #sk-container-id-1 div.sk-parallel-item::before {content: \"\";position: absolute;border-left: 1px solid gray;box-sizing: border-box;top: 0;bottom: 0;left: 50%;z-index: -1;}#sk-container-id-1 div.sk-parallel-item {display: flex;flex-direction: column;z-index: 1;position: relative;background-color: white;}#sk-container-id-1 div.sk-parallel-item:first-child::after {align-self: flex-end;width: 50%;}#sk-container-id-1 div.sk-parallel-item:last-child::after {align-self: flex-start;width: 50%;}#sk-container-id-1 div.sk-parallel-item:only-child::after {width: 0;}#sk-container-id-1 div.sk-dashed-wrapped {border: 1px dashed gray;margin: 0 0.4em 0.5em 0.4em;box-sizing: border-box;padding-bottom: 0.4em;background-color: white;}#sk-container-id-1 div.sk-label label {font-family: monospace;font-weight: bold;display: inline-block;line-height: 1.2em;}#sk-container-id-1 div.sk-label-container {text-align: center;}#sk-container-id-1 div.sk-container {/* jupyter's `normalize.less` sets `[hidden] { display: none; }` but bootstrap.min.css set `[hidden] { display: none !important; }` so we also need the `!important` here to be able to override the default hidden behavior on the sphinx rendered scikit-learn.org. See: https://github.com/scikit-learn/scikit-learn/issues/21755 */display: inline-block !important;position: relative;}#sk-container-id-1 div.sk-text-repr-fallback {display: none;}</style><div id=\"sk-container-id-1\" class=\"sk-top-container\"><div class=\"sk-text-repr-fallback\"><pre>GridSearchCV(cv=5, estimator=SVC(),\n",
              "             param_grid=[{&#x27;C&#x27;: [10, 100, 1000], &#x27;gamma&#x27;: [0.001, 0.0001],\n",
              "                          &#x27;kernel&#x27;: [&#x27;rbf&#x27;]},\n",
              "                         {&#x27;C&#x27;: [10, 100, 1000], &#x27;kernel&#x27;: [&#x27;linear&#x27;]}])</pre><b>In a Jupyter environment, please rerun this cell to show the HTML representation or trust the notebook. <br />On GitHub, the HTML representation is unable to render, please try loading this page with nbviewer.org.</b></div><div class=\"sk-container\" hidden><div class=\"sk-item sk-dashed-wrapped\"><div class=\"sk-label-container\"><div class=\"sk-label sk-toggleable\"><input class=\"sk-toggleable__control sk-hidden--visually\" id=\"sk-estimator-id-1\" type=\"checkbox\" ><label for=\"sk-estimator-id-1\" class=\"sk-toggleable__label sk-toggleable__label-arrow\">GridSearchCV</label><div class=\"sk-toggleable__content\"><pre>GridSearchCV(cv=5, estimator=SVC(),\n",
              "             param_grid=[{&#x27;C&#x27;: [10, 100, 1000], &#x27;gamma&#x27;: [0.001, 0.0001],\n",
              "                          &#x27;kernel&#x27;: [&#x27;rbf&#x27;]},\n",
              "                         {&#x27;C&#x27;: [10, 100, 1000], &#x27;kernel&#x27;: [&#x27;linear&#x27;]}])</pre></div></div></div><div class=\"sk-parallel\"><div class=\"sk-parallel-item\"><div class=\"sk-item\"><div class=\"sk-label-container\"><div class=\"sk-label sk-toggleable\"><input class=\"sk-toggleable__control sk-hidden--visually\" id=\"sk-estimator-id-2\" type=\"checkbox\" ><label for=\"sk-estimator-id-2\" class=\"sk-toggleable__label sk-toggleable__label-arrow\">estimator: SVC</label><div class=\"sk-toggleable__content\"><pre>SVC()</pre></div></div></div><div class=\"sk-serial\"><div class=\"sk-item\"><div class=\"sk-estimator sk-toggleable\"><input class=\"sk-toggleable__control sk-hidden--visually\" id=\"sk-estimator-id-3\" type=\"checkbox\" ><label for=\"sk-estimator-id-3\" class=\"sk-toggleable__label sk-toggleable__label-arrow\">SVC</label><div class=\"sk-toggleable__content\"><pre>SVC()</pre></div></div></div></div></div></div></div></div></div></div>"
            ],
            "text/plain": [
              "GridSearchCV(cv=5, estimator=SVC(),\n",
              "             param_grid=[{'C': [10, 100, 1000], 'gamma': [0.001, 0.0001],\n",
              "                          'kernel': ['rbf']},\n",
              "                         {'C': [10, 100, 1000], 'kernel': ['linear']}])"
            ]
          },
          "execution_count": 98,
          "metadata": {},
          "output_type": "execute_result"
        }
      ],
      "source": [
        "# Performing CV to tune parameters for best SVM fit \n",
        "svm_model = GridSearchCV(SVC(), params_grid, cv=5)\n",
        "svm_model.fit(x_train_scaled, y_train)"
      ]
    },
    {
      "cell_type": "code",
      "execution_count": 99,
      "metadata": {
        "colab": {
          "base_uri": "https://localhost:8080/"
        },
        "id": "Z34UZY0LQNS1",
        "outputId": "b0873a3c-8ea8-4bdd-c2a4-a8438feb14ed"
      },
      "outputs": [
        {
          "name": "stdout",
          "output_type": "stream",
          "text": [
            "Best score for training data: 0.6603859538120849 \n",
            "\n",
            "Best C: 1000 \n",
            "\n",
            "Best Kernel: linear \n",
            "\n",
            "Best Gamma: scale \n",
            "\n"
          ]
        }
      ],
      "source": [
        "# View the accuracy score\n",
        "print('Best score for training data:', svm_model.best_score_,\"\\n\") \n",
        "\n",
        "# View the best parameters for the model found using grid search\n",
        "print('Best C:',svm_model.best_estimator_.C,\"\\n\") \n",
        "print('Best Kernel:',svm_model.best_estimator_.kernel,\"\\n\")\n",
        "print('Best Gamma:',svm_model.best_estimator_.gamma,\"\\n\")"
      ]
    },
    {
      "cell_type": "code",
      "execution_count": 100,
      "metadata": {
        "id": "94IxRoFIQqZJ"
      },
      "outputs": [],
      "source": [
        "final_model = svm_model.best_estimator_"
      ]
    },
    {
      "cell_type": "code",
      "execution_count": 101,
      "metadata": {
        "id": "3d-aumM-QnrM"
      },
      "outputs": [],
      "source": [
        "y_test_predicted_knn = final_model.predict(x_test_scaled)\n",
        "y_test_predicted_knn_indexes = y_test_predicted_knn\n",
        "y_test_indexes = y_test.values"
      ]
    },
    {
      "cell_type": "code",
      "execution_count": 102,
      "metadata": {
        "colab": {
          "base_uri": "https://localhost:8080/",
          "height": 366
        },
        "id": "iah56oRXQ0si",
        "outputId": "ecc4b7fd-6c58-478d-9a41-80f19dbf28ac"
      },
      "outputs": [
        {
          "data": {
            "image/png": "[encoded data removed]",
            "text/plain": [
              "<Figure size 640x480 with 2 Axes>"
            ]
          },
          "metadata": {},
          "output_type": "display_data"
        },
        {
          "name": "stdout",
          "output_type": "stream",
          "text": [
            "\n",
            "Acurácia:\t0.66\n",
            "Kappa:\t\t0.53\n",
            "\n"
          ]
        }
      ],
      "source": [
        "matriz_confusao(y_test_predicted_knn_indexes, y_test_indexes,list(modelo_label.inverse_transform([0, 1,2,3,4])))\n",
        "print_indicadores(y_test_predicted_knn_indexes, y_test)"
      ]
    },
    {
      "cell_type": "markdown",
      "metadata": {
        "id": "TRORRanA14go"
      },
      "source": [
        "# 7 Aplicando os modelos ao MLCQ estendido com CK"
      ]
    },
    {
      "cell_type": "markdown",
      "metadata": {
        "id": "UkGRsnD54mZt"
      },
      "source": [
        "## 7.1 Conferindo o dataset"
      ]
    },
    {
      "cell_type": "code",
      "execution_count": 103,
      "metadata": {
        "id": "uzhu0Uls1-e7"
      },
      "outputs": [],
      "source": [
        "df = dataset"
      ]
    },
    {
      "cell_type": "code",
      "execution_count": 104,
      "metadata": {
        "colab": {
          "base_uri": "https://localhost:8080/"
        },
        "id": "OSNpxpEt1MT7",
        "outputId": "fe35115d-8441-420c-be46-1b6b889e372f"
      },
      "outputs": [
        {
          "data": {
            "text/plain": [
              "Index(['index', 'reviewer', 'lines', 'num_commits', 'cboModified', 'fanin',\n",
              "       'fanout', 'wmc', 'rfc', 'loc', 'returnsQty', 'loopQty',\n",
              "       'comparisonsQty', 'tryCatchQty', 'parenthesizedExpsQty',\n",
              "       'stringLiteralsQty', 'numbersQty', 'assignmentsQty',\n",
              "       'mathOperationsQty', 'variablesQty', 'maxNestedBlocksQty',\n",
              "       'anonymousClassesQty', 'innerClassesQty', 'lambdasQty',\n",
              "       'uniqueWordsQty', 'modifiers', 'logStatementsQty', 'cod_severity',\n",
              "       'cod_relevant', 'label', 'cod_type', 'hora', 'cod_hora',\n",
              "       'cod_reviewer'],\n",
              "      dtype='object')"
            ]
          },
          "execution_count": 104,
          "metadata": {},
          "output_type": "execute_result"
        }
      ],
      "source": [
        "df.columns"
      ]
    },
    {
      "cell_type": "code",
      "execution_count": 105,
      "metadata": {
        "colab": {
          "base_uri": "https://localhost:8080/"
        },
        "id": "L9kAsd-wH184",
        "outputId": "84556341-901e-4dc8-8da6-f4c3d925edde"
      },
      "outputs": [
        {
          "data": {
            "text/plain": [
              "(2720, 34)"
            ]
          },
          "execution_count": 105,
          "metadata": {},
          "output_type": "execute_result"
        }
      ],
      "source": [
        "df.shape"
      ]
    },
    {
      "cell_type": "markdown",
      "metadata": {
        "id": "biMbZm5YFU8D"
      },
      "source": [
        "**1 atributos que serão removidos, pois nao contribuem:**\n",
        "\n",
        "\n",
        "remover = ['file','class','synchronizedFieldsQty','method','constructor','line','hasJavaDoc','clean_method','_merge','hora'"
      ]
    },
    {
      "cell_type": "code",
      "execution_count": null,
      "metadata": {
        "id": "x5eChZa_GZ4F"
      },
      "outputs": [],
      "source": [
        "#remover = ['file','class','synchronizedFieldsQty','method','constructor','line','hasJavaDoc','clean_method','_merge','hora','type_ck','link']\n",
        "#df = df.drop(columns = remover)\n",
        "#df.shape"
      ]
    },
    {
      "cell_type": "markdown",
      "metadata": {
        "id": "9LVU2m02FgZc"
      },
      "source": [
        "** 2) Atributos que serão removidos por alta quantidade de nan**\n",
        "\n",
        "\n",
        "remover por nan: ['dit','noc','lcom']"
      ]
    },
    {
      "cell_type": "code",
      "execution_count": null,
      "metadata": {
        "id": "jHiB7DdwGawg"
      },
      "outputs": [],
      "source": [
        "#remover = ['dit','noc','lcom']\n",
        "#df = df.drop(columns = remover)\n",
        "#df.shape\n"
      ]
    },
    {
      "cell_type": "markdown",
      "metadata": {
        "id": "EAcGBumvn3xy"
      },
      "source": [
        "remover os 3 atributos que tem nan:\n",
        "lcom*: 20\n",
        "tcc: 257\n",
        "lcc: 257\n"
      ]
    },
    {
      "cell_type": "code",
      "execution_count": null,
      "metadata": {
        "id": "FPmqhZkBoCO0"
      },
      "outputs": [],
      "source": [
        "#remover = ['lcom*','tcc','lcc']\n",
        "#df = df.drop(columns = remover)\n",
        "#df.shape\n"
      ]
    },
    {
      "cell_type": "markdown",
      "metadata": {
        "id": "j6mYWh8BFuOD"
      },
      "source": [
        "** 3 - atributos que podem ser mantidos substituindo nan por 0\n",
        "\n",
        "Sao atributos de Methods que nao se aplicam para classes\n",
        "\n",
        "'totalMethodsQty','staticMethodsQty','publicMethodsQty','privateMethodsQty','protectedMethodsQty','defaultMethodsQty','visibleMethodsQty',\n",
        "                     'abstractMethodsQty','finalMethodsQty','synchronizedMethodsQty','totalFieldsQty','staticFieldsQty',\n",
        "                     'publicFieldsQty','privateFieldsQty','protectedFieldsQty','defaultFieldsQty','finalFieldsQty','nosi','parametersQty', 'methodsInvokedQty',\n",
        "                     'methodsInvokedLocalQty','methodsInvokedIndirectLocalQty'\n"
      ]
    },
    {
      "cell_type": "markdown",
      "metadata": {
        "id": "6GhWwFoGIqJO"
      },
      "source": [
        "**Neste primeiro teste serao removidos**"
      ]
    },
    {
      "cell_type": "code",
      "execution_count": null,
      "metadata": {
        "id": "eQveLmItGb4n"
      },
      "outputs": [],
      "source": [
        "#remover = ['totalMethodsQty','staticMethodsQty','publicMethodsQty','privateMethodsQty','protectedMethodsQty','defaultMethodsQty','visibleMethodsQty', 'abstractMethodsQty','finalMethodsQty','synchronizedMethodsQty','totalFieldsQty','staticFieldsQty', 'publicFieldsQty','privateFieldsQty','protectedFieldsQty','defaultFieldsQty','finalFieldsQty','nosi','parametersQty', 'methodsInvokedQty', 'methodsInvokedLocalQty','methodsInvokedIndirectLocalQty']\n",
        "#df = df.drop(columns = remover)\n",
        "#df.shape"
      ]
    },
    {
      "cell_type": "markdown",
      "metadata": {
        "id": "3DwNrPiDF5jY"
      },
      "source": [
        "** 4 - Atributos que devem ser mantidos**\n",
        "\n",
        "manter = ['cob','cboModified','fanin','fanout','wmc','rfc','loc','returnsQty','loopQty','comparisonsQty','tryCatchQty',\n",
        "          'parenthesizedExpsQty','stringLiteralsQty','numbersQty', 'assignmentsQty','mathOperationsQty','variablesQty', \n",
        "          'maxNestedBlocksQty','anonymousClassesQty', 'innerClassesQty','lambdasQty','uniqueWordsQty','modifiers',\n",
        "          'logStatementsQty']"
      ]
    },
    {
      "cell_type": "markdown",
      "metadata": {
        "id": "mNP9rdawLWKw"
      },
      "source": [
        "** 5 - Atributos do MLCQ que devem ser removidos\n",
        "\n",
        "commit_hash,sample_id, smell, severity,review_timestamp, code_name repository, path, relevant, type_ck, "
      ]
    },
    {
      "cell_type": "code",
      "execution_count": 106,
      "metadata": {
        "colab": {
          "base_uri": "https://localhost:8080/"
        },
        "id": "DMyapEM_SmFc",
        "outputId": "b51578b4-6047-426b-e03a-c7f1caff236c"
      },
      "outputs": [
        {
          "name": "stdout",
          "output_type": "stream",
          "text": [
            "index: 0 \n",
            "reviewer: 0 \n",
            "lines: 0 \n",
            "num_commits: 0 \n",
            "cboModified: 0 \n",
            "fanin: 0 \n",
            "fanout: 0 \n",
            "wmc: 0 \n",
            "rfc: 0 \n",
            "loc: 0 \n",
            "returnsQty: 0 \n",
            "loopQty: 0 \n",
            "comparisonsQty: 0 \n",
            "tryCatchQty: 0 \n",
            "parenthesizedExpsQty: 0 \n",
            "stringLiteralsQty: 0 \n",
            "numbersQty: 0 \n",
            "assignmentsQty: 0 \n",
            "mathOperationsQty: 0 \n",
            "variablesQty: 0 \n",
            "maxNestedBlocksQty: 0 \n",
            "anonymousClassesQty: 0 \n",
            "innerClassesQty: 0 \n",
            "lambdasQty: 0 \n",
            "uniqueWordsQty: 0 \n",
            "modifiers: 0 \n",
            "logStatementsQty: 0 \n",
            "cod_severity: 0 \n",
            "cod_relevant: 0 \n",
            "label: 0 \n",
            "cod_type: 0 \n",
            "hora: 0 \n",
            "cod_hora: 0 \n",
            "cod_reviewer: 0 \n"
          ]
        }
      ],
      "source": [
        "##Quantidade de NAN\n",
        "for col in df.columns:\n",
        "    cont = df[col].isna().sum()\n",
        "    print(f'{col}: {cont} ')"
      ]
    },
    {
      "cell_type": "code",
      "execution_count": 107,
      "metadata": {
        "id": "UlML4XoyqZ-5"
      },
      "outputs": [],
      "source": [
        "df.drop(columns='reviewer',inplace=True)\n",
        "df.drop(columns='index',inplace=True)\n",
        "df.drop(columns='hora',inplace=True)\n",
        "\n"
      ]
    },
    {
      "cell_type": "code",
      "execution_count": 108,
      "metadata": {
        "colab": {
          "base_uri": "https://localhost:8080/"
        },
        "id": "OlhMeMO_SuHK",
        "outputId": "61b0d44b-07da-4438-894e-e64feee7af3c"
      },
      "outputs": [
        {
          "name": "stdout",
          "output_type": "stream",
          "text": [
            "lines: 0 \n",
            "num_commits: 0 \n",
            "cboModified: 0 \n",
            "fanin: 0 \n",
            "fanout: 0 \n",
            "wmc: 0 \n",
            "rfc: 0 \n",
            "loc: 0 \n",
            "returnsQty: 0 \n",
            "loopQty: 0 \n",
            "comparisonsQty: 0 \n",
            "tryCatchQty: 0 \n",
            "parenthesizedExpsQty: 0 \n",
            "stringLiteralsQty: 0 \n",
            "numbersQty: 0 \n",
            "assignmentsQty: 0 \n",
            "mathOperationsQty: 0 \n",
            "variablesQty: 0 \n",
            "maxNestedBlocksQty: 0 \n",
            "anonymousClassesQty: 0 \n",
            "innerClassesQty: 0 \n",
            "lambdasQty: 0 \n",
            "uniqueWordsQty: 0 \n",
            "modifiers: 0 \n",
            "logStatementsQty: 0 \n",
            "cod_severity: 0 \n",
            "cod_relevant: 0 \n",
            "label: 0 \n",
            "cod_type: 0 \n",
            "cod_hora: 0 \n",
            "cod_reviewer: 0 \n"
          ]
        }
      ],
      "source": [
        "##Quantidade de 'none' que tinha\n",
        "for col in df.columns:\n",
        "    cont = (df[col]=='NONE').sum()\n",
        "    print(f'{col}: {cont} ')"
      ]
    },
    {
      "cell_type": "code",
      "execution_count": 109,
      "metadata": {
        "colab": {
          "base_uri": "https://localhost:8080/"
        },
        "id": "YBQNWvWpUFyd",
        "outputId": "726e1bdb-2699-4ebd-828f-caec533aeed2"
      },
      "outputs": [
        {
          "name": "stdout",
          "output_type": "stream",
          "text": [
            "31\n",
            "31\n"
          ]
        }
      ],
      "source": [
        "# confirmando que todas as colunas sao numericas\n",
        "print(len(df.describe().columns))\n",
        "print(len(df.columns))"
      ]
    },
    {
      "cell_type": "markdown",
      "metadata": {
        "id": "vr1nG2GGfzH2"
      },
      "source": [
        "## 7.2 Dividindo treinamento/teste"
      ]
    },
    {
      "cell_type": "code",
      "execution_count": 110,
      "metadata": {
        "id": "rLxyry5Wf0Na"
      },
      "outputs": [],
      "source": [
        "# ainda sem conjunto de validacao\n",
        "from sklearn.model_selection import train_test_split\n",
        "x_train, x_test, y_train, y_test = train_test_split(df.loc[:,df.columns != 'label'], \n",
        "                                                    df['label'], test_size=0.2, \n",
        "                                                    stratify=df.label)\n"
      ]
    },
    {
      "cell_type": "code",
      "execution_count": 111,
      "metadata": {
        "colab": {
          "base_uri": "https://localhost:8080/"
        },
        "id": "yiBOp5G6h-uX",
        "outputId": "3a68eb31-5885-4890-c937-b03e372f8697"
      },
      "outputs": [
        {
          "name": "stdout",
          "output_type": "stream",
          "text": [
            "(2176, 30)\n",
            "(544, 30)\n",
            "(2176,)\n",
            "(544,)\n"
          ]
        }
      ],
      "source": [
        "print(x_train.shape)\n",
        "print(x_test.shape)\n",
        "print(y_train.shape)\n",
        "print(y_test.shape)"
      ]
    },
    {
      "cell_type": "code",
      "execution_count": 112,
      "metadata": {
        "id": "Foxqdu1WiFw7"
      },
      "outputs": [],
      "source": [
        "# Scaling the Train and Test feature set \n",
        "#from sklearn.preprocessing import StandardScaler\n",
        "#scaler = StandardScaler()\n",
        "\n",
        "from sklearn.preprocessing import MinMaxScaler\n",
        "scaler = MinMaxScaler()\n",
        "x_train_scaled = scaler.fit_transform(x_train)\n",
        "x_test_scaled = scaler.transform(x_test)"
      ]
    },
    {
      "cell_type": "markdown",
      "metadata": {
        "id": "GMw32I3UiSBO"
      },
      "source": [
        "## A) - KNN com gridsearch"
      ]
    },
    {
      "cell_type": "code",
      "execution_count": 113,
      "metadata": {
        "id": "r8gvrsBbiTJA"
      },
      "outputs": [],
      "source": [
        "#Import knearest neighbors Classifier model\n",
        "from sklearn.neighbors import KNeighborsClassifier\n",
        "from sklearn.metrics import confusion_matrix"
      ]
    },
    {
      "cell_type": "code",
      "execution_count": 114,
      "metadata": {
        "id": "C66RUoeHiWX0"
      },
      "outputs": [],
      "source": [
        "from sklearn.model_selection import GridSearchCV\n",
        "grid_params = {\n",
        "    'n_neighbors': [25,28,30,32,35,38,40],\n",
        "    'weights' : ['uniform','distance'],\n",
        "    'metric'  : ['euclidean','manhattan']\n",
        "}"
      ]
    },
    {
      "cell_type": "code",
      "execution_count": 115,
      "metadata": {
        "id": "KxXExVEEiYXK"
      },
      "outputs": [],
      "source": [
        "gs = GridSearchCV(KNeighborsClassifier(),grid_params,verbose = 1, cv = 3, n_jobs = -1)\n"
      ]
    },
    {
      "cell_type": "code",
      "execution_count": 116,
      "metadata": {
        "colab": {
          "base_uri": "https://localhost:8080/"
        },
        "id": "BCtwDmBXiaRB",
        "outputId": "192b8c48-7f26-4028-b4b9-be2627f24e93"
      },
      "outputs": [
        {
          "name": "stdout",
          "output_type": "stream",
          "text": [
            "Fitting 3 folds for each of 28 candidates, totalling 84 fits\n"
          ]
        }
      ],
      "source": [
        "knn = gs.fit(x_train_scaled, y_train)"
      ]
    },
    {
      "cell_type": "code",
      "execution_count": 117,
      "metadata": {
        "colab": {
          "base_uri": "https://localhost:8080/"
        },
        "id": "FgPGH1eDicG4",
        "outputId": "6e1afb83-65f2-46e2-9702-e16a4d743c0b"
      },
      "outputs": [
        {
          "name": "stdout",
          "output_type": "stream",
          "text": [
            "Melhor modelo:  0.793197808809094\n",
            "Hiperparametros:{'metric': 'manhattan', 'n_neighbors': 25, 'weights': 'uniform'}\n",
            "Estimators:     KNeighborsClassifier(metric='manhattan', n_neighbors=25)\n",
            "Id:             14\n"
          ]
        }
      ],
      "source": [
        "## imprimindo informacoes do fit\n",
        "print(f'Melhor modelo:  {knn.best_score_}')\n",
        "print(f'Hiperparametros:{knn.best_params_}')\n",
        "print(f'Estimators:     {knn.best_estimator_}')\n",
        "print(f'Id:             {knn.best_index_}')\n"
      ]
    },
    {
      "cell_type": "code",
      "execution_count": 118,
      "metadata": {
        "id": "N16txUiCifjn"
      },
      "outputs": [],
      "source": [
        "final_model = knn.best_estimator_"
      ]
    },
    {
      "cell_type": "code",
      "execution_count": 119,
      "metadata": {
        "id": "QC7iXNCyigL6"
      },
      "outputs": [],
      "source": [
        "y_test_predicted_knn = final_model.predict(x_test_scaled)\n",
        "y_test_predicted_knn_indexes = y_test_predicted_knn\n",
        "y_test_indexes = y_test.values"
      ]
    },
    {
      "cell_type": "code",
      "execution_count": 120,
      "metadata": {
        "colab": {
          "base_uri": "https://localhost:8080/",
          "height": 295
        },
        "id": "XAfNoL7IiiXR",
        "outputId": "00e10a81-bc33-47d1-c0af-7ee2ecb669a2"
      },
      "outputs": [
        {
          "data": {
            "image/png": "[encoded data removed]",
            "text/plain": [
              "<Figure size 640x480 with 2 Axes>"
            ]
          },
          "metadata": {},
          "output_type": "display_data"
        }
      ],
      "source": [
        "matriz_confusao(y_test_predicted_knn_indexes, y_test_indexes,list(modelo_label.inverse_transform([0,1,2,3,4])))\n"
      ]
    },
    {
      "cell_type": "code",
      "execution_count": 121,
      "metadata": {
        "colab": {
          "base_uri": "https://localhost:8080/"
        },
        "id": "HUTVevj8ikIS",
        "outputId": "30c8706f-d25f-4086-a1b3-db96e50e34e1"
      },
      "outputs": [
        {
          "name": "stdout",
          "output_type": "stream",
          "text": [
            "\n",
            "Acurácia:\t0.79\n",
            "Kappa:\t\t0.72\n",
            "\n"
          ]
        }
      ],
      "source": [
        "print_indicadores(y_test_predicted_knn_indexes, y_test_indexes)"
      ]
    },
    {
      "cell_type": "markdown",
      "metadata": {
        "id": "77Pu1YjMk4Ds"
      },
      "source": [
        "## B)  RF com grid search"
      ]
    },
    {
      "cell_type": "code",
      "execution_count": 122,
      "metadata": {
        "id": "9GatSSn1kBwo"
      },
      "outputs": [],
      "source": [
        "from sklearn.ensemble import RandomForestClassifier\n",
        "from sklearn.metrics import confusion_matrix\n",
        "grid_params = {\n",
        "    'min_samples_leaf': [10,15,20,25]\n",
        "}"
      ]
    },
    {
      "cell_type": "code",
      "execution_count": 123,
      "metadata": {
        "id": "yXkQJxdWk9fQ"
      },
      "outputs": [],
      "source": [
        "gs = GridSearchCV(RandomForestClassifier(random_state=seed),grid_params,verbose = 1, cv = 3, n_jobs = -1)"
      ]
    },
    {
      "cell_type": "code",
      "execution_count": 124,
      "metadata": {
        "colab": {
          "base_uri": "https://localhost:8080/"
        },
        "id": "TixdCablk_Z6",
        "outputId": "78282179-7651-4733-a60b-975e937e2b2e"
      },
      "outputs": [
        {
          "name": "stdout",
          "output_type": "stream",
          "text": [
            "Fitting 3 folds for each of 4 candidates, totalling 12 fits\n"
          ]
        }
      ],
      "source": [
        "RF = gs.fit(x_train, y_train)"
      ]
    },
    {
      "cell_type": "code",
      "execution_count": 125,
      "metadata": {
        "colab": {
          "base_uri": "https://localhost:8080/"
        },
        "id": "DWXN_kfj5b9G",
        "outputId": "93c1ef51-b15e-4118-dbd5-802b0c10e4b3"
      },
      "outputs": [
        {
          "name": "stdout",
          "output_type": "stream",
          "text": [
            "Melhor modelo:  0.8235255375067286\n",
            "Hiperparametros:{'min_samples_leaf': 10}\n",
            "Estimators:     RandomForestClassifier(min_samples_leaf=10, random_state=10)\n",
            "Id:             0\n"
          ]
        }
      ],
      "source": [
        "## imprimindo informacoes do fit\n",
        "print(f'Melhor modelo:  {RF.best_score_}')\n",
        "print(f'Hiperparametros:{RF.best_params_}')\n",
        "print(f'Estimators:     {RF.best_estimator_}')\n",
        "print(f'Id:             {RF.best_index_}')"
      ]
    },
    {
      "cell_type": "code",
      "execution_count": 126,
      "metadata": {
        "id": "ZLNFbJVZlBPp"
      },
      "outputs": [],
      "source": [
        "final_model = RF.best_estimator_"
      ]
    },
    {
      "cell_type": "code",
      "execution_count": 127,
      "metadata": {
        "id": "yPkO8haOlGwR"
      },
      "outputs": [],
      "source": [
        "# Predição\n",
        "# aplicando o modelo na base de teste\n",
        "y_test_predicted_RF = final_model.predict(x_test)\n",
        "y_test_predicted_RF_indexes = y_test_predicted_RF\n",
        "y_test_indexes = y_test.values"
      ]
    },
    {
      "cell_type": "code",
      "execution_count": 173,
      "metadata": {},
      "outputs": [
        {
          "data": {
            "image/png": "[encoded data removed]",
            "text/plain": [
              "<Figure size 640x480 with 2 Axes>"
            ]
          },
          "metadata": {},
          "output_type": "display_data"
        }
      ],
      "source": [
        "# VERSAO PARA O ARTIGO\n",
        "#lista = list(modelo_label.inverse_transform([0, 1, 2, 3, 4]))\n",
        "lista = ['blob', 'd. class', 'f. envy', 'l. method', 'none']\n",
        "matriz_confusao(y_test_predicted_RF_indexes, y_test_indexes,lista)"
      ]
    },
    {
      "cell_type": "code",
      "execution_count": 128,
      "metadata": {
        "colab": {
          "base_uri": "https://localhost:8080/",
          "height": 295
        },
        "id": "AN9ysdO5lHYV",
        "outputId": "3a276028-759d-4bcc-de9a-72c2a5491dbf"
      },
      "outputs": [
        {
          "data": {
            "image/png": "[encoded data removed]",
            "text/plain": [
              "<Figure size 640x480 with 2 Axes>"
            ]
          },
          "metadata": {},
          "output_type": "display_data"
        }
      ],
      "source": [
        "matriz_confusao(y_test_predicted_RF_indexes, y_test_indexes,list(modelo_label.inverse_transform([0, 1, 2, 3, 4])))"
      ]
    },
    {
      "cell_type": "code",
      "execution_count": 129,
      "metadata": {
        "colab": {
          "base_uri": "https://localhost:8080/"
        },
        "id": "v3fDJh77lJrt",
        "outputId": "4d9d7fa8-aaea-40e1-f54f-59a6d64cb723"
      },
      "outputs": [
        {
          "name": "stdout",
          "output_type": "stream",
          "text": [
            "\n",
            "Acurácia:\t0.85\n",
            "Kappa:\t\t0.79\n",
            "\n"
          ]
        }
      ],
      "source": [
        "print_indicadores(y_test_predicted_RF_indexes, y_test_indexes)"
      ]
    },
    {
      "cell_type": "markdown",
      "metadata": {
        "id": "3bqJh2t0mdBt"
      },
      "source": [
        "## D) Regressao Logistica"
      ]
    },
    {
      "cell_type": "code",
      "execution_count": 130,
      "metadata": {
        "id": "Ir5R8IIPmfqp"
      },
      "outputs": [],
      "source": [
        "#x_train_scaled = scaler.fit_transform(x_train)\n",
        "#x_test_scaled = scaler.transform(x_test)\n",
        "\n",
        "from sklearn.linear_model import LogisticRegression\n",
        "random_state = 10"
      ]
    },
    {
      "cell_type": "code",
      "execution_count": 131,
      "metadata": {
        "colab": {
          "base_uri": "https://localhost:8080/"
        },
        "id": "mPbQrxzvmjXK",
        "outputId": "3cdedbe2-bdaa-4a44-cf35-2fb2f80bdf0d"
      },
      "outputs": [
        {
          "data": {
            "text/html": [
              "<style>#sk-container-id-2 {color: black;background-color: white;}#sk-container-id-2 pre{padding: 0;}#sk-container-id-2 div.sk-toggleable {background-color: white;}#sk-container-id-2 label.sk-toggleable__label {cursor: pointer;display: block;width: 100%;margin-bottom: 0;padding: 0.3em;box-sizing: border-box;text-align: center;}#sk-container-id-2 label.sk-toggleable__label-arrow:before {content: \"▸\";float: left;margin-right: 0.25em;color: #696969;}#sk-container-id-2 label.sk-toggleable__label-arrow:hover:before {color: black;}#sk-container-id-2 div.sk-estimator:hover label.sk-toggleable__label-arrow:before {color: black;}#sk-container-id-2 div.sk-toggleable__content {max-height: 0;max-width: 0;overflow: hidden;text-align: left;background-color: #f0f8ff;}#sk-container-id-2 div.sk-toggleable__content pre {margin: 0.2em;color: black;border-radius: 0.25em;background-color: #f0f8ff;}#sk-container-id-2 input.sk-toggleable__control:checked~div.sk-toggleable__content {max-height: 200px;max-width: 100%;overflow: auto;}#sk-container-id-2 input.sk-toggleable__control:checked~label.sk-toggleable__label-arrow:before {content: \"▾\";}#sk-container-id-2 div.sk-estimator input.sk-toggleable__control:checked~label.sk-toggleable__label {background-color: #d4ebff;}#sk-container-id-2 div.sk-label input.sk-toggleable__control:checked~label.sk-toggleable__label {background-color: #d4ebff;}#sk-container-id-2 input.sk-hidden--visually {border: 0;clip: rect(1px 1px 1px 1px);clip: rect(1px, 1px, 1px, 1px);height: 1px;margin: -1px;overflow: hidden;padding: 0;position: absolute;width: 1px;}#sk-container-id-2 div.sk-estimator {font-family: monospace;background-color: #f0f8ff;border: 1px dotted black;border-radius: 0.25em;box-sizing: border-box;margin-bottom: 0.5em;}#sk-container-id-2 div.sk-estimator:hover {background-color: #d4ebff;}#sk-container-id-2 div.sk-parallel-item::after {content: \"\";width: 100%;border-bottom: 1px solid gray;flex-grow: 1;}#sk-container-id-2 div.sk-label:hover label.sk-toggleable__label {background-color: #d4ebff;}#sk-container-id-2 div.sk-serial::before {content: \"\";position: absolute;border-left: 1px solid gray;box-sizing: border-box;top: 0;bottom: 0;left: 50%;z-index: 0;}#sk-container-id-2 div.sk-serial {display: flex;flex-direction: column;align-items: center;background-color: white;padding-right: 0.2em;padding-left: 0.2em;position: relative;}#sk-container-id-2 div.sk-item {position: relative;z-index: 1;}#sk-container-id-2 div.sk-parallel {display: flex;align-items: stretch;justify-content: center;background-color: white;position: relative;}#sk-container-id-2 div.sk-item::before, #sk-container-id-2 div.sk-parallel-item::before {content: \"\";position: absolute;border-left: 1px solid gray;box-sizing: border-box;top: 0;bottom: 0;left: 50%;z-index: -1;}#sk-container-id-2 div.sk-parallel-item {display: flex;flex-direction: column;z-index: 1;position: relative;background-color: white;}#sk-container-id-2 div.sk-parallel-item:first-child::after {align-self: flex-end;width: 50%;}#sk-container-id-2 div.sk-parallel-item:last-child::after {align-self: flex-start;width: 50%;}#sk-container-id-2 div.sk-parallel-item:only-child::after {width: 0;}#sk-container-id-2 div.sk-dashed-wrapped {border: 1px dashed gray;margin: 0 0.4em 0.5em 0.4em;box-sizing: border-box;padding-bottom: 0.4em;background-color: white;}#sk-container-id-2 div.sk-label label {font-family: monospace;font-weight: bold;display: inline-block;line-height: 1.2em;}#sk-container-id-2 div.sk-label-container {text-align: center;}#sk-container-id-2 div.sk-container {/* jupyter's `normalize.less` sets `[hidden] { display: none; }` but bootstrap.min.css set `[hidden] { display: none !important; }` so we also need the `!important` here to be able to override the default hidden behavior on the sphinx rendered scikit-learn.org. See: https://github.com/scikit-learn/scikit-learn/issues/21755 */display: inline-block !important;position: relative;}#sk-container-id-2 div.sk-text-repr-fallback {display: none;}</style><div id=\"sk-container-id-2\" class=\"sk-top-container\"><div class=\"sk-text-repr-fallback\"><pre>LogisticRegression(random_state=10)</pre><b>In a Jupyter environment, please rerun this cell to show the HTML representation or trust the notebook. <br />On GitHub, the HTML representation is unable to render, please try loading this page with nbviewer.org.</b></div><div class=\"sk-container\" hidden><div class=\"sk-item\"><div class=\"sk-estimator sk-toggleable\"><input class=\"sk-toggleable__control sk-hidden--visually\" id=\"sk-estimator-id-4\" type=\"checkbox\" checked><label for=\"sk-estimator-id-4\" class=\"sk-toggleable__label sk-toggleable__label-arrow\">LogisticRegression</label><div class=\"sk-toggleable__content\"><pre>LogisticRegression(random_state=10)</pre></div></div></div></div></div>"
            ],
            "text/plain": [
              "LogisticRegression(random_state=10)"
            ]
          },
          "execution_count": 131,
          "metadata": {},
          "output_type": "execute_result"
        }
      ],
      "source": [
        "LR = LogisticRegression(random_state=random_state)\n",
        "LR.fit(x_train_scaled, y_train)"
      ]
    },
    {
      "cell_type": "code",
      "execution_count": 132,
      "metadata": {
        "id": "iVv4owWNmkLO"
      },
      "outputs": [],
      "source": [
        "y_test_predicted_LR = LR.predict(x_test_scaled)\n",
        "y_test_predicted_LR_indexes = y_test_predicted_LR\n",
        "y_test_indexes = y_test.values"
      ]
    },
    {
      "cell_type": "code",
      "execution_count": 133,
      "metadata": {
        "colab": {
          "base_uri": "https://localhost:8080/",
          "height": 295
        },
        "id": "G0gMm_s4mooV",
        "outputId": "0806e551-408a-4072-823c-beeb4d1b9484"
      },
      "outputs": [
        {
          "data": {
            "image/png": "[encoded data removed]",
            "text/plain": [
              "<Figure size 640x480 with 2 Axes>"
            ]
          },
          "metadata": {},
          "output_type": "display_data"
        }
      ],
      "source": [
        "matriz_confusao(y_test_predicted_LR_indexes, y_test_indexes,list(modelo_label.inverse_transform([0, 1, 2, 3, 4])))"
      ]
    },
    {
      "cell_type": "code",
      "execution_count": 134,
      "metadata": {
        "colab": {
          "base_uri": "https://localhost:8080/"
        },
        "id": "3a4LN2oNmpTm",
        "outputId": "1030a1ae-8d1e-4a58-9720-8743357e58a4"
      },
      "outputs": [
        {
          "name": "stdout",
          "output_type": "stream",
          "text": [
            "\n",
            "Acurácia:\t0.81\n",
            "Kappa:\t\t0.75\n",
            "\n"
          ]
        }
      ],
      "source": [
        "print_indicadores(y_test_predicted_LR_indexes, y_test)\n",
        "\n"
      ]
    },
    {
      "cell_type": "markdown",
      "metadata": {
        "id": "4p89HTBHpIQZ"
      },
      "source": [
        "## E) SVM - Classificacao - Com Grid Search"
      ]
    },
    {
      "cell_type": "code",
      "execution_count": 135,
      "metadata": {
        "id": "PiaN5tVepLTk"
      },
      "outputs": [],
      "source": [
        "from sklearn.svm import SVC"
      ]
    },
    {
      "cell_type": "code",
      "execution_count": 136,
      "metadata": {
        "id": "nUpxKe7zpNKN"
      },
      "outputs": [],
      "source": [
        "\n",
        "params_grid = [{'kernel': ['rbf'], 'gamma': [1e-3, 1e-4],\n",
        "                     'C': [100, 1000,1200,1300]},\n",
        "                    {'kernel': ['linear'], 'C': [1000, 1200, 1500, 2000]}]\n"
      ]
    },
    {
      "cell_type": "code",
      "execution_count": 137,
      "metadata": {
        "colab": {
          "base_uri": "https://localhost:8080/"
        },
        "id": "440zs1LFpPTU",
        "outputId": "de456263-9885-425c-d540-483b52a97de1"
      },
      "outputs": [
        {
          "data": {
            "text/html": [
              "<style>#sk-container-id-3 {color: black;background-color: white;}#sk-container-id-3 pre{padding: 0;}#sk-container-id-3 div.sk-toggleable {background-color: white;}#sk-container-id-3 label.sk-toggleable__label {cursor: pointer;display: block;width: 100%;margin-bottom: 0;padding: 0.3em;box-sizing: border-box;text-align: center;}#sk-container-id-3 label.sk-toggleable__label-arrow:before {content: \"▸\";float: left;margin-right: 0.25em;color: #696969;}#sk-container-id-3 label.sk-toggleable__label-arrow:hover:before {color: black;}#sk-container-id-3 div.sk-estimator:hover label.sk-toggleable__label-arrow:before {color: black;}#sk-container-id-3 div.sk-toggleable__content {max-height: 0;max-width: 0;overflow: hidden;text-align: left;background-color: #f0f8ff;}#sk-container-id-3 div.sk-toggleable__content pre {margin: 0.2em;color: black;border-radius: 0.25em;background-color: #f0f8ff;}#sk-container-id-3 input.sk-toggleable__control:checked~div.sk-toggleable__content {max-height: 200px;max-width: 100%;overflow: auto;}#sk-container-id-3 input.sk-toggleable__control:checked~label.sk-toggleable__label-arrow:before {content: \"▾\";}#sk-container-id-3 div.sk-estimator input.sk-toggleable__control:checked~label.sk-toggleable__label {background-color: #d4ebff;}#sk-container-id-3 div.sk-label input.sk-toggleable__control:checked~label.sk-toggleable__label {background-color: #d4ebff;}#sk-container-id-3 input.sk-hidden--visually {border: 0;clip: rect(1px 1px 1px 1px);clip: rect(1px, 1px, 1px, 1px);height: 1px;margin: -1px;overflow: hidden;padding: 0;position: absolute;width: 1px;}#sk-container-id-3 div.sk-estimator {font-family: monospace;background-color: #f0f8ff;border: 1px dotted black;border-radius: 0.25em;box-sizing: border-box;margin-bottom: 0.5em;}#sk-container-id-3 div.sk-estimator:hover {background-color: #d4ebff;}#sk-container-id-3 div.sk-parallel-item::after {content: \"\";width: 100%;border-bottom: 1px solid gray;flex-grow: 1;}#sk-container-id-3 div.sk-label:hover label.sk-toggleable__label {background-color: #d4ebff;}#sk-container-id-3 div.sk-serial::before {content: \"\";position: absolute;border-left: 1px solid gray;box-sizing: border-box;top: 0;bottom: 0;left: 50%;z-index: 0;}#sk-container-id-3 div.sk-serial {display: flex;flex-direction: column;align-items: center;background-color: white;padding-right: 0.2em;padding-left: 0.2em;position: relative;}#sk-container-id-3 div.sk-item {position: relative;z-index: 1;}#sk-container-id-3 div.sk-parallel {display: flex;align-items: stretch;justify-content: center;background-color: white;position: relative;}#sk-container-id-3 div.sk-item::before, #sk-container-id-3 div.sk-parallel-item::before {content: \"\";position: absolute;border-left: 1px solid gray;box-sizing: border-box;top: 0;bottom: 0;left: 50%;z-index: -1;}#sk-container-id-3 div.sk-parallel-item {display: flex;flex-direction: column;z-index: 1;position: relative;background-color: white;}#sk-container-id-3 div.sk-parallel-item:first-child::after {align-self: flex-end;width: 50%;}#sk-container-id-3 div.sk-parallel-item:last-child::after {align-self: flex-start;width: 50%;}#sk-container-id-3 div.sk-parallel-item:only-child::after {width: 0;}#sk-container-id-3 div.sk-dashed-wrapped {border: 1px dashed gray;margin: 0 0.4em 0.5em 0.4em;box-sizing: border-box;padding-bottom: 0.4em;background-color: white;}#sk-container-id-3 div.sk-label label {font-family: monospace;font-weight: bold;display: inline-block;line-height: 1.2em;}#sk-container-id-3 div.sk-label-container {text-align: center;}#sk-container-id-3 div.sk-container {/* jupyter's `normalize.less` sets `[hidden] { display: none; }` but bootstrap.min.css set `[hidden] { display: none !important; }` so we also need the `!important` here to be able to override the default hidden behavior on the sphinx rendered scikit-learn.org. See: https://github.com/scikit-learn/scikit-learn/issues/21755 */display: inline-block !important;position: relative;}#sk-container-id-3 div.sk-text-repr-fallback {display: none;}</style><div id=\"sk-container-id-3\" class=\"sk-top-container\"><div class=\"sk-text-repr-fallback\"><pre>GridSearchCV(cv=5, estimator=SVC(),\n",
              "             param_grid=[{&#x27;C&#x27;: [100, 1000, 1200, 1300],\n",
              "                          &#x27;gamma&#x27;: [0.001, 0.0001], &#x27;kernel&#x27;: [&#x27;rbf&#x27;]},\n",
              "                         {&#x27;C&#x27;: [1000, 1200, 1500, 2000], &#x27;kernel&#x27;: [&#x27;linear&#x27;]}])</pre><b>In a Jupyter environment, please rerun this cell to show the HTML representation or trust the notebook. <br />On GitHub, the HTML representation is unable to render, please try loading this page with nbviewer.org.</b></div><div class=\"sk-container\" hidden><div class=\"sk-item sk-dashed-wrapped\"><div class=\"sk-label-container\"><div class=\"sk-label sk-toggleable\"><input class=\"sk-toggleable__control sk-hidden--visually\" id=\"sk-estimator-id-5\" type=\"checkbox\" ><label for=\"sk-estimator-id-5\" class=\"sk-toggleable__label sk-toggleable__label-arrow\">GridSearchCV</label><div class=\"sk-toggleable__content\"><pre>GridSearchCV(cv=5, estimator=SVC(),\n",
              "             param_grid=[{&#x27;C&#x27;: [100, 1000, 1200, 1300],\n",
              "                          &#x27;gamma&#x27;: [0.001, 0.0001], &#x27;kernel&#x27;: [&#x27;rbf&#x27;]},\n",
              "                         {&#x27;C&#x27;: [1000, 1200, 1500, 2000], &#x27;kernel&#x27;: [&#x27;linear&#x27;]}])</pre></div></div></div><div class=\"sk-parallel\"><div class=\"sk-parallel-item\"><div class=\"sk-item\"><div class=\"sk-label-container\"><div class=\"sk-label sk-toggleable\"><input class=\"sk-toggleable__control sk-hidden--visually\" id=\"sk-estimator-id-6\" type=\"checkbox\" ><label for=\"sk-estimator-id-6\" class=\"sk-toggleable__label sk-toggleable__label-arrow\">estimator: SVC</label><div class=\"sk-toggleable__content\"><pre>SVC()</pre></div></div></div><div class=\"sk-serial\"><div class=\"sk-item\"><div class=\"sk-estimator sk-toggleable\"><input class=\"sk-toggleable__control sk-hidden--visually\" id=\"sk-estimator-id-7\" type=\"checkbox\" ><label for=\"sk-estimator-id-7\" class=\"sk-toggleable__label sk-toggleable__label-arrow\">SVC</label><div class=\"sk-toggleable__content\"><pre>SVC()</pre></div></div></div></div></div></div></div></div></div></div>"
            ],
            "text/plain": [
              "GridSearchCV(cv=5, estimator=SVC(),\n",
              "             param_grid=[{'C': [100, 1000, 1200, 1300],\n",
              "                          'gamma': [0.001, 0.0001], 'kernel': ['rbf']},\n",
              "                         {'C': [1000, 1200, 1500, 2000], 'kernel': ['linear']}])"
            ]
          },
          "execution_count": 137,
          "metadata": {},
          "output_type": "execute_result"
        }
      ],
      "source": [
        "# Performing CV to tune parameters for best SVM fit \n",
        "svm_model = GridSearchCV(SVC(), params_grid, cv=5)\n",
        "svm_model.fit(x_train_scaled, y_train)"
      ]
    },
    {
      "cell_type": "code",
      "execution_count": 138,
      "metadata": {
        "colab": {
          "base_uri": "https://localhost:8080/"
        },
        "id": "hkVEu1tuomaK",
        "outputId": "c7147132-9369-4ac5-e9d2-270a46dcccb4"
      },
      "outputs": [
        {
          "name": "stdout",
          "output_type": "stream",
          "text": [
            "Best score for training data: 0.8051418327533482 \n",
            "\n"
          ]
        }
      ],
      "source": [
        "# View the accuracy score\n",
        "print('Best score for training data:', svm_model.best_score_,\"\\n\") \n"
      ]
    },
    {
      "cell_type": "code",
      "execution_count": 139,
      "metadata": {
        "colab": {
          "base_uri": "https://localhost:8080/"
        },
        "id": "iEizdM_2pUcF",
        "outputId": "47588913-1f3e-44be-ec49-966bdba505f1"
      },
      "outputs": [
        {
          "name": "stdout",
          "output_type": "stream",
          "text": [
            "Best C: 1000 \n",
            "\n",
            "Best Kernel: linear \n",
            "\n",
            "Best Gamma: scale \n",
            "\n"
          ]
        }
      ],
      "source": [
        "# View the best parameters for the model found using grid search\n",
        "print('Best C:',svm_model.best_estimator_.C,\"\\n\") \n",
        "print('Best Kernel:',svm_model.best_estimator_.kernel,\"\\n\")\n",
        "print('Best Gamma:',svm_model.best_estimator_.gamma,\"\\n\")\n"
      ]
    },
    {
      "cell_type": "code",
      "execution_count": 140,
      "metadata": {
        "id": "1j_B-cUTpWJ0"
      },
      "outputs": [],
      "source": [
        "final_model = svm_model.best_estimator_"
      ]
    },
    {
      "cell_type": "code",
      "execution_count": 141,
      "metadata": {
        "id": "2yxBNn7JpXy3"
      },
      "outputs": [],
      "source": [
        "y_test_predicted_knn = final_model.predict(x_test_scaled)\n",
        "y_test_predicted_knn_indexes = y_test_predicted_knn\n",
        "y_test_indexes = y_test.values"
      ]
    },
    {
      "cell_type": "code",
      "execution_count": 142,
      "metadata": {
        "colab": {
          "base_uri": "https://localhost:8080/",
          "height": 366
        },
        "id": "sNLJ-8OlpZ8T",
        "outputId": "295fb010-791c-4c36-cc54-91b6e537f558"
      },
      "outputs": [
        {
          "data": {
            "image/png": "[encoded data removed]",
            "text/plain": [
              "<Figure size 640x480 with 2 Axes>"
            ]
          },
          "metadata": {},
          "output_type": "display_data"
        },
        {
          "name": "stdout",
          "output_type": "stream",
          "text": [
            "\n",
            "Acurácia:\t0.83\n",
            "Kappa:\t\t0.77\n",
            "\n"
          ]
        }
      ],
      "source": [
        "matriz_confusao(y_test_predicted_knn_indexes, y_test_indexes,list(modelo_label.inverse_transform([0, 1,2,3,4])))\n",
        "print_indicadores(y_test_predicted_knn_indexes, y_test)"
      ]
    },
    {
      "attachments": {},
      "cell_type": "markdown",
      "metadata": {
        "id": "NrsQ2sIffZe6"
      },
      "source": [
        "# 8 Redefinicao dos atributos do CK\n",
        "NAO FOI TERMINADO\n"
      ]
    },
    {
      "cell_type": "code",
      "execution_count": 155,
      "metadata": {
        "colab": {
          "base_uri": "https://localhost:8080/"
        },
        "id": "us7n8OYBqic7",
        "outputId": "ad439c66-b558-4632-f509-e028db17bf87"
      },
      "outputs": [
        {
          "data": {
            "text/plain": [
              "(2720, 31)"
            ]
          },
          "execution_count": 155,
          "metadata": {},
          "output_type": "execute_result"
        }
      ],
      "source": [
        "df = dataset\n",
        "df.shape"
      ]
    },
    {
      "cell_type": "code",
      "execution_count": 156,
      "metadata": {},
      "outputs": [
        {
          "data": {
            "text/plain": [
              "Index(['lines', 'num_commits', 'cboModified', 'fanin', 'fanout', 'wmc', 'rfc',\n",
              "       'loc', 'returnsQty', 'loopQty', 'comparisonsQty', 'tryCatchQty',\n",
              "       'parenthesizedExpsQty', 'stringLiteralsQty', 'numbersQty',\n",
              "       'assignmentsQty', 'mathOperationsQty', 'variablesQty',\n",
              "       'maxNestedBlocksQty', 'anonymousClassesQty', 'innerClassesQty',\n",
              "       'lambdasQty', 'uniqueWordsQty', 'modifiers', 'logStatementsQty',\n",
              "       'cod_severity', 'cod_relevant', 'label', 'cod_type', 'cod_hora',\n",
              "       'cod_reviewer'],\n",
              "      dtype='object')"
            ]
          },
          "execution_count": 156,
          "metadata": {},
          "output_type": "execute_result"
        }
      ],
      "source": [
        "df.columns"
      ]
    },
    {
      "cell_type": "markdown",
      "metadata": {
        "id": "yWAX1ZgKqc_F"
      },
      "source": [
        "## 8.1 - Retirando outliers"
      ]
    },
    {
      "cell_type": "code",
      "execution_count": 157,
      "metadata": {
        "id": "C3zEIf2eqgFG"
      },
      "outputs": [
        {
          "name": "stdout",
          "output_type": "stream",
          "text": [
            "(2720, 31)\n",
            "cboModified  removido 2782\n",
            "fanin  removido 2760\n",
            "fanout  removido 2796\n",
            "wmc  removido 2804\n",
            "rfc  removido 2816\n",
            "loc  removido 2785\n",
            "returnsQty  removido 2775\n",
            "loopQty  removido 2773\n",
            "comparisonsQty  removido 2790\n",
            "tryCatchQty  removido 2745\n",
            "parenthesizedExpsQty  removido 2782\n",
            "stringLiteralsQty  removido 2736\n",
            "numbersQty  removido 2762\n",
            "assignmentsQty  removido 2787\n",
            "mathOperationsQty  removido 2760\n",
            "variablesQty  removido 2793\n",
            "maxNestedBlocksQty  removido 2862\n",
            "anonymousClassesQty  removido 2748\n",
            "innerClassesQty  removido 2821\n",
            "lambdasQty  removido 2752\n",
            "uniqueWordsQty  removido 2844\n",
            "modifiers  removido 2825\n",
            "logStatementsQty  removido 2792\n",
            "(2720, 31)\n"
          ]
        }
      ],
      "source": [
        "# colunas que terão desvio padrao verificado\n",
        "#lista = dataset.describe()\n",
        "print(dataset.shape)\n",
        "lista = ['cboModified','fanin','fanout','wmc','rfc','loc','returnsQty','loopQty','comparisonsQty','tryCatchQty',\n",
        "          'parenthesizedExpsQty','stringLiteralsQty','numbersQty', 'assignmentsQty','mathOperationsQty','variablesQty', \n",
        "          'maxNestedBlocksQty','anonymousClassesQty', 'innerClassesQty','lambdasQty','uniqueWordsQty','modifiers',\n",
        "          'logStatementsQty']\n",
        "for col in lista:\n",
        "  dt_mean = np.mean(dataset[col])\n",
        "  dt_std = np.std(dataset[col])\n",
        "  cut_off = dt_std * 2\n",
        "  lower = dt_mean - cut_off\n",
        "  upper = dt_mean + cut_off\n",
        "  quantidade_fica = dataset[( \n",
        "                    (dataset[col] > lower) &\n",
        "                    (dataset[col] < upper))].shape[0]\n",
        "  print(f'{col}  removido {5424-quantidade_fica}')\n",
        "  #dataset = dataset[( \n",
        "  #                  (dataset[col] > lower) &\n",
        "  #                  (dataset[col] < upper))]\n",
        "\n",
        "print(dataset.shape)"
      ]
    },
    {
      "cell_type": "code",
      "execution_count": null,
      "metadata": {
        "colab": {
          "base_uri": "https://localhost:8080/"
        },
        "id": "Ixvpf-vej9R1",
        "outputId": "1ccb66fe-f903-465d-d5ce-2dd1bd8ce956"
      },
      "outputs": [],
      "source": [
        "## vai dar erro, ignorar, já foi previamente removido\n",
        "\n",
        "#** mantendo do MLCQ os seguintes atributos:\n",
        "##['reviewer_id','lines','num_commits','label','cod_relevant', 'cod_hora']]\n",
        "\n",
        "#** atributos do MLCQ que serão removidos, pois nao contribuem:**\n",
        "print(df.shape)\n",
        "remover = ['commit_hash','sample_id','smell','severity','review_timestamp','type','code_name','repository','path','start_line','end_line','relevant']\n",
        "df = df.drop(columns = remover)\n",
        "df.shape"
      ]
    },
    {
      "cell_type": "code",
      "execution_count": null,
      "metadata": {
        "id": "MidjdVkVhgEr"
      },
      "outputs": [],
      "source": [
        "#** atributos do CK que serão removidos, pois nao contribuem:**\n",
        "#print(df.shape)\n",
        "#remover = ['file','class','synchronizedFieldsQty','method','constructor','line','hasJavaDoc','clean_method','_merge','hora','type_ck','link']\n",
        "#df = df.drop(columns = remover)\n",
        "#df.shape\n",
        "#ja tinham sido retirado"
      ]
    },
    {
      "cell_type": "code",
      "execution_count": 158,
      "metadata": {
        "colab": {
          "base_uri": "https://localhost:8080/"
        },
        "id": "ErQC6QxGmLUE",
        "outputId": "0ec1051c-a52e-4d43-9c20-5a0d3c3b78f2"
      },
      "outputs": [
        {
          "data": {
            "text/plain": [
              "Index(['lines', 'num_commits', 'cboModified', 'fanin', 'fanout', 'wmc', 'rfc',\n",
              "       'loc', 'returnsQty', 'loopQty', 'comparisonsQty', 'tryCatchQty',\n",
              "       'parenthesizedExpsQty', 'stringLiteralsQty', 'numbersQty',\n",
              "       'assignmentsQty', 'mathOperationsQty', 'variablesQty',\n",
              "       'maxNestedBlocksQty', 'anonymousClassesQty', 'innerClassesQty',\n",
              "       'lambdasQty', 'uniqueWordsQty', 'modifiers', 'logStatementsQty',\n",
              "       'cod_severity', 'cod_relevant', 'label', 'cod_type', 'cod_hora',\n",
              "       'cod_reviewer'],\n",
              "      dtype='object')"
            ]
          },
          "execution_count": 158,
          "metadata": {},
          "output_type": "execute_result"
        }
      ],
      "source": [
        "df.columns\n"
      ]
    },
    {
      "cell_type": "markdown",
      "metadata": {
        "id": "ehTWMYClmcgW"
      },
      "source": [
        "## 4.1 Os atributos serao os do MLCQ mais os seguintes do CK\n",
        "\n",
        "manter = ['cob','cboModified','fanin','fanout','wmc','rfc','loc','returnsQty','loopQty','comparisonsQty','tryCatchQty',\n",
        "          'parenthesizedExpsQty','stringLiteralsQty','numbersQty', 'assignmentsQty','mathOperationsQty','variablesQty', \n",
        "          'maxNestedBlocksQty','anonymousClassesQty', 'innerClassesQty','lambdasQty','uniqueWordsQty','modifiers',\n",
        "          'logStatementsQty']"
      ]
    },
    {
      "cell_type": "code",
      "execution_count": 159,
      "metadata": {
        "id": "Q00vMYM4mk7U"
      },
      "outputs": [],
      "source": [
        "# alterei de reviewer_id para cod_reviewer\n",
        "\n",
        "manter = ['cod_reviewer','lines','num_commits','label','cod_relevant', 'cod_hora'] + ['cboModified','fanin','fanout','wmc','rfc','loc','returnsQty','loopQty','comparisonsQty','tryCatchQty',\n",
        "          'parenthesizedExpsQty','stringLiteralsQty','numbersQty', 'assignmentsQty','mathOperationsQty','variablesQty', \n",
        "          'maxNestedBlocksQty','anonymousClassesQty', 'innerClassesQty','lambdasQty','uniqueWordsQty','modifiers',\n",
        "          'logStatementsQty']"
      ]
    },
    {
      "cell_type": "code",
      "execution_count": 160,
      "metadata": {
        "colab": {
          "base_uri": "https://localhost:8080/"
        },
        "id": "6Ydy0Qiqmsov",
        "outputId": "6e6dbd6b-b136-471e-a329-4a4d0ef315a9"
      },
      "outputs": [
        {
          "name": "stdout",
          "output_type": "stream",
          "text": [
            "(2720, 31)\n",
            "(2720, 29)\n"
          ]
        }
      ],
      "source": [
        "print(df.shape)\n",
        "df = df[manter]\n",
        "print(df.shape)"
      ]
    },
    {
      "cell_type": "code",
      "execution_count": 161,
      "metadata": {
        "id": "LCwni1i2ntza"
      },
      "outputs": [
        {
          "data": {
            "text/html": [
              "<div>\n",
              "<style scoped>\n",
              "    .dataframe tbody tr th:only-of-type {\n",
              "        vertical-align: middle;\n",
              "    }\n",
              "\n",
              "    .dataframe tbody tr th {\n",
              "        vertical-align: top;\n",
              "    }\n",
              "\n",
              "    .dataframe thead th {\n",
              "        text-align: right;\n",
              "    }\n",
              "</style>\n",
              "<table border=\"1\" class=\"dataframe\">\n",
              "  <thead>\n",
              "    <tr style=\"text-align: right;\">\n",
              "      <th></th>\n",
              "      <th>cod_reviewer</th>\n",
              "      <th>lines</th>\n",
              "      <th>num_commits</th>\n",
              "      <th>label</th>\n",
              "      <th>cod_relevant</th>\n",
              "      <th>cod_hora</th>\n",
              "      <th>cboModified</th>\n",
              "      <th>fanin</th>\n",
              "      <th>fanout</th>\n",
              "      <th>wmc</th>\n",
              "      <th>...</th>\n",
              "      <th>assignmentsQty</th>\n",
              "      <th>mathOperationsQty</th>\n",
              "      <th>variablesQty</th>\n",
              "      <th>maxNestedBlocksQty</th>\n",
              "      <th>anonymousClassesQty</th>\n",
              "      <th>innerClassesQty</th>\n",
              "      <th>lambdasQty</th>\n",
              "      <th>uniqueWordsQty</th>\n",
              "      <th>modifiers</th>\n",
              "      <th>logStatementsQty</th>\n",
              "    </tr>\n",
              "  </thead>\n",
              "  <tbody>\n",
              "    <tr>\n",
              "      <th>0</th>\n",
              "      <td>2</td>\n",
              "      <td>190</td>\n",
              "      <td>30</td>\n",
              "      <td>4</td>\n",
              "      <td>2</td>\n",
              "      <td>0</td>\n",
              "      <td>117.0</td>\n",
              "      <td>102.0</td>\n",
              "      <td>15.0</td>\n",
              "      <td>32.0</td>\n",
              "      <td>...</td>\n",
              "      <td>12.0</td>\n",
              "      <td>1.0</td>\n",
              "      <td>14.0</td>\n",
              "      <td>1.0</td>\n",
              "      <td>0.0</td>\n",
              "      <td>0.0</td>\n",
              "      <td>2.0</td>\n",
              "      <td>74.0</td>\n",
              "      <td>17.0</td>\n",
              "      <td>0.0</td>\n",
              "    </tr>\n",
              "    <tr>\n",
              "      <th>1</th>\n",
              "      <td>0</td>\n",
              "      <td>3</td>\n",
              "      <td>31</td>\n",
              "      <td>4</td>\n",
              "      <td>2</td>\n",
              "      <td>0</td>\n",
              "      <td>14.0</td>\n",
              "      <td>0.0</td>\n",
              "      <td>14.0</td>\n",
              "      <td>10.0</td>\n",
              "      <td>...</td>\n",
              "      <td>29.0</td>\n",
              "      <td>2.0</td>\n",
              "      <td>0.0</td>\n",
              "      <td>2.0</td>\n",
              "      <td>0.0</td>\n",
              "      <td>0.0</td>\n",
              "      <td>0.0</td>\n",
              "      <td>45.0</td>\n",
              "      <td>4.0</td>\n",
              "      <td>0.0</td>\n",
              "    </tr>\n",
              "    <tr>\n",
              "      <th>2</th>\n",
              "      <td>1</td>\n",
              "      <td>868</td>\n",
              "      <td>184</td>\n",
              "      <td>4</td>\n",
              "      <td>2</td>\n",
              "      <td>0</td>\n",
              "      <td>118.0</td>\n",
              "      <td>2.0</td>\n",
              "      <td>116.0</td>\n",
              "      <td>6.0</td>\n",
              "      <td>...</td>\n",
              "      <td>63.0</td>\n",
              "      <td>1.0</td>\n",
              "      <td>176.0</td>\n",
              "      <td>2.0</td>\n",
              "      <td>1.0</td>\n",
              "      <td>1.0</td>\n",
              "      <td>0.0</td>\n",
              "      <td>286.0</td>\n",
              "      <td>1.0</td>\n",
              "      <td>0.0</td>\n",
              "    </tr>\n",
              "    <tr>\n",
              "      <th>3</th>\n",
              "      <td>0</td>\n",
              "      <td>5</td>\n",
              "      <td>58</td>\n",
              "      <td>4</td>\n",
              "      <td>2</td>\n",
              "      <td>0</td>\n",
              "      <td>1.0</td>\n",
              "      <td>1.0</td>\n",
              "      <td>0.0</td>\n",
              "      <td>1.0</td>\n",
              "      <td>...</td>\n",
              "      <td>0.0</td>\n",
              "      <td>0.0</td>\n",
              "      <td>0.0</td>\n",
              "      <td>0.0</td>\n",
              "      <td>0.0</td>\n",
              "      <td>0.0</td>\n",
              "      <td>0.0</td>\n",
              "      <td>6.0</td>\n",
              "      <td>1.0</td>\n",
              "      <td>0.0</td>\n",
              "    </tr>\n",
              "    <tr>\n",
              "      <th>4</th>\n",
              "      <td>2</td>\n",
              "      <td>25</td>\n",
              "      <td>76</td>\n",
              "      <td>4</td>\n",
              "      <td>2</td>\n",
              "      <td>1</td>\n",
              "      <td>1.0</td>\n",
              "      <td>1.0</td>\n",
              "      <td>0.0</td>\n",
              "      <td>5.0</td>\n",
              "      <td>...</td>\n",
              "      <td>7.0</td>\n",
              "      <td>0.0</td>\n",
              "      <td>0.0</td>\n",
              "      <td>1.0</td>\n",
              "      <td>0.0</td>\n",
              "      <td>0.0</td>\n",
              "      <td>0.0</td>\n",
              "      <td>18.0</td>\n",
              "      <td>1.0</td>\n",
              "      <td>0.0</td>\n",
              "    </tr>\n",
              "    <tr>\n",
              "      <th>...</th>\n",
              "      <td>...</td>\n",
              "      <td>...</td>\n",
              "      <td>...</td>\n",
              "      <td>...</td>\n",
              "      <td>...</td>\n",
              "      <td>...</td>\n",
              "      <td>...</td>\n",
              "      <td>...</td>\n",
              "      <td>...</td>\n",
              "      <td>...</td>\n",
              "      <td>...</td>\n",
              "      <td>...</td>\n",
              "      <td>...</td>\n",
              "      <td>...</td>\n",
              "      <td>...</td>\n",
              "      <td>...</td>\n",
              "      <td>...</td>\n",
              "      <td>...</td>\n",
              "      <td>...</td>\n",
              "      <td>...</td>\n",
              "      <td>...</td>\n",
              "    </tr>\n",
              "    <tr>\n",
              "      <th>2715</th>\n",
              "      <td>2</td>\n",
              "      <td>1171</td>\n",
              "      <td>192</td>\n",
              "      <td>0</td>\n",
              "      <td>2</td>\n",
              "      <td>1</td>\n",
              "      <td>101.0</td>\n",
              "      <td>3.0</td>\n",
              "      <td>98.0</td>\n",
              "      <td>181.0</td>\n",
              "      <td>...</td>\n",
              "      <td>238.0</td>\n",
              "      <td>35.0</td>\n",
              "      <td>226.0</td>\n",
              "      <td>8.0</td>\n",
              "      <td>3.0</td>\n",
              "      <td>2.0</td>\n",
              "      <td>0.0</td>\n",
              "      <td>395.0</td>\n",
              "      <td>1025.0</td>\n",
              "      <td>39.0</td>\n",
              "    </tr>\n",
              "    <tr>\n",
              "      <th>2716</th>\n",
              "      <td>2</td>\n",
              "      <td>71</td>\n",
              "      <td>92</td>\n",
              "      <td>1</td>\n",
              "      <td>2</td>\n",
              "      <td>1</td>\n",
              "      <td>7.0</td>\n",
              "      <td>5.0</td>\n",
              "      <td>2.0</td>\n",
              "      <td>11.0</td>\n",
              "      <td>...</td>\n",
              "      <td>4.0</td>\n",
              "      <td>1.0</td>\n",
              "      <td>2.0</td>\n",
              "      <td>1.0</td>\n",
              "      <td>0.0</td>\n",
              "      <td>0.0</td>\n",
              "      <td>0.0</td>\n",
              "      <td>39.0</td>\n",
              "      <td>1025.0</td>\n",
              "      <td>0.0</td>\n",
              "    </tr>\n",
              "    <tr>\n",
              "      <th>2717</th>\n",
              "      <td>2</td>\n",
              "      <td>244</td>\n",
              "      <td>82</td>\n",
              "      <td>0</td>\n",
              "      <td>2</td>\n",
              "      <td>1</td>\n",
              "      <td>19.0</td>\n",
              "      <td>2.0</td>\n",
              "      <td>17.0</td>\n",
              "      <td>39.0</td>\n",
              "      <td>...</td>\n",
              "      <td>27.0</td>\n",
              "      <td>2.0</td>\n",
              "      <td>25.0</td>\n",
              "      <td>4.0</td>\n",
              "      <td>0.0</td>\n",
              "      <td>1.0</td>\n",
              "      <td>0.0</td>\n",
              "      <td>82.0</td>\n",
              "      <td>1.0</td>\n",
              "      <td>1.0</td>\n",
              "    </tr>\n",
              "    <tr>\n",
              "      <th>2718</th>\n",
              "      <td>2</td>\n",
              "      <td>25</td>\n",
              "      <td>319</td>\n",
              "      <td>1</td>\n",
              "      <td>2</td>\n",
              "      <td>1</td>\n",
              "      <td>3.0</td>\n",
              "      <td>2.0</td>\n",
              "      <td>1.0</td>\n",
              "      <td>3.0</td>\n",
              "      <td>...</td>\n",
              "      <td>8.0</td>\n",
              "      <td>0.0</td>\n",
              "      <td>3.0</td>\n",
              "      <td>0.0</td>\n",
              "      <td>0.0</td>\n",
              "      <td>1.0</td>\n",
              "      <td>0.0</td>\n",
              "      <td>26.0</td>\n",
              "      <td>1.0</td>\n",
              "      <td>0.0</td>\n",
              "    </tr>\n",
              "    <tr>\n",
              "      <th>2719</th>\n",
              "      <td>2</td>\n",
              "      <td>479</td>\n",
              "      <td>70</td>\n",
              "      <td>0</td>\n",
              "      <td>2</td>\n",
              "      <td>1</td>\n",
              "      <td>9.0</td>\n",
              "      <td>1.0</td>\n",
              "      <td>8.0</td>\n",
              "      <td>63.0</td>\n",
              "      <td>...</td>\n",
              "      <td>53.0</td>\n",
              "      <td>13.0</td>\n",
              "      <td>37.0</td>\n",
              "      <td>5.0</td>\n",
              "      <td>0.0</td>\n",
              "      <td>1.0</td>\n",
              "      <td>0.0</td>\n",
              "      <td>114.0</td>\n",
              "      <td>1.0</td>\n",
              "      <td>10.0</td>\n",
              "    </tr>\n",
              "  </tbody>\n",
              "</table>\n",
              "<p>2720 rows × 29 columns</p>\n",
              "</div>"
            ],
            "text/plain": [
              "      cod_reviewer  lines  num_commits  label  cod_relevant  cod_hora  \\\n",
              "0                2    190           30      4             2         0   \n",
              "1                0      3           31      4             2         0   \n",
              "2                1    868          184      4             2         0   \n",
              "3                0      5           58      4             2         0   \n",
              "4                2     25           76      4             2         1   \n",
              "...            ...    ...          ...    ...           ...       ...   \n",
              "2715             2   1171          192      0             2         1   \n",
              "2716             2     71           92      1             2         1   \n",
              "2717             2    244           82      0             2         1   \n",
              "2718             2     25          319      1             2         1   \n",
              "2719             2    479           70      0             2         1   \n",
              "\n",
              "      cboModified  fanin  fanout    wmc  ...  assignmentsQty  \\\n",
              "0           117.0  102.0    15.0   32.0  ...            12.0   \n",
              "1            14.0    0.0    14.0   10.0  ...            29.0   \n",
              "2           118.0    2.0   116.0    6.0  ...            63.0   \n",
              "3             1.0    1.0     0.0    1.0  ...             0.0   \n",
              "4             1.0    1.0     0.0    5.0  ...             7.0   \n",
              "...           ...    ...     ...    ...  ...             ...   \n",
              "2715        101.0    3.0    98.0  181.0  ...           238.0   \n",
              "2716          7.0    5.0     2.0   11.0  ...             4.0   \n",
              "2717         19.0    2.0    17.0   39.0  ...            27.0   \n",
              "2718          3.0    2.0     1.0    3.0  ...             8.0   \n",
              "2719          9.0    1.0     8.0   63.0  ...            53.0   \n",
              "\n",
              "      mathOperationsQty  variablesQty  maxNestedBlocksQty  \\\n",
              "0                   1.0          14.0                 1.0   \n",
              "1                   2.0           0.0                 2.0   \n",
              "2                   1.0         176.0                 2.0   \n",
              "3                   0.0           0.0                 0.0   \n",
              "4                   0.0           0.0                 1.0   \n",
              "...                 ...           ...                 ...   \n",
              "2715               35.0         226.0                 8.0   \n",
              "2716                1.0           2.0                 1.0   \n",
              "2717                2.0          25.0                 4.0   \n",
              "2718                0.0           3.0                 0.0   \n",
              "2719               13.0          37.0                 5.0   \n",
              "\n",
              "      anonymousClassesQty  innerClassesQty  lambdasQty  uniqueWordsQty  \\\n",
              "0                     0.0              0.0         2.0            74.0   \n",
              "1                     0.0              0.0         0.0            45.0   \n",
              "2                     1.0              1.0         0.0           286.0   \n",
              "3                     0.0              0.0         0.0             6.0   \n",
              "4                     0.0              0.0         0.0            18.0   \n",
              "...                   ...              ...         ...             ...   \n",
              "2715                  3.0              2.0         0.0           395.0   \n",
              "2716                  0.0              0.0         0.0            39.0   \n",
              "2717                  0.0              1.0         0.0            82.0   \n",
              "2718                  0.0              1.0         0.0            26.0   \n",
              "2719                  0.0              1.0         0.0           114.0   \n",
              "\n",
              "      modifiers  logStatementsQty  \n",
              "0          17.0               0.0  \n",
              "1           4.0               0.0  \n",
              "2           1.0               0.0  \n",
              "3           1.0               0.0  \n",
              "4           1.0               0.0  \n",
              "...         ...               ...  \n",
              "2715     1025.0              39.0  \n",
              "2716     1025.0               0.0  \n",
              "2717        1.0               1.0  \n",
              "2718        1.0               0.0  \n",
              "2719        1.0              10.0  \n",
              "\n",
              "[2720 rows x 29 columns]"
            ]
          },
          "execution_count": 161,
          "metadata": {},
          "output_type": "execute_result"
        }
      ],
      "source": [
        "df[manter]"
      ]
    }
  ],
  "metadata": {
    "accelerator": "GPU",
    "colab": {
      "collapsed_sections": [
        "Zmcc-v8tkOVg",
        "dOR-ddyi-PbK",
        "TMJVWF-OcXS2",
        "EcrFR1xoZnOm",
        "YMBiHELBkQQE",
        "7Wlg3EZ7lBaP",
        "Ma-iLLWZl6_M",
        "iq-cXGFvpAh3",
        "NJA1x_hpi_D1",
        "HjVccXz_5jc7",
        "HFDjCTloyEu8"
      ],
      "provenance": []
    },
    "gpuClass": "standard",
    "kernelspec": {
      "display_name": "Python 3.9.12 ('base')",
      "language": "python",
      "name": "python3"
    },
    "language_info": {
      "codemirror_mode": {
        "name": "ipython",
        "version": 3
      },
      "file_extension": ".py",
      "mimetype": "text/x-python",
      "name": "python",
      "nbconvert_exporter": "python",
      "pygments_lexer": "ipython3",
      "version": "3.9.16"
    },
    "vscode": {
      "interpreter": {
        "hash": "8e17de10ea76e1cd0148bcdc800faa2a5ccab944eab4f49e6c116acad1ab29ce"
      }
    }
  },
  "nbformat": 4,
  "nbformat_minor": 0
}
